{
  "nbformat": 4,
  "nbformat_minor": 0,
  "metadata": {
    "colab": {
      "provenance": [],
      "toc_visible": true
    },
    "kernelspec": {
      "name": "python3",
      "display_name": "Python 3"
    }
  },
  "cells": [
    {
      "cell_type": "markdown",
      "metadata": {
        "id": "B1TBa_t7j3vs"
      },
      "source": [
        "# Word Embedding Models in NLP\n",
        "\n",
        "Word embeddings are a modern approach for representing text in natural language processing (NLP).\n",
        "\n",
        "Word embedding algorithms like [word2vec](https://israelg99.github.io/2017-03-23-Word2Vec-Explained/) and [GloVe](https://towardsdatascience.com/word-embeddings-exploration-explanation-and-exploitation-with-code-in-python-5dac99d5d795) are key to the state-of-the-art results achieved by __neural network models__ on NLP problems like text classification and/or machine translation.\n",
        "\n",
        "In this tutorial, you will discover how to train and load word embedding models for NLP applications in Python using different packages.\n",
        "\n",
        "After completing this tutorial, you will know:\n",
        "\n",
        "- How to train your own word2vec word embedding model on text data.\n",
        "- How to visualize a trained word embedding model using Principal Component Analysis (PCA).\n",
        "- How to load pre-trained word2vec and GloVe word embedding models from Google and Stanford."
      ]
    },
    {
      "cell_type": "markdown",
      "metadata": {
        "id": "Zjg0vnRClBTi"
      },
      "source": [
        "## What is word embedding?\n",
        "\n",
        "Word embeddings are a way of representing words, to be given as input to a Deep learning model. It is considered the best available representation of words in NLP. In this method, each word is represented as a word vector in a predefined dimension. Higher the dimension richer its ability to incorporate the syntactic and semantic meaning of the word.\n",
        "\n",
        "Although we do not have a formal definition of word embedding (an informal definition can be found on [wikipedia](https://en.wikipedia.org/wiki/Word_embedding)), in general word embedding models usually cover the following aspects:\n",
        "\n",
        "- word-context(s) representation: word2vec\n",
        "- global corpus statistics: GloVe\n",
        "- word morphology: Subword\n",
        "- word hierarchy in the WordNet terminology\n",
        "- relationships between document/terms: latent semantic indexing (LSI)\n",
        "\n",
        "The problem of choosing the best embeddings for a particular project is always the problem of try-and-fail approach, so realizing why in particular case one model works better than the other sufficiently helps in real work.\n",
        "In fact, reliable word representation with real-number vector is the goal we’re trying to approach. Sounds easy, isn’t it?"
      ]
    },
    {
      "cell_type": "code",
      "metadata": {
        "id": "K0t3EmPUpMYS",
        "colab": {
          "base_uri": "https://localhost:8080/"
        },
        "outputId": "3078b44e-1111-40ef-cd3c-8ca1a68fc1df"
      },
      "source": [
        "! pip install gensim"
      ],
      "execution_count": null,
      "outputs": [
        {
          "output_type": "stream",
          "name": "stdout",
          "text": [
            "Looking in indexes: https://pypi.org/simple, https://us-python.pkg.dev/colab-wheels/public/simple/\n",
            "Requirement already satisfied: gensim in /usr/local/lib/python3.10/dist-packages (4.3.1)\n",
            "Requirement already satisfied: numpy>=1.18.5 in /usr/local/lib/python3.10/dist-packages (from gensim) (1.22.4)\n",
            "Requirement already satisfied: scipy>=1.7.0 in /usr/local/lib/python3.10/dist-packages (from gensim) (1.10.1)\n",
            "Requirement already satisfied: smart-open>=1.8.1 in /usr/local/lib/python3.10/dist-packages (from gensim) (6.3.0)\n"
          ]
        }
      ]
    },
    {
      "cell_type": "markdown",
      "metadata": {
        "id": "JKdPzaO6qZ2w"
      },
      "source": [
        "In this tutorial, we will some sample corpus (_collection of documents) as the example datasets. You can always replace this dataset with any dataset you want."
      ]
    },
    {
      "cell_type": "code",
      "metadata": {
        "id": "A4g1GQ7CqTUz",
        "colab": {
          "base_uri": "https://localhost:8080/"
        },
        "outputId": "918d862b-c48f-49c8-be86-2d0ad330b391"
      },
      "source": [
        "corpus1 = [\n",
        "          'Text of first document.',\n",
        "          'Text of the second document made longer.',\n",
        "          'Number three.',\n",
        "          'This is number four.',\n",
        "]\n",
        "\n",
        "corpus2 = ['this is the first sentence for word2vec.',\n",
        "\t\t\t'word2vec is a great word embedding method.',\n",
        "\t\t\t'word2vec represents words in real value vectors.',\n",
        "\t\t\t'word2vec is widely used in natural language processing.',\n",
        "\t\t\t'word2vec has various applications in different text analytics subareas.']\n",
        "\n",
        "total_corpus = corpus1+ corpus2\n",
        "print('Our corpus contains', len(total_corpus), 'sentences')"
      ],
      "execution_count": null,
      "outputs": [
        {
          "output_type": "stream",
          "name": "stdout",
          "text": [
            "Our corpus contains 9 sentences\n"
          ]
        }
      ]
    },
    {
      "cell_type": "markdown",
      "metadata": {
        "id": "ozn6OGD_-jCQ"
      },
      "source": [
        "## Why word embedding?\n",
        "\n",
        "Traditionally integer values and one-hot vectors are used to represent words. Not just words in NLP but any categorical variable in structured data can be seen in this light. One-hot encoder representation has its own drawbacks:\n",
        "1. Vector length of each word representation is equal to a total number of unique words in the dictionary. In NLP application, this will make the vector length too big.\n",
        "2. Different values of the variables can be represented with any relationship using one-hot vectors. Variables features cannot be represented and so the relationship between them. Ex: Day of the week, weekdays will have some sort of relationship and similarly weekends. In one-hot representation, it will not be able to make a distinction.\n",
        "\n",
        "To overcome the above issues, there are two standard ways to pre-train word embeddings, one is word2vec, other GloVe short form for Global Vectors. These pre-trained models overcome the above drawbacks by letting us select much small dimension vector (compared to one hot vector) to represent the words keeping context in mind.\n",
        "\n",
        "word2vec and Glove might be said to be to NLP what VGGNet is to vision, i.e. a common weight initialization that provides generally helpful features without the need for lengthy training. Word embeddings are useful for a wide variety of applications beyond NLP such as information retrieval, recommendation, and link prediction in knowledge bases, which all have their own task-specific approaches. Word embeddings are typically learned only based on the window of surrounding context words.\n",
        "\n",
        "Now we can discuss some word embedding models. The first model is the `tokenizer` function in `keras`."
      ]
    },
    {
      "cell_type": "markdown",
      "metadata": {
        "id": "D7yA1-lJAmgL"
      },
      "source": [
        "### `keras tokenizer` - the simplest word embedding model\n",
        "\n",
        "`keras` provides a `tokenizer` function to preprocess the text data - it is essentially the _one-hot encoding_ of words in text. In other words, each word is replaced with its index in the vocabulary. We can use the following code example for the use of the `keras tokenizer`.\n",
        "\n",
        "Keep in mind that the `Tokenizer` does not represent text (i.e. words) in real-value vectors, but simply __integers__.\n",
        "\n"
      ]
    },
    {
      "cell_type": "code",
      "metadata": {
        "id": "LtjkHGI7a_J_"
      },
      "source": [
        "from tensorflow.keras.preprocessing.text import Tokenizer\n",
        "\n",
        "# to use the Tokenizer object, we need to define how many words we need to keep\n",
        "# given the simple corpus we have, we can set a fairly low `max_words`\n",
        "max_words = 100"
      ],
      "execution_count": null,
      "outputs": []
    },
    {
      "cell_type": "markdown",
      "metadata": {
        "id": "GHjOCZA_h7Pc"
      },
      "source": [
        "In real world projects, you should consider set a higher value for `max_words` - possible values include: `5000`, `10000`, `20000`, ... Just note that the more `max_words` you include, the more complex your model will be, and the longer training time needed.\n",
        "\n",
        "You need to define the `Tokenizer` object before using it. According to the [doc](https://keras.io/preprocessing/text/), the `Tokenizer` object should be defined this way:\n",
        "\n",
        "```python\n",
        "Tokenizer(num_words=None, filters='!\"#$%&()*+,-./:;<=>?@[\\\\]^_`{|}~\\t\\n', lower=True, split=' ', \\\n",
        "char_level=False, oov_token=None, document_count=0)\n",
        "```\n",
        "\n",
        "The different arguments are listed as below:\n",
        "- __num_words__: integer. The maximum number of words (`max_words`) to keep, based on word frequency. Only the most common `num_words-1` words will be kept.\n",
        "- __filters__: a string where each element is a character that will be filtered from the texts. The default is all __punctuation__, plus __tabs__ and __line breaks__, minus the `'` character.\n",
        "- __lower__: boolean. Whether to convert the texts to lowercase.\n",
        "- __split__: str. Separator for word splitting (e.g. space, comma).\n",
        "- __char_level__: if True, every character will be treated as a token instead of words.\n",
        "- __oov_token__: if given, it will be added to word_index and used to replace __out-of-vocabulary__ words during text_to_sequence calls (e.g. we can use `'UNK'` to replace all __out-of-vocabulary__ words."
      ]
    },
    {
      "cell_type": "code",
      "metadata": {
        "id": "xgSmvpDukOd_"
      },
      "source": [
        "tokenizer = Tokenizer(num_words=max_words)"
      ],
      "execution_count": null,
      "outputs": []
    },
    {
      "cell_type": "markdown",
      "metadata": {
        "id": "JsfztQjSkNvP"
      },
      "source": [
        "Following are some of the methods in Keras tokenizer object:\n",
        "```python\n",
        "tokenizer.text_to_sequence()\n",
        "```\n",
        "This line of code tokenizes the input text by splitting the corpus into tokens of words an makes a list of them. Each unique word token is given corresponding dedicated integer value. For example a sentence: “I don’t like movies because movies are not real” becomes “5, 6,20,9,12,9,22,3,23” here I have taken random dedicated integers for a corresponding word. Word “movies” gets an integer “9”. The text is converted into a stream of integer strings replacing word tokens."
      ]
    },
    {
      "cell_type": "code",
      "metadata": {
        "id": "0hCj-9bZkhOP",
        "colab": {
          "base_uri": "https://localhost:8080/"
        },
        "outputId": "87df979e-afba-4411-b171-abe3ba44aef2"
      },
      "source": [
        "tokenizer.fit_on_texts(corpus1)\n",
        "tokenized_corpus1 = tokenizer.texts_to_sequences(corpus1)\n",
        "tokenized_corpus1"
      ],
      "execution_count": null,
      "outputs": [
        {
          "output_type": "execute_result",
          "data": {
            "text/plain": [
              "[[1, 2, 5, 3], [1, 2, 6, 7, 3, 8, 9], [4, 10], [11, 12, 4, 13]]"
            ]
          },
          "metadata": {},
          "execution_count": 5
        }
      ]
    },
    {
      "cell_type": "markdown",
      "metadata": {
        "id": "10UHjDxDlKVi"
      },
      "source": [
        "The neural networks can only teke input of fixed length - but clearly the `tokenized_corpus1` contains sequences of various lengths. That is why we need the following method:\n",
        "\n",
        "```python\n",
        "pad_sequence(list_tokenized_train, maxlen=maxlen)\n",
        "```\n",
        "The `pad_sequence` takes two arguments, one tokenized text in the form of integers. Which is converted from the dataset using `text_to_sequence()` method. The second argument takes the maximum possible length of a sentence in the text corpus. We can set the `maxlen` by doing some analysis on the length of sentences in the dataset. Ideally, take the length of the longest sentence by removing outliers which are extremely long.\n",
        "\n",
        "Taking these two arguments, `pad_sequence` makes the sentences in input dataset uniform in length. By padding sentences smaller than `maxlen` with empty values and by truncating the sentences longer than `maxlen`."
      ]
    },
    {
      "cell_type": "code",
      "metadata": {
        "id": "koRL_K-rmwVt"
      },
      "source": [
        "from tensorflow.keras.preprocessing.sequence import pad_sequences"
      ],
      "execution_count": null,
      "outputs": []
    },
    {
      "cell_type": "code",
      "metadata": {
        "id": "V7sRJBCdmkEX",
        "colab": {
          "base_uri": "https://localhost:8080/"
        },
        "outputId": "423d4326-1e0c-4e62-d714-92ff3e46353f"
      },
      "source": [
        "max_len = 7\n",
        "padded_corpus1 = pad_sequences(tokenized_corpus1, maxlen=max_len)\n",
        "padded_corpus1"
      ],
      "execution_count": null,
      "outputs": [
        {
          "output_type": "execute_result",
          "data": {
            "text/plain": [
              "array([[ 0,  0,  0,  1,  2,  5,  3],\n",
              "       [ 1,  2,  6,  7,  3,  8,  9],\n",
              "       [ 0,  0,  0,  0,  0,  4, 10],\n",
              "       [ 0,  0,  0, 11, 12,  4, 13]], dtype=int32)"
            ]
          },
          "metadata": {},
          "execution_count": 7
        }
      ]
    },
    {
      "cell_type": "markdown",
      "metadata": {
        "id": "o6tVUs9KnTSB"
      },
      "source": [
        "We notice that now in `padded_corpus` that all sequences are in the same length. Note that the `pad_sequence()` function can be used for any integer value sequences, not essentially text data. Also notice that the filler value `0` is added to the beginning of the sequences.\n",
        "\n",
        "The other feature we may need is that to trace the integer (word index) back to the actual words. The `Tokenizer` object provides the following method:\n",
        "\n",
        "```python\n",
        "Tokenizer.word_index\n",
        "```\n",
        "\n",
        "This method of the `Tokenizer` returns all the unique words in the dataset, in a __dictionary__ format with __keys__ as _words_ and __values__ as the _index of the words_."
      ]
    },
    {
      "cell_type": "code",
      "metadata": {
        "id": "317iVvOFo3d5",
        "colab": {
          "base_uri": "https://localhost:8080/"
        },
        "outputId": "f3e268e6-8f77-4461-fe5d-5e616046d23e"
      },
      "source": [
        "tokenizer.word_index"
      ],
      "execution_count": null,
      "outputs": [
        {
          "output_type": "execute_result",
          "data": {
            "text/plain": [
              "{'text': 1,\n",
              " 'of': 2,\n",
              " 'document': 3,\n",
              " 'number': 4,\n",
              " 'first': 5,\n",
              " 'the': 6,\n",
              " 'second': 7,\n",
              " 'made': 8,\n",
              " 'longer': 9,\n",
              " 'three': 10,\n",
              " 'this': 11,\n",
              " 'is': 12,\n",
              " 'four': 13}"
            ]
          },
          "metadata": {},
          "execution_count": 8
        }
      ]
    },
    {
      "cell_type": "markdown",
      "metadata": {
        "id": "9H8HimU9o7u3"
      },
      "source": [
        "Another useful feature is that the `Tokenizer` object can return the word counts in your corpus."
      ]
    },
    {
      "cell_type": "code",
      "metadata": {
        "id": "BWkQfgDypITx",
        "colab": {
          "base_uri": "https://localhost:8080/"
        },
        "outputId": "5e72c7cb-5425-46e2-95a4-dc7e179161f5"
      },
      "source": [
        "tokenizer.word_counts"
      ],
      "execution_count": null,
      "outputs": [
        {
          "output_type": "execute_result",
          "data": {
            "text/plain": [
              "OrderedDict([('text', 2),\n",
              "             ('of', 2),\n",
              "             ('first', 1),\n",
              "             ('document', 2),\n",
              "             ('the', 1),\n",
              "             ('second', 1),\n",
              "             ('made', 1),\n",
              "             ('longer', 1),\n",
              "             ('number', 2),\n",
              "             ('three', 1),\n",
              "             ('this', 1),\n",
              "             ('is', 1),\n",
              "             ('four', 1)])"
            ]
          },
          "metadata": {},
          "execution_count": 9
        }
      ]
    },
    {
      "cell_type": "markdown",
      "metadata": {
        "id": "SSykDn4hpq7j"
      },
      "source": [
        "Sometimes, the _one-hot encoding_ based method may not serve our needs. For instance, we may want a method that captures both the word occurrences (`word_index`) and word frequencies (`word_counts`). Although `keras` does not support such a function, we can rely on our old friend `sklearn`. `sklearn` provides a function `CountVectorizer` for this purpose."
      ]
    },
    {
      "cell_type": "code",
      "metadata": {
        "id": "V9R-oSx8r6HR",
        "colab": {
          "base_uri": "https://localhost:8080/",
          "height": 236
        },
        "outputId": "c3b661de-a92b-4e98-9b7a-38e607709b4f"
      },
      "source": [
        "from sklearn.feature_extraction.text import CountVectorizer\n",
        "# create CountVectorizer object\n",
        "vectorizer = CountVectorizer()\n",
        "\n",
        "X = vectorizer.fit_transform(corpus1)\n",
        "\n",
        "# columns of X correspond to the result of this method\n",
        "vectorizer.get_feature_names() == (\n",
        "    ['document', 'first', 'four', 'is', 'longer',\n",
        "     'made', 'number', 'of', 'second', 'text',\n",
        "     'the', 'this', 'three'])"
      ],
      "execution_count": null,
      "outputs": [
        {
          "output_type": "error",
          "ename": "AttributeError",
          "evalue": "ignored",
          "traceback": [
            "\u001b[0;31m---------------------------------------------------------------------------\u001b[0m",
            "\u001b[0;31mAttributeError\u001b[0m                            Traceback (most recent call last)",
            "\u001b[0;32m<ipython-input-10-cda691bbfca0>\u001b[0m in \u001b[0;36m<cell line: 8>\u001b[0;34m()\u001b[0m\n\u001b[1;32m      6\u001b[0m \u001b[0;34m\u001b[0m\u001b[0m\n\u001b[1;32m      7\u001b[0m \u001b[0;31m# columns of X correspond to the result of this method\u001b[0m\u001b[0;34m\u001b[0m\u001b[0;34m\u001b[0m\u001b[0m\n\u001b[0;32m----> 8\u001b[0;31m vectorizer.get_feature_names() == (\n\u001b[0m\u001b[1;32m      9\u001b[0m     ['document', 'first', 'four', 'is', 'longer',\n\u001b[1;32m     10\u001b[0m      \u001b[0;34m'made'\u001b[0m\u001b[0;34m,\u001b[0m \u001b[0;34m'number'\u001b[0m\u001b[0;34m,\u001b[0m \u001b[0;34m'of'\u001b[0m\u001b[0;34m,\u001b[0m \u001b[0;34m'second'\u001b[0m\u001b[0;34m,\u001b[0m \u001b[0;34m'text'\u001b[0m\u001b[0;34m,\u001b[0m\u001b[0;34m\u001b[0m\u001b[0;34m\u001b[0m\u001b[0m\n",
            "\u001b[0;31mAttributeError\u001b[0m: 'CountVectorizer' object has no attribute 'get_feature_names'"
          ]
        }
      ]
    },
    {
      "cell_type": "code",
      "metadata": {
        "id": "IQiGJq_Qs1lg",
        "colab": {
          "base_uri": "https://localhost:8080/"
        },
        "outputId": "4387473e-9de9-4e2d-8cd8-5679d7fa7a70"
      },
      "source": [
        "# retrieving the matrix in the numpy form\n",
        "X.toarray()"
      ],
      "execution_count": null,
      "outputs": [
        {
          "output_type": "execute_result",
          "data": {
            "text/plain": [
              "array([[1, 1, 0, 0, 0, 0, 0, 1, 0, 1, 0, 0, 0],\n",
              "       [1, 0, 0, 0, 1, 1, 0, 1, 1, 1, 1, 0, 0],\n",
              "       [0, 0, 0, 0, 0, 0, 1, 0, 0, 0, 0, 0, 1],\n",
              "       [0, 0, 1, 1, 0, 0, 1, 0, 0, 0, 0, 1, 0]])"
            ]
          },
          "metadata": {},
          "execution_count": 11
        }
      ]
    },
    {
      "cell_type": "markdown",
      "metadata": {
        "id": "QNLqy8Jus_mx"
      },
      "source": [
        "We notice that after the `CountVectorizer` that the texts are of the __same__ length."
      ]
    },
    {
      "cell_type": "code",
      "metadata": {
        "id": "hQU1UbHVsEqS",
        "colab": {
          "base_uri": "https://localhost:8080/"
        },
        "outputId": "51890fca-b577-439d-d650-f9aec559de92"
      },
      "source": [
        "# transforming a new document according to learn vocabulary\n",
        "vectorizer.transform(['A new document.']).toarray()"
      ],
      "execution_count": null,
      "outputs": [
        {
          "output_type": "execute_result",
          "data": {
            "text/plain": [
              "array([[1, 0, 0, 0, 0, 0, 0, 0, 0, 0, 0, 0, 0]])"
            ]
          },
          "metadata": {},
          "execution_count": 12
        }
      ]
    },
    {
      "cell_type": "markdown",
      "metadata": {
        "id": "EKUefL_usMnY"
      },
      "source": [
        "For instance, to the word `‘first’` in the given example corresponds vector `[1,0,0,0]`, which is the 2nd column of the matrix `X`. Sometimes the output of this method is called __sparse matrix__ as long as `X` has zeroes as the most elements of it and has sparsity as its feature."
      ]
    },
    {
      "cell_type": "markdown",
      "metadata": {
        "id": "NallK4dtvJ_e"
      },
      "source": [
        "## TF-IDF transforming\n",
        "The idea behind this approach is term weighting by exploitation of useful statistical measure called tf-idf. Having a large corpus of documents, words like ‘a’, ‘the’, ‘is’, etc. occur very frequently, but they don’t carry a lot of information. Using one-hot encoding approach we see that vectors of these words are not-so-sparse, claiming, that these words are important and carry a lot of information if being in so many documents. One of the ways to solve this problem is stopwords filtering, but this solution is discrete and not flexible to the domain zone we’re working with.\n",
        "\n",
        "Please refer to [this post](https://towardsdatascience.com/word-embeddings-exploration-explanation-and-exploitation-with-code-in-python-5dac99d5d795) for more details on this method."
      ]
    },
    {
      "cell_type": "markdown",
      "metadata": {
        "id": "QDhqTWlq-XVw"
      },
      "source": [
        "## What is Word2vec?\n",
        "\n",
        "Word2Vec is the first neural embedding model (or at least the first, which gained its popularity in 2013) and still the one, which is used by the most of researchers. Doc2Vec, its child, is also the most popular model for paragraphs representation, which was inspired by Word2Vec. In fact, many of the concepts we will be reviewing later are based on the Word2Vec prerequisites, so be sure to pay enough attention to this embeddings type.\n",
        "\n",
        "[Word2vec](https://en.wikipedia.org/wiki/Word2vec) is one algorithm for learning a word embedding from a text corpus.\n",
        "\n",
        "There are two main training algorithms that can be used to learn the embedding from text; they are continuous bag of words (CBOW) and skip grams.\n",
        "\n",
        "We will not get into the algorithms other than to say that they generally look at a window of words for each target word to provide context and in turn meaning for words. The approach was developed by [Tomas Mikolov](https://en.wikipedia.org/wiki/Word2vec), formerly at Google and currently at Facebook.\n",
        "\n",
        "Word2Vec models require a lot of text, e.g. the entire Wikipedia corpus. Nevertheless, we will demonstrate the principles using a small in-memory example of text.\n",
        "\n",
        "Gensim provides the [Word2Vec class](https://radimrehurek.com/gensim/models/word2vec.html) for working with a Word2Vec model.\n",
        "\n",
        "Learning a word embedding from text involves loading and organizing the text into sentences and providing them to the constructor of a new `Word2Vec()` instance."
      ]
    },
    {
      "cell_type": "code",
      "metadata": {
        "id": "rGlDsKiLxjMK"
      },
      "source": [
        "from gensim.models import word2vec"
      ],
      "execution_count": null,
      "outputs": []
    },
    {
      "cell_type": "code",
      "metadata": {
        "id": "wDC-xm83oQpw"
      },
      "source": [
        "# we need to pass splitted sentences to the model\n",
        "tokenized_sentences = [sentence.split() for sentence in total_corpus]\n",
        "model = word2vec.Word2Vec(tokenized_sentences, min_count=1)"
      ],
      "execution_count": null,
      "outputs": []
    },
    {
      "cell_type": "markdown",
      "metadata": {
        "id": "4FUzz_M9ouVQ"
      },
      "source": [
        "The `tokenized_sentences` could be text loaded into memory, or an iterator that progressively loads text, required for very large text corpora.\n",
        "\n",
        "There are many parameters on this constructor; a few noteworthy arguments you may wish to configure are:\n",
        "\n",
        "- __size__: (default `100`) The number of dimensions of the embedding, e.g. the length of the dense vector to represent each token (word).\n",
        "window: (default `5`) The maximum distance between a target word and words around the target word.\n",
        "- __min_count__: (default `5`) The minimum count of words to consider when training the model; words with an occurrence less than this count will be ignored.\n",
        "- __workers__: (default `3`) The number of threads to use while training.\n",
        "- __sg__: (default `0` or CBOW) The training algorithm, either CBOW (`0`) or skip gram (`1`).\n",
        "\n",
        "The defaults are often good enough when just getting started. If you have a lot of cores, as most modern computers do, I strongly encourage you to increase workers to match the number of cores (e.g. `8`).\n",
        "\n",
        "After the model is trained, it is accessible via the `wv` attribute. This is the actual word vector model in which queries can be made.\n",
        "\n",
        "For example, you can print the learned vocabulary of tokens (words) as follows:"
      ]
    },
    {
      "cell_type": "code",
      "metadata": {
        "id": "Ny73WICIot9t",
        "colab": {
          "base_uri": "https://localhost:8080/",
          "height": 340
        },
        "outputId": "2280878d-fca7-46ff-a39b-fbd5e6954ff2"
      },
      "source": [
        "words = list(model.wv.vocab)\n",
        "print(words)"
      ],
      "execution_count": null,
      "outputs": [
        {
          "output_type": "error",
          "ename": "AttributeError",
          "evalue": "ignored",
          "traceback": [
            "\u001b[0;31m---------------------------------------------------------------------------\u001b[0m",
            "\u001b[0;31mAttributeError\u001b[0m                            Traceback (most recent call last)",
            "\u001b[0;32m<ipython-input-15-3af915ac5d93>\u001b[0m in \u001b[0;36m<cell line: 1>\u001b[0;34m()\u001b[0m\n\u001b[0;32m----> 1\u001b[0;31m \u001b[0mwords\u001b[0m \u001b[0;34m=\u001b[0m \u001b[0mlist\u001b[0m\u001b[0;34m(\u001b[0m\u001b[0mmodel\u001b[0m\u001b[0;34m.\u001b[0m\u001b[0mwv\u001b[0m\u001b[0;34m.\u001b[0m\u001b[0mvocab\u001b[0m\u001b[0;34m)\u001b[0m\u001b[0;34m\u001b[0m\u001b[0;34m\u001b[0m\u001b[0m\n\u001b[0m\u001b[1;32m      2\u001b[0m \u001b[0mprint\u001b[0m\u001b[0;34m(\u001b[0m\u001b[0mwords\u001b[0m\u001b[0;34m)\u001b[0m\u001b[0;34m\u001b[0m\u001b[0;34m\u001b[0m\u001b[0m\n",
            "\u001b[0;32m/usr/local/lib/python3.10/dist-packages/gensim/models/keyedvectors.py\u001b[0m in \u001b[0;36mvocab\u001b[0;34m(self)\u001b[0m\n\u001b[1;32m    732\u001b[0m     \u001b[0;34m@\u001b[0m\u001b[0mproperty\u001b[0m\u001b[0;34m\u001b[0m\u001b[0;34m\u001b[0m\u001b[0m\n\u001b[1;32m    733\u001b[0m     \u001b[0;32mdef\u001b[0m \u001b[0mvocab\u001b[0m\u001b[0;34m(\u001b[0m\u001b[0mself\u001b[0m\u001b[0;34m)\u001b[0m\u001b[0;34m:\u001b[0m\u001b[0;34m\u001b[0m\u001b[0;34m\u001b[0m\u001b[0m\n\u001b[0;32m--> 734\u001b[0;31m         raise AttributeError(\n\u001b[0m\u001b[1;32m    735\u001b[0m             \u001b[0;34m\"The vocab attribute was removed from KeyedVector in Gensim 4.0.0.\\n\"\u001b[0m\u001b[0;34m\u001b[0m\u001b[0;34m\u001b[0m\u001b[0m\n\u001b[1;32m    736\u001b[0m             \u001b[0;34m\"Use KeyedVector's .key_to_index dict, .index_to_key list, and methods \"\u001b[0m\u001b[0;34m\u001b[0m\u001b[0;34m\u001b[0m\u001b[0m\n",
            "\u001b[0;31mAttributeError\u001b[0m: The vocab attribute was removed from KeyedVector in Gensim 4.0.0.\nUse KeyedVector's .key_to_index dict, .index_to_key list, and methods .get_vecattr(key, attr) and .set_vecattr(key, attr, new_val) instead.\nSee https://github.com/RaRe-Technologies/gensim/wiki/Migrating-from-Gensim-3.x-to-4"
          ]
        }
      ]
    },
    {
      "cell_type": "code",
      "metadata": {
        "id": "dupjapxXoaeP",
        "colab": {
          "base_uri": "https://localhost:8080/",
          "height": 166
        },
        "outputId": "d759d78a-347c-4c9d-ac70-ae105e74a9ce"
      },
      "source": [
        "print(model['document'])"
      ],
      "execution_count": null,
      "outputs": [
        {
          "output_type": "error",
          "ename": "TypeError",
          "evalue": "ignored",
          "traceback": [
            "\u001b[0;31m---------------------------------------------------------------------------\u001b[0m",
            "\u001b[0;31mTypeError\u001b[0m                                 Traceback (most recent call last)",
            "\u001b[0;32m<ipython-input-16-7aee292397a6>\u001b[0m in \u001b[0;36m<cell line: 1>\u001b[0;34m()\u001b[0m\n\u001b[0;32m----> 1\u001b[0;31m \u001b[0mprint\u001b[0m\u001b[0;34m(\u001b[0m\u001b[0mmodel\u001b[0m\u001b[0;34m[\u001b[0m\u001b[0;34m'document'\u001b[0m\u001b[0;34m]\u001b[0m\u001b[0;34m)\u001b[0m\u001b[0;34m\u001b[0m\u001b[0;34m\u001b[0m\u001b[0m\n\u001b[0m",
            "\u001b[0;31mTypeError\u001b[0m: 'Word2Vec' object is not subscriptable"
          ]
        }
      ]
    },
    {
      "cell_type": "markdown",
      "metadata": {
        "id": "isJmsDy0pjhI"
      },
      "source": [
        "By default, the model is saved in a binary format to save space. For example:\n",
        "\n",
        "```python\n",
        "model.wv.save_word2vec_format('model.bin')\n",
        "```\n",
        "\n",
        "The saved model can then be loaded again by calling the `Word2Vec.load()` function. For example:\n",
        "\n",
        "```python\n",
        "model = Word2Vec.load('model.bin')\n",
        "```"
      ]
    },
    {
      "cell_type": "markdown",
      "metadata": {
        "id": "b6pETJH8p_yI"
      },
      "source": [
        "### Visualize Word2Vec Models\n",
        "\n",
        "After you learn word embedding for your text data, it can be nice to explore it with visualization.\n",
        "\n",
        "You can use classical projection methods to reduce the high-dimensional word vectors to two-dimensional plots and plot them on a graph.\n",
        "\n",
        "The visualizations can provide a qualitative diagnostic for your learned model.\n",
        "\n",
        "We can retrieve all of the vectors from a trained model as follows:"
      ]
    },
    {
      "cell_type": "code",
      "metadata": {
        "id": "0qRArLhspb1H",
        "colab": {
          "base_uri": "https://localhost:8080/",
          "height": 322
        },
        "outputId": "980755ca-3628-47a7-a58f-e0279b755a33"
      },
      "source": [
        "X = model[model.wv.vocab]"
      ],
      "execution_count": null,
      "outputs": [
        {
          "output_type": "error",
          "ename": "AttributeError",
          "evalue": "ignored",
          "traceback": [
            "\u001b[0;31m---------------------------------------------------------------------------\u001b[0m",
            "\u001b[0;31mAttributeError\u001b[0m                            Traceback (most recent call last)",
            "\u001b[0;32m<ipython-input-17-c60322eee7e8>\u001b[0m in \u001b[0;36m<cell line: 1>\u001b[0;34m()\u001b[0m\n\u001b[0;32m----> 1\u001b[0;31m \u001b[0mX\u001b[0m \u001b[0;34m=\u001b[0m \u001b[0mmodel\u001b[0m\u001b[0;34m[\u001b[0m\u001b[0mmodel\u001b[0m\u001b[0;34m.\u001b[0m\u001b[0mwv\u001b[0m\u001b[0;34m.\u001b[0m\u001b[0mvocab\u001b[0m\u001b[0;34m]\u001b[0m\u001b[0;34m\u001b[0m\u001b[0;34m\u001b[0m\u001b[0m\n\u001b[0m",
            "\u001b[0;32m/usr/local/lib/python3.10/dist-packages/gensim/models/keyedvectors.py\u001b[0m in \u001b[0;36mvocab\u001b[0;34m(self)\u001b[0m\n\u001b[1;32m    732\u001b[0m     \u001b[0;34m@\u001b[0m\u001b[0mproperty\u001b[0m\u001b[0;34m\u001b[0m\u001b[0;34m\u001b[0m\u001b[0m\n\u001b[1;32m    733\u001b[0m     \u001b[0;32mdef\u001b[0m \u001b[0mvocab\u001b[0m\u001b[0;34m(\u001b[0m\u001b[0mself\u001b[0m\u001b[0;34m)\u001b[0m\u001b[0;34m:\u001b[0m\u001b[0;34m\u001b[0m\u001b[0;34m\u001b[0m\u001b[0m\n\u001b[0;32m--> 734\u001b[0;31m         raise AttributeError(\n\u001b[0m\u001b[1;32m    735\u001b[0m             \u001b[0;34m\"The vocab attribute was removed from KeyedVector in Gensim 4.0.0.\\n\"\u001b[0m\u001b[0;34m\u001b[0m\u001b[0;34m\u001b[0m\u001b[0m\n\u001b[1;32m    736\u001b[0m             \u001b[0;34m\"Use KeyedVector's .key_to_index dict, .index_to_key list, and methods \"\u001b[0m\u001b[0;34m\u001b[0m\u001b[0;34m\u001b[0m\u001b[0m\n",
            "\u001b[0;31mAttributeError\u001b[0m: The vocab attribute was removed from KeyedVector in Gensim 4.0.0.\nUse KeyedVector's .key_to_index dict, .index_to_key list, and methods .get_vecattr(key, attr) and .set_vecattr(key, attr, new_val) instead.\nSee https://github.com/RaRe-Technologies/gensim/wiki/Migrating-from-Gensim-3.x-to-4"
          ]
        }
      ]
    },
    {
      "cell_type": "markdown",
      "metadata": {
        "id": "ytWcGX3lqY1c"
      },
      "source": [
        "We can then train a projection method on the vectors, such as those methods offered in scikit-learn, then use matplotlib to plot the projection as a scatter plot.\n",
        "\n",
        "Let’s look at an example with [Principal Component Analysis or PCA](https://machinelearningmastery.com/calculate-principal-component-analysis-scratch-python/).\n",
        "\n",
        "#### Plot Word Vectors Using PCA\n",
        "We can create a 2-dimensional PCA model of the word vectors using the scikit-learn [PCA function](http://scikit-learn.org/stable/modules/generated/sklearn.decomposition.PCA.html) as follows."
      ]
    },
    {
      "cell_type": "code",
      "metadata": {
        "id": "UMn97KD7qSwu",
        "colab": {
          "base_uri": "https://localhost:8080/",
          "height": 34
        },
        "outputId": "19fd5654-4f23-4d1f-9721-a727789bfe2c"
      },
      "source": [
        "from sklearn.decomposition import PCA\n",
        "\n",
        "pca = PCA(n_components=2, whiten=True)\n",
        "result = pca.fit_transform(X)\n",
        "pca.explained_variance_ratio_"
      ],
      "execution_count": null,
      "outputs": [
        {
          "output_type": "execute_result",
          "data": {
            "text/plain": [
              "array([0.05727825, 0.05425069], dtype=float32)"
            ]
          },
          "metadata": {
            "tags": []
          },
          "execution_count": 25
        }
      ]
    },
    {
      "cell_type": "markdown",
      "metadata": {
        "id": "ycrAS_RlrRlu"
      },
      "source": [
        "The resulting projection can be plotted using matplotlib as follows, pulling out the two dimensions as `x` and `y` coordinates."
      ]
    },
    {
      "cell_type": "code",
      "metadata": {
        "id": "rufUFlWHq_W4"
      },
      "source": [
        "import matplotlib.pyplot as plt\n",
        "plt.style.use('seaborn-whitegrid')"
      ],
      "execution_count": null,
      "outputs": []
    },
    {
      "cell_type": "code",
      "metadata": {
        "id": "A0MdWRTxrfUE",
        "colab": {
          "base_uri": "https://localhost:8080/",
          "height": 588
        },
        "outputId": "cd4aadb6-e002-4525-c946-fe70ffbdc247"
      },
      "source": [
        "plt.figure(figsize=(10,10))\n",
        "plt.scatter(x=result[:, 0], y=result[:, 1])\n",
        "\n",
        "# we can then annotate the words with all the points\n",
        "words = list(model.wv.vocab)\n",
        "for i, word in enumerate(words):\n",
        "\tplt.annotate(word, xy=(result[i, 0], result[i, 1]))\n",
        "plt.show()"
      ],
      "execution_count": null,
      "outputs": [
        {
          "output_type": "display_data",
          "data": {
            "image/png": "[encoded data removed]",
            "text/plain": [
              "<Figure size 720x720 with 1 Axes>"
            ]
          },
          "metadata": {
            "tags": []
          }
        }
      ]
    },
    {
      "cell_type": "markdown",
      "metadata": {
        "id": "MZP3tt_GsfXj"
      },
      "source": [
        "#### Quantifying Similarity\n",
        "\n",
        "The visualization can give us a basic idea regarding which words are similar to each other. However, sometimes (e.g., if we want to cluster words based on their similarities), we need to quantify the similarities.\n",
        "\n",
        "Luckily, `gensim` provides an attribute (`most_similar()`) to measure the similarity between words in a `word2vec` model.\n",
        "\n",
        "For instance, if we want to look at what words are most similar to `'document'` in our trained `model`, we can do this:"
      ]
    },
    {
      "cell_type": "code",
      "metadata": {
        "id": "8gm0n7hnrnet",
        "colab": {
          "base_uri": "https://localhost:8080/",
          "height": 156
        },
        "outputId": "a6de60e3-dd4b-42f6-d57c-16f318724f9e"
      },
      "source": [
        "model.wv.most_similar(positive=['document'], topn=5)"
      ],
      "execution_count": null,
      "outputs": [
        {
          "output_type": "stream",
          "text": [
            "/usr/local/lib/python3.6/dist-packages/gensim/matutils.py:737: FutureWarning: Conversion of the second argument of issubdtype from `int` to `np.signedinteger` is deprecated. In future, it will be treated as `np.int64 == np.dtype(int).type`.\n",
            "  if np.issubdtype(vec.dtype, np.int):\n"
          ],
          "name": "stderr"
        },
        {
          "output_type": "execute_result",
          "data": {
            "text/plain": [
              "[('three.', 0.1391543447971344),\n",
              " ('first', 0.11365681886672974),\n",
              " ('value', 0.09824228286743164),\n",
              " ('Number', 0.09117282927036285),\n",
              " ('in', 0.0880718007683754)]"
            ]
          },
          "metadata": {
            "tags": []
          },
          "execution_count": 37
        }
      ]
    },
    {
      "cell_type": "markdown",
      "metadata": {
        "id": "ySSK_3HVwMbU"
      },
      "source": [
        "We can find out that these top 5 words are somewhat close to the word `'document'` in the scatter plot above.\n",
        "\n",
        "What if we want to look at words similar to `'document'` but not similar to `'word'`? We can do this:"
      ]
    },
    {
      "cell_type": "code",
      "metadata": {
        "id": "5k65AFwWv2h2",
        "colab": {
          "base_uri": "https://localhost:8080/",
          "height": 156
        },
        "outputId": "fc870c4f-a2ab-4ade-9a79-3b0f05cf2c8c"
      },
      "source": [
        "model.wv.most_similar(positive=['document'], negative=['word'], topn=5)"
      ],
      "execution_count": null,
      "outputs": [
        {
          "output_type": "stream",
          "text": [
            "/usr/local/lib/python3.6/dist-packages/gensim/matutils.py:737: FutureWarning: Conversion of the second argument of issubdtype from `int` to `np.signedinteger` is deprecated. In future, it will be treated as `np.int64 == np.dtype(int).type`.\n",
            "  if np.issubdtype(vec.dtype, np.int):\n"
          ],
          "name": "stderr"
        },
        {
          "output_type": "execute_result",
          "data": {
            "text/plain": [
              "[('widely', 0.1554654985666275),\n",
              " ('language', 0.13933239877223969),\n",
              " ('great', 0.11266615986824036),\n",
              " ('method.', 0.10966652631759644),\n",
              " ('used', 0.10645037144422531)]"
            ]
          },
          "metadata": {
            "tags": []
          },
          "execution_count": 36
        }
      ]
    },
    {
      "cell_type": "markdown",
      "metadata": {
        "id": "Cy5hoQqLzoS2"
      },
      "source": [
        "You can have multiple word for either `postive=` or `negative=`, or even both."
      ]
    },
    {
      "cell_type": "code",
      "metadata": {
        "id": "jD8vJsNJzmk_",
        "colab": {
          "base_uri": "https://localhost:8080/",
          "height": 156
        },
        "outputId": "e68e84e4-8236-42b7-8909-3ecebfa16c78"
      },
      "source": [
        "model.wv.most_similar(positive=['document', 'sentence'], negative=['word'], topn=5)"
      ],
      "execution_count": null,
      "outputs": [
        {
          "output_type": "stream",
          "text": [
            "/usr/local/lib/python3.6/dist-packages/gensim/matutils.py:737: FutureWarning: Conversion of the second argument of issubdtype from `int` to `np.signedinteger` is deprecated. In future, it will be treated as `np.int64 == np.dtype(int).type`.\n",
            "  if np.issubdtype(vec.dtype, np.int):\n"
          ],
          "name": "stderr"
        },
        {
          "output_type": "execute_result",
          "data": {
            "text/plain": [
              "[('first', 0.16968777775764465),\n",
              " ('method.', 0.15506719052791595),\n",
              " ('a', 0.15224719047546387),\n",
              " ('widely', 0.14804601669311523),\n",
              " ('language', 0.1341065764427185)]"
            ]
          },
          "metadata": {
            "tags": []
          },
          "execution_count": 39
        }
      ]
    },
    {
      "cell_type": "markdown",
      "metadata": {
        "id": "xErzx6i3xKeR"
      },
      "source": [
        "Comparing the two results above, we can see that the second result makes more sense. It is common practice to have some similar words in the `negative=` argument to fine tune the similar words.\n",
        "\n",
        "Besides, the float number next to the `most_similar` words are the similarity. Since we represent words as real-value vectors, the similarity is $1-cosine distance$.\n",
        "\n",
        "We can look at the similarity between any pair of words in our vocabulary (collection of all words):"
      ]
    },
    {
      "cell_type": "code",
      "metadata": {
        "id": "Zrj9JhfHw5wg",
        "colab": {
          "base_uri": "https://localhost:8080/",
          "height": 88
        },
        "outputId": "99bcbd01-7a6b-4155-aaea-73ccb8098c4f"
      },
      "source": [
        "model.wv.similarity('document', 'word')"
      ],
      "execution_count": null,
      "outputs": [
        {
          "output_type": "stream",
          "text": [
            "/usr/local/lib/python3.6/dist-packages/gensim/matutils.py:737: FutureWarning: Conversion of the second argument of issubdtype from `int` to `np.signedinteger` is deprecated. In future, it will be treated as `np.int64 == np.dtype(int).type`.\n",
            "  if np.issubdtype(vec.dtype, np.int):\n"
          ],
          "name": "stderr"
        },
        {
          "output_type": "execute_result",
          "data": {
            "text/plain": [
              "0.054307606"
            ]
          },
          "metadata": {
            "tags": []
          },
          "execution_count": 38
        }
      ]
    },
    {
      "cell_type": "markdown",
      "metadata": {
        "id": "djvmPFYi0ZUl"
      },
      "source": [
        "## DO IT YOURSELF\n",
        "\n",
        "Of course, sometimes we want to use the `word2vec` model more than just explore the text contents (similarities). For instance, we may want to use the `word2vec` models to represent the text for classification purposes.\n",
        "\n",
        "Your task here is to replicate what we did in the __Deep Learning for NLP: Sentiment Analysis__, but instead of using the processed data, we are going to use the actual text data, and you are going to use the `keras.tokenizer` and `gensim.word2vec` to represent the text for classification purposes.\n",
        "\n",
        "- The text data can be downloaded at [here](http://ai.stanford.edu/~amaas/data/sentiment/aclImdb_v1.tar.gz);\n",
        "- [This link](https://towardsdatascience.com/machine-learning-word-embedding-sentiment-classification-using-keras-b83c28087456) might be particularly helpful.\n",
        "\n",
        "Some things to consider:\n",
        "\n",
        "1. you might want to preprocess your text data, by removing the stop words, punctuations, and so forth. These standardized steps are popularly used in NLP practices. [This notebook](https://github.com/antonio-f/Multilabel-Classification/blob/master/week1/week1-MultilabelClassification.ipynb), particularly code block `177 - 179`, might be useful for that.\n",
        "2. If you want some extra points, or just like the extra challenge, consider discover the top 50 most frequent words in the dataset, and plot them in a scatter plot. Also, you can look at the `most_similar` words among them to see if you can discover something interesting.\n"
      ]
    },
    {
      "cell_type": "code",
      "metadata": {
        "id": "HFD-bsdVyvcK",
        "colab": {
          "base_uri": "https://localhost:8080/"
        },
        "outputId": "3b62d0ba-c2d5-452b-e056-90dfe3dcf7d6"
      },
      "source": [
        "!wget http://ai.stanford.edu/~amaas/data/sentiment/aclImdb_v1.tar.gz"
      ],
      "execution_count": null,
      "outputs": [
        {
          "output_type": "stream",
          "text": [
            "--2021-06-19 18:40:36--  http://ai.stanford.edu/~amaas/data/sentiment/aclImdb_v1.tar.gz\n",
            "Resolving ai.stanford.edu (ai.stanford.edu)... 171.64.68.10\n",
            "Connecting to ai.stanford.edu (ai.stanford.edu)|171.64.68.10|:80... connected.\n",
            "HTTP request sent, awaiting response... 200 OK\n",
            "Length: 84125825 (80M) [application/x-gzip]\n",
            "Saving to: ‘aclImdb_v1.tar.gz’\n",
            "\n",
            "aclImdb_v1.tar.gz   100%[===================>]  80.23M  58.6MB/s    in 1.4s    \n",
            "\n",
            "2021-06-19 18:40:38 (58.6 MB/s) - ‘aclImdb_v1.tar.gz’ saved [84125825/84125825]\n",
            "\n"
          ],
          "name": "stdout"
        }
      ]
    },
    {
      "cell_type": "code",
      "metadata": {
        "id": "haPCRBZQkx2c"
      },
      "source": [
        "!tar -xvf '/content/aclImdb_v1.tar.gz'"
      ],
      "execution_count": null,
      "outputs": []
    },
    {
      "cell_type": "code",
      "metadata": {
        "id": "icHMFza2lR7X"
      },
      "source": [
        "import os\n",
        "\n",
        "base_dir = '/content/aclImdb/train/neg'\n",
        "txt_list = []\n",
        "for dirpath, dirnames, filename in os.walk(base_dir):\n",
        "    for filename in filename:\n",
        "        # create full path\n",
        "        txtfile_full_path = os.path.join(dirpath, filename)\n",
        "        with open(txtfile_full_path) as f:\n",
        "            txt_list.append(f.read())"
      ],
      "execution_count": null,
      "outputs": []
    },
    {
      "cell_type": "code",
      "metadata": {
        "colab": {
          "base_uri": "https://localhost:8080/",
          "height": 138
        },
        "id": "_7aNGT1OmASF",
        "outputId": "b8659def-5e6c-4fb8-eb3f-1a83d0fb44fa"
      },
      "source": [
        "txt_list[0]"
      ],
      "execution_count": null,
      "outputs": [
        {
          "output_type": "execute_result",
          "data": {
            "application/vnd.google.colaboratory.intrinsic+json": {
              "type": "string"
            },
            "text/plain": [
              "'This is easily the most disappointing, least gratifying movie of the entire so-called blacksploitation genre, which, by the way, are films we generally enjoy a great deal in our home. Rather than being \"exploitation\" or demeaning, these films actually provide a priceless insight into an era. Well, not Bucktown.<br /><br />In this story, Duke returns to Bucktown to operate the night club left to him by his recently deceased brother. He quickly learns that the city is entirely controlled by a corrupt police force, bleeding protection money out of all the local businesses. Duke resists, and determines that he will rescue the city from the corrupt police. Unfortunately, he does so by calling in a posse of his friends (these people are vaguely explained as some former black-militants who have worked with Duke on \"jobs\" in the past) and they simply murder the entire police department in cold blood. And literally in the presence of hundreds of witnesses who do nothing to stop it. Ignorance is not a justification for murder, and it would have been much more entertaining to see the Cracker Police suffer for their actions as opposed to merely getting whacked in the street. While revenge is a ubiquitous and generally satisfying theme in films of this genre, it is a far cry from seeing Pam Grier track down the thugs who off\\'ed her family, cuss them out, give them a jujitsu ass-kickin\\' and set their \\'fro on fire. That has art (and a reason for existing) and merits a level of respect that is quite undeserved by simply shooting someone in the back. Of course, in this bizarre tale, she is playing a woman completely under The Man\\'s thumb, afraid of the Crackers who run her town and oppress her people. Indeed, her advice to Duke is, \"Run, man, they gonna kill you!\"<br /><br />Following the sickening and gratuitous violence, we are expected to believe that the town\\'s mayor wholeheartedly condones the actions of Duke and his friends, congratulating them and offering to throw a parade in their honor, as opposed to, say, calling the district attorney to press capital murder charges against them and have them taken into custody. Duke\\'s posse declines the parade and instead opts to fill the numerous vacancies on the police force created by their recent killing spree. They immediately prove to be even more corrupt than their Cracker Police predecessors (to quote the mayor, \"They are ten times worse than what we had before!\"). Now Duke finds he must again rescue the citizens of Bucktown from corrupt, protection-racket law enforcement officials and again make it safe for decent folk to operate a prostitution business in the streets. Unfortunately, Duke has already lost all moral high ground and sympathy due a hero, as he was a willing participant in the murder of the original police force. I wouldn\\'t have cared one way or the other if he had rescued Bucktown or gotten plugged himself at this point. I suppose we are to be entertained by the clever way Duke has to outsmart the new Police Goons, but in reality the film has now just become an opera of gratuitous violence, Duke murders all of his former friends and allies in cold blood with the same absence of compassion he had when gunning down the Cracker Police. Duke is a pig.<br /><br />Finally, when everyone in town but Duke, Aretha, and the employees of the local brothel are dead and bleedin\\' in the street, our hero and heroine walk off into the night as though they had some admirable qualities or redeeming values; they don\\'t. Duke is merely a murderous thug and Aretha his enabling misogynist accomplice. If you are interested in this genre of film, by all means, I highly recommend them, see Coffy, Foxy Brown, Truck Turner, Blacula, Sheba Baby\\x85but if in the process you should run across this DVD, throw it as far away as you possibly can! Drop it like it\\'s hot! It should be treated as one would treat a glowing puddle of nuclear waste! There is no single film in the entire Blacksploitation era that is not dramatically more entertaining, satisfying and populated with more sympathetic and admirable characters than this piece of slime, obviously written by and targeted at some hormonally imbalanced high school sophomores.'"
            ]
          },
          "metadata": {
            "tags": []
          },
          "execution_count": 9
        }
      ]
    },
    {
      "cell_type": "code",
      "metadata": {
        "id": "-0ZWeZiAmE6F"
      },
      "source": [
        "import numpy as np\n",
        "\n",
        "neg_text = np.array(txt_list)"
      ],
      "execution_count": null,
      "outputs": []
    },
    {
      "cell_type": "code",
      "metadata": {
        "id": "PuGEuQffmQDH"
      },
      "source": [
        "base_dir = '/content/aclImdb/train/pos'\n",
        "txt_list = []\n",
        "for dirpath, dirnames, filename in os.walk(base_dir):\n",
        "    for filename in filename:\n",
        "        # create full path\n",
        "        txtfile_full_path = os.path.join(dirpath, filename)\n",
        "        with open(txtfile_full_path) as f:\n",
        "            txt_list.append(f.read())"
      ],
      "execution_count": null,
      "outputs": []
    },
    {
      "cell_type": "code",
      "metadata": {
        "id": "GADxTE-tmSZO"
      },
      "source": [
        "pos_text = np.array(txt_list)"
      ],
      "execution_count": null,
      "outputs": []
    },
    {
      "cell_type": "code",
      "metadata": {
        "id": "hgF0uIHdmUe-"
      },
      "source": [],
      "execution_count": null,
      "outputs": []
    }
  ]
}