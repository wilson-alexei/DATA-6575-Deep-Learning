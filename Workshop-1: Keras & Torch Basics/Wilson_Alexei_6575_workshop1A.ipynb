{
  "nbformat": 4,
  "nbformat_minor": 0,
  "metadata": {
    "colab": {
      "provenance": [],
      "gpuType": "T4",
      "toc_visible": true
    },
    "kernelspec": {
      "name": "python3",
      "display_name": "Python 3"
    },
    "language_info": {
      "name": "python"
    },
    "accelerator": "GPU"
  },
  "cells": [
    {
      "cell_type": "markdown",
      "source": [
        "# A Gentle Intro to `PyTorch` and tensors\n",
        "\n",
        "By Dr. Jie Tao\n",
        "\n",
        "ver.: 0.1"
      ],
      "metadata": {
        "id": "Gi0tUXtteT54"
      }
    },
    {
      "cell_type": "markdown",
      "source": [
        "We have spent quite some time playing with `tensorflow`, however, another well-adopted package in terms of __deep learning__ is `PyTorch`, or just `torch` for short.\n",
        "\n",
        "Traditionally, `tensorflow` and `torch` have some different use cases:\n",
        "- `tf` is good for building your __own__ networks, particularly if the network topology (aka., architecture) is simple;\n",
        "- `torch` is good when the architecture is not that simple, so it was popular with __transfer learning__ (will be covered in __Week 4__);\n",
        "- `torch` also comes with good **operations** if you want to deal with tensors.\n",
        "\n",
        "But nowadays they function almost the same, usually you use one if you are, or your group is, more familiar with it over the other. So it is crucial if you understand how `torch` works, which is the purpose of this workshop."
      ],
      "metadata": {
        "id": "tRSJBszhen6b"
      }
    },
    {
      "cell_type": "code",
      "execution_count": null,
      "metadata": {
        "id": "_mwMiyFpeRJU"
      },
      "outputs": [],
      "source": [
        "import torch"
      ]
    },
    {
      "cell_type": "markdown",
      "source": [
        "We typically add a block at the top of the notebook when using `torch` to determine if we want to use __GPU__ or not."
      ],
      "metadata": {
        "id": "QLShnOPbgX8f"
      }
    },
    {
      "cell_type": "code",
      "source": [
        "# If there's a GPU available...\n",
        "if torch.cuda.is_available():\n",
        "\n",
        "    # Tell PyTorch to use the GPU.\n",
        "    device = torch.device(\"cuda\") ## you can specify which GPU to use if you have more than one, for intance `cuda:0` is the first GPU\n",
        "\n",
        "    print('There are %d GPU(s) available.' % torch.cuda.device_count())\n",
        "\n",
        "    print('We will use the GPU:', torch.cuda.get_device_name(0))\n",
        "\n",
        "# If not...\n",
        "else:\n",
        "    print('No GPU available, using the CPU instead.')\n",
        "    device = torch.device(\"cpu\")"
      ],
      "metadata": {
        "id": "TbNqgcPqf7lk",
        "colab": {
          "base_uri": "https://localhost:8080/"
        },
        "outputId": "826c9652-992b-4b2a-8f2f-d9ebd5499490"
      },
      "execution_count": null,
      "outputs": [
        {
          "output_type": "stream",
          "name": "stdout",
          "text": [
            "There are 1 GPU(s) available.\n",
            "We will use the GPU: Tesla T4\n"
          ]
        }
      ]
    },
    {
      "cell_type": "markdown",
      "source": [
        "\n",
        "\n",
        "---\n",
        "\n"
      ],
      "metadata": {
        "id": "5wv_Wkwfgcnp"
      }
    },
    {
      "cell_type": "markdown",
      "source": [
        "## Tensors and Tensor Operations\n",
        "\n",
        "Tensors are the basic unit in deep learning, which is the fundamental data structure in `torch`.\n",
        "\n",
        "Tensors can be created from almost any collection objects in Python, for instance `lists` and `NumPy` arrays."
      ],
      "metadata": {
        "id": "EuhXeU1yguEy"
      }
    },
    {
      "cell_type": "code",
      "source": [
        "my_lst = [1, 2, 3, 4, 5, 6] ## make sure the list only contains ONE data type\n",
        "lst_tensor = torch.tensor(my_lst)\n",
        "lst_tensor"
      ],
      "metadata": {
        "id": "HU-VYUtJgo3p",
        "colab": {
          "base_uri": "https://localhost:8080/"
        },
        "outputId": "65924657-7273-4f54-fe90-f25ff127d1c3"
      },
      "execution_count": null,
      "outputs": [
        {
          "output_type": "execute_result",
          "data": {
            "text/plain": [
              "tensor([1, 2, 3, 4, 5, 6])"
            ]
          },
          "metadata": {},
          "execution_count": 3
        }
      ]
    },
    {
      "cell_type": "markdown",
      "source": [
        "Converting tensor back to list is not as straightforward, for instance, below code doesn't work as expected."
      ],
      "metadata": {
        "id": "l9x-2_KyhzJ5"
      }
    },
    {
      "cell_type": "code",
      "source": [
        "list(lst_tensor)"
      ],
      "metadata": {
        "id": "7OIndDC0hqNR",
        "colab": {
          "base_uri": "https://localhost:8080/"
        },
        "outputId": "c978b569-9681-4225-bd11-cafa1e3d3e3a"
      },
      "execution_count": null,
      "outputs": [
        {
          "output_type": "execute_result",
          "data": {
            "text/plain": [
              "[tensor(1), tensor(2), tensor(3), tensor(4), tensor(5), tensor(6)]"
            ]
          },
          "metadata": {},
          "execution_count": 4
        }
      ]
    },
    {
      "cell_type": "code",
      "source": [
        "## but this method works!!\n",
        "lst_tensor.tolist()"
      ],
      "metadata": {
        "id": "O5eQi8K9hwd6",
        "colab": {
          "base_uri": "https://localhost:8080/"
        },
        "outputId": "956adbac-c8dc-40fb-c635-ffa06f2febb6"
      },
      "execution_count": null,
      "outputs": [
        {
          "output_type": "execute_result",
          "data": {
            "text/plain": [
              "[1, 2, 3, 4, 5, 6]"
            ]
          },
          "metadata": {},
          "execution_count": 5
        }
      ]
    },
    {
      "cell_type": "markdown",
      "source": [
        "Arrays are more flexible."
      ],
      "metadata": {
        "id": "eV-5De_UiFtv"
      }
    },
    {
      "cell_type": "code",
      "source": [
        "import numpy as np\n",
        "from datetime import date"
      ],
      "metadata": {
        "id": "F0QOwfy-h_A7"
      },
      "execution_count": null,
      "outputs": []
    },
    {
      "cell_type": "code",
      "source": [
        "# get current year\n",
        "year = date.today().year"
      ],
      "metadata": {
        "id": "_qb0QPZwieRA"
      },
      "execution_count": null,
      "outputs": []
    },
    {
      "cell_type": "code",
      "source": [
        "np.random.seed(year) ## make sure the array is replicable\n",
        "my_arr = np.random.rand(10, 10)\n",
        "my_arr"
      ],
      "metadata": {
        "id": "zLjdtzlxiQV2",
        "colab": {
          "base_uri": "https://localhost:8080/"
        },
        "outputId": "02401477-4432-4612-8736-410246e8ffe0"
      },
      "execution_count": null,
      "outputs": [
        {
          "output_type": "execute_result",
          "data": {
            "text/plain": [
              "array([[0.3219883 , 0.89042245, 0.58805226, 0.12659609, 0.14134122,\n",
              "        0.46789559, 0.02208966, 0.72727471, 0.52438734, 0.54493524],\n",
              "       [0.45637326, 0.50138226, 0.39446855, 0.1511723 , 0.36087518,\n",
              "        0.16207701, 0.33795869, 0.18032328, 0.3909914 , 0.03564821],\n",
              "       [0.56486165, 0.20346149, 0.32060446, 0.37656378, 0.18405414,\n",
              "        0.10395184, 0.45492722, 0.19586384, 0.37852542, 0.93053196],\n",
              "       [0.76015971, 0.77076424, 0.59670056, 0.79162115, 0.8103383 ,\n",
              "        0.98055723, 0.88478525, 0.10980113, 0.81971076, 0.30761289],\n",
              "       [0.26149467, 0.40572354, 0.55342038, 0.62552644, 0.07876025,\n",
              "        0.97228343, 0.41131105, 0.7216644 , 0.66328748, 0.21822526],\n",
              "       [0.18717254, 0.72977924, 0.86331326, 0.39172036, 0.11004811,\n",
              "        0.9127915 , 0.35700599, 0.41296218, 0.18354969, 0.58599027],\n",
              "       [0.85567085, 0.78968122, 0.08784242, 0.93299327, 0.49995114,\n",
              "        0.36425699, 0.48360619, 0.51522459, 0.99464347, 0.75340344],\n",
              "       [0.36581992, 0.61137308, 0.41961135, 0.09167672, 0.53485392,\n",
              "        0.34076422, 0.01834099, 0.60345262, 0.92180617, 0.28136413],\n",
              "       [0.83480098, 0.54962266, 0.02179102, 0.34705989, 0.55003479,\n",
              "        0.01320563, 0.71589271, 0.18977701, 0.74246707, 0.62943137],\n",
              "       [0.36218393, 0.62702939, 0.51488475, 0.89490732, 0.51866543,\n",
              "        0.60740918, 0.474816  , 0.7095907 , 0.11524271, 0.73279407]])"
            ]
          },
          "metadata": {},
          "execution_count": 8
        }
      ]
    },
    {
      "cell_type": "code",
      "source": [
        "my_arr.shape # (10, 10)"
      ],
      "metadata": {
        "id": "96zE8NgJiq3e",
        "colab": {
          "base_uri": "https://localhost:8080/"
        },
        "outputId": "14f1afb5-209d-408e-b7d4-47a19b4aa0c4"
      },
      "execution_count": null,
      "outputs": [
        {
          "output_type": "execute_result",
          "data": {
            "text/plain": [
              "(10, 10)"
            ]
          },
          "metadata": {},
          "execution_count": 9
        }
      ]
    },
    {
      "cell_type": "code",
      "source": [
        "arr_tensor = torch.tensor(my_arr)\n",
        "type(arr_tensor) # torch.Tensor"
      ],
      "metadata": {
        "id": "27529XFHjMs6",
        "colab": {
          "base_uri": "https://localhost:8080/"
        },
        "outputId": "039d4037-00b9-46d1-dbac-27953f5ec2ed"
      },
      "execution_count": null,
      "outputs": [
        {
          "output_type": "execute_result",
          "data": {
            "text/plain": [
              "torch.Tensor"
            ]
          },
          "metadata": {},
          "execution_count": 10
        }
      ]
    },
    {
      "cell_type": "code",
      "source": [
        "arr_tensor.numpy() ### arr_tensor.detach().cpu().numpy()"
      ],
      "metadata": {
        "colab": {
          "base_uri": "https://localhost:8080/"
        },
        "id": "mdPeruITakGK",
        "outputId": "4831f2d9-cd54-4896-d340-4c4c3ef02119"
      },
      "execution_count": null,
      "outputs": [
        {
          "output_type": "execute_result",
          "data": {
            "text/plain": [
              "array([[0.3219883 , 0.89042245, 0.58805226, 0.12659609, 0.14134122,\n",
              "        0.46789559, 0.02208966, 0.72727471, 0.52438734, 0.54493524],\n",
              "       [0.45637326, 0.50138226, 0.39446855, 0.1511723 , 0.36087518,\n",
              "        0.16207701, 0.33795869, 0.18032328, 0.3909914 , 0.03564821],\n",
              "       [0.56486165, 0.20346149, 0.32060446, 0.37656378, 0.18405414,\n",
              "        0.10395184, 0.45492722, 0.19586384, 0.37852542, 0.93053196],\n",
              "       [0.76015971, 0.77076424, 0.59670056, 0.79162115, 0.8103383 ,\n",
              "        0.98055723, 0.88478525, 0.10980113, 0.81971076, 0.30761289],\n",
              "       [0.26149467, 0.40572354, 0.55342038, 0.62552644, 0.07876025,\n",
              "        0.97228343, 0.41131105, 0.7216644 , 0.66328748, 0.21822526],\n",
              "       [0.18717254, 0.72977924, 0.86331326, 0.39172036, 0.11004811,\n",
              "        0.9127915 , 0.35700599, 0.41296218, 0.18354969, 0.58599027],\n",
              "       [0.85567085, 0.78968122, 0.08784242, 0.93299327, 0.49995114,\n",
              "        0.36425699, 0.48360619, 0.51522459, 0.99464347, 0.75340344],\n",
              "       [0.36581992, 0.61137308, 0.41961135, 0.09167672, 0.53485392,\n",
              "        0.34076422, 0.01834099, 0.60345262, 0.92180617, 0.28136413],\n",
              "       [0.83480098, 0.54962266, 0.02179102, 0.34705989, 0.55003479,\n",
              "        0.01320563, 0.71589271, 0.18977701, 0.74246707, 0.62943137],\n",
              "       [0.36218393, 0.62702939, 0.51488475, 0.89490732, 0.51866543,\n",
              "        0.60740918, 0.474816  , 0.7095907 , 0.11524271, 0.73279407]])"
            ]
          },
          "metadata": {},
          "execution_count": 11
        }
      ]
    },
    {
      "cell_type": "markdown",
      "source": [
        "The first operation we often use is `mean`. Similar to `NumPy` we can get the mean along any dimensions.\n",
        "\n",
        "Similarly you can do `max` or `min` or `std`."
      ],
      "metadata": {
        "id": "YOApXPB0jD7i"
      }
    },
    {
      "cell_type": "code",
      "source": [
        "## mean of whole matrix\n",
        "torch.mean(arr_tensor) # 0d-tensor, one scalar number"
      ],
      "metadata": {
        "id": "c9RiPzdXi7JV",
        "colab": {
          "base_uri": "https://localhost:8080/"
        },
        "outputId": "c615fd2b-6ec8-4a66-e6c8-08ee88b93595"
      },
      "execution_count": null,
      "outputs": [
        {
          "output_type": "execute_result",
          "data": {
            "text/plain": [
              "tensor(0.4814, dtype=torch.float64)"
            ]
          },
          "metadata": {},
          "execution_count": 12
        }
      ]
    },
    {
      "cell_type": "code",
      "source": [
        "## mean along dimension of 0 - rows\n",
        "torch.mean(arr_tensor, dim=0)"
      ],
      "metadata": {
        "id": "Plua87QqjcSe",
        "colab": {
          "base_uri": "https://localhost:8080/"
        },
        "outputId": "7a5aa24d-72e4-4f23-f4df-93a3aeb4e92e"
      },
      "execution_count": null,
      "outputs": [
        {
          "output_type": "execute_result",
          "data": {
            "text/plain": [
              "tensor([0.4971, 0.6079, 0.4361, 0.4730, 0.3789, 0.4925, 0.4161, 0.4366, 0.5735,\n",
              "        0.5020], dtype=torch.float64)"
            ]
          },
          "metadata": {},
          "execution_count": 13
        }
      ]
    },
    {
      "cell_type": "code",
      "source": [
        "## mean along dimension of 1 - cols\n",
        "torch.mean(arr_tensor, dim=1)"
      ],
      "metadata": {
        "id": "o2LGUMcwjqrX",
        "colab": {
          "base_uri": "https://localhost:8080/"
        },
        "outputId": "3206fb70-051f-47f6-da29-6d2cca795cae"
      },
      "execution_count": null,
      "outputs": [
        {
          "output_type": "execute_result",
          "data": {
            "text/plain": [
              "tensor([0.4355, 0.2971, 0.3713, 0.6832, 0.4912, 0.4734, 0.6277, 0.4189, 0.4594,\n",
              "        0.5558], dtype=torch.float64)"
            ]
          },
          "metadata": {},
          "execution_count": 14
        }
      ]
    },
    {
      "cell_type": "markdown",
      "source": [
        "__PRO TIP__: why do we want to do these things in `torch` rather than `NumPy`? Since we can use the __GPU__. If your data is big then the calculation is day and night."
      ],
      "metadata": {
        "id": "St6OCVddqZe7"
      }
    },
    {
      "cell_type": "code",
      "source": [
        "# %%timeit\n",
        "# for i in range(100):\n",
        "#   embs = torch.tensor(np.random.rand(1000, 256, 768)).to(device) ## .to(\"cuda\")/.to(\"cpu\")\n",
        "#   res = torch.mean(embs, dim=1)"
      ],
      "metadata": {
        "id": "0QWt1yObqo9E"
      },
      "execution_count": null,
      "outputs": []
    },
    {
      "cell_type": "code",
      "source": [
        "# %%timeit\n",
        "# for i in range(100):\n",
        "#   res = np.mean(np.random.rand(1000, 256, 768), axis=1)"
      ],
      "metadata": {
        "id": "f0W7V1hcrmye"
      },
      "execution_count": null,
      "outputs": []
    },
    {
      "cell_type": "markdown",
      "source": [
        "Another operation we always use is `stack`. For instance, if you have a list of 1D tensors, you can stack them into a 2D tensor.\n",
        "\n",
        "__Note__: `torch` requires the tensors to be stacked to have the same shape along the dimension to be stacked. Use the 1D tensor example, all tensors should have the same length (shape at dim `0`)."
      ],
      "metadata": {
        "id": "31k807Z3j_pL"
      }
    },
    {
      "cell_type": "code",
      "source": [
        "# list(arr_tensor) makes a list of 10 1D tensors, each with the length of 10\n",
        "\n",
        "torch.stack(list(arr_tensor)).shape # (10, 10)"
      ],
      "metadata": {
        "id": "4pl_7RbKjuHJ",
        "colab": {
          "base_uri": "https://localhost:8080/"
        },
        "outputId": "c26e6374-7fee-40bf-aa25-acc5273bc6c4"
      },
      "execution_count": null,
      "outputs": [
        {
          "output_type": "execute_result",
          "data": {
            "text/plain": [
              "torch.Size([10, 10])"
            ]
          },
          "metadata": {},
          "execution_count": 17
        }
      ]
    },
    {
      "cell_type": "markdown",
      "source": [
        "Since they are 1D tensors, you can use the default `dim=0` argument with stack, if it's not the case, make sure you change it."
      ],
      "metadata": {
        "id": "6k7RXTq0lCJC"
      }
    },
    {
      "cell_type": "code",
      "source": [
        "torch.stack(list(arr_tensor), dim=1) ## is the transpose of the 2D tensor above"
      ],
      "metadata": {
        "id": "fmYDmym2kq57",
        "colab": {
          "base_uri": "https://localhost:8080/"
        },
        "outputId": "eb93d86d-a7b4-4ded-a3e6-c2a66b2654a6"
      },
      "execution_count": null,
      "outputs": [
        {
          "output_type": "execute_result",
          "data": {
            "text/plain": [
              "tensor([[0.3220, 0.4564, 0.5649, 0.7602, 0.2615, 0.1872, 0.8557, 0.3658, 0.8348,\n",
              "         0.3622],\n",
              "        [0.8904, 0.5014, 0.2035, 0.7708, 0.4057, 0.7298, 0.7897, 0.6114, 0.5496,\n",
              "         0.6270],\n",
              "        [0.5881, 0.3945, 0.3206, 0.5967, 0.5534, 0.8633, 0.0878, 0.4196, 0.0218,\n",
              "         0.5149],\n",
              "        [0.1266, 0.1512, 0.3766, 0.7916, 0.6255, 0.3917, 0.9330, 0.0917, 0.3471,\n",
              "         0.8949],\n",
              "        [0.1413, 0.3609, 0.1841, 0.8103, 0.0788, 0.1100, 0.5000, 0.5349, 0.5500,\n",
              "         0.5187],\n",
              "        [0.4679, 0.1621, 0.1040, 0.9806, 0.9723, 0.9128, 0.3643, 0.3408, 0.0132,\n",
              "         0.6074],\n",
              "        [0.0221, 0.3380, 0.4549, 0.8848, 0.4113, 0.3570, 0.4836, 0.0183, 0.7159,\n",
              "         0.4748],\n",
              "        [0.7273, 0.1803, 0.1959, 0.1098, 0.7217, 0.4130, 0.5152, 0.6035, 0.1898,\n",
              "         0.7096],\n",
              "        [0.5244, 0.3910, 0.3785, 0.8197, 0.6633, 0.1835, 0.9946, 0.9218, 0.7425,\n",
              "         0.1152],\n",
              "        [0.5449, 0.0356, 0.9305, 0.3076, 0.2182, 0.5860, 0.7534, 0.2814, 0.6294,\n",
              "         0.7328]], dtype=torch.float64)"
            ]
          },
          "metadata": {},
          "execution_count": 18
        }
      ]
    },
    {
      "cell_type": "code",
      "source": [
        "torch.equal(torch.stack(list(arr_tensor)).T, torch.stack(list(arr_tensor), dim=1))"
      ],
      "metadata": {
        "colab": {
          "base_uri": "https://localhost:8080/"
        },
        "id": "i8z-hLGClIjm",
        "outputId": "6e09ac0a-4d45-402b-83db-62d6a44134b7"
      },
      "execution_count": null,
      "outputs": [
        {
          "output_type": "execute_result",
          "data": {
            "text/plain": [
              "True"
            ]
          },
          "metadata": {},
          "execution_count": 19
        }
      ]
    },
    {
      "cell_type": "markdown",
      "source": [
        "Another similar operation we use is `cat` (short for concatennate). If we concatenate a list of 10 1D tensors of length 10, we get a 1D tensor of (1,100)."
      ],
      "metadata": {
        "id": "vJM-TVzZlsxJ"
      }
    },
    {
      "cell_type": "code",
      "source": [
        "torch.cat(list(arr_tensor)).shape # 100, or (1,100) can also use arr_tensor.flatten()"
      ],
      "metadata": {
        "id": "7AmxU1KalbRH",
        "colab": {
          "base_uri": "https://localhost:8080/"
        },
        "outputId": "21a4dbad-b87e-4566-864a-2e49be405227"
      },
      "execution_count": null,
      "outputs": [
        {
          "output_type": "execute_result",
          "data": {
            "text/plain": [
              "torch.Size([100])"
            ]
          },
          "metadata": {},
          "execution_count": 20
        }
      ]
    },
    {
      "cell_type": "markdown",
      "source": [
        "__Note__: make sure you know what shape you want your tensor in, before you choose between `stack` and `cat`."
      ],
      "metadata": {
        "id": "mBIL4Y5mmHm2"
      }
    },
    {
      "cell_type": "markdown",
      "source": [
        "### Exercise 1:\n",
        "\n",
        "Complete the following tasks."
      ],
      "metadata": {
        "id": "acp7cyCdmZnQ"
      }
    },
    {
      "cell_type": "code",
      "source": [
        "my_2d_arrays = [torch.tensor(np.random.rand(3,2)) for i in range(3)]\n",
        "len(my_2d_arrays), my_2d_arrays[0].shape # 3 and (3,2)"
      ],
      "metadata": {
        "id": "GgftGrPgl3pS",
        "colab": {
          "base_uri": "https://localhost:8080/"
        },
        "outputId": "095ad907-53ac-4ec2-ffd8-b9b42d7166e7"
      },
      "execution_count": null,
      "outputs": [
        {
          "output_type": "execute_result",
          "data": {
            "text/plain": [
              "(3, torch.Size([3, 2]))"
            ]
          },
          "metadata": {},
          "execution_count": 21
        }
      ]
    },
    {
      "cell_type": "markdown",
      "source": [
        "__TASK 1__: use proper operation to result a tensor with the shape of (9,2)."
      ],
      "metadata": {
        "id": "104uMVy1nL-j"
      }
    },
    {
      "cell_type": "code",
      "source": [
        "torch.cat(my_2d_arrays).shape"
      ],
      "metadata": {
        "id": "DBeLZSPEmsLX",
        "colab": {
          "base_uri": "https://localhost:8080/"
        },
        "outputId": "fd26bb40-e294-4f08-cb7a-67b97513e47a"
      },
      "execution_count": null,
      "outputs": [
        {
          "output_type": "execute_result",
          "data": {
            "text/plain": [
              "torch.Size([9, 2])"
            ]
          },
          "metadata": {},
          "execution_count": 22
        }
      ]
    },
    {
      "cell_type": "markdown",
      "source": [
        "__TASK 2__: use proper operation to result a tensor with the shape of (3,3,2)."
      ],
      "metadata": {
        "id": "HhnDV5InnXHx"
      }
    },
    {
      "cell_type": "code",
      "source": [
        "torch.stack(my_2d_arrays).shape"
      ],
      "metadata": {
        "id": "FelvhT6inCPx",
        "colab": {
          "base_uri": "https://localhost:8080/"
        },
        "outputId": "b8ac7cf8-465d-415d-cdfb-5c8ef82c6d3f"
      },
      "execution_count": null,
      "outputs": [
        {
          "output_type": "execute_result",
          "data": {
            "text/plain": [
              "torch.Size([3, 3, 2])"
            ]
          },
          "metadata": {},
          "execution_count": 23
        }
      ]
    },
    {
      "cell_type": "markdown",
      "source": [
        "__TASK 3__: calculate the means of each of the 3 original tensors, along the dimension of 1.\n",
        "\n",
        "__HINT__: your result should have a shape of `(3,2)`.\n",
        "\n",
        "__Challenge__: do it in one line."
      ],
      "metadata": {
        "id": "3P47oAAJoGbd"
      }
    },
    {
      "cell_type": "code",
      "source": [
        "torch.stack([torch.mean(t, dim=0) for t in my_2d_arrays])"
      ],
      "metadata": {
        "colab": {
          "base_uri": "https://localhost:8080/"
        },
        "id": "MTMAqhu9iamH",
        "outputId": "1c7682bb-cafb-48de-99a5-d1c97a625710"
      },
      "execution_count": null,
      "outputs": [
        {
          "output_type": "execute_result",
          "data": {
            "text/plain": [
              "tensor([[0.8434, 0.4399],\n",
              "        [0.5154, 0.4258],\n",
              "        [0.5393, 0.6311]], dtype=torch.float64)"
            ]
          },
          "metadata": {},
          "execution_count": 24
        }
      ]
    },
    {
      "cell_type": "code",
      "source": [
        "torch.mean(torch.stack(my_2d_arrays), dim=1)"
      ],
      "metadata": {
        "id": "lWjCk2OvoBaz",
        "colab": {
          "base_uri": "https://localhost:8080/"
        },
        "outputId": "25fd61d7-dae8-4f78-f841-435aeab49496"
      },
      "execution_count": null,
      "outputs": [
        {
          "output_type": "execute_result",
          "data": {
            "text/plain": [
              "tensor([[0.8434, 0.4399],\n",
              "        [0.5154, 0.4258],\n",
              "        [0.5393, 0.6311]], dtype=torch.float64)"
            ]
          },
          "metadata": {},
          "execution_count": 25
        }
      ]
    },
    {
      "cell_type": "markdown",
      "source": [
        "The next group of operations has to do with the shape of the tensors.\n",
        "\n",
        "The first one is our old friend `.reshape()`, just make sure the new shape is compatible with the old one."
      ],
      "metadata": {
        "id": "AtjkrYxjpvbv"
      }
    },
    {
      "cell_type": "code",
      "source": [
        "arr_tensor.reshape(2,50)"
      ],
      "metadata": {
        "id": "Wl4YaFbCokmf",
        "colab": {
          "base_uri": "https://localhost:8080/"
        },
        "outputId": "46db9d03-0745-40f4-b45c-1a5927f1d914"
      },
      "execution_count": null,
      "outputs": [
        {
          "output_type": "execute_result",
          "data": {
            "text/plain": [
              "tensor([[0.3220, 0.8904, 0.5881, 0.1266, 0.1413, 0.4679, 0.0221, 0.7273, 0.5244,\n",
              "         0.5449, 0.4564, 0.5014, 0.3945, 0.1512, 0.3609, 0.1621, 0.3380, 0.1803,\n",
              "         0.3910, 0.0356, 0.5649, 0.2035, 0.3206, 0.3766, 0.1841, 0.1040, 0.4549,\n",
              "         0.1959, 0.3785, 0.9305, 0.7602, 0.7708, 0.5967, 0.7916, 0.8103, 0.9806,\n",
              "         0.8848, 0.1098, 0.8197, 0.3076, 0.2615, 0.4057, 0.5534, 0.6255, 0.0788,\n",
              "         0.9723, 0.4113, 0.7217, 0.6633, 0.2182],\n",
              "        [0.1872, 0.7298, 0.8633, 0.3917, 0.1100, 0.9128, 0.3570, 0.4130, 0.1835,\n",
              "         0.5860, 0.8557, 0.7897, 0.0878, 0.9330, 0.5000, 0.3643, 0.4836, 0.5152,\n",
              "         0.9946, 0.7534, 0.3658, 0.6114, 0.4196, 0.0917, 0.5349, 0.3408, 0.0183,\n",
              "         0.6035, 0.9218, 0.2814, 0.8348, 0.5496, 0.0218, 0.3471, 0.5500, 0.0132,\n",
              "         0.7159, 0.1898, 0.7425, 0.6294, 0.3622, 0.6270, 0.5149, 0.8949, 0.5187,\n",
              "         0.6074, 0.4748, 0.7096, 0.1152, 0.7328]], dtype=torch.float64)"
            ]
          },
          "metadata": {},
          "execution_count": 26
        }
      ]
    },
    {
      "cell_type": "markdown",
      "source": [
        "We can also use operations like `squeeze` and `unsequeeze`.\n",
        "\n",
        "- `squeeze` will remove any dimension that has the length of `1` in your tensor;\n",
        "- `unsqueeze` will add a dimension with the length of `1` in the indicated location."
      ],
      "metadata": {
        "id": "qkUDBlbvuiXa"
      }
    },
    {
      "cell_type": "code",
      "source": [
        "x = torch.zeros(2,1,3,1,2)\n",
        "x.size()"
      ],
      "metadata": {
        "id": "2oP46w83pprY",
        "colab": {
          "base_uri": "https://localhost:8080/"
        },
        "outputId": "cb6d8bba-9a1d-47ce-f683-1e523194f63a"
      },
      "execution_count": null,
      "outputs": [
        {
          "output_type": "execute_result",
          "data": {
            "text/plain": [
              "torch.Size([2, 1, 3, 1, 2])"
            ]
          },
          "metadata": {},
          "execution_count": 27
        }
      ]
    },
    {
      "cell_type": "code",
      "source": [
        "y = torch.squeeze(x)\n",
        "y.size()"
      ],
      "metadata": {
        "id": "sr2cyZ-yup5t",
        "colab": {
          "base_uri": "https://localhost:8080/"
        },
        "outputId": "10c7b8d3-0de8-4620-b525-78bab03c28c7"
      },
      "execution_count": null,
      "outputs": [
        {
          "output_type": "execute_result",
          "data": {
            "text/plain": [
              "torch.Size([2, 3, 2])"
            ]
          },
          "metadata": {},
          "execution_count": 28
        }
      ]
    },
    {
      "cell_type": "code",
      "source": [
        "torch.squeeze(x,0).shape # dim 0 doesn't have length of 1 so squeeze doesn't work"
      ],
      "metadata": {
        "id": "yXx1WRd2vTi5",
        "colab": {
          "base_uri": "https://localhost:8080/"
        },
        "outputId": "cff64b29-f6b0-42f3-a887-e7f24d5e68f4"
      },
      "execution_count": null,
      "outputs": [
        {
          "output_type": "execute_result",
          "data": {
            "text/plain": [
              "torch.Size([2, 1, 3, 1, 2])"
            ]
          },
          "metadata": {},
          "execution_count": 29
        }
      ]
    },
    {
      "cell_type": "code",
      "source": [
        "torch.squeeze(x,1).shape # dim 1 has length of 1 so squeeze worked"
      ],
      "metadata": {
        "id": "s_xTIMIwval6",
        "colab": {
          "base_uri": "https://localhost:8080/"
        },
        "outputId": "194e3a46-cbe4-4fba-b3ad-83f5c87dbb93"
      },
      "execution_count": null,
      "outputs": [
        {
          "output_type": "execute_result",
          "data": {
            "text/plain": [
              "torch.Size([2, 3, 1, 2])"
            ]
          },
          "metadata": {},
          "execution_count": 30
        }
      ]
    },
    {
      "cell_type": "code",
      "source": [
        "torch.squeeze(x,(1, 2, 3)).shape # dim 2 doesn't have length of 1 so squeeze doesn't work"
      ],
      "metadata": {
        "id": "RAsKgu2XvmMT",
        "colab": {
          "base_uri": "https://localhost:8080/"
        },
        "outputId": "149f29a3-5e07-42df-f421-8eda758ab2d0"
      },
      "execution_count": null,
      "outputs": [
        {
          "output_type": "execute_result",
          "data": {
            "text/plain": [
              "torch.Size([2, 3, 2])"
            ]
          },
          "metadata": {},
          "execution_count": 31
        }
      ]
    },
    {
      "cell_type": "markdown",
      "source": [
        "`unsqueeze` works the opposite."
      ],
      "metadata": {
        "id": "TMcl3q3owAHO"
      }
    },
    {
      "cell_type": "code",
      "source": [
        "torch.unsqueeze(y, 1).shape"
      ],
      "metadata": {
        "id": "5PSjceFbvvYK",
        "colab": {
          "base_uri": "https://localhost:8080/"
        },
        "outputId": "0455dbcc-b2e6-44ac-996f-9e5e9be7ac89"
      },
      "execution_count": null,
      "outputs": [
        {
          "output_type": "execute_result",
          "data": {
            "text/plain": [
              "torch.Size([2, 1, 3, 2])"
            ]
          },
          "metadata": {},
          "execution_count": 32
        }
      ]
    },
    {
      "cell_type": "code",
      "source": [
        "torch.unsqueeze(y, 0).shape"
      ],
      "metadata": {
        "id": "_bv2gc8Tv_Hp",
        "colab": {
          "base_uri": "https://localhost:8080/"
        },
        "outputId": "fba55270-3009-427b-b70c-49e70799363a"
      },
      "execution_count": null,
      "outputs": [
        {
          "output_type": "execute_result",
          "data": {
            "text/plain": [
              "torch.Size([1, 2, 3, 2])"
            ]
          },
          "metadata": {},
          "execution_count": 33
        }
      ]
    },
    {
      "cell_type": "code",
      "source": [
        "torch.unsqueeze(y, (1, 3)) ## doesn't work, you can only unsqueeze one dim at a time"
      ],
      "metadata": {
        "id": "JCvZsFMTwHoi",
        "colab": {
          "base_uri": "https://localhost:8080/",
          "height": 187
        },
        "outputId": "c806b144-dfb8-4c44-b757-f7044829c7fb"
      },
      "execution_count": null,
      "outputs": [
        {
          "output_type": "error",
          "ename": "TypeError",
          "evalue": "ignored",
          "traceback": [
            "\u001b[0;31m---------------------------------------------------------------------------\u001b[0m",
            "\u001b[0;31mTypeError\u001b[0m                                 Traceback (most recent call last)",
            "\u001b[0;32m<ipython-input-34-22caf8884950>\u001b[0m in \u001b[0;36m<cell line: 1>\u001b[0;34m()\u001b[0m\n\u001b[0;32m----> 1\u001b[0;31m \u001b[0mtorch\u001b[0m\u001b[0;34m.\u001b[0m\u001b[0munsqueeze\u001b[0m\u001b[0;34m(\u001b[0m\u001b[0my\u001b[0m\u001b[0;34m,\u001b[0m \u001b[0;34m(\u001b[0m\u001b[0;36m1\u001b[0m\u001b[0;34m,\u001b[0m \u001b[0;36m3\u001b[0m\u001b[0;34m)\u001b[0m\u001b[0;34m)\u001b[0m \u001b[0;31m## doesn't work, you can only unsqueeze one dim at a time\u001b[0m\u001b[0;34m\u001b[0m\u001b[0;34m\u001b[0m\u001b[0m\n\u001b[0m",
            "\u001b[0;31mTypeError\u001b[0m: unsqueeze(): argument 'dim' (position 2) must be int, not tuple"
          ]
        }
      ]
    },
    {
      "cell_type": "code",
      "source": [
        "# but this will work\n",
        "torch.unsqueeze(torch.unsqueeze(y, 1), 3).shape"
      ],
      "metadata": {
        "id": "Cogf5rIWwQ0a",
        "colab": {
          "base_uri": "https://localhost:8080/"
        },
        "outputId": "86c0bfbe-66cc-4208-924e-8f48fd758c07"
      },
      "execution_count": null,
      "outputs": [
        {
          "output_type": "execute_result",
          "data": {
            "text/plain": [
              "torch.Size([2, 1, 3, 1, 2])"
            ]
          },
          "metadata": {},
          "execution_count": 35
        }
      ]
    },
    {
      "cell_type": "code",
      "source": [
        "torch.equal(torch.unsqueeze(torch.unsqueeze(y, 1), 3), x)"
      ],
      "metadata": {
        "id": "wC-b98cRWBge",
        "colab": {
          "base_uri": "https://localhost:8080/"
        },
        "outputId": "bf4252aa-02d2-4c1e-f020-c3c94cad8593"
      },
      "execution_count": null,
      "outputs": [
        {
          "output_type": "execute_result",
          "data": {
            "text/plain": [
              "True"
            ]
          },
          "metadata": {},
          "execution_count": 36
        }
      ]
    },
    {
      "cell_type": "markdown",
      "source": [
        "Another set of tensor methods/attributes have to do with the __Shape__. Besides the `.shape` method, we can use the `.size()` method and the `.ndim` attribute."
      ],
      "metadata": {
        "id": "MoLE0ym5ZILY"
      }
    },
    {
      "cell_type": "code",
      "source": [
        "## you can investigate the shape in some different ways\n",
        "torch.unsqueeze(torch.unsqueeze(y, 1), 3).size()"
      ],
      "metadata": {
        "id": "JNzt-37qWIXG",
        "colab": {
          "base_uri": "https://localhost:8080/"
        },
        "outputId": "90440eb0-88e8-4435-f2f3-0aa102ea5700"
      },
      "execution_count": null,
      "outputs": [
        {
          "output_type": "execute_result",
          "data": {
            "text/plain": [
              "torch.Size([2, 1, 3, 1, 2])"
            ]
          },
          "metadata": {},
          "execution_count": 37
        }
      ]
    },
    {
      "cell_type": "code",
      "source": [
        "## number of dimensions\n",
        "torch.unsqueeze(torch.unsqueeze(y, 1), 3).ndim"
      ],
      "metadata": {
        "id": "NpnP0dIrWk9B",
        "colab": {
          "base_uri": "https://localhost:8080/"
        },
        "outputId": "311c3deb-69be-4209-c7e5-b17e3c88d3ae"
      },
      "execution_count": null,
      "outputs": [
        {
          "output_type": "execute_result",
          "data": {
            "text/plain": [
              "5"
            ]
          },
          "metadata": {},
          "execution_count": 38
        }
      ]
    },
    {
      "cell_type": "markdown",
      "source": [
        "The last group of tensor operations has to do with the gradients (and back propagation). `torch` provided a [very nice tutorial](https://colab.research.google.com/github/pytorch/tutorials/blob/gh-pages/_downloads/ad7e62b138c384adac98888ce94ff659/autogradqs_tutorial.ipynb) for it.\n",
        "\n",
        "\n",
        "\n",
        "---\n",
        "\n"
      ],
      "metadata": {
        "id": "Jp1Ffg8bgZ0r"
      }
    },
    {
      "cell_type": "markdown",
      "source": [
        "## Torch `dataset` and `dataloader` Objects\n",
        "\n",
        "`torch` purposely decouple the data from the training process so the code can be less messy. The two main primitives are:\n",
        "- `dataset`: stores data samples (e.g., training, testing, validation). This supports both __pre-loaded__ and your __custom__ datasets.\n",
        "- `dataloader`: wraps an iterable around the `Dataset` to enable easy access to the samples."
      ],
      "metadata": {
        "id": "zlS5tLUBZ7iy"
      }
    },
    {
      "cell_type": "code",
      "source": [
        "from torch.utils.data import Dataset ## this is the dataset class/object\n",
        "from torchvision import datasets ## this include some pre-load datasets vision\n",
        "from torchvision.transforms import ToTensor ## this converts loaded data into tensors\n",
        "import matplotlib.pyplot as plt ## vision data, plotting is important"
      ],
      "metadata": {
        "id": "rHirE4flXwWD"
      },
      "execution_count": null,
      "outputs": []
    },
    {
      "cell_type": "markdown",
      "source": [
        "### Load Data using `dataset`\n",
        "\n",
        "If you want to load a pre-loaded dataset (e.g., `Fashion-MNIST`):"
      ],
      "metadata": {
        "id": "fXacwMsmbNtc"
      }
    },
    {
      "cell_type": "code",
      "source": [
        "## The data comes in pre-split\n",
        "#### TRAINING\n",
        "training_data = datasets.FashionMNIST(\n",
        "    root=\"data\", # change this to the path of your data folder\n",
        "    train=True, # this controls if the set is train\n",
        "    download=True, # if the data does not exist, download it\n",
        "    transform=ToTensor() # transform the data into tensors\n",
        ")\n",
        "\n",
        "#### TESTING\n",
        "test_data = datasets.FashionMNIST(\n",
        "    root=\"data\",\n",
        "    train=False,\n",
        "    download=True,\n",
        "    transform=ToTensor()\n",
        ")"
      ],
      "metadata": {
        "id": "kI6Jjy0objYF",
        "colab": {
          "base_uri": "https://localhost:8080/"
        },
        "outputId": "0c3ba020-e06d-4751-8e0f-013a4c9ac015"
      },
      "execution_count": null,
      "outputs": [
        {
          "output_type": "stream",
          "name": "stdout",
          "text": [
            "Downloading http://fashion-mnist.s3-website.eu-central-1.amazonaws.com/train-images-idx3-ubyte.gz\n",
            "Downloading http://fashion-mnist.s3-website.eu-central-1.amazonaws.com/train-images-idx3-ubyte.gz to data/FashionMNIST/raw/train-images-idx3-ubyte.gz\n"
          ]
        },
        {
          "output_type": "stream",
          "name": "stderr",
          "text": [
            "100%|██████████| 26421880/26421880 [00:01<00:00, 19860696.76it/s]\n"
          ]
        },
        {
          "output_type": "stream",
          "name": "stdout",
          "text": [
            "Extracting data/FashionMNIST/raw/train-images-idx3-ubyte.gz to data/FashionMNIST/raw\n",
            "\n",
            "Downloading http://fashion-mnist.s3-website.eu-central-1.amazonaws.com/train-labels-idx1-ubyte.gz\n",
            "Downloading http://fashion-mnist.s3-website.eu-central-1.amazonaws.com/train-labels-idx1-ubyte.gz to data/FashionMNIST/raw/train-labels-idx1-ubyte.gz\n"
          ]
        },
        {
          "output_type": "stream",
          "name": "stderr",
          "text": [
            "100%|██████████| 29515/29515 [00:00<00:00, 334665.79it/s]\n"
          ]
        },
        {
          "output_type": "stream",
          "name": "stdout",
          "text": [
            "Extracting data/FashionMNIST/raw/train-labels-idx1-ubyte.gz to data/FashionMNIST/raw\n",
            "\n",
            "Downloading http://fashion-mnist.s3-website.eu-central-1.amazonaws.com/t10k-images-idx3-ubyte.gz\n",
            "Downloading http://fashion-mnist.s3-website.eu-central-1.amazonaws.com/t10k-images-idx3-ubyte.gz to data/FashionMNIST/raw/t10k-images-idx3-ubyte.gz\n"
          ]
        },
        {
          "output_type": "stream",
          "name": "stderr",
          "text": [
            "100%|██████████| 4422102/4422102 [00:00<00:00, 6113148.21it/s]\n"
          ]
        },
        {
          "output_type": "stream",
          "name": "stdout",
          "text": [
            "Extracting data/FashionMNIST/raw/t10k-images-idx3-ubyte.gz to data/FashionMNIST/raw\n",
            "\n",
            "Downloading http://fashion-mnist.s3-website.eu-central-1.amazonaws.com/t10k-labels-idx1-ubyte.gz\n",
            "Downloading http://fashion-mnist.s3-website.eu-central-1.amazonaws.com/t10k-labels-idx1-ubyte.gz to data/FashionMNIST/raw/t10k-labels-idx1-ubyte.gz\n"
          ]
        },
        {
          "output_type": "stream",
          "name": "stderr",
          "text": [
            "100%|██████████| 5148/5148 [00:00<00:00, 6720285.40it/s]"
          ]
        },
        {
          "output_type": "stream",
          "name": "stdout",
          "text": [
            "Extracting data/FashionMNIST/raw/t10k-labels-idx1-ubyte.gz to data/FashionMNIST/raw\n",
            "\n"
          ]
        },
        {
          "output_type": "stream",
          "name": "stderr",
          "text": [
            "\n"
          ]
        }
      ]
    },
    {
      "cell_type": "markdown",
      "source": [
        "We can index `Datasets` manually like a `list`: `training_data[index]`."
      ],
      "metadata": {
        "id": "srTXurOQcLSO"
      }
    },
    {
      "cell_type": "code",
      "source": [
        "training_data"
      ],
      "metadata": {
        "id": "GYIBkjDRnG54"
      },
      "execution_count": null,
      "outputs": []
    },
    {
      "cell_type": "code",
      "source": [
        "training_data[0]"
      ],
      "metadata": {
        "id": "rQWyj-7LcB08",
        "colab": {
          "base_uri": "https://localhost:8080/"
        },
        "outputId": "0dc0987c-5838-468b-84cd-78ec24be0e9d"
      },
      "execution_count": null,
      "outputs": [
        {
          "output_type": "execute_result",
          "data": {
            "text/plain": [
              "(tensor([[[0.0000, 0.0000, 0.0000, 0.0000, 0.0000, 0.0000, 0.0000, 0.0000,\n",
              "           0.0000, 0.0000, 0.0000, 0.0000, 0.0000, 0.0000, 0.0000, 0.0000,\n",
              "           0.0000, 0.0000, 0.0000, 0.0000, 0.0000, 0.0000, 0.0000, 0.0000,\n",
              "           0.0000, 0.0000, 0.0000, 0.0000],\n",
              "          [0.0000, 0.0000, 0.0000, 0.0000, 0.0000, 0.0000, 0.0000, 0.0000,\n",
              "           0.0000, 0.0000, 0.0000, 0.0000, 0.0000, 0.0000, 0.0000, 0.0000,\n",
              "           0.0000, 0.0000, 0.0000, 0.0000, 0.0000, 0.0000, 0.0000, 0.0000,\n",
              "           0.0000, 0.0000, 0.0000, 0.0000],\n",
              "          [0.0000, 0.0000, 0.0000, 0.0000, 0.0000, 0.0000, 0.0000, 0.0000,\n",
              "           0.0000, 0.0000, 0.0000, 0.0000, 0.0000, 0.0000, 0.0000, 0.0000,\n",
              "           0.0000, 0.0000, 0.0000, 0.0000, 0.0000, 0.0000, 0.0000, 0.0000,\n",
              "           0.0000, 0.0000, 0.0000, 0.0000],\n",
              "          [0.0000, 0.0000, 0.0000, 0.0000, 0.0000, 0.0000, 0.0000, 0.0000,\n",
              "           0.0000, 0.0000, 0.0000, 0.0000, 0.0039, 0.0000, 0.0000, 0.0510,\n",
              "           0.2863, 0.0000, 0.0000, 0.0039, 0.0157, 0.0000, 0.0000, 0.0000,\n",
              "           0.0000, 0.0039, 0.0039, 0.0000],\n",
              "          [0.0000, 0.0000, 0.0000, 0.0000, 0.0000, 0.0000, 0.0000, 0.0000,\n",
              "           0.0000, 0.0000, 0.0000, 0.0000, 0.0118, 0.0000, 0.1412, 0.5333,\n",
              "           0.4980, 0.2431, 0.2118, 0.0000, 0.0000, 0.0000, 0.0039, 0.0118,\n",
              "           0.0157, 0.0000, 0.0000, 0.0118],\n",
              "          [0.0000, 0.0000, 0.0000, 0.0000, 0.0000, 0.0000, 0.0000, 0.0000,\n",
              "           0.0000, 0.0000, 0.0000, 0.0000, 0.0235, 0.0000, 0.4000, 0.8000,\n",
              "           0.6902, 0.5255, 0.5647, 0.4824, 0.0902, 0.0000, 0.0000, 0.0000,\n",
              "           0.0000, 0.0471, 0.0392, 0.0000],\n",
              "          [0.0000, 0.0000, 0.0000, 0.0000, 0.0000, 0.0000, 0.0000, 0.0000,\n",
              "           0.0000, 0.0000, 0.0000, 0.0000, 0.0000, 0.0000, 0.6078, 0.9255,\n",
              "           0.8118, 0.6980, 0.4196, 0.6118, 0.6314, 0.4275, 0.2510, 0.0902,\n",
              "           0.3020, 0.5098, 0.2824, 0.0588],\n",
              "          [0.0000, 0.0000, 0.0000, 0.0000, 0.0000, 0.0000, 0.0000, 0.0000,\n",
              "           0.0000, 0.0000, 0.0000, 0.0039, 0.0000, 0.2706, 0.8118, 0.8745,\n",
              "           0.8549, 0.8471, 0.8471, 0.6392, 0.4980, 0.4745, 0.4784, 0.5725,\n",
              "           0.5529, 0.3451, 0.6745, 0.2588],\n",
              "          [0.0000, 0.0000, 0.0000, 0.0000, 0.0000, 0.0000, 0.0000, 0.0000,\n",
              "           0.0000, 0.0039, 0.0039, 0.0039, 0.0000, 0.7843, 0.9098, 0.9098,\n",
              "           0.9137, 0.8980, 0.8745, 0.8745, 0.8431, 0.8353, 0.6431, 0.4980,\n",
              "           0.4824, 0.7686, 0.8980, 0.0000],\n",
              "          [0.0000, 0.0000, 0.0000, 0.0000, 0.0000, 0.0000, 0.0000, 0.0000,\n",
              "           0.0000, 0.0000, 0.0000, 0.0000, 0.0000, 0.7176, 0.8824, 0.8471,\n",
              "           0.8745, 0.8941, 0.9216, 0.8902, 0.8784, 0.8706, 0.8784, 0.8667,\n",
              "           0.8745, 0.9608, 0.6784, 0.0000],\n",
              "          [0.0000, 0.0000, 0.0000, 0.0000, 0.0000, 0.0000, 0.0000, 0.0000,\n",
              "           0.0000, 0.0000, 0.0000, 0.0000, 0.0000, 0.7569, 0.8941, 0.8549,\n",
              "           0.8353, 0.7765, 0.7059, 0.8314, 0.8235, 0.8275, 0.8353, 0.8745,\n",
              "           0.8627, 0.9529, 0.7922, 0.0000],\n",
              "          [0.0000, 0.0000, 0.0000, 0.0000, 0.0000, 0.0000, 0.0000, 0.0000,\n",
              "           0.0000, 0.0039, 0.0118, 0.0000, 0.0471, 0.8588, 0.8627, 0.8314,\n",
              "           0.8549, 0.7529, 0.6627, 0.8902, 0.8157, 0.8549, 0.8784, 0.8314,\n",
              "           0.8863, 0.7725, 0.8196, 0.2039],\n",
              "          [0.0000, 0.0000, 0.0000, 0.0000, 0.0000, 0.0000, 0.0000, 0.0000,\n",
              "           0.0000, 0.0000, 0.0235, 0.0000, 0.3882, 0.9569, 0.8706, 0.8627,\n",
              "           0.8549, 0.7961, 0.7765, 0.8667, 0.8431, 0.8353, 0.8706, 0.8627,\n",
              "           0.9608, 0.4667, 0.6549, 0.2196],\n",
              "          [0.0000, 0.0000, 0.0000, 0.0000, 0.0000, 0.0000, 0.0000, 0.0000,\n",
              "           0.0000, 0.0157, 0.0000, 0.0000, 0.2157, 0.9255, 0.8941, 0.9020,\n",
              "           0.8941, 0.9412, 0.9098, 0.8353, 0.8549, 0.8745, 0.9176, 0.8510,\n",
              "           0.8510, 0.8196, 0.3608, 0.0000],\n",
              "          [0.0000, 0.0000, 0.0039, 0.0157, 0.0235, 0.0275, 0.0078, 0.0000,\n",
              "           0.0000, 0.0000, 0.0000, 0.0000, 0.9294, 0.8863, 0.8510, 0.8745,\n",
              "           0.8706, 0.8588, 0.8706, 0.8667, 0.8471, 0.8745, 0.8980, 0.8431,\n",
              "           0.8549, 1.0000, 0.3020, 0.0000],\n",
              "          [0.0000, 0.0118, 0.0000, 0.0000, 0.0000, 0.0000, 0.0000, 0.0000,\n",
              "           0.0000, 0.2431, 0.5686, 0.8000, 0.8941, 0.8118, 0.8353, 0.8667,\n",
              "           0.8549, 0.8157, 0.8275, 0.8549, 0.8784, 0.8745, 0.8588, 0.8431,\n",
              "           0.8784, 0.9569, 0.6235, 0.0000],\n",
              "          [0.0000, 0.0000, 0.0000, 0.0000, 0.0706, 0.1725, 0.3216, 0.4196,\n",
              "           0.7412, 0.8941, 0.8627, 0.8706, 0.8510, 0.8863, 0.7843, 0.8039,\n",
              "           0.8275, 0.9020, 0.8784, 0.9176, 0.6902, 0.7373, 0.9804, 0.9725,\n",
              "           0.9137, 0.9333, 0.8431, 0.0000],\n",
              "          [0.0000, 0.2235, 0.7333, 0.8157, 0.8784, 0.8667, 0.8784, 0.8157,\n",
              "           0.8000, 0.8392, 0.8157, 0.8196, 0.7843, 0.6235, 0.9608, 0.7569,\n",
              "           0.8078, 0.8745, 1.0000, 1.0000, 0.8667, 0.9176, 0.8667, 0.8275,\n",
              "           0.8627, 0.9098, 0.9647, 0.0000],\n",
              "          [0.0118, 0.7922, 0.8941, 0.8784, 0.8667, 0.8275, 0.8275, 0.8392,\n",
              "           0.8039, 0.8039, 0.8039, 0.8627, 0.9412, 0.3137, 0.5882, 1.0000,\n",
              "           0.8980, 0.8667, 0.7373, 0.6039, 0.7490, 0.8235, 0.8000, 0.8196,\n",
              "           0.8706, 0.8941, 0.8824, 0.0000],\n",
              "          [0.3843, 0.9137, 0.7765, 0.8235, 0.8706, 0.8980, 0.8980, 0.9176,\n",
              "           0.9765, 0.8627, 0.7608, 0.8431, 0.8510, 0.9451, 0.2549, 0.2863,\n",
              "           0.4157, 0.4588, 0.6588, 0.8588, 0.8667, 0.8431, 0.8510, 0.8745,\n",
              "           0.8745, 0.8784, 0.8980, 0.1137],\n",
              "          [0.2941, 0.8000, 0.8314, 0.8000, 0.7569, 0.8039, 0.8275, 0.8824,\n",
              "           0.8471, 0.7255, 0.7725, 0.8078, 0.7765, 0.8353, 0.9412, 0.7647,\n",
              "           0.8902, 0.9608, 0.9373, 0.8745, 0.8549, 0.8314, 0.8196, 0.8706,\n",
              "           0.8627, 0.8667, 0.9020, 0.2627],\n",
              "          [0.1882, 0.7961, 0.7176, 0.7608, 0.8353, 0.7725, 0.7255, 0.7451,\n",
              "           0.7608, 0.7529, 0.7922, 0.8392, 0.8588, 0.8667, 0.8627, 0.9255,\n",
              "           0.8824, 0.8471, 0.7804, 0.8078, 0.7294, 0.7098, 0.6941, 0.6745,\n",
              "           0.7098, 0.8039, 0.8078, 0.4510],\n",
              "          [0.0000, 0.4784, 0.8588, 0.7569, 0.7020, 0.6706, 0.7176, 0.7686,\n",
              "           0.8000, 0.8235, 0.8353, 0.8118, 0.8275, 0.8235, 0.7843, 0.7686,\n",
              "           0.7608, 0.7490, 0.7647, 0.7490, 0.7765, 0.7529, 0.6902, 0.6118,\n",
              "           0.6549, 0.6941, 0.8235, 0.3608],\n",
              "          [0.0000, 0.0000, 0.2902, 0.7412, 0.8314, 0.7490, 0.6863, 0.6745,\n",
              "           0.6863, 0.7098, 0.7255, 0.7373, 0.7412, 0.7373, 0.7569, 0.7765,\n",
              "           0.8000, 0.8196, 0.8235, 0.8235, 0.8275, 0.7373, 0.7373, 0.7608,\n",
              "           0.7529, 0.8471, 0.6667, 0.0000],\n",
              "          [0.0078, 0.0000, 0.0000, 0.0000, 0.2588, 0.7843, 0.8706, 0.9294,\n",
              "           0.9373, 0.9490, 0.9647, 0.9529, 0.9569, 0.8667, 0.8627, 0.7569,\n",
              "           0.7490, 0.7020, 0.7137, 0.7137, 0.7098, 0.6902, 0.6510, 0.6588,\n",
              "           0.3882, 0.2275, 0.0000, 0.0000],\n",
              "          [0.0000, 0.0000, 0.0000, 0.0000, 0.0000, 0.0000, 0.0000, 0.1569,\n",
              "           0.2392, 0.1725, 0.2824, 0.1608, 0.1373, 0.0000, 0.0000, 0.0000,\n",
              "           0.0000, 0.0000, 0.0000, 0.0000, 0.0000, 0.0000, 0.0000, 0.0000,\n",
              "           0.0000, 0.0000, 0.0000, 0.0000],\n",
              "          [0.0000, 0.0000, 0.0000, 0.0000, 0.0000, 0.0000, 0.0000, 0.0000,\n",
              "           0.0000, 0.0000, 0.0000, 0.0000, 0.0000, 0.0000, 0.0000, 0.0000,\n",
              "           0.0000, 0.0000, 0.0000, 0.0000, 0.0000, 0.0000, 0.0000, 0.0000,\n",
              "           0.0000, 0.0000, 0.0000, 0.0000],\n",
              "          [0.0000, 0.0000, 0.0000, 0.0000, 0.0000, 0.0000, 0.0000, 0.0000,\n",
              "           0.0000, 0.0000, 0.0000, 0.0000, 0.0000, 0.0000, 0.0000, 0.0000,\n",
              "           0.0000, 0.0000, 0.0000, 0.0000, 0.0000, 0.0000, 0.0000, 0.0000,\n",
              "           0.0000, 0.0000, 0.0000, 0.0000]]]),\n",
              " 9)"
            ]
          },
          "metadata": {},
          "execution_count": 42
        }
      ]
    },
    {
      "cell_type": "markdown",
      "source": [
        "### Visualing data\n",
        "\n",
        "The sample contains two elements, the first element is the image (processed) and the second is its label (`9`). Using the meta data we can decode the label to the actual class. We use `matplotlib` to visualize some samples in our training data.\n",
        "\n",
        "Supposed we want to visualze the first 9 samples."
      ],
      "metadata": {
        "id": "Ftkrw8nwcg68"
      }
    },
    {
      "cell_type": "code",
      "source": [
        "labels_map = {\n",
        "    0: \"T-Shirt\",\n",
        "    1: \"Trouser\",\n",
        "    2: \"Pullover\",\n",
        "    3: \"Dress\",\n",
        "    4: \"Coat\",\n",
        "    5: \"Sandal\",\n",
        "    6: \"Shirt\",\n",
        "    7: \"Sneaker\",\n",
        "    8: \"Bag\",\n",
        "    9: \"Ankle Boot\",\n",
        "}\n",
        "figure = plt.figure(figsize=(8, 8))\n",
        "cols, rows = 3, 3\n",
        "for i in range(1, cols * rows + 1):\n",
        "    sample_idx = torch.randint(len(training_data), size=(1,)).item()\n",
        "    img, label = training_data[sample_idx]\n",
        "    figure.add_subplot(rows, cols, i)\n",
        "    plt.title(labels_map[label])\n",
        "    plt.axis(\"off\")\n",
        "    plt.imshow(img.squeeze(), cmap=\"gray\")\n",
        "plt.show()"
      ],
      "metadata": {
        "id": "UjptznHicXK5",
        "colab": {
          "base_uri": "https://localhost:8080/",
          "height": 675
        },
        "outputId": "09796155-75ee-4b16-dd76-7658faeebfdf"
      },
      "execution_count": null,
      "outputs": [
        {
          "output_type": "display_data",
          "data": {
            "text/plain": [
              "<Figure size 800x800 with 9 Axes>"
            ],
            "image/png": "[encoded data removed]"
          },
          "metadata": {}
        }
      ]
    },
    {
      "cell_type": "markdown",
      "source": [
        "### What about my own data?\n",
        "\n",
        "__NOTE__: refer to [this](https://pytorch.org/tutorials/beginner/basics/data_tutorial.html#creating-a-custom-dataset-for-your-files) if you need to load your own data. Note that this assumes your labels are in a csv file in the format of `image_name: label`, and all the corresponding images are in __one__ folder.\n",
        "\n",
        "__PRO-TIP__: the common way is we store all image in one folder, but create sub-folders for each class. In that case, you do not have the labels file - need to write your own code to derive the labels."
      ],
      "metadata": {
        "id": "wPahxfCddEnW"
      }
    },
    {
      "cell_type": "markdown",
      "source": [
        "### Preparing your data for training with `DataLoaders`\n",
        "\n",
        "The `Dataset` retrieves our dataset’s features and labels one sample at a time. While training a model, we typically want to pass __multiple__ samples in “minibatches”, reshuffle the data at every epoch to reduce model overfitting, and use Python’s multiprocessing to speed up data retrieval.\n",
        "\n",
        "`DataLoader` is an iterable that abstracts this complexity for us in an easy API.\n",
        "\n",
        "In below examples, we load every 64 images as a batch.\n",
        "\n",
        "__PRO-TIP__:\n",
        "1. Typically we use the same batch size for training and testing data.\n",
        "2. batch size is determined by your memory size, or GPU memory. If you get the out-of-memory error, reduce batch size."
      ],
      "metadata": {
        "id": "cf56V-lCd9U3"
      }
    },
    {
      "cell_type": "code",
      "source": [
        "from torch.utils.data import DataLoader\n",
        "\n",
        "### capitalized variables are global - serve whole notebook\n",
        "BATCH_SIZE = 64\n",
        "## TEST_BATCH_SIZE = 1\n",
        "\n",
        "train_dataloader = DataLoader(training_data, batch_size=BATCH_SIZE, shuffle=True)\n",
        "test_dataloader = DataLoader(test_data, batch_size=BATCH_SIZE, shuffle=True)"
      ],
      "metadata": {
        "id": "qO1rLU79c1Au"
      },
      "execution_count": null,
      "outputs": []
    },
    {
      "cell_type": "markdown",
      "source": [
        "If you need to iterate through the dataloader (although we don't usually do this):"
      ],
      "metadata": {
        "id": "PaiJ3SfdfO4p"
      }
    },
    {
      "cell_type": "code",
      "source": [
        "for batch_data, batch_label in train_dataloader:\n",
        "  # print(batch_data, len(batch_data))\n",
        "  print(batch_label, len(batch_label))\n",
        "  break"
      ],
      "metadata": {
        "id": "4MVLn7O0e3r9",
        "colab": {
          "base_uri": "https://localhost:8080/"
        },
        "outputId": "d7a957d3-af53-4195-98ae-21bc9924ebae"
      },
      "execution_count": null,
      "outputs": [
        {
          "output_type": "stream",
          "name": "stdout",
          "text": [
            "tensor([8, 9, 8, 0, 8, 2, 3, 1, 5, 5, 8, 8, 5, 0, 9, 9, 2, 5, 7, 7, 2, 6, 1, 5,\n",
            "        6, 5, 6, 3, 7, 8, 1, 0, 1, 2, 1, 6, 8, 4, 4, 2, 0, 1, 3, 5, 1, 8, 3, 7,\n",
            "        9, 8, 2, 5, 4, 0, 4, 5, 0, 7, 2, 5, 3, 6, 4, 0]) 64\n"
          ]
        }
      ]
    },
    {
      "cell_type": "markdown",
      "source": [
        "Typically we take one (usually the first) data point from a `dataloader`.\n",
        "\n",
        "This is used when:\n",
        "1. We need to do some EDA; or\n",
        "2. We are tesing the model on one data point."
      ],
      "metadata": {
        "id": "I7I6E4HKfppS"
      }
    },
    {
      "cell_type": "code",
      "source": [
        "# Display image and label.\n",
        "train_features, train_labels = next(iter(train_dataloader))\n",
        "print(f\"Feature batch shape: {train_features.size()}\")\n",
        "print(f\"Labels batch shape: {train_labels.size()}\")\n",
        "img = train_features[0].squeeze()\n",
        "label = train_labels[0]\n",
        "plt.imshow(img, cmap=\"gray\")\n",
        "plt.show()\n",
        "print(f\"Label: {label}\")"
      ],
      "metadata": {
        "id": "9Cb_G3l3fD17",
        "colab": {
          "base_uri": "https://localhost:8080/",
          "height": 484
        },
        "outputId": "94ba4157-1e2a-47cc-ee72-73c4ed345558"
      },
      "execution_count": null,
      "outputs": [
        {
          "output_type": "stream",
          "name": "stdout",
          "text": [
            "Feature batch shape: torch.Size([64, 1, 28, 28])\n",
            "Labels batch shape: torch.Size([64])\n"
          ]
        },
        {
          "output_type": "display_data",
          "data": {
            "text/plain": [
              "<Figure size 640x480 with 1 Axes>"
            ],
            "image/png": "[encoded data removed]"
          },
          "metadata": {}
        },
        {
          "output_type": "stream",
          "name": "stdout",
          "text": [
            "Label: 7\n"
          ]
        }
      ]
    },
    {
      "cell_type": "markdown",
      "source": [
        "#### Answer the following questions:\n",
        "\n",
        "1. Why `train_features[0]`?\n",
        "2. Why do we need `squeeze`? What does it do?"
      ],
      "metadata": {
        "id": "YdvLtgBXgHBe"
      }
    },
    {
      "cell_type": "markdown",
      "source": [
        "Answer:\n",
        "1. we just want the first image\n",
        "2. We want to remove the first dimension"
      ],
      "metadata": {
        "id": "fE99DsrGpp79"
      }
    },
    {
      "cell_type": "markdown",
      "source": [
        "__NOTE__: once we load data in as tensors, we can use abovementioned tensor operations of transform it."
      ],
      "metadata": {
        "id": "ZO5Caoajgmqj"
      }
    },
    {
      "cell_type": "markdown",
      "source": [
        "\n",
        "\n",
        "---\n"
      ],
      "metadata": {
        "id": "iYlpXjLFg5ZC"
      }
    },
    {
      "cell_type": "markdown",
      "source": [
        "## Basic Network with `torch`\n",
        "\n",
        "Unlike `tensorflow`, NNs in `torch` are instances of subclass `nn.Module`. You can think of classes/objects as super variables with its own __functions__ and __methods__.\n",
        "\n",
        "In a `torch` NN, the two important function are:\n",
        "1. `__init__`: which initializes the architecture of the NN; and\n",
        "2. `forward`: which carrys forward propagation (move data through the layers in NN)."
      ],
      "metadata": {
        "id": "xuVdzFQDg_mz"
      }
    },
    {
      "cell_type": "code",
      "source": [
        "from torch import nn\n",
        "\n",
        "class linearNN(nn.Module): ##Parent or Super class\n",
        "    ## model architecture\n",
        "    def __init__(self): ## init creates the class/object\n",
        "        super().__init__() ## super refers to the parent/super class in line 5\n",
        "        self.flatten = nn.Flatten() ## first flatten layer, makes multi dimensional data one dimensional\n",
        "        ## we have two linear layers here\n",
        "        self.linear_relu_stack = nn.Sequential(\n",
        "            nn.Linear(28*28, 512), ## part of 1st layer\n",
        "            nn.ReLU(), ## part of 1st layer\n",
        "            nn.Linear(512, 512), ## 2nd layer\n",
        "            nn.ReLU(), ## 2nd layer\n",
        "            nn.Linear(512, 10), ## 10 output due to 10 classes\n",
        "        )\n",
        "    ## forward prop\n",
        "    def forward(self, x):\n",
        "        x = self.flatten(x)\n",
        "        logits = self.linear_relu_stack(x)\n",
        "        ## pred = nn.Softmax(dim=1)(logits).argmax(1)\n",
        "        return logits ## to check if something is wrong\n",
        "        ## return pred #### predicted class"
      ],
      "metadata": {
        "id": "79S3KqkNgCsn"
      },
      "execution_count": null,
      "outputs": []
    },
    {
      "cell_type": "markdown",
      "source": [
        "In order to use above NN, you need to assign it to a variable.\n",
        "\n",
        "__NOTE__: you can also use the `.to()` method to move it to the GPU (`device`)."
      ],
      "metadata": {
        "id": "69pUhrl8ie1w"
      }
    },
    {
      "cell_type": "code",
      "source": [
        "model = linearNN().to(device)\n",
        "print(model) ## this prints the model architecture"
      ],
      "metadata": {
        "id": "swEQc-HNiaiq",
        "colab": {
          "base_uri": "https://localhost:8080/"
        },
        "outputId": "7b5667d5-4242-4b93-d866-4b8df563e176"
      },
      "execution_count": null,
      "outputs": [
        {
          "output_type": "stream",
          "name": "stdout",
          "text": [
            "linearNN(\n",
            "  (flatten): Flatten(start_dim=1, end_dim=-1)\n",
            "  (linear_relu_stack): Sequential(\n",
            "    (0): Linear(in_features=784, out_features=512, bias=True)\n",
            "    (1): ReLU()\n",
            "    (2): Linear(in_features=512, out_features=512, bias=True)\n",
            "    (3): ReLU()\n",
            "    (4): Linear(in_features=512, out_features=10, bias=True)\n",
            "  )\n",
            ")\n"
          ]
        }
      ]
    },
    {
      "cell_type": "markdown",
      "source": [
        "#### Answer the questions\n",
        "1. How many layers?\n",
        "2. Does each layer have an activation function, if so, what are they?"
      ],
      "metadata": {
        "id": "MhaHYyUgi2wp"
      }
    },
    {
      "cell_type": "markdown",
      "source": [
        "1. 3 layers\n",
        "2. ReLU"
      ],
      "metadata": {
        "id": "eK6ytExXutvh"
      }
    },
    {
      "cell_type": "markdown",
      "source": [
        "To use the model, we pass it the input data. This executes the model’s forward, along with some [background operations](https://github.com/pytorch/pytorch/blob/270111b7b611d174967ed204776985cefca9c144/torch/nn/modules/module.py#L866). Do not call `model.forward()` directly!\n",
        "\n",
        "Calling the model on the input returns a 2-dimensional tensor with `dim=0` corresponding to each output of 10 raw predicted values for each class, and `dim=1` corresponding to the individual values of each output. We get the prediction probabilities by passing it through an instance of the `nn.Softmax` module."
      ],
      "metadata": {
        "id": "juW1ytrkjEq_"
      }
    },
    {
      "cell_type": "code",
      "source": [
        "X = torch.rand(1, 28, 28, device=device) ## random data\n",
        "logits = model(X)\n",
        "logits"
      ],
      "metadata": {
        "id": "PM0cyKULiyLz",
        "colab": {
          "base_uri": "https://localhost:8080/"
        },
        "outputId": "73da23ae-97dd-4a5b-a97c-80d6e4ef5f49"
      },
      "execution_count": null,
      "outputs": [
        {
          "output_type": "execute_result",
          "data": {
            "text/plain": [
              "tensor([[ 0.0475, -0.1213, -0.1402,  0.0498,  0.0773,  0.1418, -0.0136,  0.0036,\n",
              "         -0.0031,  0.0947]], device='cuda:0', grad_fn=<AddmmBackward0>)"
            ]
          },
          "metadata": {},
          "execution_count": 94
        }
      ]
    },
    {
      "cell_type": "markdown",
      "source": [
        "#### Answer the questions\n",
        "1. Can you explain the shape of the input data?\n",
        "2. Based on the `logits`, can you tell me which class is predicted?"
      ],
      "metadata": {
        "id": "L6dt10r3jgiC"
      }
    },
    {
      "cell_type": "code",
      "source": [
        "pred_probab = nn.Softmax(dim=1)(logits)\n",
        "y_pred = pred_probab.argmax(-1)\n",
        "print(f\"Predicted class: {y_pred}\")"
      ],
      "metadata": {
        "id": "bqelQx8wjZ0d",
        "colab": {
          "base_uri": "https://localhost:8080/"
        },
        "outputId": "cb6cc2ce-eb3c-466a-e591-218475be58fa"
      },
      "execution_count": null,
      "outputs": [
        {
          "output_type": "stream",
          "name": "stdout",
          "text": [
            "Predicted class: tensor([5], device='cuda:0')\n"
          ]
        }
      ]
    },
    {
      "cell_type": "code",
      "source": [
        "pred_probab.detach().cpu().numpy().shape"
      ],
      "metadata": {
        "colab": {
          "base_uri": "https://localhost:8080/"
        },
        "id": "I1zILYSSv0lp",
        "outputId": "e46e39a0-ad1c-4b88-f42b-12c14000d9ef"
      },
      "execution_count": null,
      "outputs": [
        {
          "output_type": "execute_result",
          "data": {
            "text/plain": [
              "(1, 10)"
            ]
          },
          "metadata": {},
          "execution_count": 96
        }
      ]
    },
    {
      "cell_type": "markdown",
      "source": [
        "You can also look at the model paraemters - keep in mind we never trained `model` so the parameters are random!"
      ],
      "metadata": {
        "id": "pCDTDa2Kke-u"
      }
    },
    {
      "cell_type": "code",
      "source": [
        "print(f\"Model structure: {model}\\n\\n\")\n",
        "\n",
        "for name, param in model.named_parameters():\n",
        "    print(f\"Layer: {name} | Size: {param.size()} | Values : {param[:2]} \\n\")"
      ],
      "metadata": {
        "id": "mzNXBiTHjqpv",
        "colab": {
          "base_uri": "https://localhost:8080/"
        },
        "outputId": "e68f7cb7-ae06-41e8-967e-8ea9ea660af1"
      },
      "execution_count": null,
      "outputs": [
        {
          "output_type": "stream",
          "name": "stdout",
          "text": [
            "Model structure: linearNN(\n",
            "  (flatten): Flatten(start_dim=1, end_dim=-1)\n",
            "  (linear_relu_stack): Sequential(\n",
            "    (0): Linear(in_features=784, out_features=512, bias=True)\n",
            "    (1): ReLU()\n",
            "    (2): Linear(in_features=512, out_features=512, bias=True)\n",
            "    (3): ReLU()\n",
            "    (4): Linear(in_features=512, out_features=10, bias=True)\n",
            "  )\n",
            ")\n",
            "\n",
            "\n",
            "Layer: linear_relu_stack.0.weight | Size: torch.Size([512, 784]) | Values : tensor([[ 0.0060, -0.0164,  0.0101,  ...,  0.0032, -0.0275,  0.0123],\n",
            "        [-0.0084,  0.0151, -0.0283,  ...,  0.0050,  0.0133, -0.0019]],\n",
            "       device='cuda:0', grad_fn=<SliceBackward0>) \n",
            "\n",
            "Layer: linear_relu_stack.0.bias | Size: torch.Size([512]) | Values : tensor([0.0317, 0.0019], device='cuda:0', grad_fn=<SliceBackward0>) \n",
            "\n",
            "Layer: linear_relu_stack.2.weight | Size: torch.Size([512, 512]) | Values : tensor([[ 0.0097, -0.0021,  0.0418,  ...,  0.0282,  0.0228, -0.0385],\n",
            "        [-0.0402,  0.0216,  0.0189,  ..., -0.0191, -0.0387,  0.0152]],\n",
            "       device='cuda:0', grad_fn=<SliceBackward0>) \n",
            "\n",
            "Layer: linear_relu_stack.2.bias | Size: torch.Size([512]) | Values : tensor([0.0011, 0.0353], device='cuda:0', grad_fn=<SliceBackward0>) \n",
            "\n",
            "Layer: linear_relu_stack.4.weight | Size: torch.Size([10, 512]) | Values : tensor([[-0.0115,  0.0190,  0.0213,  ..., -0.0314, -0.0192,  0.0268],\n",
            "        [-0.0076,  0.0078,  0.0253,  ...,  0.0124,  0.0243,  0.0235]],\n",
            "       device='cuda:0', grad_fn=<SliceBackward0>) \n",
            "\n",
            "Layer: linear_relu_stack.4.bias | Size: torch.Size([10]) | Values : tensor([ 0.0151, -0.0243], device='cuda:0', grad_fn=<SliceBackward0>) \n",
            "\n"
          ]
        }
      ]
    },
    {
      "cell_type": "markdown",
      "source": [
        "## Model Training, Eval, and Optimization\n",
        "\n",
        "We know we need to train the NN so it can be more useful. Similar to `keras` we train model on __epochs__.\n",
        "\n",
        "In order to do that, we need to define a few more __hyperparameters__:"
      ],
      "metadata": {
        "id": "uAqMQtgMlmKW"
      }
    },
    {
      "cell_type": "code",
      "source": [
        "LR = 1e-1 ## learning rate, 0.0001\n",
        "EPOCHS = 10"
      ],
      "metadata": {
        "id": "_iAhYxHXkmLi"
      },
      "execution_count": null,
      "outputs": []
    },
    {
      "cell_type": "markdown",
      "source": [
        "If you need a refresher:\n",
        "- __Number of Epochs__: the number times to iterate over the dataset\n",
        "\n",
        "- __Batch Size__: the number of data samples propagated through the network before the parameters are updated, in this case `64`\n",
        "\n",
        "- __Learning Rate__: how much to update models parameters at each batch/epoch. Smaller values yield slow learning speed, while large values may result in unpredictable behavior during training.\n",
        "\n"
      ],
      "metadata": {
        "id": "4psTMesAmYRM"
      }
    },
    {
      "cell_type": "markdown",
      "source": [
        "### Optimization Loop\n",
        "Once we set our hyperparameters, we can then train and optimize our model with an optimization loop. Each iteration of the optimization loop is called an epoch.\n",
        "\n",
        "Each epoch consists of two main parts:\n",
        "- The Train Loop - iterate over the training dataset and try to converge to optimal parameters.\n",
        "\n",
        "- The Validation Loop - iterate over the validation dataset to check if model performance is improving. In this case let's just use the test set for demo purposes.\n",
        "\n",
        "In order to facilitate backpropagation, we need to define a loss function -- keep in mind the training purpose is to __minimize__ loss."
      ],
      "metadata": {
        "id": "Ig6Xr_z-mvNU"
      }
    },
    {
      "cell_type": "markdown",
      "source": [
        "#### Loss Function\n",
        "When presented with some training data, our untrained network is likely not to give the correct answer. Loss function measures the degree of dissimilarity of obtained result to the target value, and it is the loss function that we want to minimize during training. To calculate the loss we make a prediction using the inputs of our given data sample and compare it against the true data label value.\n",
        "\n",
        "Common loss functions include [`nn.MSELoss`](https://pytorch.org/docs/stable/generated/torch.nn.MSELoss.html#torch.nn.MSELoss) (Mean Square Error) for regression tasks, and [`nn.NLLLoss`](https://pytorch.org/docs/stable/generated/torch.nn.NLLLoss.html#torch.nn.NLLLoss) (Negative Log Likelihood) for classification. [`nn.CrossEntropyLoss`](https://pytorch.org/docs/stable/generated/torch.nn.CrossEntropyLoss.html#torch.nn.CrossEntropyLoss) combines `nn.LogSoftmax` and `nn.NLLLoss`.\n",
        "\n",
        "We pass our model’s output logits to `nn.CrossEntropyLoss`, which will normalize the logits and compute the prediction error.\n",
        "\n"
      ],
      "metadata": {
        "id": "7YVSYDKCnJNE"
      }
    },
    {
      "cell_type": "code",
      "source": [
        "# Initialize the loss function\n",
        "loss_fn = nn.CrossEntropyLoss()"
      ],
      "metadata": {
        "id": "9zn5XUYlmQzK"
      },
      "execution_count": null,
      "outputs": []
    },
    {
      "cell_type": "markdown",
      "source": [
        "#### Optimizer\n",
        "Optimization is the process of adjusting model parameters to reduce model error in each training step. Optimization algorithms define how this process is performed (in this example we use __Stochastic Gradient Descent__). All optimization logic is encapsulated in the `optimizer` object. Here, we use the SGD optimizer; additionally, there are [many different optimizers](https://pytorch.org/docs/stable/optim.html) available in PyTorch such as ADAM and RMSProp, that work better for different kinds of models and data.\n",
        "\n",
        "We initialize the optimizer by registering the model’s parameters that need to be trained, and passing in the learning rate hyperparameter."
      ],
      "metadata": {
        "id": "6GyesP0CnkpA"
      }
    },
    {
      "cell_type": "code",
      "source": [
        "optimizer = torch.optim.SGD(model.parameters(), lr=LR) ### parameters is the weights to optimize based on the loss and etc."
      ],
      "metadata": {
        "id": "uEZuJelinbzo"
      },
      "execution_count": null,
      "outputs": []
    },
    {
      "cell_type": "markdown",
      "source": [
        "Inside the training loop, optimization happens in three steps:\n",
        "1. Call `optimizer.zero_grad()` to reset the gradients of model parameters. Gradients by default add up; to prevent double-counting, we explicitly zero them at each iteration.\n",
        "\n",
        "2. Backpropagate the prediction loss with a call to `loss.backward()`. PyTorch deposits the gradients of the loss w.r.t. each parameter.\n",
        "\n",
        "3. Once we have our gradients, we call `optimizer.step()` to adjust the parameters by the gradients collected in the backward pass.\n",
        "\n",
        "Using the above logic, we define `train_loop` that loops over our optimization code, and `test_loop` that evaluates the model’s performance against our test data."
      ],
      "metadata": {
        "id": "Ds5GfhL1n-B8"
      }
    },
    {
      "cell_type": "code",
      "source": [
        "def train_loop(dataloader, model, loss_fn, optimizer):\n",
        "    size = len(dataloader.dataset)\n",
        "    for batch, (X, y) in enumerate(dataloader):\n",
        "        #### PREPROCESSING NEEDED HERE\n",
        "        X /= 255\n",
        "        # Compute prediction and loss\n",
        "        pred = model(X)\n",
        "        loss = loss_fn(pred, y)\n",
        "\n",
        "        # Backpropagation\n",
        "        optimizer.zero_grad()\n",
        "        loss.backward()\n",
        "        optimizer.step()\n",
        "\n",
        "        if batch % 100 == 0:\n",
        "            loss, current = loss.item(), (batch + 1) * len(X)\n",
        "            print(f\"loss: {loss:>7f}  [{current:>5d}/{size:>5d}]\")\n",
        "\n",
        "\n",
        "def test_loop(dataloader, model, loss_fn):\n",
        "    size = len(dataloader.dataset)\n",
        "    num_batches = len(dataloader)\n",
        "    test_loss, correct = 0, 0\n",
        "\n",
        "    with torch.no_grad(): ### Disable gradients; weights are frozen; No training\n",
        "        for X, y in dataloader: #### Prevent Leakage; Calculate Loss only\n",
        "            pred = model(X) #### pred is a tensor of float of gradient from GPU\n",
        "            test_loss += loss_fn(pred, y).item()\n",
        "            correct += (pred.argmax(1) == y).type(torch.float).sum().item()\n",
        "\n",
        "    test_loss /= num_batches\n",
        "    correct /= size\n",
        "    print(f\"Test Error: \\n Accuracy: {(100*correct):>0.1f}%, Avg loss: {test_loss:>8f} \\n\")"
      ],
      "metadata": {
        "id": "0wsJqAIcn8ZR"
      },
      "execution_count": null,
      "outputs": []
    },
    {
      "cell_type": "markdown",
      "source": [
        "We initialize the loss function and optimizer, and pass it to `train_loop` and `test_loop`. Feel free to increase the number of epochs to track the model’s improving performance."
      ],
      "metadata": {
        "id": "Puz7ED_pobzr"
      }
    },
    {
      "cell_type": "code",
      "source": [
        "model = linearNN()\n",
        "for t in range(EPOCHS):\n",
        "    print(f\"Epoch {t+1}\\n-------------------------------\")\n",
        "    train_loop(train_dataloader, model, loss_fn, optimizer)\n",
        "    test_loop(test_dataloader, model, loss_fn)\n",
        "print(\"Done!\")"
      ],
      "metadata": {
        "id": "FuAXDIfboZX7",
        "colab": {
          "base_uri": "https://localhost:8080/",
          "height": 853
        },
        "outputId": "98303808-85aa-4cf4-ef76-b72cf7dfc450"
      },
      "execution_count": null,
      "outputs": [
        {
          "output_type": "stream",
          "name": "stdout",
          "text": [
            "Epoch 1\n",
            "-------------------------------\n",
            "loss: 2.302428  [   64/60000]\n",
            "loss: 2.302148  [ 6464/60000]\n",
            "loss: 2.299504  [12864/60000]\n",
            "loss: 2.303064  [19264/60000]\n",
            "loss: 2.305381  [25664/60000]\n",
            "loss: 2.302389  [32064/60000]\n",
            "loss: 2.302205  [38464/60000]\n",
            "loss: 2.304200  [44864/60000]\n",
            "loss: 2.305101  [51264/60000]\n",
            "loss: 2.303958  [57664/60000]\n",
            "Test Error: \n",
            " Accuracy: 8.7%, Avg loss: 2.302441 \n",
            "\n",
            "Epoch 2\n",
            "-------------------------------\n",
            "loss: 2.302015  [   64/60000]\n",
            "loss: 2.303619  [ 6464/60000]\n",
            "loss: 2.300392  [12864/60000]\n",
            "loss: 2.301260  [19264/60000]\n"
          ]
        },
        {
          "output_type": "error",
          "ename": "KeyboardInterrupt",
          "evalue": "ignored",
          "traceback": [
            "\u001b[0;31m---------------------------------------------------------------------------\u001b[0m",
            "\u001b[0;31mKeyboardInterrupt\u001b[0m                         Traceback (most recent call last)",
            "\u001b[0;32m<ipython-input-105-706d83ad700e>\u001b[0m in \u001b[0;36m<cell line: 2>\u001b[0;34m()\u001b[0m\n\u001b[1;32m      2\u001b[0m \u001b[0;32mfor\u001b[0m \u001b[0mt\u001b[0m \u001b[0;32min\u001b[0m \u001b[0mrange\u001b[0m\u001b[0;34m(\u001b[0m\u001b[0mEPOCHS\u001b[0m\u001b[0;34m)\u001b[0m\u001b[0;34m:\u001b[0m\u001b[0;34m\u001b[0m\u001b[0;34m\u001b[0m\u001b[0m\n\u001b[1;32m      3\u001b[0m     \u001b[0mprint\u001b[0m\u001b[0;34m(\u001b[0m\u001b[0;34mf\"Epoch {t+1}\\n-------------------------------\"\u001b[0m\u001b[0;34m)\u001b[0m\u001b[0;34m\u001b[0m\u001b[0;34m\u001b[0m\u001b[0m\n\u001b[0;32m----> 4\u001b[0;31m     \u001b[0mtrain_loop\u001b[0m\u001b[0;34m(\u001b[0m\u001b[0mtrain_dataloader\u001b[0m\u001b[0;34m,\u001b[0m \u001b[0mmodel\u001b[0m\u001b[0;34m,\u001b[0m \u001b[0mloss_fn\u001b[0m\u001b[0;34m,\u001b[0m \u001b[0moptimizer\u001b[0m\u001b[0;34m)\u001b[0m\u001b[0;34m\u001b[0m\u001b[0;34m\u001b[0m\u001b[0m\n\u001b[0m\u001b[1;32m      5\u001b[0m     \u001b[0mtest_loop\u001b[0m\u001b[0;34m(\u001b[0m\u001b[0mtest_dataloader\u001b[0m\u001b[0;34m,\u001b[0m \u001b[0mmodel\u001b[0m\u001b[0;34m,\u001b[0m \u001b[0mloss_fn\u001b[0m\u001b[0;34m)\u001b[0m\u001b[0;34m\u001b[0m\u001b[0;34m\u001b[0m\u001b[0m\n\u001b[1;32m      6\u001b[0m \u001b[0mprint\u001b[0m\u001b[0;34m(\u001b[0m\u001b[0;34m\"Done!\"\u001b[0m\u001b[0;34m)\u001b[0m\u001b[0;34m\u001b[0m\u001b[0;34m\u001b[0m\u001b[0m\n",
            "\u001b[0;32m<ipython-input-104-ddef76c8f8e0>\u001b[0m in \u001b[0;36mtrain_loop\u001b[0;34m(dataloader, model, loss_fn, optimizer)\u001b[0m\n\u001b[1;32m     10\u001b[0m         \u001b[0;31m# Backpropagation\u001b[0m\u001b[0;34m\u001b[0m\u001b[0;34m\u001b[0m\u001b[0m\n\u001b[1;32m     11\u001b[0m         \u001b[0moptimizer\u001b[0m\u001b[0;34m.\u001b[0m\u001b[0mzero_grad\u001b[0m\u001b[0;34m(\u001b[0m\u001b[0;34m)\u001b[0m\u001b[0;34m\u001b[0m\u001b[0;34m\u001b[0m\u001b[0m\n\u001b[0;32m---> 12\u001b[0;31m         \u001b[0mloss\u001b[0m\u001b[0;34m.\u001b[0m\u001b[0mbackward\u001b[0m\u001b[0;34m(\u001b[0m\u001b[0;34m)\u001b[0m\u001b[0;34m\u001b[0m\u001b[0;34m\u001b[0m\u001b[0m\n\u001b[0m\u001b[1;32m     13\u001b[0m         \u001b[0moptimizer\u001b[0m\u001b[0;34m.\u001b[0m\u001b[0mstep\u001b[0m\u001b[0;34m(\u001b[0m\u001b[0;34m)\u001b[0m\u001b[0;34m\u001b[0m\u001b[0;34m\u001b[0m\u001b[0m\n\u001b[1;32m     14\u001b[0m \u001b[0;34m\u001b[0m\u001b[0m\n",
            "\u001b[0;32m/usr/local/lib/python3.10/dist-packages/torch/_tensor.py\u001b[0m in \u001b[0;36mbackward\u001b[0;34m(self, gradient, retain_graph, create_graph, inputs)\u001b[0m\n\u001b[1;32m    485\u001b[0m                 \u001b[0minputs\u001b[0m\u001b[0;34m=\u001b[0m\u001b[0minputs\u001b[0m\u001b[0;34m,\u001b[0m\u001b[0;34m\u001b[0m\u001b[0;34m\u001b[0m\u001b[0m\n\u001b[1;32m    486\u001b[0m             )\n\u001b[0;32m--> 487\u001b[0;31m         torch.autograd.backward(\n\u001b[0m\u001b[1;32m    488\u001b[0m             \u001b[0mself\u001b[0m\u001b[0;34m,\u001b[0m \u001b[0mgradient\u001b[0m\u001b[0;34m,\u001b[0m \u001b[0mretain_graph\u001b[0m\u001b[0;34m,\u001b[0m \u001b[0mcreate_graph\u001b[0m\u001b[0;34m,\u001b[0m \u001b[0minputs\u001b[0m\u001b[0;34m=\u001b[0m\u001b[0minputs\u001b[0m\u001b[0;34m\u001b[0m\u001b[0;34m\u001b[0m\u001b[0m\n\u001b[1;32m    489\u001b[0m         )\n",
            "\u001b[0;32m/usr/local/lib/python3.10/dist-packages/torch/autograd/__init__.py\u001b[0m in \u001b[0;36mbackward\u001b[0;34m(tensors, grad_tensors, retain_graph, create_graph, grad_variables, inputs)\u001b[0m\n\u001b[1;32m    198\u001b[0m     \u001b[0;31m# some Python versions print out the first line of a multi-line function\u001b[0m\u001b[0;34m\u001b[0m\u001b[0;34m\u001b[0m\u001b[0m\n\u001b[1;32m    199\u001b[0m     \u001b[0;31m# calls in the traceback and some print out the last line\u001b[0m\u001b[0;34m\u001b[0m\u001b[0;34m\u001b[0m\u001b[0m\n\u001b[0;32m--> 200\u001b[0;31m     Variable._execution_engine.run_backward(  # Calls into the C++ engine to run the backward pass\n\u001b[0m\u001b[1;32m    201\u001b[0m         \u001b[0mtensors\u001b[0m\u001b[0;34m,\u001b[0m \u001b[0mgrad_tensors_\u001b[0m\u001b[0;34m,\u001b[0m \u001b[0mretain_graph\u001b[0m\u001b[0;34m,\u001b[0m \u001b[0mcreate_graph\u001b[0m\u001b[0;34m,\u001b[0m \u001b[0minputs\u001b[0m\u001b[0;34m,\u001b[0m\u001b[0;34m\u001b[0m\u001b[0;34m\u001b[0m\u001b[0m\n\u001b[1;32m    202\u001b[0m         allow_unreachable=True, accumulate_grad=True)  # Calls into the C++ engine to run the backward pass\n",
            "\u001b[0;31mKeyboardInterrupt\u001b[0m: "
          ]
        }
      ]
    },
    {
      "cell_type": "markdown",
      "source": [
        "### NOTES:\n",
        "1. Sometimes datasets is something need to pay attention\n",
        "2. Bad dataset wont improve the performance of the model\n"
      ],
      "metadata": {
        "id": "py511rOM92JD"
      }
    },
    {
      "cell_type": "markdown",
      "source": [
        "## Save & load model\n",
        "\n",
        "Please refer to [this tutorial](https://colab.research.google.com/github/pytorch/tutorials/blob/gh-pages/_downloads/11f1adacb7d237f2041ce267ac38abb6/saveloadrun_tutorial.ipynb)."
      ],
      "metadata": {
        "id": "j36ZkI0QpX9c"
      }
    },
    {
      "cell_type": "markdown",
      "source": [
        "## DO IT YOURSELF\n",
        "\n",
        "The `model` did not improve in the training process. Can you figure out why and try to make it perform better?"
      ],
      "metadata": {
        "id": "Ue1RdqnZqFHk"
      }
    },
    {
      "cell_type": "code",
      "source": [],
      "metadata": {
        "id": "JwdyALIGol_s"
      },
      "execution_count": null,
      "outputs": []
    }
  ]
}