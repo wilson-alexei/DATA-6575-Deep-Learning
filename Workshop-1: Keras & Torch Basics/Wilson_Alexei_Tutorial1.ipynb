{
  "nbformat": 4,
  "nbformat_minor": 0,
  "metadata": {
    "colab": {
      "provenance": []
    },
    "kernelspec": {
      "name": "python3",
      "display_name": "Python 3"
    },
    "accelerator": "GPU"
  },
  "cells": [
    {
      "cell_type": "markdown",
      "metadata": {
        "id": "Cb0fmAFO-YTR"
      },
      "source": [
        "# Deep Learning & Business Analytics\n",
        "## Tutorial 1: Setting up the environment\n",
        "### Dr. Jie Tao, Fairfield University"
      ]
    },
    {
      "cell_type": "markdown",
      "metadata": {
        "id": "rqq__zViIote"
      },
      "source": [
        "# Part 0: Deep Learning Environments"
      ]
    },
    {
      "cell_type": "markdown",
      "metadata": {
        "id": "qE60dpC7-uWb"
      },
      "source": [
        "## Deep Learning Envrionments\n",
        "\n",
        "- As deep learning becoming more and more popular, there are a few environments used in the field:\n",
        "  - ``Tensorflow`` is the most popular envrionment for building your deep neural networks\n",
        "    - It is __powerful__, but also __harder-to-use__\n",
        "  - ``Keras`` is an API building on ``Tensorflow`` which makes the latter easier to use\n",
        "    - With the new version of ``Tensorflow``, ``Keras`` is part of it"
      ]
    },
    {
      "cell_type": "code",
      "metadata": {
        "id": "hnGlLnJy-RUy",
        "colab": {
          "base_uri": "https://localhost:8080/",
          "height": 35
        },
        "outputId": "da34c684-bb21-4001-a145-dbf03e0ed8e6"
      },
      "source": [
        "import tensorflow as tf\n",
        "# you should always check the version of your ``Tensorflow``\n",
        "tf.__version__"
      ],
      "execution_count": null,
      "outputs": [
        {
          "output_type": "execute_result",
          "data": {
            "text/plain": [
              "'2.12.0'"
            ],
            "application/vnd.google.colaboratory.intrinsic+json": {
              "type": "string"
            }
          },
          "metadata": {},
          "execution_count": 1
        }
      ]
    },
    {
      "cell_type": "markdown",
      "metadata": {
        "id": "uu30jFY8A5cZ"
      },
      "source": [
        "As we can observe above, Colab by default use ``Tensorflow`` 2.0, which is fundamentally from ``Tensorflow`` 1.0. A ton of tutorials you find online are written on ``Tensorflow`` 1.0, so you can always force Colab to use it.\n",
        "\n",
        "__NOTE__: you need to restart the runtime here."
      ]
    },
    {
      "cell_type": "code",
      "metadata": {
        "id": "ZtvvNDuSAx78",
        "colab": {
          "base_uri": "https://localhost:8080/",
          "height": 416
        },
        "outputId": "b02cd18c-7edf-49af-e0fd-2ef18e51cb06"
      },
      "source": [
        "%tensorflow_version 1.x\n",
        "import tensorflow as tf\n",
        "# you should always check the version of your ``Tensorflow``\n",
        "tf.__version__"
      ],
      "execution_count": null,
      "outputs": [
        {
          "output_type": "error",
          "ename": "ValueError",
          "evalue": "ignored",
          "traceback": [
            "\u001b[0;31m---------------------------------------------------------------------------\u001b[0m",
            "\u001b[0;31mValueError\u001b[0m                                Traceback (most recent call last)",
            "\u001b[0;32m<ipython-input-3-e86d13d97f61>\u001b[0m in \u001b[0;36m<cell line: 1>\u001b[0;34m()\u001b[0m\n\u001b[0;32m----> 1\u001b[0;31m \u001b[0mget_ipython\u001b[0m\u001b[0;34m(\u001b[0m\u001b[0;34m)\u001b[0m\u001b[0;34m.\u001b[0m\u001b[0mrun_line_magic\u001b[0m\u001b[0;34m(\u001b[0m\u001b[0;34m'tensorflow_version'\u001b[0m\u001b[0;34m,\u001b[0m \u001b[0;34m'1.x'\u001b[0m\u001b[0;34m)\u001b[0m\u001b[0;34m\u001b[0m\u001b[0;34m\u001b[0m\u001b[0m\n\u001b[0m\u001b[1;32m      2\u001b[0m \u001b[0;32mimport\u001b[0m \u001b[0mtensorflow\u001b[0m \u001b[0;32mas\u001b[0m \u001b[0mtf\u001b[0m\u001b[0;34m\u001b[0m\u001b[0;34m\u001b[0m\u001b[0m\n\u001b[1;32m      3\u001b[0m \u001b[0;31m# you should always check the version of your ``Tensorflow``\u001b[0m\u001b[0;34m\u001b[0m\u001b[0;34m\u001b[0m\u001b[0m\n\u001b[1;32m      4\u001b[0m \u001b[0mtf\u001b[0m\u001b[0;34m.\u001b[0m\u001b[0m__version__\u001b[0m\u001b[0;34m\u001b[0m\u001b[0;34m\u001b[0m\u001b[0m\n",
            "\u001b[0;32m/usr/local/lib/python3.10/dist-packages/IPython/core/interactiveshell.py\u001b[0m in \u001b[0;36mrun_line_magic\u001b[0;34m(self, magic_name, line, _stack_depth)\u001b[0m\n\u001b[1;32m   2416\u001b[0m                 \u001b[0mkwargs\u001b[0m\u001b[0;34m[\u001b[0m\u001b[0;34m'local_ns'\u001b[0m\u001b[0;34m]\u001b[0m \u001b[0;34m=\u001b[0m \u001b[0mself\u001b[0m\u001b[0;34m.\u001b[0m\u001b[0mget_local_scope\u001b[0m\u001b[0;34m(\u001b[0m\u001b[0mstack_depth\u001b[0m\u001b[0;34m)\u001b[0m\u001b[0;34m\u001b[0m\u001b[0;34m\u001b[0m\u001b[0m\n\u001b[1;32m   2417\u001b[0m             \u001b[0;32mwith\u001b[0m \u001b[0mself\u001b[0m\u001b[0;34m.\u001b[0m\u001b[0mbuiltin_trap\u001b[0m\u001b[0;34m:\u001b[0m\u001b[0;34m\u001b[0m\u001b[0;34m\u001b[0m\u001b[0m\n\u001b[0;32m-> 2418\u001b[0;31m                 \u001b[0mresult\u001b[0m \u001b[0;34m=\u001b[0m \u001b[0mfn\u001b[0m\u001b[0;34m(\u001b[0m\u001b[0;34m*\u001b[0m\u001b[0margs\u001b[0m\u001b[0;34m,\u001b[0m \u001b[0;34m**\u001b[0m\u001b[0mkwargs\u001b[0m\u001b[0;34m)\u001b[0m\u001b[0;34m\u001b[0m\u001b[0;34m\u001b[0m\u001b[0m\n\u001b[0m\u001b[1;32m   2419\u001b[0m             \u001b[0;32mreturn\u001b[0m \u001b[0mresult\u001b[0m\u001b[0;34m\u001b[0m\u001b[0;34m\u001b[0m\u001b[0m\n\u001b[1;32m   2420\u001b[0m \u001b[0;34m\u001b[0m\u001b[0m\n",
            "\u001b[0;32m/usr/local/lib/python3.10/dist-packages/google/colab/_tensorflow_magics.py\u001b[0m in \u001b[0;36m_tensorflow_version\u001b[0;34m(line)\u001b[0m\n\u001b[1;32m     33\u001b[0m \u001b[0;34m\u001b[0m\u001b[0m\n\u001b[1;32m     34\u001b[0m   \u001b[0;32mif\u001b[0m \u001b[0mline\u001b[0m\u001b[0;34m.\u001b[0m\u001b[0mstartswith\u001b[0m\u001b[0;34m(\u001b[0m\u001b[0;34m\"1\"\u001b[0m\u001b[0;34m)\u001b[0m\u001b[0;34m:\u001b[0m\u001b[0;34m\u001b[0m\u001b[0;34m\u001b[0m\u001b[0m\n\u001b[0;32m---> 35\u001b[0;31m     raise ValueError(\n\u001b[0m\u001b[1;32m     36\u001b[0m         \u001b[0;31m# pylint: disable=line-too-long\u001b[0m\u001b[0;34m\u001b[0m\u001b[0;34m\u001b[0m\u001b[0m\n\u001b[1;32m     37\u001b[0m         textwrap.dedent(\n",
            "\u001b[0;31mValueError\u001b[0m: Tensorflow 1 is unsupported in Colab.\n\nYour notebook should be updated to use Tensorflow 2.\nSee the guide at https://www.tensorflow.org/guide/migrate#migrate-from-tensorflow-1x-to-tensorflow-2."
          ]
        }
      ]
    },
    {
      "cell_type": "markdown",
      "metadata": {
        "id": "LUkjQCQxByga"
      },
      "source": [
        "Now you see we are using the ``Tensorflow`` 1.0.\n",
        "\n",
        "Below code shows you how to load ``Keras``."
      ]
    },
    {
      "cell_type": "code",
      "metadata": {
        "id": "roS5GPuzBiSd",
        "colab": {
          "base_uri": "https://localhost:8080/",
          "height": 35
        },
        "outputId": "eb8a8ca5-f0f4-4239-e492-0de627b2d93e"
      },
      "source": [
        "from tensorflow import keras\n",
        "# you should also check the version of ``keras``\n",
        "keras.__version__"
      ],
      "execution_count": null,
      "outputs": [
        {
          "output_type": "execute_result",
          "data": {
            "text/plain": [
              "'2.12.0'"
            ],
            "application/vnd.google.colaboratory.intrinsic+json": {
              "type": "string"
            }
          },
          "metadata": {},
          "execution_count": 4
        }
      ]
    },
    {
      "cell_type": "markdown",
      "metadata": {
        "id": "PrEC5iXjDfKL"
      },
      "source": [
        "From the version of ``Keras``, you see ``tf`` in there, that's indicating you are using ``Tensorflow`` as your __backend__, which means you are using ``Tensorflow`` via ``Keras`` to build your NNs.\n",
        "\n",
        "Unless you want to build very sophisticated NNs, you should always consider using ``Keras`` over ``Tensorflow``.\n",
        "\n",
        "If you want to specify which version of ``Tensorflow`` or ``Keras``, you can force to install a certain version:\n",
        "``` bash\n",
        "%pip install -U tensorflow == 2.1.0\n",
        "```\n",
        "\n"
      ]
    },
    {
      "cell_type": "markdown",
      "metadata": {
        "id": "InHit3g2EzE2"
      },
      "source": [
        "## Deep Learning Environments\n",
        "\n",
        "- Another important DL envrionment is ``PyTorch``\n",
        "  - a lot advanced networks are built in ``PyTorch``, if you plan to use them in your analysis, you should use ``PyTorch``\n",
        "  - Otherwise if you plan to build your own networks, you should use ``Keras``/``Tensorflow``"
      ]
    },
    {
      "cell_type": "code",
      "metadata": {
        "id": "1UAL0X8KB-Bx",
        "colab": {
          "base_uri": "https://localhost:8080/",
          "height": 35
        },
        "outputId": "ec67af17-0469-42e5-cf20-c02a55b0b12f"
      },
      "source": [
        "import torch\n",
        "\n",
        "torch.__version__"
      ],
      "execution_count": null,
      "outputs": [
        {
          "output_type": "execute_result",
          "data": {
            "text/plain": [
              "'2.0.1+cu118'"
            ],
            "application/vnd.google.colaboratory.intrinsic+json": {
              "type": "string"
            }
          },
          "metadata": {},
          "execution_count": 5
        }
      ]
    },
    {
      "cell_type": "markdown",
      "metadata": {
        "id": "FrFYpqF4I3hc"
      },
      "source": [
        "## GPU vs CPU\n",
        "\n",
        "- Graphical Processing Units (GPUs) are in general much faster than the CPUs in your computer\n",
        "- Using GPU is the standard to training your NNs\n",
        "- Refer to [this notebook](https://colab.research.google.com/notebooks/gpu.ipynb) for using GPUs on Colab\n",
        "  - You may have limit of 10 hours/month to use the free GPU on Colab\n"
      ]
    },
    {
      "cell_type": "code",
      "metadata": {
        "id": "vKCXFA-rLAd2",
        "colab": {
          "base_uri": "https://localhost:8080/",
          "height": 35
        },
        "outputId": "e7e3d880-2f34-4ae7-bc66-2b3f9143c123"
      },
      "source": [
        "# you can use code below to test what GPU you are using with ``Tensorflow``\n",
        "\n",
        "tf.test.gpu_device_name()"
      ],
      "execution_count": null,
      "outputs": [
        {
          "output_type": "execute_result",
          "data": {
            "text/plain": [
              "'/device:GPU:0'"
            ],
            "application/vnd.google.colaboratory.intrinsic+json": {
              "type": "string"
            }
          },
          "metadata": {},
          "execution_count": 6
        }
      ]
    },
    {
      "cell_type": "code",
      "metadata": {
        "id": "4N5QR_DpLWl6",
        "colab": {
          "base_uri": "https://localhost:8080/"
        },
        "outputId": "4cdd47da-0a94-48cf-9195-2299467f0b5d"
      },
      "source": [
        "from keras import backend as K\n",
        "K._get_available_gpus()"
      ],
      "execution_count": null,
      "outputs": [
        {
          "output_type": "execute_result",
          "data": {
            "text/plain": [
              "['/device:GPU:0']"
            ]
          },
          "metadata": {},
          "execution_count": 7
        }
      ]
    },
    {
      "cell_type": "markdown",
      "metadata": {
        "id": "LmttqVgZLWar"
      },
      "source": [
        "If you decide to use ``PyTorch``, it provides detailed information of the GPU being used, if available."
      ]
    },
    {
      "cell_type": "code",
      "metadata": {
        "id": "2bCIeO3TMQ9g",
        "colab": {
          "base_uri": "https://localhost:8080/"
        },
        "outputId": "7758636d-d392-4d9f-e06c-115769f31d75"
      },
      "source": [
        "# Which device is used?\n",
        "# 0 refers to the first GPU\n",
        "torch.cuda.current_device()"
      ],
      "execution_count": null,
      "outputs": [
        {
          "output_type": "execute_result",
          "data": {
            "text/plain": [
              "0"
            ]
          },
          "metadata": {},
          "execution_count": 8
        }
      ]
    },
    {
      "cell_type": "code",
      "metadata": {
        "id": "RCrQY3HgMWVH",
        "colab": {
          "base_uri": "https://localhost:8080/"
        },
        "outputId": "652431d8-bd61-491f-fd46-e2f2db99d7f2"
      },
      "source": [
        "# how many devices available?\n",
        "# only 1\n",
        "torch.cuda.device_count()"
      ],
      "execution_count": null,
      "outputs": [
        {
          "output_type": "execute_result",
          "data": {
            "text/plain": [
              "1"
            ]
          },
          "metadata": {},
          "execution_count": 9
        }
      ]
    },
    {
      "cell_type": "code",
      "metadata": {
        "id": "AY2_F9uNMqsA",
        "colab": {
          "base_uri": "https://localhost:8080/",
          "height": 35
        },
        "outputId": "4efa8710-ab44-4e7f-b0a5-06a07345cc32"
      },
      "source": [
        "# which device is used?\n",
        "torch.cuda.get_device_name(0)"
      ],
      "execution_count": null,
      "outputs": [
        {
          "output_type": "execute_result",
          "data": {
            "text/plain": [
              "'Tesla T4'"
            ],
            "application/vnd.google.colaboratory.intrinsic+json": {
              "type": "string"
            }
          },
          "metadata": {},
          "execution_count": 10
        }
      ]
    },
    {
      "cell_type": "markdown",
      "metadata": {
        "id": "JF2mDjztLALO"
      },
      "source": [
        "You may get ``Tesla T4`` or ``Tesla K80`` from Colab, based on the availablility."
      ]
    },
    {
      "cell_type": "markdown",
      "metadata": {
        "id": "mkfFIT6HItx8"
      },
      "source": [
        "# Part 1: A Brief ``Keras`` Example\n",
        "\n",
        "In this example, we are going to build a simple NN to classify hand-written numbers, which is the MNIST dataset. This dataset is so popular, we will see it multiple times in this course."
      ]
    },
    {
      "cell_type": "markdown",
      "metadata": {
        "id": "_PPNTtKnRPO1"
      },
      "source": [
        "### Load Data\n",
        "\n",
        "``Keras`` has provided the MNIST dataset for us, we just need to (down)load it.\n"
      ]
    },
    {
      "cell_type": "code",
      "metadata": {
        "id": "aSji_BoCIbFY",
        "colab": {
          "base_uri": "https://localhost:8080/"
        },
        "outputId": "762fc4f2-336d-4d51-cc5a-fbbc775c32ff"
      },
      "source": [
        "from tensorflow.keras.datasets import mnist\n",
        "\n",
        "# Load pre-shuffled MNIST data into train and test sets\n",
        "(X_train, y_train), (X_test, y_test) = mnist.load_data()\n",
        "\n"
      ],
      "execution_count": null,
      "outputs": [
        {
          "output_type": "stream",
          "name": "stdout",
          "text": [
            "Downloading data from https://storage.googleapis.com/tensorflow/tf-keras-datasets/mnist.npz\n",
            "11490434/11490434 [==============================] - 0s 0us/step\n"
          ]
        }
      ]
    },
    {
      "cell_type": "code",
      "metadata": {
        "id": "Jbt5XAyBO44O",
        "colab": {
          "base_uri": "https://localhost:8080/"
        },
        "outputId": "7cb503fe-415d-4e39-8bc4-ae323b9e9b67"
      },
      "source": [
        "# check how much data we have\n",
        "print(X_train.shape, X_test.shape)"
      ],
      "execution_count": null,
      "outputs": [
        {
          "output_type": "stream",
          "name": "stdout",
          "text": [
            "(60000, 28, 28) (10000, 28, 28)\n"
          ]
        }
      ]
    },
    {
      "cell_type": "markdown",
      "metadata": {
        "id": "p7E2ozC9PIUP"
      },
      "source": [
        "Looks like we are using `60,000` images to predict `10,000` images.\n",
        "\n",
        "We should also check the labels."
      ]
    },
    {
      "cell_type": "code",
      "metadata": {
        "id": "sJP_J10gPGhO",
        "colab": {
          "base_uri": "https://localhost:8080/"
        },
        "outputId": "85e38fae-dc71-4ccb-8638-5531008f1e76"
      },
      "source": [
        "print(y_train.shape, y_test.shape)"
      ],
      "execution_count": null,
      "outputs": [
        {
          "output_type": "stream",
          "name": "stdout",
          "text": [
            "(60000,) (10000,)\n"
          ]
        }
      ]
    },
    {
      "cell_type": "markdown",
      "metadata": {
        "id": "zcZ4PhyiPZyZ"
      },
      "source": [
        "Great, so it appears that we have `60,000` samples in our training set, and the images are $28 \\times 28$ pixels each.\n",
        "\n",
        "Let's look at these ``images``."
      ]
    },
    {
      "cell_type": "code",
      "metadata": {
        "id": "e2nr-FhNPU65",
        "colab": {
          "base_uri": "https://localhost:8080/"
        },
        "outputId": "ba382bb2-2a10-4c06-afa1-c17091820680"
      },
      "source": [
        "X_train[0]"
      ],
      "execution_count": null,
      "outputs": [
        {
          "output_type": "execute_result",
          "data": {
            "text/plain": [
              "array([[  0,   0,   0,   0,   0,   0,   0,   0,   0,   0,   0,   0,   0,\n",
              "          0,   0,   0,   0,   0,   0,   0,   0,   0,   0,   0,   0,   0,\n",
              "          0,   0],\n",
              "       [  0,   0,   0,   0,   0,   0,   0,   0,   0,   0,   0,   0,   0,\n",
              "          0,   0,   0,   0,   0,   0,   0,   0,   0,   0,   0,   0,   0,\n",
              "          0,   0],\n",
              "       [  0,   0,   0,   0,   0,   0,   0,   0,   0,   0,   0,   0,   0,\n",
              "          0,   0,   0,   0,   0,   0,   0,   0,   0,   0,   0,   0,   0,\n",
              "          0,   0],\n",
              "       [  0,   0,   0,   0,   0,   0,   0,   0,   0,   0,   0,   0,   0,\n",
              "          0,   0,   0,   0,   0,   0,   0,   0,   0,   0,   0,   0,   0,\n",
              "          0,   0],\n",
              "       [  0,   0,   0,   0,   0,   0,   0,   0,   0,   0,   0,   0,   0,\n",
              "          0,   0,   0,   0,   0,   0,   0,   0,   0,   0,   0,   0,   0,\n",
              "          0,   0],\n",
              "       [  0,   0,   0,   0,   0,   0,   0,   0,   0,   0,   0,   0,   3,\n",
              "         18,  18,  18, 126, 136, 175,  26, 166, 255, 247, 127,   0,   0,\n",
              "          0,   0],\n",
              "       [  0,   0,   0,   0,   0,   0,   0,   0,  30,  36,  94, 154, 170,\n",
              "        253, 253, 253, 253, 253, 225, 172, 253, 242, 195,  64,   0,   0,\n",
              "          0,   0],\n",
              "       [  0,   0,   0,   0,   0,   0,   0,  49, 238, 253, 253, 253, 253,\n",
              "        253, 253, 253, 253, 251,  93,  82,  82,  56,  39,   0,   0,   0,\n",
              "          0,   0],\n",
              "       [  0,   0,   0,   0,   0,   0,   0,  18, 219, 253, 253, 253, 253,\n",
              "        253, 198, 182, 247, 241,   0,   0,   0,   0,   0,   0,   0,   0,\n",
              "          0,   0],\n",
              "       [  0,   0,   0,   0,   0,   0,   0,   0,  80, 156, 107, 253, 253,\n",
              "        205,  11,   0,  43, 154,   0,   0,   0,   0,   0,   0,   0,   0,\n",
              "          0,   0],\n",
              "       [  0,   0,   0,   0,   0,   0,   0,   0,   0,  14,   1, 154, 253,\n",
              "         90,   0,   0,   0,   0,   0,   0,   0,   0,   0,   0,   0,   0,\n",
              "          0,   0],\n",
              "       [  0,   0,   0,   0,   0,   0,   0,   0,   0,   0,   0, 139, 253,\n",
              "        190,   2,   0,   0,   0,   0,   0,   0,   0,   0,   0,   0,   0,\n",
              "          0,   0],\n",
              "       [  0,   0,   0,   0,   0,   0,   0,   0,   0,   0,   0,  11, 190,\n",
              "        253,  70,   0,   0,   0,   0,   0,   0,   0,   0,   0,   0,   0,\n",
              "          0,   0],\n",
              "       [  0,   0,   0,   0,   0,   0,   0,   0,   0,   0,   0,   0,  35,\n",
              "        241, 225, 160, 108,   1,   0,   0,   0,   0,   0,   0,   0,   0,\n",
              "          0,   0],\n",
              "       [  0,   0,   0,   0,   0,   0,   0,   0,   0,   0,   0,   0,   0,\n",
              "         81, 240, 253, 253, 119,  25,   0,   0,   0,   0,   0,   0,   0,\n",
              "          0,   0],\n",
              "       [  0,   0,   0,   0,   0,   0,   0,   0,   0,   0,   0,   0,   0,\n",
              "          0,  45, 186, 253, 253, 150,  27,   0,   0,   0,   0,   0,   0,\n",
              "          0,   0],\n",
              "       [  0,   0,   0,   0,   0,   0,   0,   0,   0,   0,   0,   0,   0,\n",
              "          0,   0,  16,  93, 252, 253, 187,   0,   0,   0,   0,   0,   0,\n",
              "          0,   0],\n",
              "       [  0,   0,   0,   0,   0,   0,   0,   0,   0,   0,   0,   0,   0,\n",
              "          0,   0,   0,   0, 249, 253, 249,  64,   0,   0,   0,   0,   0,\n",
              "          0,   0],\n",
              "       [  0,   0,   0,   0,   0,   0,   0,   0,   0,   0,   0,   0,   0,\n",
              "          0,  46, 130, 183, 253, 253, 207,   2,   0,   0,   0,   0,   0,\n",
              "          0,   0],\n",
              "       [  0,   0,   0,   0,   0,   0,   0,   0,   0,   0,   0,   0,  39,\n",
              "        148, 229, 253, 253, 253, 250, 182,   0,   0,   0,   0,   0,   0,\n",
              "          0,   0],\n",
              "       [  0,   0,   0,   0,   0,   0,   0,   0,   0,   0,  24, 114, 221,\n",
              "        253, 253, 253, 253, 201,  78,   0,   0,   0,   0,   0,   0,   0,\n",
              "          0,   0],\n",
              "       [  0,   0,   0,   0,   0,   0,   0,   0,  23,  66, 213, 253, 253,\n",
              "        253, 253, 198,  81,   2,   0,   0,   0,   0,   0,   0,   0,   0,\n",
              "          0,   0],\n",
              "       [  0,   0,   0,   0,   0,   0,  18, 171, 219, 253, 253, 253, 253,\n",
              "        195,  80,   9,   0,   0,   0,   0,   0,   0,   0,   0,   0,   0,\n",
              "          0,   0],\n",
              "       [  0,   0,   0,   0,  55, 172, 226, 253, 253, 253, 253, 244, 133,\n",
              "         11,   0,   0,   0,   0,   0,   0,   0,   0,   0,   0,   0,   0,\n",
              "          0,   0],\n",
              "       [  0,   0,   0,   0, 136, 253, 253, 253, 212, 135, 132,  16,   0,\n",
              "          0,   0,   0,   0,   0,   0,   0,   0,   0,   0,   0,   0,   0,\n",
              "          0,   0],\n",
              "       [  0,   0,   0,   0,   0,   0,   0,   0,   0,   0,   0,   0,   0,\n",
              "          0,   0,   0,   0,   0,   0,   0,   0,   0,   0,   0,   0,   0,\n",
              "          0,   0],\n",
              "       [  0,   0,   0,   0,   0,   0,   0,   0,   0,   0,   0,   0,   0,\n",
              "          0,   0,   0,   0,   0,   0,   0,   0,   0,   0,   0,   0,   0,\n",
              "          0,   0],\n",
              "       [  0,   0,   0,   0,   0,   0,   0,   0,   0,   0,   0,   0,   0,\n",
              "          0,   0,   0,   0,   0,   0,   0,   0,   0,   0,   0,   0,   0,\n",
              "          0,   0]], dtype=uint8)"
            ]
          },
          "metadata": {},
          "execution_count": 14
        }
      ]
    },
    {
      "cell_type": "markdown",
      "metadata": {
        "id": "owqqI2gBQNiI"
      },
      "source": [
        "Clearly this one does not look like any image we know. We can use the help of ``matplotlib`` to show them."
      ]
    },
    {
      "cell_type": "code",
      "metadata": {
        "id": "Cxpge_reQLpf",
        "colab": {
          "base_uri": "https://localhost:8080/",
          "height": 452
        },
        "outputId": "92e57d71-0f6d-4ad1-c277-c57536f398b1"
      },
      "source": [
        "from matplotlib import pyplot as plt\n",
        "%matplotlib inline\n",
        "# we just want to show the image in grayscale\n",
        "plt.imshow(X_train[0], cmap='gray', vmin=0, vmax=255)\n",
        "# also showing the label of the image\n",
        "plt.title('The label of the image is:' + str(y_train[0]));"
      ],
      "execution_count": null,
      "outputs": [
        {
          "output_type": "display_data",
          "data": {
            "text/plain": [
              "<Figure size 640x480 with 1 Axes>"
            ],
            "image/png": "[encoded data removed]"
          },
          "metadata": {}
        }
      ]
    },
    {
      "cell_type": "markdown",
      "metadata": {
        "id": "BcjNX7OaRfhY"
      },
      "source": [
        "### Preprocessing Data\n",
        "\n",
        "When using  any backend, you must explicitly declare a dimension for the depth of the input image. For example, a full-color image with all 3 RGB channels will have a depth of `3`.\n",
        "\n",
        "Our MNIST images only have a depth of `1` (i.e., grayscale), but we must explicitly declare that.\n",
        "\n",
        "In other words, we want to transform our dataset from having shape (n, width, height) to (n, width, height, depth), in which:\n",
        "- `n` is the number of images in the training/testing set;\n",
        "- ``heights/weights`` is the dimension of images (i.e., ``28``);\n",
        "- ``depth`` is the color channel of the images (grayscale: 1, RGB: 3).\n",
        "\n",
        "__NOTE__: we usually deal with __square__ images only."
      ]
    },
    {
      "cell_type": "code",
      "metadata": {
        "id": "J0RIqsnDQjx6"
      },
      "source": [
        "\n",
        "X_train = X_train.reshape(X_train.shape[0], 28, 28, 1)\n",
        "X_test = X_test.reshape(X_test.shape[0], 28, 28, 1)"
      ],
      "execution_count": null,
      "outputs": []
    },
    {
      "cell_type": "code",
      "metadata": {
        "id": "ahzFcIM6ShpR",
        "colab": {
          "base_uri": "https://localhost:8080/"
        },
        "outputId": "2dd14a28-0d9e-49f4-8377-1f1caab3322f"
      },
      "source": [
        "# check if the reshape worked as expected\n",
        "print(X_train.shape, X_test.shape)"
      ],
      "execution_count": null,
      "outputs": [
        {
          "output_type": "stream",
          "name": "stdout",
          "text": [
            "(60000, 28, 28, 1) (10000, 28, 28, 1)\n"
          ]
        }
      ]
    },
    {
      "cell_type": "markdown",
      "metadata": {
        "id": "bUpFkJBuSrba"
      },
      "source": [
        "The final preprocessing step for the input data is to convert our data type to ``float32`` and normalize our data values to the range $[0, 1]$.\n",
        "\n",
        "This is because of the _activation function_ we used in NN, which will be discussed in study units 2 & 3."
      ]
    },
    {
      "cell_type": "code",
      "metadata": {
        "id": "hpo-oEwRSoxB"
      },
      "source": [
        "X_train = X_train.astype('float32')\n",
        "X_test = X_test.astype('float32')\n",
        "X_train /= 255\n",
        "X_test /= 255"
      ],
      "execution_count": null,
      "outputs": []
    },
    {
      "cell_type": "markdown",
      "metadata": {
        "id": "KQU88K30THGb"
      },
      "source": [
        "### Preprocess Labels\n",
        "\n",
        "Since this is essentially a multi-class classification problem (i.e., classes 0 ~ 9), but the current ``y_train`` or ``y_test`` does not reflect that."
      ]
    },
    {
      "cell_type": "code",
      "metadata": {
        "id": "jb-kJaGtTAmd",
        "colab": {
          "base_uri": "https://localhost:8080/"
        },
        "outputId": "f252ef63-f5fd-41e8-f174-5f01799622ef"
      },
      "source": [
        "y_train[:10]"
      ],
      "execution_count": null,
      "outputs": [
        {
          "output_type": "execute_result",
          "data": {
            "text/plain": [
              "array([5, 0, 4, 1, 9, 2, 1, 3, 1, 4], dtype=uint8)"
            ]
          },
          "metadata": {},
          "execution_count": 19
        }
      ]
    },
    {
      "cell_type": "markdown",
      "metadata": {
        "id": "YYqYV9gRXUsm"
      },
      "source": [
        "And there's the problem. The `y_train` and `y_test` data are not split into `10` distinct class labels, but rather are represented as _a single array_ with the class values.\n",
        "\n",
        "We can fix this easily:"
      ]
    },
    {
      "cell_type": "code",
      "metadata": {
        "id": "ISITiZmIXQn-"
      },
      "source": [
        "# Convert 1-dimensional class arrays to 10-dimensional class matrices\n",
        "from tensorflow.keras.utils import to_categorical\n",
        "y_train = to_categorical(y_train, 10)\n",
        "y_test = to_categorical(y_test, 10)"
      ],
      "execution_count": null,
      "outputs": []
    },
    {
      "cell_type": "code",
      "metadata": {
        "id": "bnTYVhWGXe0u",
        "colab": {
          "base_uri": "https://localhost:8080/"
        },
        "outputId": "59495956-9d60-487e-cc22-7b2a3d3c50ff"
      },
      "source": [
        "# we can test if it is fixed\n",
        "\n",
        "print(y_train.shape, y_test.shape)"
      ],
      "execution_count": null,
      "outputs": [
        {
          "output_type": "stream",
          "name": "stdout",
          "text": [
            "(60000, 10) (10000, 10)\n"
          ]
        }
      ]
    },
    {
      "cell_type": "markdown",
      "metadata": {
        "id": "Ldqhp20YX3_7"
      },
      "source": [
        "### Define Model Architecture\n",
        "\n",
        "``Keras`` is popular since it provides various APIs for the model, and the layers in the model.\n",
        "\n",
        "So before the define the model architecture we need to import the required APIs.\n",
        "\n",
        "We are going to use the _most popular_ architecture for image classification, namely _Convolutional Neural Networks_ (CNN), which use the pairs of ``Convolution2D`` and ``MaxPooling2D`` layers. We are going to discuss this architecture and also delve into the other layers later in this course.\n",
        "\n",
        "And for putting the layers together, we are using the ``Sequential`` API. We are going to talk about another API in the next part."
      ]
    },
    {
      "cell_type": "code",
      "metadata": {
        "id": "OmhWxgF-XyNB"
      },
      "source": [
        "from tensorflow.keras.models import Sequential\n",
        "from tensorflow.keras.layers import Convolution2D, MaxPooling2D, Dense, Flatten"
      ],
      "execution_count": null,
      "outputs": []
    },
    {
      "cell_type": "code",
      "metadata": {
        "id": "s575yufJZHGD"
      },
      "source": [
        "# Initialize the model\n",
        "model = Sequential()\n",
        "# add INPUT layer\n",
        "# first argument is number of neurons in the layer\n",
        "# usually exponentials of 2\n",
        "# also need to define what is the moving window and\n",
        "# to specify the activation function (discuss later)\n",
        "# and the shape of input - FOREACH image\n",
        "model.add(Convolution2D(filters = 32, kernel_size = (3, 3), activation='relu', input_shape=X_train.shape[1:])) ### Overlap between Groups\n",
        "# Convolution2D and Maxpooling2D is a pair of layers\n",
        "# whenever you use the former you need to add the latter\n",
        "model.add(MaxPooling2D(pool_size=(2, 2))) ### No Overlap"
      ],
      "execution_count": null,
      "outputs": []
    },
    {
      "cell_type": "code",
      "metadata": {
        "id": "Gc8qTgNZluOV",
        "colab": {
          "base_uri": "https://localhost:8080/"
        },
        "outputId": "ee931314-8064-4cea-a8d2-43b4c755158d"
      },
      "source": [
        "# we can look at what is the output of the model\n",
        "print(model.output_shape)"
      ],
      "execution_count": null,
      "outputs": [
        {
          "output_type": "stream",
          "name": "stdout",
          "text": [
            "(None, 13, 13, 32)\n"
          ]
        }
      ]
    },
    {
      "cell_type": "markdown",
      "metadata": {
        "id": "Z9uGoZ5ZnV82"
      },
      "source": [
        "We already discussed in the lecture that DL require __more than one__ hidden layer (between _input_ and _output_ layers), so we need to at least add a second pair.\n",
        "\n",
        "Shape of the output of the first layer has to match the input of the second layer, and so forth."
      ]
    },
    {
      "cell_type": "code",
      "metadata": {
        "id": "2etdFcl1l0ak"
      },
      "source": [
        "model.add(Convolution2D(filters=64, kernel_size=(3, 3), activation='relu'))\n",
        "model.add(MaxPooling2D(pool_size=(2, 2)))"
      ],
      "execution_count": null,
      "outputs": []
    },
    {
      "cell_type": "code",
      "metadata": {
        "id": "b-CCoBtMoQdk",
        "colab": {
          "base_uri": "https://localhost:8080/"
        },
        "outputId": "d15c1fc4-f22e-4c7a-ed66-82e9ee0645d1"
      },
      "source": [
        "# we can look at what is the output of the model\n",
        "print(model.output_shape)"
      ],
      "execution_count": null,
      "outputs": [
        {
          "output_type": "stream",
          "name": "stdout",
          "text": [
            "(None, 5, 5, 64)\n"
          ]
        }
      ]
    },
    {
      "cell_type": "code",
      "metadata": {
        "id": "YpONnWqRoUf-"
      },
      "source": [
        "# we can then flatten (convert data to 1D)\n",
        "# so the model can make predictions out of it\n",
        "model.add(Flatten())\n",
        "# then add a Dense layer for prediction\n",
        "model.add(Dense(256, activation='relu'))"
      ],
      "execution_count": null,
      "outputs": []
    },
    {
      "cell_type": "code",
      "metadata": {
        "id": "1nT8KhyFopPY"
      },
      "source": [
        "# finally the output layer\n",
        "# for classification it is always the Dense layer\n",
        "# with the 'softmax' activation functions (discuss later)\n",
        "# number of neuron in this layer equals to\n",
        "# the number of class for prediction\n",
        "model.add(Dense(10, activation='softmax'))"
      ],
      "execution_count": null,
      "outputs": []
    },
    {
      "cell_type": "markdown",
      "metadata": {
        "id": "gBhND86Zo5Je"
      },
      "source": [
        "### Compile the Model\n",
        "\n",
        "Like any ML models, the DL model needs to be compiled before it can be trained.\n",
        "\n",
        "In particular, we need to define several __hyperparameters__ of the model, including:\n",
        "- _loss function_: how does the model measure the prediction error;\n",
        "- _optimizer_: how does the model minimize the loss;\n",
        "- _metric_: what measure is used to measure the performance of the model.\n",
        "\n",
        "We are going to talk more about these __hyperparameters__, and some others, later in this course."
      ]
    },
    {
      "cell_type": "code",
      "metadata": {
        "id": "tBFGU7GHoynp"
      },
      "source": [
        "model.compile(loss='categorical_crossentropy',\n",
        "              optimizer='adam',\n",
        "              metrics=['accuracy'])"
      ],
      "execution_count": null,
      "outputs": []
    },
    {
      "cell_type": "markdown",
      "metadata": {
        "id": "awN7ZTghrjJq"
      },
      "source": [
        "After compiling and before training, it is good practice to check the ``summary`` of the model.\n",
        "\n",
        "All the info may not mean a lot to you now, but later in this course you will know this is a good check of your model."
      ]
    },
    {
      "cell_type": "code",
      "metadata": {
        "id": "JfdJfDX_rhhm",
        "colab": {
          "base_uri": "https://localhost:8080/"
        },
        "outputId": "efbce034-1f0f-44bc-c569-aec7bd90d436"
      },
      "source": [
        "model.summary()"
      ],
      "execution_count": null,
      "outputs": [
        {
          "output_type": "stream",
          "name": "stdout",
          "text": [
            "Model: \"sequential\"\n",
            "_________________________________________________________________\n",
            " Layer (type)                Output Shape              Param #   \n",
            "=================================================================\n",
            " conv2d (Conv2D)             (None, 26, 26, 32)        320       \n",
            "                                                                 \n",
            " max_pooling2d (MaxPooling2D  (None, 13, 13, 32)       0         \n",
            " )                                                               \n",
            "                                                                 \n",
            " conv2d_1 (Conv2D)           (None, 11, 11, 64)        18496     \n",
            "                                                                 \n",
            " max_pooling2d_1 (MaxPooling  (None, 5, 5, 64)         0         \n",
            " 2D)                                                             \n",
            "                                                                 \n",
            " flatten (Flatten)           (None, 1600)              0         \n",
            "                                                                 \n",
            " dense (Dense)               (None, 256)               409856    \n",
            "                                                                 \n",
            " dense_1 (Dense)             (None, 10)                2570      \n",
            "                                                                 \n",
            "=================================================================\n",
            "Total params: 431,242\n",
            "Trainable params: 431,242\n",
            "Non-trainable params: 0\n",
            "_________________________________________________________________\n"
          ]
        }
      ]
    },
    {
      "cell_type": "code",
      "source": [
        "from tensorflow.keras.utils import plot_model\n",
        "\n",
        "\n",
        "plot_model(model, show_shapes=True, show_dtype=True)"
      ],
      "metadata": {
        "colab": {
          "base_uri": "https://localhost:8080/",
          "height": 1000
        },
        "id": "PE1lM7bwQxAw",
        "outputId": "3be0ba46-e2a8-4511-9988-9631a80612cf"
      },
      "execution_count": null,
      "outputs": [
        {
          "output_type": "execute_result",
          "data": {
            "image/png": "[encoded data removed]",
            "text/plain": [
              "<IPython.core.display.Image object>"
            ]
          },
          "metadata": {},
          "execution_count": 31
        }
      ]
    },
    {
      "cell_type": "markdown",
      "metadata": {
        "id": "9OgBB_t4sXUk"
      },
      "source": [
        "### Fit the Model\n",
        "\n",
        "Now we can fit the compiled model to the training data (``X_train`` and ``y_train``).\n",
        "\n",
        "This step also takes several arguments:\n",
        "- batch_size: parts of dataset used to update the weights in the network once;\n",
        "- epochs: one epoch is when the **entire** dataset is passed through the network - an epoch = one or more batches;\n",
        "- verbose: how much info to be displayed.\n",
        "\n",
        "We will talk more about these later in this course."
      ]
    },
    {
      "cell_type": "code",
      "metadata": {
        "id": "NgvTUaM0sRly",
        "colab": {
          "base_uri": "https://localhost:8080/"
        },
        "outputId": "6485eaa8-c384-4e7c-bd88-19d8fe2c8938"
      },
      "source": [
        "model.fit(X_train, y_train,\n",
        "          batch_size=32, epochs=10, verbose=1)"
      ],
      "execution_count": null,
      "outputs": [
        {
          "output_type": "stream",
          "name": "stdout",
          "text": [
            "Epoch 1/10\n",
            "1875/1875 [==============================] - 18s 4ms/step - loss: 0.1146 - accuracy: 0.9647\n",
            "Epoch 2/10\n",
            "1875/1875 [==============================] - 7s 4ms/step - loss: 0.0402 - accuracy: 0.9874\n",
            "Epoch 3/10\n",
            "1875/1875 [==============================] - 7s 4ms/step - loss: 0.0265 - accuracy: 0.9916\n",
            "Epoch 4/10\n",
            "1875/1875 [==============================] - 7s 4ms/step - loss: 0.0186 - accuracy: 0.9941\n",
            "Epoch 5/10\n",
            "1875/1875 [==============================] - 7s 4ms/step - loss: 0.0138 - accuracy: 0.9958\n",
            "Epoch 6/10\n",
            "1875/1875 [==============================] - 7s 4ms/step - loss: 0.0106 - accuracy: 0.9963\n",
            "Epoch 7/10\n",
            "1875/1875 [==============================] - 7s 4ms/step - loss: 0.0081 - accuracy: 0.9972\n",
            "Epoch 8/10\n",
            "1875/1875 [==============================] - 7s 4ms/step - loss: 0.0077 - accuracy: 0.9974\n",
            "Epoch 9/10\n",
            "1875/1875 [==============================] - 7s 4ms/step - loss: 0.0062 - accuracy: 0.9978\n",
            "Epoch 10/10\n",
            "1875/1875 [==============================] - 7s 4ms/step - loss: 0.0061 - accuracy: 0.9982\n"
          ]
        },
        {
          "output_type": "execute_result",
          "data": {
            "text/plain": [
              "<keras.callbacks.History at 0x7f272ca72bc0>"
            ]
          },
          "metadata": {},
          "execution_count": 32
        }
      ]
    },
    {
      "cell_type": "markdown",
      "metadata": {
        "id": "1ZHjejj5uSwy"
      },
      "source": [
        "### Evaluate the Model\n",
        "\n",
        "Now we need to evaluate the model with the test data (``y_train`` and ``y_test``)."
      ]
    },
    {
      "cell_type": "code",
      "metadata": {
        "id": "UfkgQwN1t1GP"
      },
      "source": [
        "score = model.evaluate(X_test, y_test, verbose=0)"
      ],
      "execution_count": null,
      "outputs": []
    },
    {
      "cell_type": "markdown",
      "metadata": {
        "id": "9P3EVcDAu-6S"
      },
      "source": [
        "``score`` is a tuple of two, the first one is the __test loss__, and the second one is the __test accuracy__.\n",
        "\n",
        "From the results below we can see that our model exceeds 99% accuracy."
      ]
    },
    {
      "cell_type": "code",
      "metadata": {
        "id": "8wHp0XTSu6pI",
        "colab": {
          "base_uri": "https://localhost:8080/"
        },
        "outputId": "0ea0fa04-802c-47f6-8133-b05c84deacc1"
      },
      "source": [
        "score"
      ],
      "execution_count": null,
      "outputs": [
        {
          "output_type": "execute_result",
          "data": {
            "text/plain": [
              "[0.03406137228012085, 0.991599977016449]"
            ]
          },
          "metadata": {},
          "execution_count": 34
        }
      ]
    },
    {
      "cell_type": "markdown",
      "metadata": {
        "id": "ceHZApXYv6Eh"
      },
      "source": [
        "Sometimes we only need to predict one instance, ``Keras`` provides two method:\n",
        "- ``.predict()``: predict the class of the instance;\n",
        "- ``.predict_proba()``: predict the probability of each class given the instance.\n",
        "\n",
        "We randomly select several instances from the test set."
      ]
    },
    {
      "cell_type": "code",
      "metadata": {
        "id": "wG3qbWrGu7uH",
        "colab": {
          "base_uri": "https://localhost:8080/"
        },
        "outputId": "55ed357c-aefa-46d0-a4dc-43fe80d6c67b"
      },
      "source": [
        "import numpy as np\n",
        "np.random.seed(2020)\n",
        "test_sample = np.random.choice(X_test.shape[0], size=5, replace=False)\n",
        "test_sample"
      ],
      "execution_count": null,
      "outputs": [
        {
          "output_type": "execute_result",
          "data": {
            "text/plain": [
              "array([4436, 3829, 2434, 4449,   43])"
            ]
          },
          "metadata": {},
          "execution_count": 35
        }
      ]
    },
    {
      "cell_type": "code",
      "source": [
        "import numpy as np"
      ],
      "metadata": {
        "id": "fiimENVu0kM3"
      },
      "execution_count": null,
      "outputs": []
    },
    {
      "cell_type": "code",
      "metadata": {
        "id": "qSts_avOxS84"
      },
      "source": [
        "# define a function to predict one instance at a time\n",
        "def predict_one(sample, model):\n",
        "  #for ts in sample:\n",
        "  #proba = model.predict_proba(X_test[ts])\n",
        "  y_pred = model.predict(X_test[sample])\n",
        "  pred_class = np.argmax(y_pred, axis=1)\n",
        "  for ts, pred in zip(sample, pred_class):\n",
        "    print(f'actual class is {np.argmax(y_test[ts])}, predicted class is {pred}')"
      ],
      "execution_count": null,
      "outputs": []
    },
    {
      "cell_type": "code",
      "metadata": {
        "id": "rduIkbNryVyw",
        "colab": {
          "base_uri": "https://localhost:8080/"
        },
        "outputId": "6ac41adb-71d2-4efc-e571-3d671565b84a"
      },
      "source": [
        "predict_one(test_sample, model)"
      ],
      "execution_count": null,
      "outputs": [
        {
          "output_type": "stream",
          "name": "stdout",
          "text": [
            "1/1 [==============================] - 0s 153ms/step\n",
            "actual class is 9, predicted class is 9\n",
            "actual class is 8, predicted class is 8\n",
            "actual class is 1, predicted class is 1\n",
            "actual class is 6, predicted class is 6\n",
            "actual class is 2, predicted class is 2\n"
          ]
        }
      ]
    },
    {
      "cell_type": "markdown",
      "metadata": {
        "id": "_Yaj2hVs1FqR"
      },
      "source": [
        "# Part 2: Sequential vs. Functional API\n",
        "\n",
        "Aside from the ``Sequential`` API, ``Keras`` also provides a functional API.\n",
        "\n",
        "Compared to the ``Sequential`` API - which is very straightforward, the functional API is usually used if you need to create a more complicated model architecture.\n",
        "\n",
        "Observe the examples below for comparison."
      ]
    },
    {
      "cell_type": "code",
      "metadata": {
        "id": "8PXmFCyrzrRy",
        "colab": {
          "base_uri": "https://localhost:8080/"
        },
        "outputId": "a850540f-e34b-4b86-832f-35511bd10a17"
      },
      "source": [
        "from tensorflow.keras.models import Sequential\n",
        "from tensorflow.keras.layers import Dense\n",
        "\n",
        "# this function returns a compiled model using the Sequential API\n",
        "\n",
        "def define_model(first_layer=64, output_class=3):\n",
        "  '''\n",
        "  returns a compiled model using the Sequential API\n",
        "  Argument:\n",
        "    first_layer: number of neurons in the first layer\n",
        "    output_class: how many classes to predict as output\n",
        "  Config:\n",
        "    Three layers: input, hidden1, output\n",
        "    hidden1 has first_layer/2 neurons\n",
        "  Return:\n",
        "    Compiled model\n",
        "  '''\n",
        "  model = Sequential()\n",
        "  model.add(Dense(first_layer, input_dim=4, activation='relu'))\n",
        "  model.add(Dense(int(first_layer/2), activation='relu'))\n",
        "  model.add(Dense(output_class, activation='softmax'))\n",
        "  model.compile(loss='categorical_crossentropy',optimizer='adam', metrics=['accuracy'])\n",
        "  return model\n",
        "\n",
        "seq_model = define_model()\n",
        "seq_model.summary()"
      ],
      "execution_count": null,
      "outputs": [
        {
          "output_type": "stream",
          "name": "stdout",
          "text": [
            "Model: \"sequential_1\"\n",
            "_________________________________________________________________\n",
            " Layer (type)                Output Shape              Param #   \n",
            "=================================================================\n",
            " dense_2 (Dense)             (None, 64)                320       \n",
            "                                                                 \n",
            " dense_3 (Dense)             (None, 32)                2080      \n",
            "                                                                 \n",
            " dense_4 (Dense)             (None, 3)                 99        \n",
            "                                                                 \n",
            "=================================================================\n",
            "Total params: 2,499\n",
            "Trainable params: 2,499\n",
            "Non-trainable params: 0\n",
            "_________________________________________________________________\n"
          ]
        }
      ]
    },
    {
      "cell_type": "code",
      "source": [
        "def kwarg_model(**kwargs):\n",
        "  '''\n",
        "  returns a compiled model using the Sequential API\n",
        "  Argument:\n",
        "    first_layer: number of neurons in the first layer\n",
        "    output_class: how many classes to predict as output\n",
        "  Config:\n",
        "    Three layers: input, hidden1, output\n",
        "    hidden1 has first_layer/2 neurons\n",
        "  Return:\n",
        "    Compiled model\n",
        "  '''\n",
        "  model = Sequential()\n",
        "  model.add(Dense(kwargs['first_layer'], input_dim=kwargs['input_dim'], activation=kwargs['act1']))\n",
        "  #model.add(Dropout(rate=))\n",
        "  model.add(Dense(int(kwargs['first_layer']/2), activation=kwargs['act2']))\n",
        "  #model.add()\n",
        "  model.add(Dense(kwargs['output_class'], activation=kwargs['act3']))\n",
        "  model.compile(loss=kwargs['loss'],optimizer=kwargs['optimizer'], metrics=kwargs['metrics'])\n",
        "  return model\n",
        "\n",
        "config = {'act1':'relu',\n",
        "          'act2':'tanh',\n",
        "          'act3': 'softmax',\n",
        "          'first_layer':64,\n",
        "          'input_dim':4,\n",
        "          'output_class':3,\n",
        "          'optimizer':'adam',\n",
        "          'metrics':'accuracy',\n",
        "          'loss':'categorical_crossentropy'\n",
        "}"
      ],
      "metadata": {
        "id": "aZ4rnRxNTME1"
      },
      "execution_count": null,
      "outputs": []
    },
    {
      "cell_type": "code",
      "source": [
        "kwarg_model(**config)"
      ],
      "metadata": {
        "colab": {
          "base_uri": "https://localhost:8080/"
        },
        "id": "8mujtBFTYUyY",
        "outputId": "ef6185fb-80de-4ca9-e020-a3d09715c48e"
      },
      "execution_count": null,
      "outputs": [
        {
          "output_type": "execute_result",
          "data": {
            "text/plain": [
              "<keras.engine.sequential.Sequential at 0x7f272c033fd0>"
            ]
          },
          "metadata": {},
          "execution_count": 41
        }
      ]
    },
    {
      "cell_type": "code",
      "source": [
        "from tensorflow.keras.utils import plot_model\n",
        "\n",
        "\n",
        "plot_model(seq_model, show_shapes=True, show_dtype=True)"
      ],
      "metadata": {
        "colab": {
          "base_uri": "https://localhost:8080/",
          "height": 545
        },
        "id": "Pn_rJ_u2Rh42",
        "outputId": "7dc467ec-9c8b-43cd-ff53-489ee7c75b12"
      },
      "execution_count": null,
      "outputs": [
        {
          "output_type": "execute_result",
          "data": {
            "image/png": "[encoded data removed]",
            "text/plain": [
              "<IPython.core.display.Image object>"
            ]
          },
          "metadata": {},
          "execution_count": 42
        }
      ]
    },
    {
      "cell_type": "code",
      "metadata": {
        "id": "2oNjPeicOj4j",
        "colab": {
          "base_uri": "https://localhost:8080/"
        },
        "outputId": "a3234bc3-3bb6-412f-85c7-10447af4b9e1"
      },
      "source": [
        "from keras.models import Model\n",
        "from keras.layers import Input, Dense\n",
        "\n",
        "# this function returns a compiled model using the functional API\n",
        "\n",
        "def define_model_by_functional_api(input_dim = 4, first_layer=64, output_class=3):\n",
        "    '''\n",
        "    returns a compiled model using the functional API\n",
        "    Argument:\n",
        "      input_dim: dimensionalities of the input data\n",
        "      first_layer: number of neurons in the first layer\n",
        "      output_class: how many classes to predict as output\n",
        "    Config:\n",
        "      Three layers: input, hidden1, output\n",
        "      hidden1 has first_layer/2 neurons\n",
        "    Return:\n",
        "      Compiled model\n",
        "    '''\n",
        "    # first key difference is that you need\n",
        "    # a Input layer to handle the input data\n",
        "    # which is merged in the first hidden layer\n",
        "    # using the Sequential API\n",
        "    input1 = Input(shape=(input_dim,))\n",
        "    # first hidden layer\n",
        "    # each layer in the functional API needs to be named\n",
        "    # and at the end of each layer you need to explicitly\n",
        "    # say what is the input of each layer\n",
        "    hidden1 = Dense(first_layer, activation='relu')(input1)\n",
        "    hidden2 = Dense(int(first_layer/2), activation='relu')(hidden1)\n",
        "    output = Dense(output_class, activation='softmax')(hidden2)\n",
        "    # just need to tell Keras what is the input and output of the model\n",
        "    # keras will automatically link the layers in sequence\n",
        "    model = Model(inputs=input1, outputs=output)\n",
        "    model.compile(loss='categorical_crossentropy', optimizer='adam', metrics=['accuracy'])\n",
        "    return model\n",
        "\n",
        "fun_model = define_model_by_functional_api()\n",
        "fun_model.summary()"
      ],
      "execution_count": null,
      "outputs": [
        {
          "output_type": "stream",
          "name": "stdout",
          "text": [
            "Model: \"model\"\n",
            "_________________________________________________________________\n",
            " Layer (type)                Output Shape              Param #   \n",
            "=================================================================\n",
            " input_1 (InputLayer)        [(None, 4)]               0         \n",
            "                                                                 \n",
            " dense_8 (Dense)             (None, 64)                320       \n",
            "                                                                 \n",
            " dense_9 (Dense)             (None, 32)                2080      \n",
            "                                                                 \n",
            " dense_10 (Dense)            (None, 3)                 99        \n",
            "                                                                 \n",
            "=================================================================\n",
            "Total params: 2,499\n",
            "Trainable params: 2,499\n",
            "Non-trainable params: 0\n",
            "_________________________________________________________________\n"
          ]
        }
      ]
    },
    {
      "cell_type": "markdown",
      "metadata": {
        "id": "U_FQ11TmRD5u"
      },
      "source": [
        "# Homework\n",
        "\n"
      ]
    },
    {
      "cell_type": "markdown",
      "metadata": {
        "id": "7UYgywWlSNyL"
      },
      "source": [
        "## Q1. Coding Problem (50%)\n",
        "\n",
        "With the help of [Part 2](#scrollTo=_Yaj2hVs1FqR&line=7&uniqifier=1), rewrite the model we defined in [Part 1](#scrollTo=Ldqhp20YX3_7) with the functional API."
      ]
    },
    {
      "cell_type": "code",
      "source": [
        "X_train.shape[1:]"
      ],
      "metadata": {
        "colab": {
          "base_uri": "https://localhost:8080/"
        },
        "id": "XKdtQbrCmHSx",
        "outputId": "a1cc3838-b30c-447d-a442-debaa1ad8333"
      },
      "execution_count": null,
      "outputs": [
        {
          "output_type": "execute_result",
          "data": {
            "text/plain": [
              "(28, 28, 1)"
            ]
          },
          "metadata": {},
          "execution_count": 45
        }
      ]
    },
    {
      "cell_type": "code",
      "source": [
        "from tensorflow.keras.layers import Input, Convolution2D, MaxPooling2D, Flatten, Dense\n",
        "from tensorflow.keras.models import Model\n",
        "\n",
        "inputs = Input(shape=X_train.shape[1:])\n",
        "hidden1 = Convolution2D(filters=32, kernel_size=(3, 3), activation='relu')(inputs)\n",
        "hidden2 = MaxPooling2D(pool_size=(2, 2))(hidden1)\n",
        "flatten = Flatten()(hidden2)\n",
        "hidden3 = Dense(256, activation='relu')(flatten)\n",
        "outputs = Dense(10, activation='softmax')(hidden3)\n",
        "\n",
        "model = Model(inputs=inputs, outputs=outputs)\n",
        "model.compile(loss='categorical_crossentropy',\n",
        "              optimizer='adam',\n",
        "              metrics=['accuracy'])\n"
      ],
      "metadata": {
        "id": "QIfIl-d-odEp"
      },
      "execution_count": null,
      "outputs": []
    },
    {
      "cell_type": "code",
      "source": [
        "model.summary()"
      ],
      "metadata": {
        "colab": {
          "base_uri": "https://localhost:8080/"
        },
        "id": "7VOx3hXloicq",
        "outputId": "93df8e2a-af76-438f-b6eb-d5e9c2cb142a"
      },
      "execution_count": null,
      "outputs": [
        {
          "output_type": "stream",
          "name": "stdout",
          "text": [
            "Model: \"model_2\"\n",
            "_________________________________________________________________\n",
            " Layer (type)                Output Shape              Param #   \n",
            "=================================================================\n",
            " input_7 (InputLayer)        [(None, 28, 28, 1)]       0         \n",
            "                                                                 \n",
            " conv2d_5 (Conv2D)           (None, 26, 26, 32)        320       \n",
            "                                                                 \n",
            " max_pooling2d_3 (MaxPooling  (None, 13, 13, 32)       0         \n",
            " 2D)                                                             \n",
            "                                                                 \n",
            " flatten_2 (Flatten)         (None, 5408)              0         \n",
            "                                                                 \n",
            " dense_13 (Dense)            (None, 256)               1384704   \n",
            "                                                                 \n",
            " dense_14 (Dense)            (None, 10)                2570      \n",
            "                                                                 \n",
            "=================================================================\n",
            "Total params: 1,387,594\n",
            "Trainable params: 1,387,594\n",
            "Non-trainable params: 0\n",
            "_________________________________________________________________\n"
          ]
        }
      ]
    },
    {
      "cell_type": "markdown",
      "metadata": {
        "id": "61FkiI9iSKKw"
      },
      "source": [
        "##Q2. Model Optimization Problem (50%)\n",
        "\n",
        "Select either the model in [Part 1](#scrollTo=Ldqhp20YX3_7), or the model you write [above](#scrollTo=7UYgywWlSNyL&line=3&uniqifier=1), try to tune some of the hyperparameters manually, and report the model performance(s) after the tuning.\n",
        "\n",
        "You need to change in all three categories below:\n",
        "1. adding more layers: you can add more pairs of ``Convolution2D`` and ``MaxPooling2D`` layers in the model;\n",
        "2. You can change the number of `filters` in each of the ``Convolution2D`` layers;\n",
        "3. You can change the ``kernel_size`` and ``pool_size`` in the ``Convolution2D`` and ``MaxPooling2D`` layers. Note they need to be square and you can try to make them equal to each other.\n",
        "4. You can tweak the ``activation`` in the [output layer](#scrollTo=1nT8KhyFopPY&line=3&uniqifier=1). Consider following options: ``sigmoid``, ``tanh``, ``relu``.\n",
        "\n",
        "Write your code below, and report the best combination of your manual _hyperparameter tuning_.\n",
        "\n"
      ]
    },
    {
      "cell_type": "code",
      "metadata": {
        "id": "sAvy85H4UEJf",
        "colab": {
          "base_uri": "https://localhost:8080/"
        },
        "outputId": "ef5d67db-c166-44ed-a700-f68c2b44e161"
      },
      "source": [
        "from tensorflow.keras.layers import Input, Convolution2D, MaxPooling2D, Flatten, Dense, Dropout\n",
        "from tensorflow.keras.models import Model\n",
        "from tensorflow.keras.activations import sigmoid, tanh\n",
        "\n",
        "inputs = Input(shape=X_train.shape[1:])\n",
        "hidden1 = Convolution2D(filters=32, kernel_size=(3, 3), activation='relu')(inputs)\n",
        "hidden2 = MaxPooling2D(pool_size=(2, 2))(hidden1)\n",
        "drop1 = Dropout(0.25)(hidden2)\n",
        "hidden3 = Convolution2D(filters=64, kernel_size=(3, 3), activation='relu')(drop1)\n",
        "hidden4 = MaxPooling2D(pool_size=(2, 2))(hidden3)\n",
        "drop2 = Dropout(0.25)(hidden4)\n",
        "hidden5 = Convolution2D(filters=128, kernel_size=(3, 3), activation='relu')(drop2)\n",
        "hidden6 = MaxPooling2D(pool_size=(2, 2))(hidden5)\n",
        "drop3 = Dropout(0.25)(hidden6)\n",
        "flatten = Flatten()(drop3)\n",
        "hidden7 = Dense(256, activation='tanh')(flatten)\n",
        "drop4 = Dropout(0.5)(hidden7)\n",
        "\n",
        "outputs = Dense(10, activation='softmax')(drop4)\n",
        "\n",
        "model = Model(inputs=inputs, outputs=outputs)\n",
        "model.compile(loss='categorical_crossentropy',\n",
        "              optimizer='adam',\n",
        "              metrics=['accuracy'])\n",
        "\n",
        "model.fit(X_train, y_train, batch_size=32, epochs=10, validation_data=(X_test, y_test))\n",
        "\n"
      ],
      "execution_count": null,
      "outputs": [
        {
          "output_type": "stream",
          "name": "stdout",
          "text": [
            "Epoch 1/10\n",
            "1875/1875 [==============================] - 11s 5ms/step - loss: 0.2997 - accuracy: 0.9045 - val_loss: 0.0810 - val_accuracy: 0.9749\n",
            "Epoch 2/10\n",
            "1875/1875 [==============================] - 9s 5ms/step - loss: 0.1183 - accuracy: 0.9649 - val_loss: 0.0636 - val_accuracy: 0.9813\n",
            "Epoch 3/10\n",
            "1875/1875 [==============================] - 9s 5ms/step - loss: 0.0978 - accuracy: 0.9708 - val_loss: 0.0492 - val_accuracy: 0.9849\n",
            "Epoch 4/10\n",
            "1875/1875 [==============================] - 9s 5ms/step - loss: 0.0847 - accuracy: 0.9742 - val_loss: 0.0421 - val_accuracy: 0.9883\n",
            "Epoch 5/10\n",
            "1875/1875 [==============================] - 9s 5ms/step - loss: 0.0793 - accuracy: 0.9768 - val_loss: 0.0409 - val_accuracy: 0.9885\n",
            "Epoch 6/10\n",
            "1875/1875 [==============================] - 10s 5ms/step - loss: 0.0690 - accuracy: 0.9789 - val_loss: 0.0437 - val_accuracy: 0.9869\n",
            "Epoch 7/10\n",
            "1875/1875 [==============================] - 10s 5ms/step - loss: 0.0651 - accuracy: 0.9805 - val_loss: 0.0429 - val_accuracy: 0.9886\n",
            "Epoch 8/10\n",
            "1875/1875 [==============================] - 10s 5ms/step - loss: 0.0643 - accuracy: 0.9807 - val_loss: 0.0376 - val_accuracy: 0.9901\n",
            "Epoch 9/10\n",
            "1875/1875 [==============================] - 9s 5ms/step - loss: 0.0594 - accuracy: 0.9820 - val_loss: 0.0404 - val_accuracy: 0.9886\n",
            "Epoch 10/10\n",
            "1875/1875 [==============================] - 8s 5ms/step - loss: 0.0574 - accuracy: 0.9828 - val_loss: 0.0385 - val_accuracy: 0.9901\n"
          ]
        },
        {
          "output_type": "execute_result",
          "data": {
            "text/plain": [
              "<keras.callbacks.History at 0x7f26c5b24790>"
            ]
          },
          "metadata": {},
          "execution_count": 57
        }
      ]
    },
    {
      "cell_type": "markdown",
      "metadata": {
        "id": "AglsYQnfUJch"
      },
      "source": [
        "# Deep Learning & Business Analytics\n",
        "## Tutorial 1: Setting up the environment\n",
        "### Dr. Jie Tao, Fairfield University"
      ]
    },
    {
      "cell_type": "code",
      "metadata": {
        "id": "Ire4RcCXUKGH"
      },
      "source": [],
      "execution_count": null,
      "outputs": []
    }
  ]
}