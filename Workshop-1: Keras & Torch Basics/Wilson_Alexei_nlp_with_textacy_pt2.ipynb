{
  "nbformat": 4,
  "nbformat_minor": 0,
  "metadata": {
    "kernelspec": {
      "display_name": "Python 3",
      "language": "python",
      "name": "python3"
    },
    "language_info": {
      "codemirror_mode": {
        "name": "ipython",
        "version": 3
      },
      "file_extension": ".py",
      "mimetype": "text/x-python",
      "name": "python",
      "nbconvert_exporter": "python",
      "pygments_lexer": "ipython3",
      "version": "3.5.5"
    },
    "colab": {
      "provenance": []
    }
  },
  "cells": [
    {
      "cell_type": "markdown",
      "metadata": {
        "id": "kCVC8WOERP6R"
      },
      "source": [
        "# Natural Language Processing (NLP) with TextaCy\n",
        "\n",
        "In part 1, we focused on the preprocessing side of NLP. However, there are much more tasks with NLP. In this tutorial, we are going to cover some of these tasks, including:\n",
        "\n",
        "### Table of Contents\n",
        "- [Getting Started](#Getting-Started)\n",
        "- [Loading Data](#Loading-Data)\n",
        "- [More on Named Entities](#More-on-Named-Entities)\n",
        "- [Part-of-Speech (POS) Tagging](#Part-of-Speech-Tagging)\n",
        "- [NP & VP Chunking](#NP-&-VP-Chunking)\n",
        "- [Term Extraction](#Term-Extraction)\n",
        "- [Topic Modeling](#Topic-Modeling)\n",
        "- [Conclusion](#Conclusion)"
      ]
    },
    {
      "cell_type": "markdown",
      "metadata": {
        "id": "LDEeQlgeRP6X"
      },
      "source": [
        "## Getting Started\n",
        "\n",
        "We start with loading the `textacy` package again."
      ]
    },
    {
      "cell_type": "code",
      "metadata": {
        "id": "jBh8mdnw9KvD"
      },
      "source": [
        "!pip install textacy"
      ],
      "execution_count": null,
      "outputs": []
    },
    {
      "cell_type": "code",
      "metadata": {
        "id": "yT0NxhlDRP6X"
      },
      "source": [
        "import textacy"
      ],
      "execution_count": null,
      "outputs": []
    },
    {
      "cell_type": "code",
      "metadata": {
        "colab": {
          "base_uri": "https://localhost:8080/"
        },
        "id": "8LdpwkH794G-",
        "outputId": "5e90d146-b0f0-4cbe-b253-18db58cb62bf"
      },
      "source": [
        "import spacy.cli\n",
        "spacy.cli.download(\"en_core_web_sm\")"
      ],
      "execution_count": null,
      "outputs": [
        {
          "output_type": "stream",
          "name": "stdout",
          "text": [
            "\u001b[38;5;2m✔ Download and installation successful\u001b[0m\n",
            "You can now load the package via spacy.load('en_core_web_sm')\n"
          ]
        }
      ]
    },
    {
      "cell_type": "markdown",
      "metadata": {
        "id": "JYYl3dTwRP6Y"
      },
      "source": [
        "## Loading Data\n",
        "\n",
        "In this part, we will use the `CapitolWords()` dataset, which comes with TextaCy. We use the first 600 speeches."
      ]
    },
    {
      "cell_type": "code",
      "metadata": {
        "id": "ZbI4g_bMRP6Y",
        "colab": {
          "base_uri": "https://localhost:8080/"
        },
        "outputId": "ae188ed8-1708-40ec-cc79-8e3dd12e9af0"
      },
      "source": [
        "import textacy.datasets  # note the import\n",
        "cw = textacy.datasets.CapitolWords()\n",
        "cw.download()\n",
        "records = cw.records(limit=600)\n",
        "spacy_lang = textacy.load_spacy_lang(\"en_core_web_sm\", disable=(\"parser\",))\n",
        "corpus = textacy.Corpus(spacy_lang, data=records)\n",
        "print(corpus)"
      ],
      "execution_count": null,
      "outputs": [
        {
          "output_type": "stream",
          "name": "stderr",
          "text": [
            "100%|██████████| 11.9M/11.9M [00:00<00:00, 43.3MB/s]\n"
          ]
        },
        {
          "output_type": "stream",
          "name": "stdout",
          "text": [
            "Corpus(600 docs, 351729 tokens)\n"
          ]
        }
      ]
    },
    {
      "cell_type": "markdown",
      "metadata": {
        "id": "BZKL6JQlRP6Y"
      },
      "source": [
        "We can look at the basic statistics of the `corpus`."
      ]
    },
    {
      "cell_type": "code",
      "metadata": {
        "id": "sca9i9plRP6Y",
        "colab": {
          "base_uri": "https://localhost:8080/"
        },
        "outputId": "016867c6-4134-4e6e-87c4-b10f4ccc744e"
      },
      "source": [
        "corpus.n_docs, corpus.n_sents, corpus.n_tokens"
      ],
      "execution_count": null,
      "outputs": [
        {
          "output_type": "execute_result",
          "data": {
            "text/plain": [
              "(600, 0, 351729)"
            ]
          },
          "metadata": {},
          "execution_count": 5
        }
      ]
    },
    {
      "cell_type": "markdown",
      "metadata": {
        "id": "BRtmd0T6RP6Y"
      },
      "source": [
        "[Back to Top](#Table-of-Contents)"
      ]
    },
    {
      "cell_type": "markdown",
      "metadata": {
        "id": "ae_mGmTyRP6Z"
      },
      "source": [
        "## More on Named Entities\n",
        "\n",
        "In part 1, we touched upon named entities, however, we did not dig deep into them. Here are more on them ...\n",
        "\n",
        "Named entities are about different objects in the real world, which include: time/date (`TIME/DATE`), location (`GPE`), organization (`ORG`), people/person (`NORP/PERSON`), number (`CARDINAL`), money (`MONEY`), ...\n",
        "\n",
        "let's use the following example to show aforementioned types.\n",
        "\n",
        "__NOTE__: do you know how TextaCy knows about these entities? Answer is TextaCy relies on a pre-trained __classification__ model to \"guess\"! Since it is classification, sometimes the named entities will be mis-classified."
      ]
    },
    {
      "cell_type": "code",
      "metadata": {
        "id": "yfK7EC7qRP6Z",
        "colab": {
          "base_uri": "https://localhost:8080/"
        },
        "outputId": "0b09c5cc-dfb0-4388-a05d-ddb33d90ca1a"
      },
      "source": [
        "doc = corpus[1]\n",
        "for ent in textacy.extract.entities(doc, drop_determiners=True):\n",
        "    print(ent.text, ent.label_)"
      ],
      "execution_count": null,
      "outputs": [
        {
          "output_type": "stream",
          "name": "stdout",
          "text": [
            "Speaker PERSON\n",
            "40 days ago DATE\n"
          ]
        }
      ]
    },
    {
      "cell_type": "markdown",
      "metadata": {
        "id": "lCD8fZ_vRP6Z"
      },
      "source": [
        "In NLP practices, named entities can be very important (for instance, to determine the context of a document, in [information retrieval](https://en.wikipedia.org/wiki/Information_retrieval)) to not important at all (for instance, in [topic modeling](https://en.wikipedia.org/wiki/Topic_model)). So based on different tasks, we may use different strategies:\n",
        "- If they are important, extract them in a list;\n",
        "- If they are not important, replace them with their respective labels (e.g. `PERSON` for 'Clinton').\n",
        "\n",
        "### YOUR TURN HERE\n",
        "Extract all `PERSON` entities from `doc`, and store them in a list namely `person_lst`."
      ]
    },
    {
      "cell_type": "code",
      "metadata": {
        "id": "xe6EOLM2RP6a"
      },
      "source": [
        "#### Complete your code here\n"
      ],
      "execution_count": null,
      "outputs": []
    },
    {
      "cell_type": "markdown",
      "metadata": {
        "id": "zE7_ZNdXRP6a"
      },
      "source": [
        "[Back to Top](#Table-of-Contents)"
      ]
    },
    {
      "cell_type": "markdown",
      "metadata": {
        "id": "Na10jKqVRP6a"
      },
      "source": [
        "# Part-of-Speech Tagging\n",
        "\n",
        "After tokenization, spaCy/textaCy can parse and tag a given `Doc`. This is where the statistical model comes in, which enables spaCy/textaCy to make a prediction of which tag or label most likely applies in this context. A model consists of binary data and is produced by showing a system enough examples for it to make predictions that generalize across the language – for example, a word following “the” in English is most likely a __noun__.\n",
        "\n",
        "This is done using the `pos_` attribute provided with `token` objects."
      ]
    },
    {
      "cell_type": "code",
      "metadata": {
        "id": "rDCqKCwNRP6b",
        "colab": {
          "base_uri": "https://localhost:8080/"
        },
        "outputId": "360f2b2b-2b47-4cb2-a534-a296f0c678d5"
      },
      "source": [
        "for t in doc:\n",
        "    print(t, t.pos_)"
      ],
      "execution_count": null,
      "outputs": [
        {
          "output_type": "stream",
          "name": "stdout",
          "text": [
            "Mr. PROPN\n",
            "Speaker PROPN\n",
            ", PUNCT\n",
            "a DET\n",
            "relationship NOUN\n",
            ", PUNCT\n",
            "to PART\n",
            "work VERB\n",
            "and CCONJ\n",
            "survive VERB\n",
            ", PUNCT\n",
            "has AUX\n",
            "got VERB\n",
            "to PART\n",
            "be AUX\n",
            "honest ADJ\n",
            "and CCONJ\n",
            "we PRON\n",
            "have AUX\n",
            "got VERB\n",
            "to PART\n",
            "deal VERB\n",
            "with ADP\n",
            "each DET\n",
            "other ADJ\n",
            "in ADP\n",
            "good ADJ\n",
            "faith NOUN\n",
            ". PUNCT\n",
            "For ADP\n",
            "a DET\n",
            "government NOUN\n",
            "to PART\n",
            "govern VERB\n",
            "well ADV\n",
            ", PUNCT\n",
            "we PRON\n",
            "have AUX\n",
            "to PART\n",
            "be AUX\n",
            "honest ADJ\n",
            "and CCONJ\n",
            "we PRON\n",
            "have AUX\n",
            "to PART\n",
            "deal VERB\n",
            "with ADP\n",
            "each DET\n",
            "other ADJ\n",
            "in ADP\n",
            "good ADJ\n",
            "faith NOUN\n",
            ". PUNCT\n",
            "\n",
            " SPACE\n",
            "The DET\n",
            "President PROPN\n",
            "has AUX\n",
            "vetoed VERB\n",
            "every DET\n",
            "measure NOUN\n",
            "we PRON\n",
            "have AUX\n",
            "sent VERB\n",
            "to ADP\n",
            "him PRON\n",
            "that PRON\n",
            "would AUX\n",
            "balance VERB\n",
            "the DET\n",
            "budget NOUN\n",
            ". PUNCT\n",
            "He PRON\n",
            "has AUX\n",
            "a DET\n",
            "constitutional ADJ\n",
            "right NOUN\n",
            "to PART\n",
            "do AUX\n",
            "that DET\n",
            ". PUNCT\n",
            "If SCONJ\n",
            "he PRON\n",
            "believes VERB\n",
            "that SCONJ\n",
            "our PRON\n",
            "budget NOUN\n",
            "devastates VERB\n",
            "the DET\n",
            "elderly ADJ\n",
            ", PUNCT\n",
            "he PRON\n",
            "has AUX\n",
            "a DET\n",
            "moral ADJ\n",
            "obligation NOUN\n",
            "to PART\n",
            "fight VERB\n",
            "us PRON\n",
            ". PUNCT\n",
            "I PRON\n",
            "will AUX\n",
            "never ADV\n",
            ", PUNCT\n",
            "never ADV\n",
            "say VERB\n",
            "bad ADJ\n",
            "things NOUN\n",
            "about ADP\n",
            "somebody PRON\n",
            "that PRON\n",
            "follows VERB\n",
            "their PRON\n",
            "beliefs NOUN\n",
            "because SCONJ\n",
            "that DET\n",
            "is AUX\n",
            "what PRON\n",
            "they PRON\n",
            "should AUX\n",
            "do AUX\n",
            ". PUNCT\n",
            "There PRON\n",
            "comes VERB\n",
            "a DET\n",
            "time NOUN\n",
            ", PUNCT\n",
            "though ADV\n",
            ", PUNCT\n",
            "that SCONJ\n",
            "one PRON\n",
            "has AUX\n",
            "an DET\n",
            "obligation NOUN\n",
            "to PART\n",
            "do AUX\n",
            "more ADJ\n",
            "than ADP\n",
            "just ADV\n",
            "say VERB\n",
            "no INTJ\n",
            ". PROPN\n",
            "\n",
            " SPACE\n",
            "Mr. PROPN\n",
            "President PROPN\n",
            ", PUNCT\n",
            "if SCONJ\n",
            "you PRON\n",
            "do AUX\n",
            "not PART\n",
            "like VERB\n",
            "our PRON\n",
            "view NOUN\n",
            "of ADP\n",
            "a DET\n",
            "balanced ADJ\n",
            "budget NOUN\n",
            ", PUNCT\n",
            "give VERB\n",
            "us PRON\n",
            "your PRON\n",
            "view NOUN\n",
            ". PUNCT\n",
            "We PRON\n",
            "can AUX\n",
            "not PART\n",
            "negotiate VERB\n",
            "against ADP\n",
            "ourselves PRON\n",
            "anymore ADV\n",
            ". PUNCT\n",
            "You PRON\n",
            "have AUX\n",
            "a DET\n",
            "legal ADJ\n",
            "and CCONJ\n",
            "a DET\n",
            "moral ADJ\n",
            "obligation NOUN\n",
            "to PART\n",
            "fight VERB\n",
            "us PRON\n",
            "when SCONJ\n",
            "you PRON\n",
            "think VERB\n",
            "we PRON\n",
            "are AUX\n",
            "wrong ADJ\n",
            ". PUNCT\n",
            "You PRON\n",
            "have AUX\n",
            "a DET\n",
            "legal ADJ\n",
            "and CCONJ\n",
            "moral ADJ\n",
            "obligation NOUN\n",
            "to PART\n",
            "fulfill VERB\n",
            "your PRON\n",
            "commitment NOUN\n",
            "you PRON\n",
            "made VERB\n",
            "40 NUM\n",
            "days NOUN\n",
            "ago ADV\n",
            "to PART\n",
            "put VERB\n",
            "a DET\n",
            "budget NOUN\n",
            "on ADP\n",
            "the DET\n",
            "table NOUN\n",
            "that SCONJ\n",
            "balances VERB\n",
            ". PUNCT\n",
            "Please INTJ\n",
            "fulfill VERB\n",
            "your PRON\n",
            "obligation NOUN\n",
            ". PUNCT\n"
          ]
        }
      ]
    },
    {
      "cell_type": "markdown",
      "metadata": {
        "id": "8x5D6BMJRP6b"
      },
      "source": [
        "### YOUR TURN HERE\n",
        "Extract all non-stop verbs (`.pos_ == 'VERB'`) in its lemma form (`.lemma_`) from `doc`.\n",
        "\n",
        "__HINT__: non-stop words can be filtered using the `is_stop` attribute of any token `t`."
      ]
    },
    {
      "cell_type": "code",
      "metadata": {
        "id": "WlxUYST1RP6b"
      },
      "source": [
        "#### Complete your code here\n"
      ],
      "execution_count": null,
      "outputs": []
    },
    {
      "cell_type": "markdown",
      "metadata": {
        "id": "EDOtPbSsRP6b"
      },
      "source": [
        "### Additional Task\n",
        "\n",
        "From above results, you can observe that many verbs are duplicated in the list. How can you remove the duplicates from the list? Can you return the number of unique (non-duplicate) verbs in `doc`?\n",
        "\n",
        "__HINT__: Which of Python's data types forbids duplicates?"
      ]
    },
    {
      "cell_type": "code",
      "metadata": {
        "id": "i06qzogeRP6b"
      },
      "source": [
        "#### Complete your code here\n"
      ],
      "execution_count": null,
      "outputs": []
    },
    {
      "cell_type": "markdown",
      "metadata": {
        "id": "frxt-cm_RP6b"
      },
      "source": [
        "[Back to Top](#Table-of-Contents)"
      ]
    },
    {
      "cell_type": "markdown",
      "metadata": {
        "id": "2aDYgZGNRP6c"
      },
      "source": [
        "## NP & VP Chunking\n",
        "\n",
        "From common sense, we know that words (tokens) may not be the most useful linguistic unit in text. Sometimes, phrases formed by words contain inseparable senses in text. Identifying phrases in text is called phrase chunking. Phrase chunking is a natural language process that separates and segments a sentence into its subconstituents, such as noun, verb, and prepositional phrases. [Source: Wikipedia](https://en.wikipedia.org/wiki/Phrase_chunking).\n",
        "\n",
        "In practices, we focus mainly on Noun Phrases (NP) and Verb Phrases (VP).\n",
        "\n",
        "For NP Chunking, textaCy provides a built-in method (`textacy.extract.noun_chunks()`):"
      ]
    },
    {
      "cell_type": "code",
      "metadata": {
        "id": "Dx4gBsiqRP6c",
        "colab": {
          "base_uri": "https://localhost:8080/"
        },
        "outputId": "191f5f34-2c26-407c-edc6-70ecaa952579"
      },
      "source": [
        "import en_core_web_sm\n",
        "nlp = spacy.load('en_core_web_sm')\n",
        "doc = nlp(doc.text)\n",
        "for np in doc.noun_chunks:\n",
        "    # this is to guarantee we are getting multi-word phrases not individual words\n",
        "    if len(np.text.split()) > 1:\n",
        "        print(np.text.lower())"
      ],
      "execution_count": null,
      "outputs": [
        {
          "output_type": "stream",
          "name": "stdout",
          "text": [
            "mr. speaker\n",
            "a relationship\n",
            "good faith\n",
            "a government\n",
            "good faith\n",
            "the president\n",
            "every measure\n",
            "the budget\n",
            "a constitutional right\n",
            "our budget\n",
            "a moral obligation\n",
            "bad things\n",
            "their beliefs\n",
            "an obligation\n",
            "no.\n",
            "mr. president\n",
            "our view\n",
            "a balanced budget\n",
            "your view\n",
            "a moral obligation\n",
            "a legal and moral obligation\n",
            "your commitment\n",
            "a budget\n",
            "the table\n",
            "your obligation\n"
          ]
        }
      ]
    },
    {
      "cell_type": "markdown",
      "metadata": {
        "id": "TuGlOX6uRP6c"
      },
      "source": [
        "Combining phrase (NP & VP) chunking with named entity extraction, you can extract more complicated linguistic patterns from text data.\n",
        "\n",
        "Below code can extract multi-word named entities from `doc`:"
      ]
    },
    {
      "cell_type": "code",
      "metadata": {
        "id": "kistfclzRP6d",
        "colab": {
          "base_uri": "https://localhost:8080/"
        },
        "outputId": "a6a93182-595a-40ec-e82b-c38d240e7d3f"
      },
      "source": [
        "for ent in textacy.extract.entities(doc, drop_determiners=True):\n",
        "    # this is to guarantee we are getting multi-word phrases not individual words\n",
        "    if len(ent.text.split()) > 1:\n",
        "        print(ent.text, ent.label_)"
      ],
      "execution_count": null,
      "outputs": [
        {
          "output_type": "stream",
          "name": "stdout",
          "text": [
            "40 days ago DATE\n"
          ]
        }
      ]
    },
    {
      "cell_type": "markdown",
      "metadata": {
        "id": "bjrIsAGbRP6d"
      },
      "source": [
        "Looks like with the help of machine learning, machines can understand a _little bit_ of text data, right?\n",
        "\n",
        "[Back to Top](#Table-of-Contents)\n",
        "\n",
        "Next, we are going to demonstrate advanced text analytics techniques.\n",
        "\n",
        "## Term Extraction\n",
        "\n",
        "We already learned how to extract words, named entities, or phrases from text. However, in text analytics, we do not treat every word/phrases equally - some of them are more important than others. We name these 'important' words/phrases as __terms__ (short for _terminologies_). Extracting terms from texts is an important NLP task.\n",
        "\n",
        "TextaCy provides several term extraction methods."
      ]
    },
    {
      "cell_type": "code",
      "metadata": {
        "id": "_t44dxebRP6d",
        "colab": {
          "base_uri": "https://localhost:8080/"
        },
        "outputId": "f6d629ba-8d15-49cd-a4f1-f253c4267a56"
      },
      "source": [
        "# Load Keyterms for TextRank & Srank\n",
        "# make sure you import the sub-package\n",
        "from textacy.extract.keyterms import sgrank, textrank\n",
        "# SGRank\n",
        "sgrank(doc, ngrams=(1, 2, 3, 4, 5, 6),\n",
        "                        normalize='lemma', window_size=5, topn=10, idf=None)\n"
      ],
      "execution_count": null,
      "outputs": [
        {
          "output_type": "execute_result",
          "data": {
            "text/plain": [
              "[('moral obligation', 0.12131134503660299),\n",
              " ('day', 0.08563881199743276),\n",
              " ('Mr. Speaker', 0.08483781171213839),\n",
              " ('balanced budget', 0.08364142686774778),\n",
              " ('elderly', 0.07926833805659778),\n",
              " ('measure', 0.06861594833317336),\n",
              " ('Mr. President', 0.06208019550980229),\n",
              " ('table', 0.047400354161288696),\n",
              " ('commitment', 0.04680068732871002),\n",
              " ('view', 0.045858332130837245)]"
            ]
          },
          "metadata": {},
          "execution_count": 13
        }
      ]
    },
    {
      "cell_type": "code",
      "metadata": {
        "id": "uR-kv_GpRP6e",
        "colab": {
          "base_uri": "https://localhost:8080/"
        },
        "outputId": "077cd98f-005d-4f5d-f0c9-dea8a95ba72e"
      },
      "source": [
        "# Text rank\n",
        "textrank(doc, normalize='lemma', topn=10)"
      ],
      "execution_count": null,
      "outputs": [
        {
          "output_type": "execute_result",
          "data": {
            "text/plain": [
              "[('balanced budget', 0.02452474186505362),\n",
              " ('moral obligation', 0.020061857095982145),\n",
              " ('Mr. President', 0.018238829856377058),\n",
              " ('bad thing', 0.015935365228319082),\n",
              " ('good faith', 0.015226173548070786),\n",
              " ('Mr. Speaker', 0.014177969796231593),\n",
              " ('constitutional right', 0.01234375107065918),\n",
              " ('view', 0.010340185533491218),\n",
              " ('belief', 0.007631827373029533),\n",
              " ('day', 0.007625216562535486)]"
            ]
          },
          "metadata": {},
          "execution_count": 14
        }
      ]
    },
    {
      "cell_type": "markdown",
      "metadata": {
        "id": "arO3dhUeRP6e"
      },
      "source": [
        "From these terms, can you get an understanding regarding the `doc`?\n",
        "\n",
        "[Back to Top](#Table-of-Contents)\n",
        "\n",
        "## Topic Modeling\n",
        "\n",
        "The most advanced technique for document understanding is named __Topic Modeling__, which relies on the (co-)occurrences of words/tokens/terms.\n",
        "\n",
        "TextaCy provides a method (`textacy.tm.topic_model.TopicModel`) for topic modeling purposes. To creating topic modeling, we need to generate word vectors, in which each word in represented using a vector. This functionality is built on scikit-learn.\n",
        "\n",
        "<img src='https://cdn-images-1.medium.com/max/1080/1*2r1yj0zPAuaSGZeQfG6Wtw.png' />"
      ]
    },
    {
      "cell_type": "code",
      "metadata": {
        "colab": {
          "base_uri": "https://localhost:8080/"
        },
        "id": "6P5fMHX1FnpH",
        "outputId": "028eadb4-6e36-49fe-fa54-a5751b0a9d78"
      },
      "source": [
        "doc = corpus[0]\n",
        "for t in textacy.extract.terms(nlp(doc.text), ngs=2, ents=True, ncs=True):\n",
        "  print(t)"
      ],
      "execution_count": null,
      "outputs": [
        {
          "output_type": "stream",
          "name": "stdout",
          "text": [
            "Mr. Speaker\n",
            "480,000 Federal\n",
            "Federal employees\n",
            "involuntary servitude\n",
            "280,000 Federal\n",
            "Federal employees\n",
            "financial obligations\n",
            "Mr. Speaker\n",
            "rectified immediately\n",
            "Newt Gingrich\n",
            "Republican leadership\n",
            "American people\n",
            "people hostage\n",
            "disastrous 7\n",
            "year balanced\n",
            "balanced budget\n",
            "budget plan\n",
            "Mr. Gingrich\n",
            "Republican leadership\n",
            "join Senator\n",
            "Senator Dole\n",
            "entire Senate\n",
            "continuing resolution\n",
            "reopen Government\n",
            "Mr. Speaker\n",
            "American people\n",
            "people want\n",
            "Speaker\n",
            "480,000\n",
            "280,000\n",
            "Speaker\n",
            "Republican\n",
            "House\n",
            "American\n",
            "7-year\n",
            "Georgia\n",
            "Gingrich\n",
            "Republican\n",
            "Dole\n",
            "Senate\n",
            "Speaker\n",
            "American\n",
            "480,000 Federal employees\n",
            "pay\n",
            "280,000 Federal employees\n",
            "they\n",
            "Virtually all\n",
            "workers\n",
            "mortgages\n",
            "\n",
            "Mr. Speaker\n",
            "what\n",
            "workers\n",
            "they\n",
            "their disastrous 7-year balanced budget plan\n",
            "gentleman\n",
            "Government\n",
            "\n",
            "Mr. Speaker\n",
            "that\n",
            "what\n",
            "that\n",
            "what\n",
            "they\n",
            "that\n",
            "what\n",
            "body\n"
          ]
        }
      ]
    },
    {
      "cell_type": "code",
      "metadata": {
        "id": "dsGAnaJyRP6e"
      },
      "source": [
        "from textacy.representations.vectorizers import Vectorizer\n",
        "\n",
        "# tokenized_docs = [t for t in textacy.extract.terms(nlp(doc.text), ngs=2, ents=True, ncs=True)\n",
        "#                   for doc in corpus[:1000]]\n",
        "tokenized_docs = []\n",
        "for doc in corpus[:10000]:\n",
        "\n",
        "  term_lst = [t.text for t in doc if t.is_stop == False]\n",
        "  # print(term_lst)\n",
        "  # break\n",
        "  tokenized_docs.append(term_lst)\n",
        "\n",
        "# tokenized_docs"
      ],
      "execution_count": null,
      "outputs": []
    },
    {
      "cell_type": "code",
      "metadata": {
        "id": "8ObsC1asRP6e"
      },
      "source": [
        "vectorizer = Vectorizer(\n",
        "     tf_type=\"linear\", idf_type=\"smooth\", norm=\"l2\", min_df = 1, max_df = 0.95,\n",
        "    max_n_terms=100000)"
      ],
      "execution_count": null,
      "outputs": []
    },
    {
      "cell_type": "code",
      "metadata": {
        "id": "c1AxsuDZRP6e"
      },
      "source": [
        "doc_term_matrix = vectorizer.fit_transform(tokenized_docs)"
      ],
      "execution_count": null,
      "outputs": []
    },
    {
      "cell_type": "code",
      "metadata": {
        "id": "YvqBg8tyRP6f",
        "colab": {
          "base_uri": "https://localhost:8080/"
        },
        "outputId": "e7553964-a2d0-4082-cf00-2eaa10280b56"
      },
      "source": [
        "vectorizer.terms_list[:5]"
      ],
      "execution_count": null,
      "outputs": [
        {
          "output_type": "execute_result",
          "data": {
            "text/plain": [
              "['\\n', '\\n ', '\\n \\n', '\\n \\n ', '!']"
            ]
          },
          "metadata": {},
          "execution_count": 19
        }
      ]
    },
    {
      "cell_type": "markdown",
      "metadata": {
        "id": "Ff-Prf8WRP6f"
      },
      "source": [
        "With a vectorized corpus (i.e. document-term matrix) and corresponding vocabulary (i.e. mapping of term strings to column indices in the matrix), we can then initialize and train a topic model:"
      ]
    },
    {
      "cell_type": "code",
      "metadata": {
        "id": "NYaHNTrdRP6f",
        "colab": {
          "base_uri": "https://localhost:8080/"
        },
        "outputId": "66bf042c-eef1-4df7-834d-c52f80d72c4d"
      },
      "source": [
        "from textacy.tm import TopicModel\n",
        "model = TopicModel('nmf', n_topics=20)\n",
        "model.fit(doc_term_matrix)\n",
        "model"
      ],
      "execution_count": null,
      "outputs": [
        {
          "output_type": "stream",
          "name": "stderr",
          "text": [
            "/usr/local/lib/python3.7/dist-packages/sklearn/decomposition/_nmf.py:1425: FutureWarning: `alpha` was deprecated in version 1.0 and will be removed in 1.2. Use `alpha_W` and `alpha_H` instead\n",
            "  FutureWarning,\n",
            "/usr/local/lib/python3.7/dist-packages/sklearn/decomposition/_nmf.py:294: FutureWarning: The 'init' value, when 'init=None' and n_components is less than n_samples and n_features, will be changed from 'nndsvd' to 'nndsvda' in 1.1 (renaming of 0.26).\n",
            "  FutureWarning,\n"
          ]
        },
        {
          "output_type": "execute_result",
          "data": {
            "text/plain": [
              "TopicModel(n_topics=20, model=NMF)"
            ]
          },
          "metadata": {},
          "execution_count": 20
        }
      ]
    },
    {
      "cell_type": "markdown",
      "metadata": {
        "id": "Z-XvzVglRP6f"
      },
      "source": [
        "Now let's transform the corpus and interpret our model:"
      ]
    },
    {
      "cell_type": "code",
      "metadata": {
        "id": "q9eKSrvURP6f",
        "colab": {
          "base_uri": "https://localhost:8080/"
        },
        "outputId": "bccd3932-50bb-4753-a491-b17d9d932a1c"
      },
      "source": [
        "doc_topic_matrix = model.transform(doc_term_matrix)"
      ],
      "execution_count": null,
      "outputs": [
        {
          "output_type": "stream",
          "name": "stderr",
          "text": [
            "/usr/local/lib/python3.7/dist-packages/sklearn/decomposition/_nmf.py:1425: FutureWarning: `alpha` was deprecated in version 1.0 and will be removed in 1.2. Use `alpha_W` and `alpha_H` instead\n",
            "  FutureWarning,\n"
          ]
        }
      ]
    },
    {
      "cell_type": "code",
      "metadata": {
        "id": "zi5JJnqBRP6f",
        "colab": {
          "base_uri": "https://localhost:8080/"
        },
        "outputId": "ca2d3deb-6e11-4b8f-8164-69787538f0e3"
      },
      "source": [
        "for topic_idx, top_terms in model.top_topic_terms(vectorizer.id_to_term, topics=[0,1]):\n",
        "    print(\"topic\", topic_idx, \":\", \"   \".join(top_terms))"
      ],
      "execution_count": null,
      "outputs": [
        {
          "output_type": "stream",
          "name": "stdout",
          "text": [
            "topic 0 : \n",
            "   people   going   think   money   —   -   ?   $   want\n",
            "topic 1 : rescinded   quorum   order   unanimous   consent   ask   President   Mr.   Madam   considered\n"
          ]
        }
      ]
    },
    {
      "cell_type": "markdown",
      "metadata": {
        "id": "i1C0qzz_RP6g"
      },
      "source": [
        "We can also in return look at the topic loading on the whole corpus, which can be used to determine the importance of each topic (the __higher__, the __better__)."
      ]
    },
    {
      "cell_type": "code",
      "metadata": {
        "id": "C0equNYFRP6g",
        "colab": {
          "base_uri": "https://localhost:8080/"
        },
        "outputId": "3997d857-364d-4212-99e9-f08363bc9de8"
      },
      "source": [
        "for i, val in enumerate(model.topic_weights(doc_topic_matrix)):\n",
        "    print(i, val)"
      ],
      "execution_count": null,
      "outputs": [
        {
          "output_type": "stream",
          "name": "stdout",
          "text": [
            "0 0.19807545137724936\n",
            "1 0.043578446563047955\n",
            "2 0.08209984579994019\n",
            "3 0.08196653092254862\n",
            "4 0.05216077361296061\n",
            "5 0.042154221460399655\n",
            "6 0.05694841350376371\n",
            "7 0.054951255750339684\n",
            "8 0.04347137230960228\n",
            "9 0.028572406425028393\n",
            "10 0.047705162070902266\n",
            "11 0.015067113870053451\n",
            "12 0.050642218869664635\n",
            "13 0.03591666213213334\n",
            "14 0.0359327617195277\n",
            "15 0.03294888949890313\n",
            "16 0.03188526459962627\n",
            "17 0.015045238509597146\n",
            "18 0.024430833709474468\n",
            "19 0.026447137295237278\n"
          ]
        }
      ]
    },
    {
      "cell_type": "markdown",
      "metadata": {
        "id": "fe6Qoc8bRP6g"
      },
      "source": [
        "We can also visualize the topics"
      ]
    },
    {
      "cell_type": "code",
      "metadata": {
        "id": "B4EShx5mRP6g",
        "colab": {
          "base_uri": "https://localhost:8080/",
          "height": 564
        },
        "outputId": "f20233c5-4fb3-4c23-d1f3-59c87f6b48e8"
      },
      "source": [
        "model.termite_plot(doc_term_matrix, vectorizer.id_to_term,\n",
        "                  topics=-1,  n_terms=25, sort_terms_by='seriation')"
      ],
      "execution_count": null,
      "outputs": [
        {
          "output_type": "execute_result",
          "data": {
            "text/plain": [
              "<matplotlib.axes._subplots.AxesSubplot at 0x7efed9cd4fd0>"
            ]
          },
          "metadata": {},
          "execution_count": 24
        },
        {
          "output_type": "display_data",
          "data": {
            "text/plain": [
              "<Figure size 790.964x602.522 with 1 Axes>"
            ],
            "image/png": "[encoded data removed]"
          },
          "metadata": {}
        }
      ]
    },
    {
      "cell_type": "markdown",
      "metadata": {
        "id": "ejZfOIGmRP6g"
      },
      "source": [
        "You can save the trained model for future use."
      ]
    },
    {
      "cell_type": "code",
      "metadata": {
        "id": "Q5yYoB7hRP6h"
      },
      "source": [
        "model.save('nmf-20topics.pkl')"
      ],
      "execution_count": null,
      "outputs": []
    },
    {
      "cell_type": "markdown",
      "metadata": {
        "id": "ralU1fLyRP6h"
      },
      "source": [
        "## Conclusion\n",
        "\n",
        "In this tutorial, we learned some advanced text analytics techniques, these techniques are either used to extract (semi-structured) information from text, or summarizing text using most important terms or topics.\n",
        "\n",
        "The techniques you learned in part 1 & 2 cover the most important NLP tasks in the field of text mining. Feel free to try them on your own.\n",
        "\n",
        "### Have fun text mining!\n",
        "\n",
        "### Useful Links\n",
        "- [TextaCy API references](https://textacy.readthedocs.io/en/0.10.1/api_reference/root.html)\n",
        "- [Natural Language Processing is Fun!](https://medium.com/@ageitgey/natural-language-processing-is-fun-9a0bff37854e)\n",
        "- [spaCy 101: Everything you need to know](https://spacy.io/usage/spacy-101)\n",
        "\n",
        "__PLEASE complete both parts of the tutorial and submit back using GitHub classroom.__"
      ]
    },
    {
      "cell_type": "code",
      "metadata": {
        "id": "mzSQSKJyRP6h"
      },
      "source": [],
      "execution_count": null,
      "outputs": []
    }
  ]
}