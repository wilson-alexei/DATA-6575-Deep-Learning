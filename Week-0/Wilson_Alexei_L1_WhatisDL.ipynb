{
  "nbformat": 4,
  "nbformat_minor": 0,
  "metadata": {
    "colab": {
      "provenance": [],
      "toc_visible": true
    },
    "kernelspec": {
      "name": "python3",
      "display_name": "Python 3"
    }
  },
  "cells": [
    {
      "cell_type": "markdown",
      "metadata": {
        "id": "0ML4O5u5Spt2"
      },
      "source": [
        "# Deep Learning & Artificial Intelligence\n",
        "## Deep Learning with Python, Chapter 1\n",
        "### Dr. Jie Tao, Fairfield University"
      ]
    },
    {
      "cell_type": "markdown",
      "metadata": {
        "id": "0XRnSxiQhPPp"
      },
      "source": [
        "# Chapter 1: What is Deep Learning\n",
        "\n",
        "- Machine Learning and Artificial Intelligence have become ubiquitous in our lives\n",
        "- As data scientists, we should be more __keen__ distinguishing __signals__ from __noises__\n",
        "  - Will AI replace human workers\n",
        "- With the knowledge gained in this course\n",
        "  - can we develop intelligent agents as a job?"
      ]
    },
    {
      "cell_type": "markdown",
      "metadata": {
        "id": "vjr7vu718uFG"
      },
      "source": [
        "# Background of Deep Learning\n",
        "## Deep Learning with Python, Chapter 1\n",
        "### Dr. Jie Tao, Fairfield University"
      ]
    },
    {
      "cell_type": "markdown",
      "metadata": {
        "id": "pmZMy4ZwjCuP"
      },
      "source": [
        "## AI, ML, & Deep Learning\n",
        "\n",
        "\n",
        "\n",
        "- Artificial Intelligence is:\n",
        "  - the effort to __automate intellectual tasks__ normally performed by humans.\n",
        "  - it is intractable to figure out explicit rules for solving more complex, fuzzy problems\n",
        "\n",
        "![image.png](https://drive.google.com/uc?export=view&id=1jLttTfRI-nbIQgd2PUCXAtbpF5zxRG6g)\n",
        "\n",
        "__Figure 1-1: AI, ML & DL__"
      ]
    },
    {
      "cell_type": "markdown",
      "metadata": {
        "id": "HmnqjjiZkLbj"
      },
      "source": [
        "## Review of Machine Learning\n",
        "\n",
        "- Could a computer go beyond “what we know how to order it to perform” and learn on its own how to perform a specified task?\n",
        "\n",
        "  - could a computer automatically learn data-processing rules by looking at data?\n",
        "  - A machine-learning system is trained rather than explicitly programmed.\n",
        "  - Compared to machine learning, deep learning is much less math-oriented\n",
        "\n",
        "<!--![ML vs. Programming](https://drek4537l1klr.cloudfront.net/chollet/Figures/01fig02.jpg)-->\n",
        "\n",
        "![image.png](https://drive.google.com/uc?export=view&id=1QQoVTOmXOtgW4-t3NQEYL8K-MUfftfmS)\n",
        "\n",
        "**Figure 1-2. Machine Learning vs. Classical Programming**"
      ]
    },
    {
      "cell_type": "markdown",
      "metadata": {
        "id": "ou1ASGy8k75R"
      },
      "source": [
        "## Learning Representations from Data\n",
        "\n",
        "- What are the fundamentals of machine learning?\n",
        "  - Input data points: text analytics (_text_); image processing (_images_);\n",
        "  - Examples of the expected output: what we used to know as __labels__;\n",
        "  - A way to measure whether the algorithm is doing a good job: what we use to know as __accuracy, f1-score, AUC__ ...\n",
        "- A machine-learning model transforms its _input data_ into _meaningful outputs_"
      ]
    },
    {
      "cell_type": "markdown",
      "metadata": {
        "id": "Ka6j2YIemCJj"
      },
      "source": [
        "## What is data representation?\n",
        "\n",
        "- Machine learning/Deep learning targets at __meaningfully transform data__\n",
        "- Representation is the intermediate state between inputs and outputs\n",
        "  - transformations of the data that make it more amenable to the task at hand\n",
        "\n",
        "<!--![coordinate change](https://drek4537l1klr.cloudfront.net/chollet/Figures/01fig04.jpg)-->\n",
        "\n",
        "![image.png](https://drive.google.com/uc?export=view&id=1hNPkgjiE58r-oUd3pqoE_LNxYyquXXw5)\n",
        "\n",
        "- This is a __good__ representation - but we did it __manually__\n",
        "  - this process cannot be __scaled__"
      ]
    },
    {
      "cell_type": "markdown",
      "metadata": {
        "id": "Zvpm3HrjnmNi"
      },
      "source": [
        "## So what does that mean for machine learning?\n",
        "\n",
        "- All machine-learning algorithms consist of automatically finding such transformations\n",
        "  - that turn data into more-useful representations for a given task.\n",
        "    - coordinate changes\n",
        "    - linear projections\n",
        "    - translations\n",
        "    - nonlinear operations"
      ]
    },
    {
      "cell_type": "markdown",
      "metadata": {
        "id": "g5bUQ1JJqLx2"
      },
      "source": [
        "## So what is machine learning after all?\n",
        "\n",
        "\n",
        "\n",
        "> searching for __useful representations__ of some input data, within a __predefined space of possibilities__, using guidance from a __feedback signal__\n",
        "\n",
        "In other words:\n",
        "- Transform training data\n",
        "- based on predefined labels\n",
        "- use evaluation metrics to adjust\n",
        "\n"
      ]
    },
    {
      "cell_type": "markdown",
      "metadata": {
        "id": "j6JoB3fF86SP"
      },
      "source": [
        "# Definition of Deep Learning\n",
        "## Deep Learning with Python, Chapter 1\n",
        "### Dr. Jie Tao, Fairfield University"
      ]
    },
    {
      "cell_type": "markdown",
      "metadata": {
        "id": "G5TJUC11_WEU"
      },
      "source": [
        "## 'Deep' in Deep Learning\n",
        "\n",
        "- One of the important goals of _deep learing_ is to learn the __data representations__ of the data\n",
        "  - Successive layers are used for this purpose\n",
        "- Number of layers is called __depth__\n",
        "  - Similar to decision tree models\n",
        "- Tens or hundreds of layers are used to transform the training data\n",
        "  - Traditional machine learning use 1 or 2 layers to learn data representations\n",
        "- The deep learning models have their roots in __neural networks__\n",
        "  - Different layers stacked on top of each other\n",
        "  - Original idea is to mimic the human brian\n"
      ]
    },
    {
      "cell_type": "markdown",
      "metadata": {
        "id": "LNuOnhhcApYi"
      },
      "source": [
        " ## Deep Learning Defined\n",
        "\n",
        " - Now we define deep learning as:\n",
        "\n",
        " > deep learning is a mathematical framework for learning representations from data\n",
        "\n",
        " - But how is that possible?\n",
        "\n",
        " <!--![CNN example1](https://drek4537l1klr.cloudfront.net/chollet/Figures/01fig05.jpg)-->\n",
        "\n",
        " ![image.png](https://drive.google.com/uc?export=view&id=15yX7ILYp3FQXE6P8VcHZ-exjefyP-Pvv)"
      ]
    },
    {
      "cell_type": "markdown",
      "metadata": {
        "id": "GrF4jnWnBKqS"
      },
      "source": [
        " ## Deep Learning Defined\n",
        "\n",
        " - Transforms the digit image into\n",
        "  - representations that are increasingly different from the original image and\n",
        "  - increasingly informative about the final result\n",
        "\n",
        "<!--![CNN Example2](https://drek4537l1klr.cloudfront.net/chollet/Figures/01fig06_alt.jpg)-->\n",
        "\n",
        "![image.png](https://drive.google.com/uc?export=view&id=1r8P1dCJqMuxOOGMlBpdizHsXE10a9gNI)"
      ]
    },
    {
      "cell_type": "markdown",
      "metadata": {
        "id": "VCpX-fHZBku2"
      },
      "source": [
        "## How Deep Learning Works\n",
        "\n",
        "- How (_supervised_) machine learning works:\n",
        "  - mapping inputs (e.g. _images_) to labels (e.g. `4`) by observing many example of the input-label pairs\n",
        "- Deep learning completes this process through a __sequence of layers__\n",
        "  - what a layer does to its input are through the __weights__\n",
        "  - which is a sequence of numbers\n",
        "  - amount of weights is determined by the number of __neurons__ in each layer\n",
        "  - These weights are the __parameters__ of deep learning models"
      ]
    },
    {
      "cell_type": "markdown",
      "metadata": {
        "id": "sNip4SYmPcW6"
      },
      "source": [
        "## How Deep Learning Works\n",
        "\n",
        "- _learning_ in deep learning refer to the process that:\n",
        "  - finding a set of values for the __weights__\n",
        "  - to __best__ mapping the _inputs_ to their respective _labels_\n",
        "- However, a deep learning model may contain millions, or even tens of millions of parameters\n",
        "  - Searching the best set of values is a difficult and time consuming task\n",
        "  - particularly changing one parameter may affect the behaviors of others"
      ]
    },
    {
      "cell_type": "markdown",
      "metadata": {
        "id": "kCGxse5GQXgO"
      },
      "source": [
        "## How Deep Learning Works\n",
        "\n",
        "- Below figure shows how deep learning models work\n",
        "  - but the question is that \"how do we know that the predicted value of the target ($\\hat{y}$) is close enough to the true value?\"\n",
        "\n",
        "<!--![ch1-5](https://drek4537l1klr.cloudfront.net/chollet/Figures/01fig07.jpg)-->\n",
        "\n",
        "![image.png](https://drive.google.com/uc?export=view&id=1AMa4bKF81LYZ7GYApIpBj7N_x3S9Mirq)"
      ]
    },
    {
      "cell_type": "markdown",
      "metadata": {
        "id": "1P6jhcSPjYvy"
      },
      "source": [
        "## How Deep Learning Works\n",
        "\n",
        "- To control you have to observe first\n",
        "  - we need to measure how close the predicted value ($\\hat{y}$) is from the actual value $y$.\n",
        "  - We call this as the __loss function__\n",
        "  - which measures the __performance__ of your deep learning models\n",
        "\n",
        "![ch1-6](https://drive.google.com/uc?export=view&id=1MCL5DcaVPG1T8QxdeB4KWVBct3WsvE37)"
      ]
    },
    {
      "cell_type": "markdown",
      "metadata": {
        "id": "XSyWiF1tk4Ii"
      },
      "source": [
        "## How Deep Learning Works\n",
        "\n",
        "- The most important trick in deep learning is to use the score from the __loss function__  as the feedback signal to _adjust the weights_\n",
        "  - in order to lower the __loss score__\n",
        "- This trick is termed as the __optimizer__\n",
        "  - we will explain how this works later\n",
        "- This is the _training process_ for any NN\n",
        "  - Objective: __minimize__ loss score\n",
        "\n",
        "<!--![ch1-7](https://drek4537l1klr.cloudfront.net/chollet/Figures/01fig09.jpg)-->\n",
        "\n",
        "\n",
        "![image.png](https://drive.google.com/uc?export=view&id=1ISxOOzTbS6OKtHAL1hTAe9vIYBW-xRM-)"
      ]
    },
    {
      "cell_type": "markdown",
      "metadata": {
        "id": "VMZineKFluiQ"
      },
      "source": [
        "## How Deep Learning Works\n",
        "\n",
        "- Initially, random values are assigned as the weights in the model\n",
        "  - Since it is _random_ transformation, the loss score might be _high_\n",
        "  - As we move through the training data, the weights should be optimized\n",
        "  - meaning the loss scoere should decrease\n",
        "  - This is called a __training loop__ (aka. _batch_)\n",
        "    - with enough batches, the loss score should be __minimized__\n",
        "  - That's why we need a fairly large training set"
      ]
    },
    {
      "cell_type": "markdown",
      "metadata": {
        "id": "dP1Zm8b6tJyp"
      },
      "source": [
        "## Deep Learning Applications\n",
        "\n",
        "- remarkable results on perceptual problems such as seeing and hearing—problems involving skills that seem natural and intuitive to humans but have long been elusive for machines.\n",
        "  - image classification\n",
        "  - speech recognition\n",
        "  - machine translation\n",
        "  - digital assistants\n",
        "  - autonomous driving\n",
        "  - ..."
      ]
    },
    {
      "cell_type": "markdown",
      "metadata": {
        "id": "Awpo6Q1wtkzN"
      },
      "source": [
        "## Deep Learning is not a Short Term Hype\n",
        "\n",
        "- In 1970s, the holy grail of AI is to build __human-level generic inteligence_\n",
        "  - which means intelligent agents can be as functional as human\n",
        "  - that led us into the first _AI winter_\n",
        "- Now we believe that modern AIs should be like\n",
        "\n",
        "> smart animals, which are specialized in vision, reading, ..."
      ]
    },
    {
      "cell_type": "markdown",
      "metadata": {
        "id": "qvanXWy3vfYh"
      },
      "source": [
        "## The Promise of AI\n",
        "\n",
        "- We’re only getting started in applying deep learning to many important problems for which it could prove transformative\n",
        "- AI is coming, whether you embrace it or not\n",
        "- AI will end up being applied to nearly every process that makes up our society and our daily lives, much like the internet is today.\n",
        "- It may take a while for AI to be deployed to its true potential—a potential the full extent of which no one has yet dared to dream - AI will transform our lives in a holistic way"
      ]
    },
    {
      "cell_type": "markdown",
      "metadata": {
        "id": "BdXIdEiU9Df_"
      },
      "source": [
        "# Review of Machine Learning\n",
        "## Deep Learning with Python, Chapter 1\n",
        "### Dr. Jie Tao, Fairfield University"
      ]
    },
    {
      "cell_type": "markdown",
      "metadata": {
        "id": "KyNDZC3BzKkg"
      },
      "source": [
        "## Review of Machine Learning (again)\n",
        "\n",
        "- Most of the machine-learning algorithms used in the industry today are __NOT__ deep-learning algorithms\n",
        "- Deep learning isn’t always the right tool for the job\n",
        "  - sometimes there isn’t enough data for deep learning to be applicable\n",
        "  - sometimes the problem is better solved by a different algorithm\n",
        "- In other words, deep learning should NOT be the only tool on your belt"
      ]
    },
    {
      "cell_type": "markdown",
      "metadata": {
        "id": "Gs-0-0qu0D2H"
      },
      "source": [
        "## Machine Learning Knowledge #1: Probabilistic Modeling\n",
        "\n",
        "- the application of the principles of statistics to data analysis\n",
        "  - one of the earliest forms and still widely applicable today\n",
        "  - one good example is Naive Bayes\n",
        "  - since we are inferring from the data - there is always uncertainty\n",
        "  - take classification as an example\n",
        "    - the classification results is always there is an `85%` probability that this customer is going to purchase from us\n"
      ]
    },
    {
      "cell_type": "markdown",
      "metadata": {
        "id": "iCX5QEmS0_4t"
      },
      "source": [
        "## Machine Learning Knowledge #2: Artificial Neural Networks\n",
        "\n",
        "- Artificial Neural Networks (ANNs), as the very primitive form of neural networks, are quite different from the variants discussed in this course\n",
        "- Back in the day we do not have an efficient way to train very large networks\n",
        "- until we invented gradient-descent optimization (which will be discussed later in this course)"
      ]
    },
    {
      "cell_type": "markdown",
      "metadata": {
        "id": "Fj0FsHnb2E9A"
      },
      "source": [
        "## Machine Learning Knowledge #3: Kernel Methods\n",
        "\n",
        "- First discussed in Support Vector Machines (SVMs)\n",
        "- in real life, a decision boundary __may not be linear__\n",
        "  - a decision boundary separates your data points into different classes\n",
        "  - a good decision boundary maximizes the __margin__\n",
        "- To solve the non-linear problems, we need to map data to a high-dimensional representation\n",
        "  - Again, sounds good on paper but impractical\n",
        "- This is known as the kernel methods (function), where original data points are transformed\n",
        "  - also why SVMs became popular (and hard to scale)"
      ]
    },
    {
      "cell_type": "markdown",
      "metadata": {
        "id": "g4cSuTJG3Vcr"
      },
      "source": [
        "## Machine Learning Knowledge #4: Other Machine Learning Techniques\n",
        "\n",
        "- Decision trees are flowchart-like structures that let you classify input data points or predict output values given inputs\n",
        "- Random Forest algorithm introduced a robust, practical take on decision-tree learning that\n",
        "  - involves building a large number of specialized decision trees and then ensembling their outputs.\n",
        "- gradient boosting machine is a machine-learning technique based on ensembling weak prediction models, generally decision trees.\n",
        "  - most popular one is eXtreme Gradient Boosting (XGBoost)\n",
        "- Aside from deep learning, Random Forest and XGBoost are performing very well\n",
        "  - We often use them as __baseline models__ when building our deep learning models"
      ]
    },
    {
      "cell_type": "markdown",
      "metadata": {
        "id": "WD4ph4hFBOYL"
      },
      "source": [
        "## What makes Deep Learning so Different?\n",
        "\n",
        "- Superior performance is not the only reason deep learning is so popular right now\n",
        "  - it also automates the most crucial step in machine learning: __feature engineering__\n",
        "- Since traditional machine learning usually let the input data go through at most _two_ transformations\n",
        "  - modeling complicated problems is too crude\n",
        "- Humans have to spend time tweaking the data so that they are:\n",
        "  - suitable for the modeling technique\n",
        "  - representative of the analytical problem"
      ]
    },
    {
      "cell_type": "markdown",
      "metadata": {
        "id": "v-gnpvCGCXRx"
      },
      "source": [
        "## What makes Deep Learning so Different?\n",
        "\n",
        "- So can we stack multiple traditional machine learning models so that they can be more successful?\n",
        "  - This is called __stacking-based ensemble__\n",
        "  - finding the best representation in the multi-layer model is very delicate\n",
        "- Deep learning provides _joint feature representation_\n",
        "  - if representation of one feature changes, the representation for the other feature also changes accordingly\n",
        "  - Also the features are learned in successive layers"
      ]
    },
    {
      "cell_type": "markdown",
      "metadata": {
        "id": "jH4AAxNkJ5OH"
      },
      "source": [
        "## Modern Machine Learning Landscape\n",
        "\n",
        "- Top performing models are either XGBoost or some type of deep learning, per Kaggle\n",
        "- In terms of Python packages, you need to be familiar with `keras` and `xgboost`\n",
        "  - most popularly, we use `tensorflow` as the backend of `keras` in building our deep learning models\n",
        "  - another package called `pytorch` is on the rising now"
      ]
    },
    {
      "cell_type": "markdown",
      "metadata": {
        "id": "acqtjjf8LFNP"
      },
      "source": [
        "## Deep Learning Hardware\n",
        "\n",
        "- In 2007, Nvidia launched [CUDA](https://developer.nvidia.com/about-cuda), a programming interface that use Nvdia GPUs for computing purposes\n",
        "  - Nvidia Titan X is 350 times faster than a CPU in your laptop\n",
        "  - Companies are investing on clusters of GPUs for training deep learning models\n",
        "- In 2016 Google launched its TPU chips that are possibly 10 times faster than the GPUs\n",
        "  - since we are using Colab, the TPU option is free-of-charge for us"
      ]
    },
    {
      "cell_type": "markdown",
      "metadata": {
        "id": "O3AonvHKM8pt"
      },
      "source": [
        "## Deep Learning Algorithms\n",
        "\n",
        "- As said before, due to the lack of an efficient training algoritm, ANN remained fairly shallow\n",
        "  - with 1 or 2 hidden layers\n",
        "- The main issue is __gradient diminishing/explosion__\n",
        "  - The weights are either too small/big after a few layers\n",
        "- We need a better training algorithm that includes:\n",
        "  - better __activation functions__\n",
        "  - better __weight initialization schemes__\n",
        "  - better __optimization methods__"
      ]
    },
    {
      "cell_type": "markdown",
      "metadata": {
        "id": "jPSKmGj4N5uy"
      },
      "source": [
        "## Deep Learning Software\n",
        "\n",
        "- `Theano` and `Tensorflow` are two symbolic tensor-manipulation frameworks for Python\n",
        "- `Keras` as an API building on `Theano` or `Tensorflow`\n",
        "  - which is very user friendly so that building deep learning models is like manipulating LEGO bricks\n",
        "  - quickly became the go-to deep-learning solution for deep learning\n",
        "- `pytorch` is a new API/framework for deep learning\n",
        "  - a lot of researchers are using it now\n",
        "  - some companies are adopting it as well\n",
        "- We will be using `keras` and `tensorflow` mainly in this course\n",
        "  - Since they are easy when building your own NNs from scratch\n",
        "  - it might not be a bad idea to try `torch` since it fits complex networks well"
      ]
    },
    {
      "cell_type": "markdown",
      "metadata": {
        "id": "lh3Z9VFwQ2tm"
      },
      "source": [
        "## Will this Hype Last?\n",
        "\n",
        "- For deep learning to last, its applications have to pertain the following three properties:\n",
        "  - _Simplicity_: good implementation should contain only __five or six different tensor operations__.\n",
        "  - _Scalability_: deep learning models needs to be trained on __multiple__ GPUs/TPUs at the same time, so that they can be trained on datasets of __arbitrary size__.\n",
        "  - _Versatility and reusability_: deep-learning models can be trained on additional data without restarting from scratch, making them viable for __continuous online learning__."
      ]
    },
    {
      "cell_type": "markdown",
      "metadata": {
        "id": "zMy19R_uTBKz"
      },
      "source": [
        "## Hands-on: Python Review & Starts with Keras\n",
        "\n",
        "Let's move on to the hands-on part of this class, in which we are going to do a bit of review on Python and starts our first `keras` code."
      ]
    },
    {
      "cell_type": "markdown",
      "metadata": {
        "id": "Q9JqSbwYS-jG"
      },
      "source": [
        "# Deep Learning & Artificial Intelligence\n",
        "## Deep Learning with Python, Chapter 1\n",
        "### Dr. Jie Tao, Fairfield University"
      ]
    },
    {
      "cell_type": "code",
      "metadata": {
        "id": "TdxD8CzEhLAr"
      },
      "source": [],
      "execution_count": null,
      "outputs": []
    }
  ]
}