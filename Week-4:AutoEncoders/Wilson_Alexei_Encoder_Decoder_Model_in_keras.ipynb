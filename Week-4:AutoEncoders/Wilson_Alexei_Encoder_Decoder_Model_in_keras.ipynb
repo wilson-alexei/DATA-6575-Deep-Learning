{
  "nbformat": 4,
  "nbformat_minor": 0,
  "metadata": {
    "colab": {
      "provenance": []
    },
    "kernelspec": {
      "name": "python3",
      "display_name": "Python 3"
    },
    "language_info": {
      "name": "python"
    }
  },
  "cells": [
    {
      "cell_type": "markdown",
      "source": [
        "# Encoder-Decoder Models\n",
        "\n",
        "By: Dr. Jie Tao\n",
        "\n",
        "Ver: 0.1\n",
        "\n",
        "[OP](https://blog.keras.io/a-ten-minute-introduction-to-sequence-to-sequence-learning-in-keras.html)\n",
        "\n",
        "The encoder-decoder model provides a pattern for using recurrent neural networks to address challenging sequence-to-sequence prediction problems such as machine translation.\n",
        "\n",
        "Encoder-decoder models can be developed in the Keras Python deep learning library and an example of a neural machine translation system developed with this model has been described on the Keras blog, with sample code distributed with the Keras project.\n",
        "\n",
        "This example can provide the basis for developing encoder-decoder LSTM models for your own sequence-to-sequence prediction problems.\n",
        "\n",
        "In this tutorial, you will discover how to develop a sophisticated encoder-decoder recurrent neural network for sequence-to-sequence prediction problems with Keras.\n",
        "\n",
        "After completing this tutorial, you will know:\n",
        "\n",
        "- How to correctly define a sophisticated encoder-decoder model in Keras for sequence-to-sequence prediction.\n",
        "- How to define a contrived yet scalable sequence-to-sequence prediction problem that you can use to evaluate the encoder-decoder LSTM model.\n",
        "- How to apply the encoder-decoder LSTM model in Keras to address the scalable integer sequence-to-sequence prediction problem.\n",
        "\n",
        "__NOTE__: Autoencoder is a special type of encoder-decoder model; when encoder and decoder are mirrored so the input and output are supposed to be identical. Sequence-to-sequence models, or encoder-decoder models, doesn't require the input and output to be identical, so the model artchitecures are not identical.\n"
      ],
      "metadata": {
        "id": "tcbSHf3SV8-T"
      }
    },
    {
      "cell_type": "markdown",
      "source": [
        "## What is sequence-to-sequence learning?\n",
        "Sequence-to-sequence learning (`Seq2Seq`) is about training models to convert sequences from one domain (e.g. sentences in English) to sequences in another domain (e.g. the same sentences translated to French).\n",
        "\n",
        "```python\n",
        "\"the cat sat on the mat\" -> [Seq2Seq model] -> \"le chat etait assis sur le tapis\"\n",
        "```\n",
        "This can be used for machine translation or for free-from question answering (generating a natural language answer given a natural language question) -- in general, it is applicable any time you need to generate text.\n",
        "\n",
        "There are multiple ways to handle this task, either using `RNN`s or using `1D convnet`s. Here we will focus on `RNN`s."
      ],
      "metadata": {
        "id": "_AeO4TY0J4EO"
      }
    },
    {
      "cell_type": "markdown",
      "source": [
        "## The trivial case: when input and output sequences have the same length\n",
        "When both input sequences and output sequences have the same length, you can implement such models simply with a `Keras LSTM` or `GRU` layer (or stack thereof). For example:\n",
        "\n",
        "<img src = \"https://blog.keras.io/img/seq2seq/addition-rnn.png\" />\n",
        "\n",
        "One caveat of this approach is that it assumes that it is possible to generate `target[...t]` given `input[...t]`. That works in some cases (e.g. adding strings of digits) but does not work for most use cases. In the general case, information about the entire input sequence is necessary in order to start generating the target sequence."
      ],
      "metadata": {
        "id": "FRMzOGIdKOiL"
      }
    },
    {
      "cell_type": "markdown",
      "source": [
        "## The general case: canonical sequence-to-sequence\n",
        "In the general case, input sequences and output sequences have __different__ lengths (e.g. machine translation) and the entire input sequence is required in order to start predicting the target. This requires a more advanced setup, which is what people commonly refer to when mentioning \"sequence to sequence models\" with no further context. Here's how it works:\n",
        "\n",
        "- A `RNN` layer (or stack thereof) acts as \"encoder\": it processes the input sequence and returns its own __internal state__. Note that we *discard* the outputs of the encoder RNN, only recovering the state. This state will serve as the \"context\", or \"conditioning\", of the decoder in the next step.\n",
        "- Another `RNN` layer (or stack thereof) acts as \"decoder\": it is trained to predict the next characters of the target sequence, given previous characters (context) of the target sequence. Specifically, it is trained to turn the target sequences into the same sequences but **offset by one timestep** in the future, a training process called **teacher forcing** in this context. Importantly, the encoder uses as **initial state** the state vectors from the encoder (as input), which is how the decoder obtains information about what it is supposed to generate. Effectively, the decoder learns to generate `targets[t+1...]` given `targets[...t]`, conditioned on the input sequence.\n",
        "\n",
        "<img src = \"https://blog.keras.io/img/seq2seq/seq2seq-teacher-forcing.png\" />\n"
      ],
      "metadata": {
        "id": "5dXla_7pKwbj"
      }
    },
    {
      "cell_type": "markdown",
      "source": [
        "In inference mode, i.e. when we want to decode unknown input sequences, we go through a slightly different process:\n",
        "\n",
        "1. Encode the input sequence into state vectors.\n",
        "2. Start with a target sequence of size 1 (just the start-of-sequence character).\n",
        "3. Feed the state vectors and 1-char target sequence to the decoder to produce predictions for the next character.\n",
        "4. Sample the next character using these predictions (we simply use `argmax`).\n",
        "5. Append the sampled character to the target sequence\n",
        "6. Repeat until we generate the end-of-sequence character or we hit the character limit.\n",
        "\n",
        "<img src = \"https://blog.keras.io/img/seq2seq/seq2seq-inference.png\" />"
      ],
      "metadata": {
        "id": "3jME6B3RLftf"
      }
    },
    {
      "cell_type": "markdown",
      "source": [
        "## Encoder-Decoder Model in Keras\n",
        "The encoder-decoder model is a way of organizing recurrent neural networks for sequence-to-sequence prediction problems.\n",
        "\n",
        "It was originally developed for machine translation problems, although it has proven successful at related sequence-to-sequence prediction problems such as text summarization and question answering.\n",
        "\n",
        "The approach involves two recurrent neural networks, one to encode the source sequence, called the encoder, and a second to decode the encoded source sequence into the target sequence, called the decoder."
      ],
      "metadata": {
        "id": "5PJNmmYQXH8E"
      }
    },
    {
      "cell_type": "code",
      "execution_count": null,
      "metadata": {
        "id": "KtPzbn3UVzuT"
      },
      "outputs": [],
      "source": [
        "# from random import randint\n",
        "import numpy as np\n",
        "from tensorflow.keras.utils import to_categorical, plot_model\n",
        "from tensorflow.keras.models import Model\n",
        "from tensorflow.keras.layers import Input, LSTM, Dense"
      ]
    },
    {
      "cell_type": "markdown",
      "source": [
        "We can define a function for the model."
      ],
      "metadata": {
        "id": "8I1_cb9ZXllc"
      }
    },
    {
      "cell_type": "code",
      "source": [
        "n_input = 51\n",
        "n_output = 51\n",
        "n_units = 128"
      ],
      "metadata": {
        "id": "C3r8W-FeYL_G"
      },
      "execution_count": null,
      "outputs": []
    },
    {
      "cell_type": "code",
      "source": [
        "# define training encoder\n",
        "encoder_inputs = Input(shape=(None, n_input))\n",
        "encoder = LSTM(n_units, return_state=True)\n",
        "encoder_outputs, state_h, state_c = encoder(encoder_inputs)\n",
        "# We discard `encoder_outputs` and only keep the states.\n",
        "encoder_states = [state_h, state_c]\n",
        "\n",
        "# define training decoder\n",
        "decoder_inputs = Input(shape=(None, n_output))\n",
        "# We set up our decoder to return full output sequences,\n",
        "# and to return internal states as well. We don't use the\n",
        "# return states in the training model, but we will use them in inference.\n",
        "decoder_lstm = LSTM(n_units, return_sequences=True, return_state=True)\n",
        "decoder_outputs, _, _ = decoder_lstm(decoder_inputs, initial_state=encoder_states)\n",
        "\n",
        "decoder_dense = Dense(n_output, activation='softmax')\n",
        "decoder_outputs = decoder_dense(decoder_outputs)\n",
        "model = Model([encoder_inputs, decoder_inputs], decoder_outputs)\n",
        "\n",
        "# define inference encoder\n",
        "encoder_model = Model(encoder_inputs, encoder_states)\n",
        "\n",
        "# define inference decoder\n",
        "decoder_state_input_h = Input(shape=(n_units,))\n",
        "decoder_state_input_c = Input(shape=(n_units,))\n",
        "decoder_states_inputs = [decoder_state_input_h, decoder_state_input_c]\n",
        "decoder_outputs, state_h, state_c = decoder_lstm(decoder_inputs, initial_state=decoder_states_inputs)\n",
        "decoder_states = [state_h, state_c]\n",
        "decoder_outputs = decoder_dense(decoder_outputs)\n",
        "decoder_model = Model([decoder_inputs] + decoder_states_inputs, [decoder_outputs] + decoder_states)"
      ],
      "metadata": {
        "id": "a-wYzQcVYDKp"
      },
      "execution_count": null,
      "outputs": []
    },
    {
      "cell_type": "markdown",
      "source": [
        "Let's plot the overall architecture of the encoder-decoder model."
      ],
      "metadata": {
        "id": "mEgtK53gZYLh"
      }
    },
    {
      "cell_type": "code",
      "source": [
        "plot_model(model, show_layer_activations=True, show_shapes=True)"
      ],
      "metadata": {
        "colab": {
          "base_uri": "https://localhost:8080/",
          "height": 422
        },
        "id": "HP-nUpOmYxEp",
        "outputId": "ff65bdc6-852f-4b90-d379-67823da2794f"
      },
      "execution_count": null,
      "outputs": [
        {
          "output_type": "execute_result",
          "data": {
            "image/png": "[encoded data removed]",
            "text/plain": [
              "<IPython.core.display.Image object>"
            ]
          },
          "metadata": {},
          "execution_count": 55
        }
      ]
    },
    {
      "cell_type": "markdown",
      "source": [
        "#### Answer the Question:\n",
        "\n",
        "Can you tell what `input_2` is?"
      ],
      "metadata": {
        "id": "akmm6YLRZg06"
      }
    },
    {
      "cell_type": "markdown",
      "source": [
        "Let's take a look at the __inference__ `encoder` and `decoder` model separately (we use them to make predictions)."
      ],
      "metadata": {
        "id": "nLiUgF92ZziY"
      }
    },
    {
      "cell_type": "code",
      "source": [
        "plot_model(encoder_model, show_layer_activations=True, show_shapes=True)"
      ],
      "metadata": {
        "colab": {
          "base_uri": "https://localhost:8080/",
          "height": 201
        },
        "id": "nD4_F0pwZSQ5",
        "outputId": "daebb57f-8369-4735-a372-23e83b081c8d"
      },
      "execution_count": null,
      "outputs": [
        {
          "output_type": "execute_result",
          "data": {
            "image/png": "[encoded data removed]",
            "text/plain": [
              "<IPython.core.display.Image object>"
            ]
          },
          "metadata": {},
          "execution_count": 56
        }
      ]
    },
    {
      "cell_type": "code",
      "source": [
        "plot_model(decoder_model, show_layer_activations=True, show_shapes=True)"
      ],
      "metadata": {
        "colab": {
          "base_uri": "https://localhost:8080/",
          "height": 312
        },
        "id": "G8NydbLRY0PD",
        "outputId": "3a656b09-1baf-44f8-a235-1af8744cf9a4"
      },
      "execution_count": null,
      "outputs": [
        {
          "output_type": "execute_result",
          "data": {
            "image/png": "[encoded data removed]",
            "text/plain": [
              "<IPython.core.display.Image object>"
            ]
          },
          "metadata": {},
          "execution_count": 57
        }
      ]
    },
    {
      "cell_type": "markdown",
      "source": [
        "### How encoder-decoder work?\n",
        "\n",
        "If we try to use the sequence `[1,2,3]` to predict the target sequence `[4,5,6]`. The inputs and outputs to the model during training would be:\n",
        "\n",
        "```python\n",
        "Input1: ['1', '2', '3']\n",
        "Input2: ['_', '4', '5']\n",
        "Output: ['4', '5', '6']\n",
        "```\n",
        "\n",
        "The model is intended to be called recursively when generating target sequences for new source sequences.\n",
        "\n",
        "The source sequence is encoded and the target sequence is generated one element at a time, using a “start of sequence” character such as `_` to start the process. Therefore, in the above case, the following input-output pairs would occur during training:\n",
        "\n",
        "```python\n",
        "step,  Input1,\t\t  Input2,\t Output\n",
        "   1,  ['1', '2', '3'],\t'_',\t\t'4'\n",
        "   2,  ['1', '2', '3'],\t'4',\t\t'5'\n",
        "   3,  ['1', '2', '3'],\t'5',\t\t'6'\n",
        "```"
      ],
      "metadata": {
        "id": "kHrk7uCkaRnX"
      }
    },
    {
      "cell_type": "markdown",
      "source": [
        "Here you can see how the recursive use of the model can be used to build up output sequences.\n",
        "\n",
        "During prediction, the inference_encoder model is used to encode the input sequence once which returns states that are used to initialize the inference_decoder model. From that point, the inference_decoder model is used to generate predictions step by step.\n",
        "\n",
        "The function below named `predict_sequence()` can be used after the model is trained to generate a target sequence given a source sequence."
      ],
      "metadata": {
        "id": "D9RzwRTgbAfF"
      }
    },
    {
      "cell_type": "code",
      "source": [
        "def predict_sequence(infenc, infdec, source, n_steps, cardinality):\n",
        "  \"\"\"\n",
        "  generate target given source sequence\n",
        "  ARGs:\n",
        "  - infenc: Inference encoder model used when making a prediction for a new source sequence.\n",
        "  - infdec: Inference decoder model use when making a prediction for a new source sequence.\n",
        "  - source: Encoded source sequence.\n",
        "  - n_steps: Number of time steps in the target sequence.\n",
        "  - cardinality: The cardinality of the output sequence,\n",
        "  e.g. the number of features, words, or characters for each time step.\n",
        "  \"\"\"\n",
        "  # encode\n",
        "  state = infenc.predict(source)\n",
        "\t# start of sequence input\n",
        "  target_seq = np.array([0.0 for _ in range(cardinality)]).reshape(1, 1, cardinality)\n",
        "\t# collect predictions\n",
        "  output = list()\n",
        "  for t in range(n_steps):\n",
        "    # predict next char\n",
        "    yhat, h, c = infdec.predict([target_seq] + state, verbose=0)\n",
        "    # store prediction\n",
        "    output.append(yhat[0,0,:])\n",
        "\t\t# update state\n",
        "    state = [h, c]\n",
        "\t\t# update target sequence\n",
        "    target_seq = yhat\n",
        "  return np.array(output)"
      ],
      "metadata": {
        "id": "1DySRqtYbADH"
      },
      "execution_count": null,
      "outputs": []
    },
    {
      "cell_type": "markdown",
      "source": [
        "In order to make sure the model works, let's generate some training and testing data. In this case, both sets contains series of randomly generated integer values, such as `[20, 36, 40, 10, 34, 28]`, and the target sequence is a reversed pre-defined subset of the input sequence, such as the first 3 elements in reverse order `[40, 36, 20]`.\n",
        "\n",
        "The length of the source sequence is configurable; so is the cardinality of the input and output sequence and the length of the target sequence. For example:\n",
        "\n",
        "```python\n",
        "Source,\t\t\t\t\t\tTarget\n",
        "[13, 28, 18, 7, 9, 5]\t\t[18, 28, 13]\n",
        "[29, 44, 38, 15, 26, 22]\t[38, 44, 29]\n",
        "[27, 40, 31, 29, 32, 1]\t\t[31, 40, 27]\n",
        "...\n",
        "```\n",
        "\n",
        "Let’s start off by defining a function to generate a sequence of random integers.\n",
        "\n",
        "We will use the value of `0` as the padding or start of sequence character, therefore it is reserved and we cannot use it in our source sequences. To achieve this, we will add 1 to our configured cardinality to ensure the one-hot encoding is large enough (e.g. a value of `1` maps to a `1` value in index 1)."
      ],
      "metadata": {
        "id": "sVvdqoPWM5ug"
      }
    },
    {
      "cell_type": "code",
      "source": [
        "# generate a sequence of random integers\n",
        "import random\n",
        "def generate_sequence(length, n_unique):\n",
        "\treturn [random.randint(1, n_unique-1) for _ in range(length)]"
      ],
      "metadata": {
        "id": "jLlVuM13bIO6"
      },
      "execution_count": null,
      "outputs": []
    },
    {
      "cell_type": "markdown",
      "source": [
        "Next, we need to create the corresponding output sequence given the source sequence.\n",
        "\n",
        "To keep thing simple, we will select the first n elements of the source sequence as the target sequence and reverse them.\n",
        "\n",
        "```python\n",
        "# define target sequence\n",
        "target = source[:n_out]\n",
        "target.reverse()\n",
        "```\n",
        "\n",
        "We also need a version of the output sequence shifted forward by one time step that we can use as the mock target generated so far, including the start of sequence value in the first time step. We can create this from the target sequence directly.\n",
        "\n",
        "```python\n",
        "# create padded input target sequence\n",
        "target_in = [0] + target[:-1]\n",
        "```\n",
        "\n",
        "Put things together, we can use the function below to generate the sequences we needed."
      ],
      "metadata": {
        "id": "yqgL6L1WNjk2"
      }
    },
    {
      "cell_type": "code",
      "source": [
        "# prepare data for the LSTM\n",
        "def get_dataset(n_input, n_output, cardinality, n_samples):\n",
        "  X1, X2, y = list(), list(), list()\n",
        "  for _ in range(n_samples):\n",
        "   # generate source sequence\n",
        "   source = generate_sequence(n_input, cardinality)\n",
        "   #print(source)\n",
        "   # define target sequence\n",
        "   target = source[:n_output]#[::-1]\n",
        "   target.reverse()\n",
        "   #print(target)\n",
        "   # create padded input target sequence\n",
        "   target_in = [0] + target[:-1]\n",
        "   #print(target_in)\n",
        "   # encode\n",
        "   src_encoded = to_categorical(source, num_classes=cardinality)\n",
        "   tar_encoded = to_categorical(target, num_classes=cardinality)\n",
        "   tar2_encoded = to_categorical(target_in, num_classes=cardinality)\n",
        "   # store\n",
        "   X1.append(src_encoded) ### input 1: original sequences\n",
        "   X2.append(tar2_encoded) ### input 2: 1 number shifted sequences\n",
        "   y.append(tar_encoded) ### target\n",
        "  return np.array(X1), np.array(X2), np.array(y)"
      ],
      "metadata": {
        "id": "bUjsOWkeNcuz"
      },
      "execution_count": null,
      "outputs": []
    },
    {
      "cell_type": "markdown",
      "source": [
        "inally, we need to be able to make the predicted sequences readable: the predicted are probabilities, we need to make them integers.\n",
        "\n",
        "This is needed for both printing the generated target sequences but also for easily comparing whether the full predicted target sequence matches the expected target sequence. The `one_hot_decode()` function will decode an encoded sequence."
      ],
      "metadata": {
        "id": "boy9K3wDOOEY"
      }
    },
    {
      "cell_type": "code",
      "source": [
        "# decode a one hot encoded string\n",
        "def one_hot_decode(encoded_seq):\n",
        "\treturn [np.argmax(vector) for vector in encoded_seq]"
      ],
      "metadata": {
        "id": "kosDDoj-OIgN"
      },
      "execution_count": null,
      "outputs": []
    },
    {
      "cell_type": "markdown",
      "source": [
        "Now we can show case the data generation functions."
      ],
      "metadata": {
        "id": "4xAJAixyOjvP"
      }
    },
    {
      "cell_type": "code",
      "source": [
        "# configure problem\n",
        "n_features = 50 + 1\n",
        "n_steps_in = 6 # input contains 6 integers\n",
        "n_steps_out = 3 # output contains 3\n",
        "\n",
        "# generate a single source and target sequence\n",
        "X1, X2, y = get_dataset(n_steps_in, n_steps_out, n_features, 1)\n",
        "print(X1.shape, X2.shape, y.shape)\n",
        "print('X1=%s, X2=%s, y=%s' % (one_hot_decode(X1[0]), one_hot_decode(X2[0]), one_hot_decode(y[0])))"
      ],
      "metadata": {
        "colab": {
          "base_uri": "https://localhost:8080/"
        },
        "id": "QYDN0A_EOfQW",
        "outputId": "4868c880-9a03-494b-cfc6-b24281cdd09a"
      },
      "execution_count": null,
      "outputs": [
        {
          "output_type": "stream",
          "name": "stdout",
          "text": [
            "(1, 6, 51) (1, 3, 51) (1, 3, 51)\n",
            "X1=[38, 44, 5, 35, 32, 44], X2=[0, 5, 44], y=[5, 44, 38]\n"
          ]
        }
      ]
    },
    {
      "cell_type": "markdown",
      "source": [
        "Now we can use the model we defined above."
      ],
      "metadata": {
        "id": "znIJiq2GQwTy"
      }
    },
    {
      "cell_type": "code",
      "source": [
        "model.compile(optimizer='rmsprop', loss='categorical_crossentropy', metrics=['accuracy'])"
      ],
      "metadata": {
        "id": "G3uJbNiqPNPh"
      },
      "execution_count": null,
      "outputs": []
    },
    {
      "cell_type": "markdown",
      "source": [
        "We can use the above utility functions to generate some actual data."
      ],
      "metadata": {
        "id": "cfcEBiqSQ_SZ"
      }
    },
    {
      "cell_type": "code",
      "source": [
        "# generate training dataset\n",
        "X1, X2, y = get_dataset(n_steps_in, n_steps_out, n_features, 100000)\n",
        "print(X1.shape,X2.shape,y.shape)"
      ],
      "metadata": {
        "colab": {
          "base_uri": "https://localhost:8080/"
        },
        "id": "W3U16-g_Q1dN",
        "outputId": "72d26e73-c97d-485b-bc2c-ac20046a6942"
      },
      "execution_count": null,
      "outputs": [
        {
          "output_type": "stream",
          "name": "stdout",
          "text": [
            "(100000, 6, 51) (100000, 3, 51) (100000, 3, 51)\n"
          ]
        }
      ]
    },
    {
      "cell_type": "markdown",
      "source": [
        "And then use above data to start training."
      ],
      "metadata": {
        "id": "Pudi7xWwVDBg"
      }
    },
    {
      "cell_type": "code",
      "source": [
        "from keras.callbacks import EarlyStopping\n",
        "# simple early stopping\n",
        "es = EarlyStopping(monitor='val_loss', mode='min', patience = 1, verbose=1)\n",
        "# train model\n",
        "model.fit([X1, X2], y, epochs=40, batch_size=1000, validation_split=0.2, callbacks=[es])"
      ],
      "metadata": {
        "colab": {
          "base_uri": "https://localhost:8080/"
        },
        "id": "-wv_5K9GVGyN",
        "outputId": "2e87ec56-9838-47a3-b4d3-afc81ece98fa"
      },
      "execution_count": null,
      "outputs": [
        {
          "output_type": "stream",
          "name": "stdout",
          "text": [
            "Epoch 1/40\n",
            "80/80 [==============================] - 19s 196ms/step - loss: 3.9012 - accuracy: 0.0486 - val_loss: 3.8527 - val_accuracy: 0.1248\n",
            "Epoch 2/40\n",
            "80/80 [==============================] - 15s 185ms/step - loss: 3.3708 - accuracy: 0.1944 - val_loss: 2.6361 - val_accuracy: 0.2720\n",
            "Epoch 3/40\n",
            "80/80 [==============================] - 16s 205ms/step - loss: 2.2765 - accuracy: 0.3179 - val_loss: 2.0345 - val_accuracy: 0.3485\n",
            "Epoch 4/40\n",
            "80/80 [==============================] - 15s 184ms/step - loss: 1.8827 - accuracy: 0.3692 - val_loss: 1.7546 - val_accuracy: 0.3844\n",
            "Epoch 5/40\n",
            "80/80 [==============================] - 15s 183ms/step - loss: 1.6599 - accuracy: 0.4026 - val_loss: 1.5609 - val_accuracy: 0.4208\n",
            "Epoch 6/40\n",
            "80/80 [==============================] - 15s 184ms/step - loss: 1.4843 - accuracy: 0.4410 - val_loss: 1.3839 - val_accuracy: 0.4618\n",
            "Epoch 7/40\n",
            "80/80 [==============================] - 15s 184ms/step - loss: 1.3203 - accuracy: 0.4878 - val_loss: 1.2439 - val_accuracy: 0.5140\n",
            "Epoch 8/40\n",
            "80/80 [==============================] - 15s 184ms/step - loss: 1.1548 - accuracy: 0.5505 - val_loss: 1.0583 - val_accuracy: 0.5875\n",
            "Epoch 9/40\n",
            "80/80 [==============================] - 15s 184ms/step - loss: 0.9668 - accuracy: 0.6317 - val_loss: 0.8683 - val_accuracy: 0.6772\n",
            "Epoch 10/40\n",
            "80/80 [==============================] - 15s 186ms/step - loss: 0.7623 - accuracy: 0.7253 - val_loss: 0.6714 - val_accuracy: 0.7659\n",
            "Epoch 11/40\n",
            "80/80 [==============================] - 16s 201ms/step - loss: 0.5688 - accuracy: 0.8086 - val_loss: 0.4848 - val_accuracy: 0.8429\n",
            "Epoch 12/40\n",
            "80/80 [==============================] - 15s 182ms/step - loss: 0.4126 - accuracy: 0.8710 - val_loss: 0.3600 - val_accuracy: 0.8906\n",
            "Epoch 13/40\n",
            "80/80 [==============================] - 15s 182ms/step - loss: 0.2952 - accuracy: 0.9139 - val_loss: 0.2505 - val_accuracy: 0.9300\n",
            "Epoch 14/40\n",
            "80/80 [==============================] - 15s 184ms/step - loss: 0.2070 - accuracy: 0.9447 - val_loss: 0.1852 - val_accuracy: 0.9512\n",
            "Epoch 15/40\n",
            "80/80 [==============================] - 15s 183ms/step - loss: 0.1448 - accuracy: 0.9649 - val_loss: 0.1216 - val_accuracy: 0.9711\n",
            "Epoch 16/40\n",
            "80/80 [==============================] - 15s 184ms/step - loss: 0.1019 - accuracy: 0.9776 - val_loss: 0.0872 - val_accuracy: 0.9808\n",
            "Epoch 17/40\n",
            "80/80 [==============================] - 15s 184ms/step - loss: 0.0713 - accuracy: 0.9861 - val_loss: 0.0673 - val_accuracy: 0.9851\n",
            "Epoch 18/40\n",
            "80/80 [==============================] - 16s 199ms/step - loss: 0.0511 - accuracy: 0.9909 - val_loss: 0.0523 - val_accuracy: 0.9893\n",
            "Epoch 19/40\n",
            "80/80 [==============================] - 15s 184ms/step - loss: 0.0374 - accuracy: 0.9941 - val_loss: 0.0360 - val_accuracy: 0.9936\n",
            "Epoch 20/40\n",
            "80/80 [==============================] - 15s 184ms/step - loss: 0.0283 - accuracy: 0.9957 - val_loss: 0.0271 - val_accuracy: 0.9957\n",
            "Epoch 21/40\n",
            "80/80 [==============================] - 16s 198ms/step - loss: 0.0217 - accuracy: 0.9971 - val_loss: 0.0200 - val_accuracy: 0.9970\n",
            "Epoch 22/40\n",
            "80/80 [==============================] - 15s 183ms/step - loss: 0.0170 - accuracy: 0.9981 - val_loss: 0.0174 - val_accuracy: 0.9973\n",
            "Epoch 23/40\n",
            "80/80 [==============================] - 15s 183ms/step - loss: 0.0132 - accuracy: 0.9988 - val_loss: 0.0158 - val_accuracy: 0.9979\n",
            "Epoch 24/40\n",
            "80/80 [==============================] - 15s 184ms/step - loss: 0.0108 - accuracy: 0.9992 - val_loss: 0.0120 - val_accuracy: 0.9985\n",
            "Epoch 25/40\n",
            "80/80 [==============================] - 16s 200ms/step - loss: 0.0089 - accuracy: 0.9994 - val_loss: 0.0092 - val_accuracy: 0.9988\n",
            "Epoch 26/40\n",
            "80/80 [==============================] - 14s 182ms/step - loss: 0.0076 - accuracy: 0.9996 - val_loss: 0.0081 - val_accuracy: 0.9990\n",
            "Epoch 27/40\n",
            "80/80 [==============================] - 15s 183ms/step - loss: 0.0069 - accuracy: 0.9996 - val_loss: 0.0084 - val_accuracy: 0.9991\n",
            "Epoch 27: early stopping\n"
          ]
        },
        {
          "output_type": "execute_result",
          "data": {
            "text/plain": [
              "<keras.callbacks.History at 0x7f9ba61926b0>"
            ]
          },
          "metadata": {},
          "execution_count": 60
        }
      ]
    },
    {
      "cell_type": "markdown",
      "source": [
        "Once the model is trained, we can evaluate it. We will do this by making predictions for `100` source sequences and counting the number of target sequences that were predicted correctly. We will use the numpy `array_equal()` function on the decoded sequences to check for equality."
      ],
      "metadata": {
        "id": "dHX1PFPTRLrW"
      }
    },
    {
      "cell_type": "code",
      "source": [
        "# evaluate LSTM\n",
        "total, correct = 100, 0\n",
        "for _ in range(total):\n",
        "\tX1, X2, y = get_dataset(n_steps_in, n_steps_out, n_features, 1)\n",
        "\ttarget = predict_sequence(encoder_model, decoder_model, X1, n_steps_out, n_features)\n",
        "\tif np.array_equal(one_hot_decode(y[0]), one_hot_decode(target)):\n",
        "\t\tcorrect += 1\n",
        "print('Accuracy: %.2f%%' % (float(correct)/float(total)*100.0))"
      ],
      "metadata": {
        "colab": {
          "base_uri": "https://localhost:8080/"
        },
        "id": "GreSkx04RGr3",
        "outputId": "40697cfd-7c2c-4812-9943-04bd09b8edde"
      },
      "execution_count": null,
      "outputs": [
        {
          "output_type": "stream",
          "name": "stdout",
          "text": [
            "1/1 [==============================] - 0s 24ms/step\n",
            "1/1 [==============================] - 0s 30ms/step\n",
            "1/1 [==============================] - 0s 23ms/step\n",
            "1/1 [==============================] - 0s 24ms/step\n",
            "1/1 [==============================] - 0s 23ms/step\n",
            "1/1 [==============================] - 0s 23ms/step\n",
            "1/1 [==============================] - 0s 23ms/step\n",
            "1/1 [==============================] - 0s 23ms/step\n",
            "1/1 [==============================] - 0s 23ms/step\n",
            "1/1 [==============================] - 0s 24ms/step\n",
            "1/1 [==============================] - 0s 22ms/step\n",
            "1/1 [==============================] - 0s 23ms/step\n",
            "1/1 [==============================] - 0s 23ms/step\n",
            "1/1 [==============================] - 0s 46ms/step\n",
            "1/1 [==============================] - 0s 34ms/step\n",
            "1/1 [==============================] - 0s 38ms/step\n",
            "1/1 [==============================] - 0s 35ms/step\n",
            "1/1 [==============================] - 0s 37ms/step\n",
            "1/1 [==============================] - 0s 38ms/step\n",
            "1/1 [==============================] - 0s 22ms/step\n",
            "1/1 [==============================] - 0s 24ms/step\n",
            "1/1 [==============================] - 0s 29ms/step\n",
            "1/1 [==============================] - 0s 23ms/step\n",
            "1/1 [==============================] - 0s 23ms/step\n",
            "1/1 [==============================] - 0s 31ms/step\n",
            "1/1 [==============================] - 0s 23ms/step\n",
            "1/1 [==============================] - 0s 23ms/step\n",
            "1/1 [==============================] - 0s 24ms/step\n",
            "1/1 [==============================] - 0s 23ms/step\n",
            "1/1 [==============================] - 0s 23ms/step\n",
            "1/1 [==============================] - 0s 24ms/step\n",
            "1/1 [==============================] - 0s 23ms/step\n",
            "1/1 [==============================] - 0s 26ms/step\n",
            "1/1 [==============================] - 0s 23ms/step\n",
            "1/1 [==============================] - 0s 23ms/step\n",
            "1/1 [==============================] - 0s 24ms/step\n",
            "1/1 [==============================] - 0s 22ms/step\n",
            "1/1 [==============================] - 0s 24ms/step\n",
            "1/1 [==============================] - 0s 23ms/step\n",
            "1/1 [==============================] - 0s 25ms/step\n",
            "1/1 [==============================] - 0s 32ms/step\n",
            "1/1 [==============================] - 0s 24ms/step\n",
            "1/1 [==============================] - 0s 27ms/step\n",
            "1/1 [==============================] - 0s 24ms/step\n",
            "1/1 [==============================] - 0s 28ms/step\n",
            "1/1 [==============================] - 0s 24ms/step\n",
            "1/1 [==============================] - 0s 22ms/step\n",
            "1/1 [==============================] - 0s 25ms/step\n",
            "1/1 [==============================] - 0s 22ms/step\n",
            "1/1 [==============================] - 0s 26ms/step\n",
            "1/1 [==============================] - 0s 24ms/step\n",
            "1/1 [==============================] - 0s 40ms/step\n",
            "1/1 [==============================] - 0s 36ms/step\n",
            "1/1 [==============================] - 0s 47ms/step\n",
            "1/1 [==============================] - 0s 34ms/step\n",
            "1/1 [==============================] - 0s 35ms/step\n",
            "1/1 [==============================] - 0s 39ms/step\n",
            "1/1 [==============================] - 0s 26ms/step\n",
            "1/1 [==============================] - 0s 26ms/step\n",
            "1/1 [==============================] - 0s 23ms/step\n",
            "1/1 [==============================] - 0s 23ms/step\n",
            "1/1 [==============================] - 0s 23ms/step\n",
            "1/1 [==============================] - 0s 24ms/step\n",
            "1/1 [==============================] - 0s 23ms/step\n",
            "1/1 [==============================] - 0s 26ms/step\n",
            "1/1 [==============================] - 0s 24ms/step\n",
            "1/1 [==============================] - 0s 23ms/step\n",
            "1/1 [==============================] - 0s 23ms/step\n",
            "1/1 [==============================] - 0s 23ms/step\n",
            "1/1 [==============================] - 0s 24ms/step\n",
            "1/1 [==============================] - 0s 23ms/step\n",
            "1/1 [==============================] - 0s 26ms/step\n",
            "1/1 [==============================] - 0s 24ms/step\n",
            "1/1 [==============================] - 0s 24ms/step\n",
            "1/1 [==============================] - 0s 23ms/step\n",
            "1/1 [==============================] - 0s 21ms/step\n",
            "1/1 [==============================] - 0s 24ms/step\n",
            "1/1 [==============================] - 0s 22ms/step\n",
            "1/1 [==============================] - 0s 25ms/step\n",
            "1/1 [==============================] - 0s 27ms/step\n",
            "1/1 [==============================] - 0s 24ms/step\n",
            "1/1 [==============================] - 0s 22ms/step\n",
            "1/1 [==============================] - 0s 25ms/step\n",
            "1/1 [==============================] - 0s 24ms/step\n",
            "1/1 [==============================] - 0s 25ms/step\n",
            "1/1 [==============================] - 0s 23ms/step\n",
            "1/1 [==============================] - 0s 27ms/step\n",
            "1/1 [==============================] - 0s 23ms/step\n",
            "1/1 [==============================] - 0s 26ms/step\n",
            "1/1 [==============================] - 0s 24ms/step\n",
            "1/1 [==============================] - 0s 35ms/step\n",
            "1/1 [==============================] - 0s 37ms/step\n",
            "1/1 [==============================] - 0s 35ms/step\n",
            "1/1 [==============================] - 0s 46ms/step\n",
            "1/1 [==============================] - 0s 40ms/step\n",
            "1/1 [==============================] - 0s 23ms/step\n",
            "1/1 [==============================] - 0s 26ms/step\n",
            "1/1 [==============================] - 0s 24ms/step\n",
            "1/1 [==============================] - 0s 25ms/step\n",
            "1/1 [==============================] - 0s 23ms/step\n",
            "Accuracy: 100.00%\n"
          ]
        }
      ]
    },
    {
      "cell_type": "markdown",
      "source": [
        "Let's look at some data to see how the model performs."
      ],
      "metadata": {
        "id": "BZr6aSYnYPXN"
      }
    },
    {
      "cell_type": "code",
      "source": [
        "for _ in range(10):\n",
        " X1, X2, y = get_dataset(n_steps_in, n_steps_out, n_features, 1)\n",
        " target = predict_sequence(encoder_model, decoder_model, X1, n_steps_out, n_features)\n",
        " print('X={}, y={}, yhat={}'.format(one_hot_decode(X1[0]), one_hot_decode(y[0]), one_hot_decode(target)))"
      ],
      "metadata": {
        "colab": {
          "base_uri": "https://localhost:8080/"
        },
        "id": "beZi8mm_RY-J",
        "outputId": "f0e3b6c3-1534-41cc-bd75-3bbfbef8802c"
      },
      "execution_count": null,
      "outputs": [
        {
          "output_type": "stream",
          "name": "stdout",
          "text": [
            "1/1 [==============================] - 0s 23ms/step\n",
            "X=[50, 50, 42, 30, 34, 33], y=[42, 50, 50], yhat=[42, 50, 50]\n",
            "1/1 [==============================] - 0s 25ms/step\n",
            "X=[25, 45, 27, 10, 30, 6], y=[27, 45, 25], yhat=[27, 45, 25]\n",
            "1/1 [==============================] - 0s 23ms/step\n",
            "X=[31, 2, 26, 22, 28, 19], y=[26, 2, 31], yhat=[26, 2, 31]\n",
            "1/1 [==============================] - 0s 23ms/step\n",
            "X=[47, 39, 37, 47, 13, 2], y=[37, 39, 47], yhat=[37, 39, 47]\n",
            "1/1 [==============================] - 0s 22ms/step\n",
            "X=[23, 44, 23, 40, 44, 10], y=[23, 44, 23], yhat=[23, 44, 23]\n",
            "1/1 [==============================] - 0s 23ms/step\n",
            "X=[45, 30, 27, 16, 12, 14], y=[27, 30, 45], yhat=[27, 30, 45]\n",
            "1/1 [==============================] - 0s 26ms/step\n",
            "X=[10, 8, 45, 27, 12, 50], y=[45, 8, 10], yhat=[45, 8, 10]\n",
            "1/1 [==============================] - 0s 23ms/step\n",
            "X=[23, 3, 22, 49, 10, 27], y=[22, 3, 23], yhat=[22, 3, 23]\n",
            "1/1 [==============================] - 0s 22ms/step\n",
            "X=[20, 34, 49, 25, 35, 48], y=[49, 34, 20], yhat=[49, 34, 20]\n",
            "1/1 [==============================] - 0s 34ms/step\n",
            "X=[13, 36, 37, 4, 25, 30], y=[37, 36, 13], yhat=[37, 36, 13]\n"
          ]
        }
      ]
    },
    {
      "cell_type": "code",
      "source": [],
      "metadata": {
        "id": "keGuZxw_YqRF"
      },
      "execution_count": null,
      "outputs": []
    }
  ]
}