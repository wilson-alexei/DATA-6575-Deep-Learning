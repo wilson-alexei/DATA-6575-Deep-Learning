{
  "nbformat": 4,
  "nbformat_minor": 0,
  "metadata": {
    "accelerator": "GPU",
    "colab": {
      "provenance": []
    },
    "kernelspec": {
      "display_name": "Python 3",
      "name": "python3"
    }
  },
  "cells": [
    {
      "cell_type": "markdown",
      "metadata": {
        "id": "dnpj0UyEXnQS"
      },
      "source": [
        "# Deep Learning & Artificial Intelligence\n",
        "## Recurrent Neural Networks and Natrural Language Processing\n",
        "### Dr. Jie Tao, Fairfield University"
      ]
    },
    {
      "cell_type": "markdown",
      "metadata": {
        "id": "qTGrpGOdDf3x"
      },
      "source": [
        "## NLP Basics\n",
        "\n",
        "- Text is one of the most widespread forms of **sequence** data.\n",
        "  - It can be sequence of _characters_ or _words_\n",
        "- The analysis of text data in general is called **Natural Language Processing** (NLP)\n",
        "  - With potential applications such as text classification, sentiment analysis, question answering\n",
        "- Deep Learning based NLP models recognize __patterns__ from words, sentences, or other linguistic units\n",
        "  - Same as how we use CNN to recognize patterns from pixels in images"
      ]
    },
    {
      "cell_type": "markdown",
      "metadata": {
        "id": "RGkZ9XekFPag"
      },
      "source": [
        "### How to Process Text\n",
        "\n",
        "- Like all other NN models, raw text (e.g., in natural English) cannot be processed\n",
        "  - We need to convert the words and sentencens into __real-valued tensors__\n",
        "- There are multiple ways to do this:\n",
        "  - Segment text to __words__, then tranform each word into a __vector__\n",
        "  - Segment text to __characters__, then tranform each character into a __vector__\n",
        "  - Extract $N$ consecutive words or characters together, and transform them into vectors. These $N$ consecutive words or characters are called __N-grams__, aka. bag-of-words.\n",
        "\n",
        "- Generally, the different units into which you can break down text (e.g., words, characters, or n-grams) are called **tokens**\n",
        "  - Specifically, __tokens__ refer to words or multi-word phrases only\n",
        "  - This segmentation process is called __tokenization__\n",
        "- Then we just need to associate rea;-valued vectors with the tokens - which is called **vectorization**. There are two ways of doing so:\n",
        "  - Our old friend One-hot Encoding, or\n",
        "  - Word Embedding\n",
        "\n",
        "- That's how we transform text in natural language into tensors (e.g., `NumPy` arrays) so `keras` can take them"
      ]
    },
    {
      "cell_type": "markdown",
      "metadata": {
        "id": "ggPa6FDRHCRt"
      },
      "source": [
        "### Tokenization & Vectorization\n",
        "\n",
        "![tokenization](https://drek4537l1klr.cloudfront.net/chollet/Figures/06fig01.jpg)"
      ]
    },
    {
      "cell_type": "markdown",
      "metadata": {
        "id": "a95gbTLVHXjK"
      },
      "source": [
        "#### One-hot Encoding of Text\n",
        "\n",
        "- OHE is the most basic and common way of vectorization\n",
        "  - You can refer to L3, the IMDB data was OHE'ed\n",
        "  - Every word has a unique index `i` in the vocabulary (contains all possible words in the text)\n",
        "  - Each word is then converted into a binary vector\n",
        "    - the vector has a size of $N$ - the size of the vocabulary\n",
        "    - the vector has a value of `1` at the `i-th` position, rest are `0`s\n",
        "- We can perform OHE on __words__ and __characters__\n",
        "  - See example below for a word-level OHE\n",
        "  - Refer to Listing 6.2 for a character-level OHE"
      ]
    },
    {
      "cell_type": "code",
      "metadata": {
        "colab": {
          "base_uri": "https://localhost:8080/"
        },
        "id": "UJ_5vyNKFKRs",
        "outputId": "eaf70ce2-e777-4b68-df96-106ac8d54605"
      },
      "source": [
        "import numpy as np\n",
        "\n",
        "samples = ['The cat sat on the mat.', 'The dog ate my homework.']\n",
        "\n",
        "def ohe(samples, max_len = 10):\n",
        "  '''\n",
        "  INPUT:\n",
        "  ---\n",
        "  - samples (text): sequence of words/characters to be vectorized\n",
        "  ---\n",
        "  OUTPUT:\n",
        "  ---\n",
        "  - results (NumPy array): binary array, the appearing word is 1 rest are 0\n",
        "  '''\n",
        "  #### construct the vocabulary by adding all unique words to it\n",
        "  #### each word is assigned with an ID: {word : ID}\n",
        "  token_index = {}\n",
        "  for sample in samples:\n",
        "      for word in sample.split():\n",
        "          if word not in token_index:\n",
        "              #### the first word has an ID of 1, then 2, ...\n",
        "              token_index[word] = len(token_index) + 1\n",
        "  #### It's always a good practice to set a max_length\n",
        "  #### since rare words are usually less important\n",
        "  max_length = max_len\n",
        "  #### creating holders for the results, which is a 3D tensor\n",
        "  #### first dimension corresponds to how many samples are processed\n",
        "  #### second dimension corresponds to the length of sample (<= max_length)\n",
        "  #### third dimension correponds to the size of the vocabulary + 1\n",
        "  #### TRICK: the reason we need to have `+1` is we need to\n",
        "  #### capture words that are not in the vocabulary\n",
        "  results = np.zeros(shape=(len(samples),\n",
        "                            max_length,\n",
        "                            max(token_index.values()) + 1))\n",
        "  for i, sample in enumerate(samples):\n",
        "      #### if words appear and within `max_length`\n",
        "      for j, word in list(enumerate(sample.split()))[:max_length]:\n",
        "          index = token_index.get(word)\n",
        "          #### set it to 1\n",
        "          results[i, j, index] = 1.\n",
        "  return results\n",
        "\n",
        "ohe(samples)"
      ],
      "execution_count": null,
      "outputs": [
        {
          "output_type": "execute_result",
          "data": {
            "text/plain": [
              "array([[[0., 1., 0., 0., 0., 0., 0., 0., 0., 0., 0.],\n",
              "        [0., 0., 1., 0., 0., 0., 0., 0., 0., 0., 0.],\n",
              "        [0., 0., 0., 1., 0., 0., 0., 0., 0., 0., 0.],\n",
              "        [0., 0., 0., 0., 1., 0., 0., 0., 0., 0., 0.],\n",
              "        [0., 0., 0., 0., 0., 1., 0., 0., 0., 0., 0.],\n",
              "        [0., 0., 0., 0., 0., 0., 1., 0., 0., 0., 0.],\n",
              "        [0., 0., 0., 0., 0., 0., 0., 0., 0., 0., 0.],\n",
              "        [0., 0., 0., 0., 0., 0., 0., 0., 0., 0., 0.],\n",
              "        [0., 0., 0., 0., 0., 0., 0., 0., 0., 0., 0.],\n",
              "        [0., 0., 0., 0., 0., 0., 0., 0., 0., 0., 0.]],\n",
              "\n",
              "       [[0., 1., 0., 0., 0., 0., 0., 0., 0., 0., 0.],\n",
              "        [0., 0., 0., 0., 0., 0., 0., 1., 0., 0., 0.],\n",
              "        [0., 0., 0., 0., 0., 0., 0., 0., 1., 0., 0.],\n",
              "        [0., 0., 0., 0., 0., 0., 0., 0., 0., 1., 0.],\n",
              "        [0., 0., 0., 0., 0., 0., 0., 0., 0., 0., 1.],\n",
              "        [0., 0., 0., 0., 0., 0., 0., 0., 0., 0., 0.],\n",
              "        [0., 0., 0., 0., 0., 0., 0., 0., 0., 0., 0.],\n",
              "        [0., 0., 0., 0., 0., 0., 0., 0., 0., 0., 0.],\n",
              "        [0., 0., 0., 0., 0., 0., 0., 0., 0., 0., 0.],\n",
              "        [0., 0., 0., 0., 0., 0., 0., 0., 0., 0., 0.]]])"
            ]
          },
          "metadata": {
            "tags": []
          },
          "execution_count": 1
        }
      ]
    },
    {
      "cell_type": "markdown",
      "metadata": {
        "id": "qP7tE6j9MCnL"
      },
      "source": [
        "Looks like a complex function, right? Luckily `keras` provides a utility function for us. Refer to the official docs [here](https://keras.io/api/preprocessing/text/)."
      ]
    },
    {
      "cell_type": "code",
      "metadata": {
        "colab": {
          "base_uri": "https://localhost:8080/"
        },
        "id": "_BCMkMbjLGGI",
        "outputId": "29c43da2-4b3e-494b-993d-fd5e24f3c30a"
      },
      "source": [
        "from tensorflow.keras.preprocessing.text import Tokenizer\n",
        "\n",
        "# samples = ['The cat sat on the mat.', 'The dog ate my homework.']\n",
        "\n",
        "#### tokenizer automatically filter out punctuations, and convert text to lower case\n",
        "#### by default it splits text at word-level (on ' ')\n",
        "#### you can specify `char_level=True` to make it work at char-level\n",
        "#### you can also specify how you want to deal with out-of-vocabulary words\n",
        "#### with `oov_token=`, e.g., `UNK` (means unknown)\n",
        "tokenizer = Tokenizer(num_words=1000)\n",
        "#### then you need to fit the tokenizer on the text\n",
        "tokenizer.fit_on_texts(samples)\n",
        "#### holding the word IDs\n",
        "sequences = tokenizer.texts_to_sequences(samples)\n",
        "#### start OHE\n",
        "one_hot_results = tokenizer.texts_to_matrix(samples, mode='binary')\n",
        "#### we can retrieve word indexes like below\n",
        "word_index = tokenizer.word_index\n",
        "print('Found %s unique tokens.' % len(word_index))\n"
      ],
      "execution_count": null,
      "outputs": [
        {
          "output_type": "stream",
          "text": [
            "Found 9 unique tokens.\n"
          ],
          "name": "stdout"
        }
      ]
    },
    {
      "cell_type": "code",
      "metadata": {
        "colab": {
          "base_uri": "https://localhost:8080/"
        },
        "id": "bwKuwMsBMTrz",
        "outputId": "8911186a-c954-40f2-961f-290a2a482b83"
      },
      "source": [
        "#### We can check the OHE results\n",
        "#### it is similar compared to our own `ohe` function\n",
        "one_hot_results"
      ],
      "execution_count": null,
      "outputs": [
        {
          "output_type": "execute_result",
          "data": {
            "text/plain": [
              "array([[0., 1., 1., ..., 0., 0., 0.],\n",
              "       [0., 1., 0., ..., 0., 0., 0.]])"
            ]
          },
          "metadata": {
            "tags": []
          },
          "execution_count": 3
        }
      ]
    },
    {
      "cell_type": "markdown",
      "metadata": {
        "id": "zr4jgC-dOkvH"
      },
      "source": [
        "__PRO TIP:__ If your vocabulary is too big, you can consider the __hashing trick__. Refer to Listing 6.4 on the textbook for help. Because of recent processing power, we are less concerned about the vocabulary size."
      ]
    },
    {
      "cell_type": "markdown",
      "metadata": {
        "id": "3ua3XniKO59a"
      },
      "source": [
        "#### Word Embeddings\n",
        "\n",
        "- Another __more powerful__ way for vectorization is called __word embedding__, where words are represented using _dense_ real-valued vectors, rather than _binary_ vectors with OHE\n",
        "\n",
        "| | OHE | Word Embedding |\n",
        "| --- | --- | --- |\n",
        "| values | binary | real-value (floats) |\n",
        "| sparcity | sparse (mostly `0`s) | dense (much less `0`s) |\n",
        "| dimensions | high | low |\n",
        "\n",
        "- With OHE vectors are usually tens of thousands in dimension, we can specify the dimensionality of our word embedding vectors\n",
        "  - although arbitrarily the magic number is `300`\n",
        "\n",
        "![OHE vs. WE](https://drek4537l1klr.cloudfront.net/chollet/Figures/06fig02.jpg)\n",
        "\n",
        "__PRO TIP__: Word Embeddings is the __preferred__ method."
      ]
    },
    {
      "cell_type": "markdown",
      "metadata": {
        "id": "SuZNtxApSy81"
      },
      "source": [
        "#### How to Learn Word Embeddings\n",
        "\n",
        "- The method is called __word2vec__, refer to [this post](http://jalammar.github.io/illustrated-word2vec/) for more information\n",
        "- You can learn your word embeddings in one of the two following ways:\n",
        "  - Learn word embeddings with your main NLP task (e.g., text classification, sentiment analysis)\n",
        "    - Set up random values in word vectors, then learn these values as your learn the wrights in the NN\n",
        "  - Load __pre-trained__ word embeddings and use them in your NLP task\n",
        "    - it's simiar to using pre-trained models in the CV tasks\n",
        "    - But in this case we are not using models but representations of the data (text)\n",
        "- Let's talk about the two methods one-by-one."
      ]
    },
    {
      "cell_type": "markdown",
      "metadata": {
        "id": "x8d4bBINVG4b"
      },
      "source": [
        "#### Learning Word Embedding\n",
        "\n",
        "- There is a specific Python package for word2vec called `gensim`\n",
        "  - [here](https://www.kaggle.com/pierremegret/gensim-word2vec-tutorial) is a good tutorial for word2vec\n",
        "- Alternatively, we can use the `keras` `Embedding` layer for that\n",
        "  - It is an easier way, but it is not as specialized for word2vec\n",
        "  - In the `Embedding` layer, the word vectors are initialized with __random__ values\n",
        "    - These random vectors are not meaningful since two interchangeable words may end up in totally different vectors\n",
        "  - Thus, we need to __train__ these vectors, meaning learn the _actual, meaningful_ values in them\n",
        "- In other words, vectors have geometric relationships (e.g., parallel, intersect)\n",
        "  - So word vectors map human languages into a geometric space called __language space__\n",
        "  - In a valid language space, synonyms should be embedded in similar vectors\n",
        "  - And the words with different meanings should be more distance that words with similar meanings\n",
        "- See example below (pet --> wild animal):\n",
        "\n",
        "![word2vec ex](https://drek4537l1klr.cloudfront.net/chollet/Figures/06fig03.jpg)\n",
        "\n",
        "- Note that all word embeddings are language specific, English word embeddings, Chinese word embeddings, ..."
      ]
    },
    {
      "cell_type": "markdown",
      "metadata": {
        "id": "Fm75JDnJYw9J"
      },
      "source": [
        "#### `keras` `Embedding` Layer\n",
        "\n",
        "- The word embedding are not only language specific, but also task specific\n",
        "  - since the same word may mean different things in different context\n",
        "- Thus it is reasonable to train _different_ word embeddings for different tasks\n",
        "  - so we use the `keras` `Embedding` Layer as follows:\n",
        "```python\n",
        "from keras.layers import Embedding\n",
        "#### this layer let us to capture 1000 words in the vocabulary\n",
        "#### and embed them in 64-length vectors\n",
        "embedding_layer = Embedding(1000, 64)\n",
        "```\n",
        "- the `Embedding` layer maps word index (representing unique words) to real-valued vectors\n",
        "  - so the word index are integers, and are 2D tensors (vocab_size, vector_size)\n",
        "![emb_layer](https://drek4537l1klr.cloudfront.net/chollet/Figures/06fig04.jpg)\n"
      ]
    },
    {
      "cell_type": "markdown",
      "metadata": {
        "id": "pAXjk7jvagOp"
      },
      "source": [
        "#### `keras` `Embedding` Layer\n",
        "\n",
        "- The `keras` `Embedding` Layer takes 2D tensors of integers as input\n",
        "  - with shape `(samples, sequence_length)`: `samples` are the number of text (e.g., sentences/paragraphs) in the collection (aka. corpus), and `sequence_length` is number of tokens in each sample.\n",
        "  - In practice, each token is represented in word index (integers)\n",
        "  - Theoretically, the `Embedding` Layer can take sequences of variant lengths\n",
        "    - but all sequences in the __same batch__ needs to be of the same lenght\n",
        "    - so in practice we usually set all sequences to be the same length\n",
        "    - we use the utility function `pad_sequence` to pad shorter sequences and truncate longer ones (see [doc](https://www.tensorflow.org/api_docs/python/tf/keras/preprocessing/sequence/pad_sequences) for help)\n",
        "\n",
        "- The `keras` `Embedding` Layer returns 3D floating-point tensor of shape `(samples, sequence_length, embedding_dimensionality)`\n",
        "  - Such a 3D tensor can then be processed by an **RNN** layer or a **1D convolution** layer\n",
        "- When train the NN, the weights in the `Embedding` Layer are also trained via __backpropagation__\n",
        "- After training, the embedding space will show a lot of structure—a kind of structure specialized for the specific problem for which you’re training your model.\n",
        "\n",
        "- See below for an example with the IMDB data.\n"
      ]
    },
    {
      "cell_type": "code",
      "metadata": {
        "colab": {
          "base_uri": "https://localhost:8080/"
        },
        "id": "VSaAAbsYOQ7q",
        "outputId": "becc0127-a2ba-47e0-8b57-17447859c691"
      },
      "source": [
        "#### import utilities\n",
        "from tensorflow.keras.datasets import imdb\n",
        "from tensorflow.keras.preprocessing.sequence import pad_sequences\n",
        "#### we take the most popular 10,000 words, and set length of each review at 20 words\n",
        "max_features = 10000\n",
        "maxlen = 20\n",
        "#### load data\n",
        "(x_train, y_train), (x_test, y_test) = imdb.load_data(\n",
        "    num_words=max_features)\n",
        "#### pad/truncate reviews\n",
        "x_train = pad_sequences(x_train, maxlen=maxlen)\n",
        "x_test = pad_sequences(x_test, maxlen=maxlen)"
      ],
      "execution_count": null,
      "outputs": [
        {
          "output_type": "stream",
          "text": [
            "Downloading data from https://storage.googleapis.com/tensorflow/tf-keras-datasets/imdb.npz\n",
            "17465344/17464789 [==============================] - 0s 0us/step\n"
          ],
          "name": "stdout"
        },
        {
          "output_type": "stream",
          "text": [
            "<string>:6: VisibleDeprecationWarning: Creating an ndarray from ragged nested sequences (which is a list-or-tuple of lists-or-tuples-or ndarrays with different lengths or shapes) is deprecated. If you meant to do this, you must specify 'dtype=object' when creating the ndarray\n",
            "/usr/local/lib/python3.7/dist-packages/tensorflow/python/keras/datasets/imdb.py:155: VisibleDeprecationWarning: Creating an ndarray from ragged nested sequences (which is a list-or-tuple of lists-or-tuples-or ndarrays with different lengths or shapes) is deprecated. If you meant to do this, you must specify 'dtype=object' when creating the ndarray\n",
            "  x_train, y_train = np.array(xs[:idx]), np.array(labels[:idx])\n",
            "/usr/local/lib/python3.7/dist-packages/tensorflow/python/keras/datasets/imdb.py:156: VisibleDeprecationWarning: Creating an ndarray from ragged nested sequences (which is a list-or-tuple of lists-or-tuples-or ndarrays with different lengths or shapes) is deprecated. If you meant to do this, you must specify 'dtype=object' when creating the ndarray\n",
            "  x_test, y_test = np.array(xs[idx:]), np.array(labels[idx:])\n"
          ],
          "name": "stderr"
        }
      ]
    },
    {
      "cell_type": "code",
      "metadata": {
        "colab": {
          "base_uri": "https://localhost:8080/"
        },
        "id": "bS7AD7n5lUaH",
        "outputId": "d7d35ff5-c29e-4697-fa9f-7dc4e15bf8e3"
      },
      "source": [
        "#### Build the model\n",
        "from tensorflow.keras.models import Sequential\n",
        "from tensorflow.keras.layers import Flatten, Dense, Embedding\n",
        "\n",
        "model = Sequential()\n",
        "model.add(Embedding(10000, 50, input_length=maxlen))\n",
        "#### no hidden layer\n",
        "model.add(Flatten())\n",
        "\n",
        "model.add(Dense(1, activation='sigmoid'))\n",
        "#### compile the model\n",
        "model.compile(optimizer='rmsprop', loss='binary_crossentropy', metrics=['acc'])\n",
        "model.summary()"
      ],
      "execution_count": null,
      "outputs": [
        {
          "output_type": "stream",
          "text": [
            "Model: \"sequential\"\n",
            "_________________________________________________________________\n",
            "Layer (type)                 Output Shape              Param #   \n",
            "=================================================================\n",
            "embedding (Embedding)        (None, 20, 50)            500000    \n",
            "_________________________________________________________________\n",
            "flatten (Flatten)            (None, 1000)              0         \n",
            "_________________________________________________________________\n",
            "dense (Dense)                (None, 1)                 1001      \n",
            "=================================================================\n",
            "Total params: 501,001\n",
            "Trainable params: 501,001\n",
            "Non-trainable params: 0\n",
            "_________________________________________________________________\n"
          ],
          "name": "stdout"
        }
      ]
    },
    {
      "cell_type": "code",
      "metadata": {
        "colab": {
          "base_uri": "https://localhost:8080/"
        },
        "id": "l28n2OnBmWKe",
        "outputId": "a4e03229-016a-425f-88fe-b6656d1c5cdf"
      },
      "source": [
        "#### Train the model\n",
        "\n",
        "history = model.fit(x_train, y_train,\n",
        "                    epochs=10,\n",
        "                    batch_size=32,\n",
        "                    validation_split=0.2)\n"
      ],
      "execution_count": null,
      "outputs": [
        {
          "output_type": "stream",
          "text": [
            "Epoch 1/10\n",
            "625/625 [==============================] - 6s 5ms/step - loss: 0.6136 - acc: 0.6734 - val_loss: 0.5295 - val_acc: 0.7274\n",
            "Epoch 2/10\n",
            "625/625 [==============================] - 3s 4ms/step - loss: 0.4495 - acc: 0.7922 - val_loss: 0.4937 - val_acc: 0.7564\n",
            "Epoch 3/10\n",
            "625/625 [==============================] - 3s 4ms/step - loss: 0.3815 - acc: 0.8303 - val_loss: 0.4965 - val_acc: 0.7560\n",
            "Epoch 4/10\n",
            "625/625 [==============================] - 3s 4ms/step - loss: 0.3256 - acc: 0.8641 - val_loss: 0.5090 - val_acc: 0.7490\n",
            "Epoch 5/10\n",
            "625/625 [==============================] - 3s 4ms/step - loss: 0.2696 - acc: 0.8971 - val_loss: 0.5251 - val_acc: 0.7418\n",
            "Epoch 6/10\n",
            "625/625 [==============================] - 3s 4ms/step - loss: 0.2180 - acc: 0.9234 - val_loss: 0.5511 - val_acc: 0.7408\n",
            "Epoch 7/10\n",
            "625/625 [==============================] - 3s 4ms/step - loss: 0.1726 - acc: 0.9433 - val_loss: 0.5814 - val_acc: 0.7368\n",
            "Epoch 8/10\n",
            "625/625 [==============================] - 3s 4ms/step - loss: 0.1349 - acc: 0.9589 - val_loss: 0.6161 - val_acc: 0.7280\n",
            "Epoch 9/10\n",
            "625/625 [==============================] - 3s 4ms/step - loss: 0.1048 - acc: 0.9700 - val_loss: 0.6545 - val_acc: 0.7224\n",
            "Epoch 10/10\n",
            "625/625 [==============================] - 3s 4ms/step - loss: 0.0807 - acc: 0.9794 - val_loss: 0.6998 - val_acc: 0.7132\n"
          ],
          "name": "stdout"
        }
      ]
    },
    {
      "cell_type": "markdown",
      "metadata": {
        "id": "5ycYzMBvmfin"
      },
      "source": [
        "Considering we have basically no hidden layer in the model, and only look at the first 20 words in the reviews, the ~75% validation accuracy is not that bad.\n",
        "\n",
        "To improve the results, we can of course use RNN layers or 1D Conv layers into the model, or we can use __pre-trained__ embeddings, which will be discussed next."
      ]
    },
    {
      "cell_type": "markdown",
      "metadata": {
        "id": "Cq1QVmzFm6jo"
      },
      "source": [
        "### Using pretrained word embeddings\n",
        "\n",
        "- Similar to using pre-trained models (e.g., `VGG16`) for CV tasks, a lot of cases you have little training data, you might not be able to learn the task-specific embedding\n",
        "- So we can load a __pre-trained__ word embedding, so that you can save your limited training data for train the models only\n",
        "- These pre-trained embeddings are built on word __coocurrence__, meaning what words appear in the same sentences or documents, in an _unsupervised_ way\n",
        "  - Which is also based on the [word2vec algorithm](https://code.google.com/archive/p/word2vec)\n",
        "  - The idea is that you do not have to let your `Embedding` layer initiates on __random__ weights, but the weights from a __pre-trained__ embedding\n",
        "- One of hte most popular pre-trained embedding is called **Global Vectors for Word Representation** ([GloVe](https://nlp.stanford.edu/projects/glove))\n",
        "  - which contains embeddings for millions of English words trained on millions of Wikipedia data and data Crawled from Google News\n",
        "- See below for an example using GloVe embedding in a network with a similar architecture comapred to the one above\n"
      ]
    },
    {
      "cell_type": "code",
      "metadata": {
        "colab": {
          "base_uri": "https://localhost:8080/",
          "height": 204
        },
        "id": "cEhRsM7WmZ_e",
        "outputId": "fa4aa67a-a5ab-4311-e4ef-a7867a41b024"
      },
      "source": [
        "#### We need the raw text, not the one `keras` provided (word indexes)\n",
        "#### so we use `pandas` to read the data from GitHub\n",
        "import pandas as pd\n",
        "#### load review data\n",
        "review_url = 'https://raw.githubusercontent.com/DrJieTao/IMDB-Movie-Reviews/master/reviews.txt'\n",
        "review_df = pd.read_csv(review_url, header=None, names = ['text'])\n",
        "review_df.head()"
      ],
      "execution_count": null,
      "outputs": [
        {
          "output_type": "execute_result",
          "data": {
            "text/html": [
              "<div>\n",
              "<style scoped>\n",
              "    .dataframe tbody tr th:only-of-type {\n",
              "        vertical-align: middle;\n",
              "    }\n",
              "\n",
              "    .dataframe tbody tr th {\n",
              "        vertical-align: top;\n",
              "    }\n",
              "\n",
              "    .dataframe thead th {\n",
              "        text-align: right;\n",
              "    }\n",
              "</style>\n",
              "<table border=\"1\" class=\"dataframe\">\n",
              "  <thead>\n",
              "    <tr style=\"text-align: right;\">\n",
              "      <th></th>\n",
              "      <th>text</th>\n",
              "    </tr>\n",
              "  </thead>\n",
              "  <tbody>\n",
              "    <tr>\n",
              "      <th>0</th>\n",
              "      <td>bromwell high is a cartoon comedy . it ran at ...</td>\n",
              "    </tr>\n",
              "    <tr>\n",
              "      <th>1</th>\n",
              "      <td>story of a man who has unnatural feelings for ...</td>\n",
              "    </tr>\n",
              "    <tr>\n",
              "      <th>2</th>\n",
              "      <td>homelessness  or houselessness as george carli...</td>\n",
              "    </tr>\n",
              "    <tr>\n",
              "      <th>3</th>\n",
              "      <td>airport    starts as a brand new luxury    pla...</td>\n",
              "    </tr>\n",
              "    <tr>\n",
              "      <th>4</th>\n",
              "      <td>brilliant over  acting by lesley ann warren . ...</td>\n",
              "    </tr>\n",
              "  </tbody>\n",
              "</table>\n",
              "</div>"
            ],
            "text/plain": [
              "                                                text\n",
              "0  bromwell high is a cartoon comedy . it ran at ...\n",
              "1  story of a man who has unnatural feelings for ...\n",
              "2  homelessness  or houselessness as george carli...\n",
              "3  airport    starts as a brand new luxury    pla...\n",
              "4  brilliant over  acting by lesley ann warren . ..."
            ]
          },
          "metadata": {
            "tags": []
          },
          "execution_count": 7
        }
      ]
    },
    {
      "cell_type": "code",
      "metadata": {
        "colab": {
          "base_uri": "https://localhost:8080/",
          "height": 204
        },
        "id": "88ypMo3XuRZf",
        "outputId": "29dbda87-6040-4b74-cf4c-bc324c06d35f"
      },
      "source": [
        "#### since the labels are stored separately, we need to load the labels and concat them\n",
        "label_url = 'https://raw.githubusercontent.com/DrJieTao/IMDB-Movie-Reviews/master/labels.txt'\n",
        "label_df = pd.read_csv(label_url, header=None, names = ['labels'])\n",
        "label_df.head()"
      ],
      "execution_count": null,
      "outputs": [
        {
          "output_type": "execute_result",
          "data": {
            "text/html": [
              "<div>\n",
              "<style scoped>\n",
              "    .dataframe tbody tr th:only-of-type {\n",
              "        vertical-align: middle;\n",
              "    }\n",
              "\n",
              "    .dataframe tbody tr th {\n",
              "        vertical-align: top;\n",
              "    }\n",
              "\n",
              "    .dataframe thead th {\n",
              "        text-align: right;\n",
              "    }\n",
              "</style>\n",
              "<table border=\"1\" class=\"dataframe\">\n",
              "  <thead>\n",
              "    <tr style=\"text-align: right;\">\n",
              "      <th></th>\n",
              "      <th>labels</th>\n",
              "    </tr>\n",
              "  </thead>\n",
              "  <tbody>\n",
              "    <tr>\n",
              "      <th>0</th>\n",
              "      <td>positive</td>\n",
              "    </tr>\n",
              "    <tr>\n",
              "      <th>1</th>\n",
              "      <td>negative</td>\n",
              "    </tr>\n",
              "    <tr>\n",
              "      <th>2</th>\n",
              "      <td>positive</td>\n",
              "    </tr>\n",
              "    <tr>\n",
              "      <th>3</th>\n",
              "      <td>negative</td>\n",
              "    </tr>\n",
              "    <tr>\n",
              "      <th>4</th>\n",
              "      <td>positive</td>\n",
              "    </tr>\n",
              "  </tbody>\n",
              "</table>\n",
              "</div>"
            ],
            "text/plain": [
              "     labels\n",
              "0  positive\n",
              "1  negative\n",
              "2  positive\n",
              "3  negative\n",
              "4  positive"
            ]
          },
          "metadata": {
            "tags": []
          },
          "execution_count": 8
        }
      ]
    },
    {
      "cell_type": "code",
      "metadata": {
        "colab": {
          "base_uri": "https://localhost:8080/",
          "height": 204
        },
        "id": "_un5JQMxu9yr",
        "outputId": "88888643-87bf-4988-9f00-43223edb36cf"
      },
      "source": [
        "#### let's encode the labels `positive = 1, negative = 0`\n",
        "label_df['labels_true'] = label_df['labels'].apply(lambda x: 1 if x == 'positive' else 0)\n",
        "label_df.head()"
      ],
      "execution_count": null,
      "outputs": [
        {
          "output_type": "execute_result",
          "data": {
            "text/html": [
              "<div>\n",
              "<style scoped>\n",
              "    .dataframe tbody tr th:only-of-type {\n",
              "        vertical-align: middle;\n",
              "    }\n",
              "\n",
              "    .dataframe tbody tr th {\n",
              "        vertical-align: top;\n",
              "    }\n",
              "\n",
              "    .dataframe thead th {\n",
              "        text-align: right;\n",
              "    }\n",
              "</style>\n",
              "<table border=\"1\" class=\"dataframe\">\n",
              "  <thead>\n",
              "    <tr style=\"text-align: right;\">\n",
              "      <th></th>\n",
              "      <th>labels</th>\n",
              "      <th>labels_true</th>\n",
              "    </tr>\n",
              "  </thead>\n",
              "  <tbody>\n",
              "    <tr>\n",
              "      <th>0</th>\n",
              "      <td>positive</td>\n",
              "      <td>1</td>\n",
              "    </tr>\n",
              "    <tr>\n",
              "      <th>1</th>\n",
              "      <td>negative</td>\n",
              "      <td>0</td>\n",
              "    </tr>\n",
              "    <tr>\n",
              "      <th>2</th>\n",
              "      <td>positive</td>\n",
              "      <td>1</td>\n",
              "    </tr>\n",
              "    <tr>\n",
              "      <th>3</th>\n",
              "      <td>negative</td>\n",
              "      <td>0</td>\n",
              "    </tr>\n",
              "    <tr>\n",
              "      <th>4</th>\n",
              "      <td>positive</td>\n",
              "      <td>1</td>\n",
              "    </tr>\n",
              "  </tbody>\n",
              "</table>\n",
              "</div>"
            ],
            "text/plain": [
              "     labels  labels_true\n",
              "0  positive            1\n",
              "1  negative            0\n",
              "2  positive            1\n",
              "3  negative            0\n",
              "4  positive            1"
            ]
          },
          "metadata": {
            "tags": []
          },
          "execution_count": 9
        }
      ]
    },
    {
      "cell_type": "code",
      "metadata": {
        "colab": {
          "base_uri": "https://localhost:8080/"
        },
        "id": "LpTKqC9SvcZf",
        "outputId": "d744472b-a2fd-4080-a93a-656cc92239e1"
      },
      "source": [
        "#### let's pre-process the data\n",
        "from tensorflow.keras.preprocessing.text import Tokenizer\n",
        "from tensorflow.keras.preprocessing.sequence import pad_sequences\n",
        "import numpy as np\n",
        "#### also using the first 20 words\n",
        "maxlen = 20\n",
        "#### we purposely set a small training sample\n",
        "training_samples = 2000\n",
        "validation_samples = 10000\n",
        "#### also most popular 10000 words\n",
        "max_words = 10000\n",
        "\n",
        "texts = review_df.text.values ## NumPy array\n",
        "tokenizer = Tokenizer(num_words=max_words)\n",
        "tokenizer.fit_on_texts(texts)\n",
        "sequences = tokenizer.texts_to_sequences(texts)\n",
        "\n",
        "word_index = tokenizer.word_index\n",
        "print('Found %s unique tokens.' % len(word_index))\n",
        "\n",
        "data = pad_sequences(sequences, maxlen=maxlen)\n",
        "\n",
        "labels = label_df.labels_true.values\n",
        "print('Shape of data tensor:', data.shape)\n",
        "print('Shape of label tensor:', labels.shape)\n",
        "\n",
        "indices = np.arange(data.shape[0])\n",
        "np.random.shuffle(indices)\n",
        "data = data[indices]\n",
        "labels = labels[indices]\n",
        "\n",
        "x_train = data[:training_samples]\n",
        "y_train = labels[:training_samples]\n",
        "x_val = data[training_samples: training_samples + validation_samples]\n",
        "y_val = labels[training_samples: training_samples + validation_samples]\n",
        "\n",
        "\n"
      ],
      "execution_count": null,
      "outputs": [
        {
          "output_type": "stream",
          "text": [
            "Found 74072 unique tokens.\n",
            "Shape of data tensor: (25000, 20)\n",
            "Shape of label tensor: (25000,)\n"
          ],
          "name": "stdout"
        }
      ]
    },
    {
      "cell_type": "markdown",
      "metadata": {
        "id": "7nhKGx01w2Ah"
      },
      "source": [
        "We need to download the GloVe embeddings, we can use shell commands below for that."
      ]
    },
    {
      "cell_type": "code",
      "metadata": {
        "colab": {
          "base_uri": "https://localhost:8080/"
        },
        "id": "E-cnAjQ-wlzY",
        "outputId": "1a9a1010-3b38-4470-c413-2b4a142a5d2f"
      },
      "source": [
        "!wget http://nlp.stanford.edu/data/glove.6B.zip"
      ],
      "execution_count": null,
      "outputs": [
        {
          "output_type": "stream",
          "text": [
            "--2021-06-20 19:33:40--  http://nlp.stanford.edu/data/glove.6B.zip\n",
            "Resolving nlp.stanford.edu (nlp.stanford.edu)... 171.64.67.140\n",
            "Connecting to nlp.stanford.edu (nlp.stanford.edu)|171.64.67.140|:80... connected.\n",
            "HTTP request sent, awaiting response... 302 Found\n",
            "Location: https://nlp.stanford.edu/data/glove.6B.zip [following]\n",
            "--2021-06-20 19:33:40--  https://nlp.stanford.edu/data/glove.6B.zip\n",
            "Connecting to nlp.stanford.edu (nlp.stanford.edu)|171.64.67.140|:443... connected.\n",
            "HTTP request sent, awaiting response... 301 Moved Permanently\n",
            "Location: http://downloads.cs.stanford.edu/nlp/data/glove.6B.zip [following]\n",
            "--2021-06-20 19:33:41--  http://downloads.cs.stanford.edu/nlp/data/glove.6B.zip\n",
            "Resolving downloads.cs.stanford.edu (downloads.cs.stanford.edu)... 171.64.64.22\n",
            "Connecting to downloads.cs.stanford.edu (downloads.cs.stanford.edu)|171.64.64.22|:80... connected.\n",
            "HTTP request sent, awaiting response... 200 OK\n",
            "Length: 862182613 (822M) [application/zip]\n",
            "Saving to: ‘glove.6B.zip’\n",
            "\n",
            "glove.6B.zip        100%[===================>] 822.24M  5.07MB/s    in 2m 41s  \n",
            "\n",
            "2021-06-20 19:36:21 (5.11 MB/s) - ‘glove.6B.zip’ saved [862182613/862182613]\n",
            "\n"
          ],
          "name": "stdout"
        }
      ]
    },
    {
      "cell_type": "markdown",
      "metadata": {
        "id": "u7TyLfRNzFQc"
      },
      "source": [
        "Since it is a zipped file, we need to unzip it so that we can use it."
      ]
    },
    {
      "cell_type": "code",
      "metadata": {
        "colab": {
          "base_uri": "https://localhost:8080/"
        },
        "id": "_WKNZOS3yPM9",
        "outputId": "94184d8d-7760-4521-b967-27aa0b004ea8"
      },
      "source": [
        "!unzip glove.6B.zip"
      ],
      "execution_count": null,
      "outputs": [
        {
          "output_type": "stream",
          "text": [
            "Archive:  glove.6B.zip\n",
            "  inflating: glove.6B.50d.txt        \n",
            "  inflating: glove.6B.100d.txt       \n",
            "  inflating: glove.6B.200d.txt       \n",
            "  inflating: glove.6B.300d.txt       \n"
          ],
          "name": "stdout"
        }
      ]
    },
    {
      "cell_type": "markdown",
      "metadata": {
        "id": "chTVLjTs0Wg9"
      },
      "source": [
        "We downloaded four files, which are pre-trained embeddings of 50, 100, 200 and 300 dimensions, respectively. For simplication we are going to use the 100d file."
      ]
    },
    {
      "cell_type": "code",
      "metadata": {
        "colab": {
          "base_uri": "https://localhost:8080/"
        },
        "id": "6xPBiKas0Kuc",
        "outputId": "a30362bb-4070-40d4-a14f-8d7295e2333c"
      },
      "source": [
        "#### empty dict to hold embeddings\n",
        "embeddings_index = {}\n",
        "\n",
        "with open('/content/glove.6B.100d.txt') as f:\n",
        "  for line in f:\n",
        "    values = line.split()\n",
        "    word = values[0]\n",
        "    coefs = np.asarray(values[1:], dtype='float32')\n",
        "    embeddings_index[word] = coefs\n",
        "\n",
        "print('Found %s word vectors.' % len(embeddings_index))"
      ],
      "execution_count": null,
      "outputs": [
        {
          "output_type": "stream",
          "text": [
            "Found 400000 word vectors.\n"
          ],
          "name": "stdout"
        }
      ]
    },
    {
      "cell_type": "markdown",
      "metadata": {
        "id": "V7TRaWKh08Mv"
      },
      "source": [
        "Next, we need to get an `embedding_matrix` which we can then load into the `Embedding` layer as weights.\n",
        "\n",
        "The `embedding_matrix` needs to have a shape of `(max_words, embedding_dim)`. We defined `max_words` as 10,000 above, and we know we are using GloVe at 100 dimensions (`embedding_dim = 100`)."
      ]
    },
    {
      "cell_type": "code",
      "metadata": {
        "id": "zXfzL5MX03iK"
      },
      "source": [
        "embedding_dim = 100\n",
        "\n",
        "embedding_matrix = np.zeros((max_words, embedding_dim))\n",
        "for word, i in word_index.items():\n",
        "    if i < max_words:\n",
        "        embedding_vector = embeddings_index.get(word)\n",
        "        if embedding_vector is not None:\n",
        "            embedding_matrix[i] = embedding_vector"
      ],
      "execution_count": null,
      "outputs": []
    },
    {
      "cell_type": "code",
      "metadata": {
        "colab": {
          "base_uri": "https://localhost:8080/"
        },
        "id": "RrhxIhz51f6_",
        "outputId": "01c00553-1eef-4337-f486-2a85e6e10f6b"
      },
      "source": [
        "from keras.models import Sequential\n",
        "from keras.layers import Embedding, Flatten, Dense\n",
        "\n",
        "model = Sequential()\n",
        "model.add(Embedding(max_words,\n",
        "                    embedding_dim,\n",
        "                    weights=[embedding_matrix], # we use the pre-trained embedding here\n",
        "                    input_length=maxlen,\n",
        "                    trainable=False)) # we don't want the training to update the embedding values\n",
        "model.add(Flatten())\n",
        "model.add(Dense(32, activation='relu'))\n",
        "model.add(Dense(1, activation='sigmoid'))\n",
        "model.summary()"
      ],
      "execution_count": null,
      "outputs": [
        {
          "output_type": "stream",
          "text": [
            "Model: \"sequential\"\n",
            "_________________________________________________________________\n",
            "Layer (type)                 Output Shape              Param #   \n",
            "=================================================================\n",
            "embedding (Embedding)        (None, 20, 100)           1000000   \n",
            "_________________________________________________________________\n",
            "flatten (Flatten)            (None, 2000)              0         \n",
            "_________________________________________________________________\n",
            "dense (Dense)                (None, 32)                64032     \n",
            "_________________________________________________________________\n",
            "dense_1 (Dense)              (None, 1)                 33        \n",
            "=================================================================\n",
            "Total params: 1,064,065\n",
            "Trainable params: 64,065\n",
            "Non-trainable params: 1,000,000\n",
            "_________________________________________________________________\n"
          ],
          "name": "stdout"
        }
      ]
    },
    {
      "cell_type": "code",
      "metadata": {
        "colab": {
          "base_uri": "https://localhost:8080/"
        },
        "id": "ba3Vmqja2bnD",
        "outputId": "6de3f385-23a4-475d-f1ee-061a776e9ac6"
      },
      "source": [
        "#### Complie and Train\n",
        "\n",
        "model.compile(optimizer='rmsprop',\n",
        "              loss='binary_crossentropy',\n",
        "              metrics=['acc'])\n",
        "history = model.fit(x_train, y_train,\n",
        "                    epochs=10,\n",
        "                    batch_size=32,\n",
        "                    validation_data=(x_val, y_val))\n",
        "#### save the model\n",
        "\n",
        "model.save_weights('pre_trained_glove_model.h5')"
      ],
      "execution_count": null,
      "outputs": [
        {
          "output_type": "stream",
          "text": [
            "Epoch 1/10\n",
            "63/63 [==============================] - 14s 20ms/step - loss: 0.7490 - acc: 0.5099 - val_loss: 0.6817 - val_acc: 0.5605\n",
            "Epoch 2/10\n",
            "63/63 [==============================] - 1s 12ms/step - loss: 0.6323 - acc: 0.6316 - val_loss: 0.6688 - val_acc: 0.5914\n",
            "Epoch 3/10\n",
            "63/63 [==============================] - 1s 12ms/step - loss: 0.5484 - acc: 0.7423 - val_loss: 0.6742 - val_acc: 0.6004\n",
            "Epoch 4/10\n",
            "63/63 [==============================] - 1s 12ms/step - loss: 0.4638 - acc: 0.7908 - val_loss: 0.6900 - val_acc: 0.6026\n",
            "Epoch 5/10\n",
            "63/63 [==============================] - 1s 12ms/step - loss: 0.3949 - acc: 0.8283 - val_loss: 0.7533 - val_acc: 0.5918\n",
            "Epoch 6/10\n",
            "63/63 [==============================] - 1s 13ms/step - loss: 0.3215 - acc: 0.8842 - val_loss: 0.7452 - val_acc: 0.6055\n",
            "Epoch 7/10\n",
            "63/63 [==============================] - 1s 12ms/step - loss: 0.2694 - acc: 0.9189 - val_loss: 0.7864 - val_acc: 0.6073\n",
            "Epoch 8/10\n",
            "63/63 [==============================] - 1s 12ms/step - loss: 0.2168 - acc: 0.9395 - val_loss: 0.7970 - val_acc: 0.6092\n",
            "Epoch 9/10\n",
            "63/63 [==============================] - 1s 13ms/step - loss: 0.1499 - acc: 0.9712 - val_loss: 0.9247 - val_acc: 0.5915\n",
            "Epoch 10/10\n",
            "63/63 [==============================] - 1s 12ms/step - loss: 0.1165 - acc: 0.9791 - val_loss: 0.9315 - val_acc: 0.5957\n"
          ],
          "name": "stdout"
        }
      ]
    },
    {
      "cell_type": "markdown",
      "metadata": {
        "id": "fkDPUaMI3IVO"
      },
      "source": [
        "We can train the model without the __pre-trained__ embedding for comparison."
      ]
    },
    {
      "cell_type": "code",
      "metadata": {
        "colab": {
          "base_uri": "https://localhost:8080/"
        },
        "id": "YNTgpOuC2l31",
        "outputId": "d8b62331-d584-489c-cd8e-34a56840f3ba"
      },
      "source": [
        "model = Sequential()\n",
        "model.add(Embedding(max_words,\n",
        "                    embedding_dim,\n",
        "                    # weights=[embedding_matrix], # take out pre-trained embedding here\n",
        "                    input_length=maxlen,\n",
        "                    trainable=False))\n",
        "model.add(Flatten())\n",
        "model.add(Dense(32, activation='relu'))\n",
        "model.add(Dense(1, activation='sigmoid'))\n",
        "model.summary()"
      ],
      "execution_count": null,
      "outputs": [
        {
          "output_type": "stream",
          "text": [
            "Model: \"sequential_1\"\n",
            "_________________________________________________________________\n",
            "Layer (type)                 Output Shape              Param #   \n",
            "=================================================================\n",
            "embedding_1 (Embedding)      (None, 20, 100)           1000000   \n",
            "_________________________________________________________________\n",
            "flatten_1 (Flatten)          (None, 2000)              0         \n",
            "_________________________________________________________________\n",
            "dense_2 (Dense)              (None, 32)                64032     \n",
            "_________________________________________________________________\n",
            "dense_3 (Dense)              (None, 1)                 33        \n",
            "=================================================================\n",
            "Total params: 1,064,065\n",
            "Trainable params: 64,065\n",
            "Non-trainable params: 1,000,000\n",
            "_________________________________________________________________\n"
          ],
          "name": "stdout"
        }
      ]
    },
    {
      "cell_type": "code",
      "metadata": {
        "colab": {
          "base_uri": "https://localhost:8080/"
        },
        "id": "8UFzj_F63aF7",
        "outputId": "57dbdb60-921e-4491-8b64-14cc997d5c24"
      },
      "source": [
        "### Complie and Train\n",
        "\n",
        "model.compile(optimizer='rmsprop',\n",
        "              loss='binary_crossentropy',\n",
        "              metrics=['acc'])\n",
        "history = model.fit(x_train, y_train,\n",
        "                    epochs=10,\n",
        "                    batch_size=32,\n",
        "                    validation_data=(x_val, y_val))"
      ],
      "execution_count": null,
      "outputs": [
        {
          "output_type": "stream",
          "text": [
            "Epoch 1/10\n",
            "63/63 [==============================] - 2s 17ms/step - loss: 0.6902 - acc: 0.5397 - val_loss: 0.6915 - val_acc: 0.5077\n",
            "Epoch 2/10\n",
            "63/63 [==============================] - 1s 13ms/step - loss: 0.6607 - acc: 0.6513 - val_loss: 0.6889 - val_acc: 0.5339\n",
            "Epoch 3/10\n",
            "63/63 [==============================] - 1s 12ms/step - loss: 0.6232 - acc: 0.7582 - val_loss: 0.6893 - val_acc: 0.5411\n",
            "Epoch 4/10\n",
            "63/63 [==============================] - 1s 13ms/step - loss: 0.5803 - acc: 0.7956 - val_loss: 0.6953 - val_acc: 0.5392\n",
            "Epoch 5/10\n",
            "63/63 [==============================] - 1s 13ms/step - loss: 0.5378 - acc: 0.8172 - val_loss: 0.6996 - val_acc: 0.5446\n",
            "Epoch 6/10\n",
            "63/63 [==============================] - 1s 13ms/step - loss: 0.5005 - acc: 0.8282 - val_loss: 0.7101 - val_acc: 0.5460\n",
            "Epoch 7/10\n",
            "63/63 [==============================] - 1s 13ms/step - loss: 0.4532 - acc: 0.8608 - val_loss: 0.7252 - val_acc: 0.5468\n",
            "Epoch 8/10\n",
            "63/63 [==============================] - 1s 12ms/step - loss: 0.4135 - acc: 0.8729 - val_loss: 0.7426 - val_acc: 0.5471\n",
            "Epoch 9/10\n",
            "63/63 [==============================] - 1s 13ms/step - loss: 0.3744 - acc: 0.8953 - val_loss: 0.7636 - val_acc: 0.5471\n",
            "Epoch 10/10\n",
            "63/63 [==============================] - 1s 12ms/step - loss: 0.3449 - acc: 0.9087 - val_loss: 0.7868 - val_acc: 0.5468\n"
          ],
          "name": "stdout"
        }
      ]
    },
    {
      "cell_type": "markdown",
      "metadata": {
        "id": "NbE_qyPD3ez1"
      },
      "source": [
        "You can see the __pre-trained__ model actually helped."
      ]
    },
    {
      "cell_type": "markdown",
      "metadata": {
        "id": "OJrwx56n3l4T"
      },
      "source": [
        "## Understanding RNN\n",
        "\n",
        "- Both MLP and CNN have __no memory__:\n",
        "  - meaning each input is processed independently, with no state kept between inputs\n",
        "  - for these networks to process sequence or temporal data, the entire sequence (e.g., the whole time series) need to the fed to the network at once\n",
        "  - hence the whole sequence is treated as a __single__ data point\n",
        "  - Take the IMDB movie review as an example\n",
        "    - The whole review is converted into one large tensor (with vectors of words) then processed in one go\n",
        "  - These are called __feedforward networks__\n",
        "- For us human, we read a sentence _word by word_\n",
        "  - we keep memories of the earlier parts of the sentence when reading the later parts\n",
        "  - The earlier parts of the sentence affect the meaning of the later part, and sometimes vice versa\n",
        "- From this idea, we present __Recurrent Neural Netowrk__ (RNN)\n",
        "\n",
        "![RNN1](https://miro.medium.com/max/1400/1*NKhwsOYNUT5xU7Pyf6Znhg.png)"
      ]
    },
    {
      "cell_type": "markdown",
      "metadata": {
        "id": "tqCH2TdijlsP"
      },
      "source": [
        "### What is RNN?\n",
        "\n",
        "- RNN processes sequences by iterating through every element in the sequence\n",
        "- And keep a state containing the processed elements\n",
        "- Essentially, RNN contains a internal loop, see below:\n",
        "  - recurrent is a different way of saying loops\n",
        "\n",
        "![RNN](https://miro.medium.com/max/450/1*T_ECcHZWpjn0Ki4_4BEzow.gif)\n",
        "\n",
        "- The remembered state are reset between processing two different sequences\n",
        "  - e.g., two IMDB reviews\n",
        "  - Thus, one and only one input at a time\n",
        "  - But the network is trained in multiple steps - each step corresponds to one element in the sequence (e.g., words in a review)\n",
        "- You can refer to [this post](https://towardsdatascience.com/illustrated-guide-to-recurrent-neural-networks-79e5eb8049c9) for more information"
      ]
    },
    {
      "cell_type": "markdown",
      "metadata": {
        "id": "pFzczA9Bk4jB"
      },
      "source": [
        "### How RNN works?\n",
        "\n",
        "- Let's use a simple example to illustrate how RNN works\n",
        "- This RNN takes a 2D tensor (shape `(timesteps, input_features)`) by looping through all timesteps $ t \\in T $\n",
        "  - at a specific timestep $t$, the input sequence $X_t$ (shape `(input_features,)`), and process an output of $y_t$\n",
        "  - Keep the hidden state $y_t$ as $h_{t+1}$\n",
        "  - There is no hidden state for the first step, so we can select a all-zero vector in the shape of `(input_features,)`\n",
        "- In essence, RNN is a loop that uses the output from the previous step\n",
        "  - RNN can be defined by the activation function, like the `tanh` in the example below\n",
        "- We can use this psuedo code to express this RNN (say we use a `Dense` layer in there):"
      ]
    },
    {
      "cell_type": "code",
      "metadata": {
        "colab": {
          "base_uri": "https://localhost:8080/"
        },
        "id": "1b7-ZZ1W3c9s",
        "outputId": "b6581014-729d-46a0-eb23-7819ff2476c3"
      },
      "source": [
        "import numpy as np\n",
        "\n",
        "timesteps = 100\n",
        "input_features = 32\n",
        "output_features = 64\n",
        "\n",
        "inputs = np.random.random((timesteps, input_features))\n",
        "\n",
        "state_t = np.zeros((output_features,))\n",
        "\n",
        "W = np.random.random((output_features, input_features))\n",
        "U = np.random.random((output_features, output_features))\n",
        "b = np.random.random((output_features,))\n",
        "\n",
        "successive_outputs = []\n",
        "#### here is the recurrent part\n",
        "for input_t in inputs:\n",
        "    output_t = np.tanh(np.dot(W, input_t) + np.dot(U, state_t) + b)\n",
        "\n",
        "    successive_outputs.append(output_t)\n",
        "\n",
        "    state_t = output_t\n",
        "\n",
        "final_output_sequence = np.concatenate(successive_outputs, axis=0)\n",
        "final_output_sequence"
      ],
      "execution_count": null,
      "outputs": [
        {
          "output_type": "execute_result",
          "data": {
            "text/plain": [
              "array([0.99999999, 0.99999888, 0.99999519, ..., 1.        , 1.        ,\n",
              "       1.        ])"
            ]
          },
          "metadata": {
            "tags": []
          },
          "execution_count": 19
        }
      ]
    },
    {
      "cell_type": "markdown",
      "metadata": {
        "id": "mIC8uWSfoOB8"
      },
      "source": [
        "#### `keras` RNN Layers\n",
        "\n",
        "Refer to the example below using `SimpleRNN` layers on the IMDB data."
      ]
    },
    {
      "cell_type": "code",
      "metadata": {
        "colab": {
          "base_uri": "https://localhost:8080/"
        },
        "id": "OgsCH-FjoNub",
        "outputId": "7b2d1aa9-4131-4703-cf32-b48c76e10b8c"
      },
      "source": [
        "#### load the data\n",
        "from tensorflow.keras.datasets import imdb\n",
        "from tensorflow.keras.preprocessing.sequence import pad_sequences\n",
        "\n",
        "max_features = 10000\n",
        "maxlen = 500\n",
        "batch_size = 32\n",
        "\n",
        "print('Loading data...')\n",
        "(input_train, y_train), (input_test, y_test) = imdb.load_data(\n",
        "     num_words=max_features)\n",
        "print(len(input_train), 'train sequences')\n",
        "print(len(input_test), 'test sequences')\n",
        "\n",
        "print('Pad sequences (samples x time)')\n",
        "input_train = pad_sequences(input_train, maxlen=maxlen)\n",
        "input_test = pad_sequences(input_test, maxlen=maxlen)\n",
        "print('input_train shape:', input_train.shape)\n",
        "print('input_test shape:', input_test.shape)\n",
        "\n"
      ],
      "execution_count": null,
      "outputs": [
        {
          "output_type": "stream",
          "text": [
            "Loading data...\n"
          ],
          "name": "stdout"
        },
        {
          "output_type": "stream",
          "text": [
            "<string>:6: VisibleDeprecationWarning: Creating an ndarray from ragged nested sequences (which is a list-or-tuple of lists-or-tuples-or ndarrays with different lengths or shapes) is deprecated. If you meant to do this, you must specify 'dtype=object' when creating the ndarray\n",
            "/usr/local/lib/python3.7/dist-packages/tensorflow/python/keras/datasets/imdb.py:155: VisibleDeprecationWarning: Creating an ndarray from ragged nested sequences (which is a list-or-tuple of lists-or-tuples-or ndarrays with different lengths or shapes) is deprecated. If you meant to do this, you must specify 'dtype=object' when creating the ndarray\n",
            "  x_train, y_train = np.array(xs[:idx]), np.array(labels[:idx])\n",
            "/usr/local/lib/python3.7/dist-packages/tensorflow/python/keras/datasets/imdb.py:156: VisibleDeprecationWarning: Creating an ndarray from ragged nested sequences (which is a list-or-tuple of lists-or-tuples-or ndarrays with different lengths or shapes) is deprecated. If you meant to do this, you must specify 'dtype=object' when creating the ndarray\n",
            "  x_test, y_test = np.array(xs[idx:]), np.array(labels[idx:])\n"
          ],
          "name": "stderr"
        },
        {
          "output_type": "stream",
          "text": [
            "25000 train sequences\n",
            "25000 test sequences\n",
            "Pad sequences (samples x time)\n",
            "input_train shape: (25000, 500)\n",
            "input_test shape: (25000, 500)\n"
          ],
          "name": "stdout"
        }
      ]
    },
    {
      "cell_type": "markdown",
      "metadata": {
        "id": "AsAoL086om7D"
      },
      "source": [
        "Let’s train a simple recurrent network using an `Embedding` layer and a `SimpleRNN` layer."
      ]
    },
    {
      "cell_type": "code",
      "metadata": {
        "colab": {
          "base_uri": "https://localhost:8080/"
        },
        "id": "aaZMGPSHng6g",
        "outputId": "c3ecaf46-4925-4e37-c30e-c7fb55fa1dc3"
      },
      "source": [
        "from tensorflow.keras.models import Sequential\n",
        "from tensorflow.keras.layers import Embedding, Dense, SimpleRNN\n",
        "#### define model\n",
        "model = Sequential()\n",
        "model.add(Embedding(max_features, 32))\n",
        "model.add(SimpleRNN(32))\n",
        "model.add(Dense(1, activation='sigmoid'))\n",
        "model.summary()"
      ],
      "execution_count": null,
      "outputs": [
        {
          "output_type": "stream",
          "text": [
            "Model: \"sequential_1\"\n",
            "_________________________________________________________________\n",
            "Layer (type)                 Output Shape              Param #   \n",
            "=================================================================\n",
            "embedding_1 (Embedding)      (None, None, 32)          320000    \n",
            "_________________________________________________________________\n",
            "simple_rnn (SimpleRNN)       (None, 32)                2080      \n",
            "_________________________________________________________________\n",
            "dense_1 (Dense)              (None, 1)                 33        \n",
            "=================================================================\n",
            "Total params: 322,113\n",
            "Trainable params: 322,113\n",
            "Non-trainable params: 0\n",
            "_________________________________________________________________\n"
          ],
          "name": "stdout"
        }
      ]
    },
    {
      "cell_type": "code",
      "metadata": {
        "colab": {
          "base_uri": "https://localhost:8080/"
        },
        "id": "DbvcLOIposDQ",
        "outputId": "9d23bfd6-ebe2-461f-bd7c-cd2e96a4a968"
      },
      "source": [
        "#### compliing and train\n",
        "#### since we are going word by word, the training is much longer\n",
        "model.compile(optimizer='rmsprop', loss='binary_crossentropy', metrics=['acc'])\n",
        "history = model.fit(input_train, y_train,\n",
        "                    epochs=10,\n",
        "                    batch_size=batch_size,\n",
        "                    validation_split=0.2)\n"
      ],
      "execution_count": null,
      "outputs": [
        {
          "output_type": "stream",
          "text": [
            "Epoch 1/10\n",
            "625/625 [==============================] - 213s 339ms/step - loss: 0.5817 - acc: 0.6707 - val_loss: 0.4166 - val_acc: 0.8152\n",
            "Epoch 2/10\n",
            "625/625 [==============================] - 211s 337ms/step - loss: 0.3546 - acc: 0.8544 - val_loss: 0.4070 - val_acc: 0.8440\n",
            "Epoch 3/10\n",
            "625/625 [==============================] - 210s 336ms/step - loss: 0.2742 - acc: 0.8917 - val_loss: 0.3924 - val_acc: 0.8228\n",
            "Epoch 4/10\n",
            "625/625 [==============================] - 210s 337ms/step - loss: 0.2332 - acc: 0.9103 - val_loss: 0.3246 - val_acc: 0.8674\n",
            "Epoch 5/10\n",
            "625/625 [==============================] - 209s 335ms/step - loss: 0.1946 - acc: 0.9266 - val_loss: 0.3429 - val_acc: 0.8740\n",
            "Epoch 6/10\n",
            "625/625 [==============================] - 208s 333ms/step - loss: 0.1849 - acc: 0.9291 - val_loss: 0.3733 - val_acc: 0.8634\n",
            "Epoch 7/10\n",
            "625/625 [==============================] - 209s 334ms/step - loss: 0.1403 - acc: 0.9499 - val_loss: 0.4264 - val_acc: 0.8442\n",
            "Epoch 8/10\n",
            "625/625 [==============================] - 209s 335ms/step - loss: 0.1069 - acc: 0.9625 - val_loss: 0.4417 - val_acc: 0.8502\n",
            "Epoch 9/10\n",
            "625/625 [==============================] - 208s 333ms/step - loss: 0.0927 - acc: 0.9689 - val_loss: 0.4908 - val_acc: 0.8342\n",
            "Epoch 10/10\n",
            "625/625 [==============================] - 207s 331ms/step - loss: 0.0724 - acc: 0.9754 - val_loss: 0.5792 - val_acc: 0.8494\n"
          ],
          "name": "stdout"
        }
      ]
    },
    {
      "cell_type": "markdown",
      "metadata": {
        "id": "owEDY-ptq0K_"
      },
      "source": [
        "### Problems with RNN\n",
        "\n",
        "- You can see the model overfitted soon - the best performance is 0.8816 of `val_acc` at epoch `5`. But one key problem is __vanishing gradients__.\n",
        "\n",
        "- Recall how backpropgation works?\n",
        "\n",
        "![bp](https://miro.medium.com/max/450/1*8eriEDJZisidMG_yyEDEAA.gif)\n",
        "\n",
        "- As the backpropgation goes to the earlier layers, the gradients decrease geometrically:\n",
        "\n",
        "![diminishing gradients](https://miro.medium.com/max/450/1*nGrmK1Ikx7ecZZyTdOCIuQ.gif)\n",
        "\n",
        "- Particularly for RNN, there is an additional layer with steps in the sequence:\n",
        "\n",
        "![RNN-DG](https://miro.medium.com/max/864/1*Ku54qmCryZVBaIc6g8rjGA.gif)\n",
        "\n",
        "- That is the reason we use less and less RNN layers, but more advanced recurrent layers, such as `LSTM` and `GRU` layers, which we are going to discuss below."
      ]
    },
    {
      "cell_type": "markdown",
      "metadata": {
        "id": "bPF7GlpfUM8D"
      },
      "source": [
        "### Understanding LSTM and GRU\n",
        "\n",
        "- Due to the vanishing gradient problem, we hardly use any pure RNN layers\n",
        "- Luckily, we have other two recurrent layers to use: `LSTM` and `GRU`\n",
        "  - Long Short-Term Memory (LSTM) algorithm is a variant of RNN\n",
        "  - While Gated Recurrent Unit (GRU) is another variant"
      ]
    },
    {
      "cell_type": "markdown",
      "metadata": {
        "id": "nzE3kVxaVPgd"
      },
      "source": [
        "### LSTM Explained\n",
        "\n",
        "- LSTM has a similar control flow as the regular RNN\n",
        "  - It processes sequence in steps, and propagates forward\n",
        "- The key difference is within the LSTM cells\n",
        "\n",
        "![LSTM-cell](https://miro.medium.com/max/576/1*0f8r3Vd-i4ueYND1CUrhMA.png)\n",
        "\n",
        "- The core concepts of LSTM include:\n",
        "  - The cell state: the cell state is similar to the RNN cell state, which remembers the state from the previous step - that is the __memory__ part\n",
        "  - In RNN, the __memory__ remembers all the information throughout the sequence\n",
        "  - However, in real life, the __short-term__ memory carries more importance\n",
        "    - Consider this example: \"I am Chinese so I speak _____. \"\n",
        "      - To predict the word in blank, the hints \"speak\" and \"Chinese\" are more important - they are short-term memory.\n",
        "  - Gates: Determines what information to be kept or forgotten\n",
        "    - Specifically, what information is __allowed__ at a certain cell"
      ]
    },
    {
      "cell_type": "markdown",
      "metadata": {
        "id": "r4_lI2NVW9Rp"
      },
      "source": [
        "#### What is a Gate?\n",
        "\n",
        "- Simply speaking, a __gate__ is a `sigmoid` function:\n",
        "  - `sigmoid` has outputs between `0` and `1`, and we can use a threshold to control it to output only `0` and `1`\n",
        "  - In this context, `0` means to __forget__ since anything multiply by `0` is `0`\n",
        "  - And `1` means to __keep__ since anything multiply by `1` is itself\n",
        "- A LSTM cell contains three types of gates:\n",
        "  - Forget Gate: decides what is relevant to keep from **prior steps**\n",
        "  - Input Gate: what information is relevant to add from **the current step**\n",
        "  - Output Gate: determines what the next hidden state should be"
      ]
    },
    {
      "cell_type": "markdown",
      "metadata": {
        "id": "y_bUyP_NYIVc"
      },
      "source": [
        "#### What is a Forget Gate?\n",
        "\n",
        "- Forget gates decide what information to __forget__ or __keep__\n",
        "  - Previous hidden state ($h_t$) and the current input ($X_{t+1}$) are fed into a `sigmoid` function\n",
        "  - If the information is \"far away\" -- meaning __long-term__ memory -- the hidden state is low, so it is more likely that the `sigmoid` function outputs a value closer to `0`; thus, these information are to be __forgotten__.\n",
        "\n",
        "![forget gate](https://miro.medium.com/max/576/1*GjehOa513_BgpDDP6Vkw2Q.gif)"
      ]
    },
    {
      "cell_type": "markdown",
      "metadata": {
        "id": "GxF8FEdzZDF5"
      },
      "source": [
        "#### What is an Input Gate?\n",
        "\n",
        "- The input gate is used to update the __hidden/cell state__ of the current cell\n",
        "- The input gate contains a `sigmoid` and a `tanh` function\n",
        "  - This `sigmoid` function decides if the information is important\n",
        "    - You can consider the outputs ($sigmoid(h_{t-1}, X_t)$) as weights: `0`: non-important, `1`: important\n",
        "  - the output of the `tanh` function ($tanh(h_{t-1}, X_t)$) is between `-1` and `1`\n",
        "    - This helps regulate the network\n",
        "- You then multiply the outputs from the `sigmoid` and `tanh` function together\n",
        "  - This decides what information is important enough to keep\n",
        "  - Which is given by:\n",
        "\n",
        "$$ c_t = sigmoid(h_{t-1}, X_t) \\cdot tanh(h_{t-1}, X_t) $$\n",
        "\n",
        "![input gate](https://miro.medium.com/max/576/1*TTmYy7Sy8uUXxUXfzmoKbA.gif)\n"
      ]
    },
    {
      "cell_type": "markdown",
      "metadata": {
        "id": "hhHaRnZdaLvw"
      },
      "source": [
        "#### How to Update Cell State?\n",
        "\n",
        "- The cell state at timestep ($t$) is given by:\n",
        "\n",
        "$$ c_t = f_t \\cdot c_{t-1} + c_t$$, where $c_t$ is given above, and $c_{t-1}$ is the cell state from the previous step\n",
        "\n",
        "- In other words, the forget gate decides how much information from the previous step should be passed to the current step, and\n",
        "- the input gate decides how important is the current input\n",
        "\n",
        "![cell state](https://miro.medium.com/max/576/1*S0rXIeO_VoUVOyrYHckUWg.gif)"
      ]
    },
    {
      "cell_type": "markdown",
      "metadata": {
        "id": "TZOgqyN-ctno"
      },
      "source": [
        "#### What is an Output Gate?\n",
        "\n",
        "- The output gate decides what the hidden state in the next step ($C_{t+1}$) would be\n",
        "  - Specifically, it determines what information should be passed to the next cell\n",
        "- The output gate also contains a `sigmoid` and a `tanh` function:\n",
        "  - We use the `sigmoid` to compute the importance of the current hidden state ($o_t = sigmoid(h_{t-1}, X_t)$)\n",
        "  - We use the `tanh` to compute the cell state to be passed to the next cell ($h_t$), given by:\n",
        "\n",
        "$$ h_t = sigmoid(h_{t-1}, X_t) \\cdot tanh(c_t) $$\n",
        "\n",
        "- Both $h_t$ and $c_t$ are passed into the next step ($ t+1 $).\n",
        "- Note we also use the hidden state for prediction\n",
        "\n",
        "![output gate](https://miro.medium.com/max/576/1*VOXRGhOShoWWks6ouoDN3Q.gif)"
      ]
    },
    {
      "cell_type": "markdown",
      "metadata": {
        "id": "FwQ-roEdfd3a"
      },
      "source": [
        "#### Pseudo Code for LSTM\n",
        "\n",
        "- We can use following pseudo code to represent how a LSTM cell works\n",
        "```python\n",
        "def LSTMcell(prev_ct, prev_ht, Xt):\n",
        "  '''\n",
        "  INPUT:\n",
        "  ---\n",
        "  - prev_ct: cell state from previous step\n",
        "  - prev_ht: hidden state from previous step\n",
        "  OUTPUT:\n",
        "  ---\n",
        "  - ct: cell state of current step\n",
        "  - ht: hidden state of current step\n",
        "  '''\n",
        "  #### concatenate prew_ht and Xt\n",
        "  combined = prew_ht + Xt\n",
        "  #### calculate what to forget and what to keep\n",
        "  ft = sigmoid(combined)\n",
        "  #### calculate the candicate cell state ct\n",
        "  candidate = tanh(combined)\n",
        "  #### calculate the importance at the input gate\n",
        "  it = sigmoid(combined)\n",
        "  #### calculate current cell state\n",
        "  ct = prev_ct * ft + candidate * it\n",
        "  #### calculate the importance at the output gate\n",
        "  ot = sigmoid(combined) # same as it mostly\n",
        "  #### calculate hidden state\n",
        "  ht = ot * tanh(ct)\n",
        "  return ct, ht\n",
        "```"
      ]
    },
    {
      "cell_type": "markdown",
      "metadata": {
        "id": "wC-SVoGphlAF"
      },
      "source": [
        "### GRU Explained\n",
        "\n",
        "- With LSTM explained, GRU is fairly staightforward\n",
        "- GRU is a new generation of RNN, which is similar to LSTM\n",
        "- It contains only two gates:\n",
        "  - update gate: is similar to the combination of forget and input gates in LSTM\n",
        "    - decides what information to forget/keep\n",
        "  - reset gate: decides how much past information to forget\n",
        "- Theoretically since GRU has less gates (_tensor operations_) it is usually faster to train\n",
        "- But there is no guarantee which one gives the better performance\n",
        "\n",
        "__PRO TIP__: we usually build LSTM and GRU models together, and pick whichever gives us the better performance."
      ]
    },
    {
      "cell_type": "markdown",
      "metadata": {
        "id": "RB87LiRViqgO"
      },
      "source": [
        "### A Brief LSTM and GRU Example\n",
        "\n",
        "- Let's use the `LSTM` and `GRU` layers from `keras` on the IMDB data again here.\n",
        "  - This might be a good time you change your runtime type to use `GPU` as the hardware accelerator, since both models takes __longer__ to train"
      ]
    },
    {
      "cell_type": "code",
      "metadata": {
        "colab": {
          "base_uri": "https://localhost:8080/"
        },
        "id": "gun1pFB9pCIo",
        "outputId": "84ce1f45-0558-44d1-8cd7-38b6b6827fda"
      },
      "source": [
        "#### load the data\n",
        "from tensorflow.keras.datasets import imdb\n",
        "from tensorflow.keras.preprocessing.sequence import pad_sequences\n",
        "\n",
        "max_features = 10000\n",
        "maxlen = 500\n",
        "batch_size = 32\n",
        "\n",
        "print('Loading data...')\n",
        "(input_train, y_train), (input_test, y_test) = imdb.load_data(\n",
        "     num_words=max_features)\n",
        "print(len(input_train), 'train sequences')\n",
        "print(len(input_test), 'test sequences')\n",
        "\n",
        "print('Pad sequences (samples x time)')\n",
        "input_train = pad_sequences(input_train, maxlen=maxlen)\n",
        "input_test = pad_sequences(input_test, maxlen=maxlen)\n",
        "print('input_train shape:', input_train.shape)\n",
        "print('input_test shape:', input_test.shape)"
      ],
      "execution_count": null,
      "outputs": [
        {
          "output_type": "stream",
          "text": [
            "Loading data...\n"
          ],
          "name": "stdout"
        },
        {
          "output_type": "stream",
          "text": [
            "<string>:6: VisibleDeprecationWarning: Creating an ndarray from ragged nested sequences (which is a list-or-tuple of lists-or-tuples-or ndarrays with different lengths or shapes) is deprecated. If you meant to do this, you must specify 'dtype=object' when creating the ndarray\n",
            "/usr/local/lib/python3.7/dist-packages/tensorflow/python/keras/datasets/imdb.py:155: VisibleDeprecationWarning: Creating an ndarray from ragged nested sequences (which is a list-or-tuple of lists-or-tuples-or ndarrays with different lengths or shapes) is deprecated. If you meant to do this, you must specify 'dtype=object' when creating the ndarray\n",
            "  x_train, y_train = np.array(xs[:idx]), np.array(labels[:idx])\n",
            "/usr/local/lib/python3.7/dist-packages/tensorflow/python/keras/datasets/imdb.py:156: VisibleDeprecationWarning: Creating an ndarray from ragged nested sequences (which is a list-or-tuple of lists-or-tuples-or ndarrays with different lengths or shapes) is deprecated. If you meant to do this, you must specify 'dtype=object' when creating the ndarray\n",
            "  x_test, y_test = np.array(xs[idx:]), np.array(labels[idx:])\n"
          ],
          "name": "stderr"
        },
        {
          "output_type": "stream",
          "text": [
            "25000 train sequences\n",
            "25000 test sequences\n",
            "Pad sequences (samples x time)\n",
            "input_train shape: (25000, 500)\n",
            "input_test shape: (25000, 500)\n"
          ],
          "name": "stdout"
        }
      ]
    },
    {
      "cell_type": "code",
      "metadata": {
        "colab": {
          "base_uri": "https://localhost:8080/"
        },
        "id": "6vpWa3kzi7Nq",
        "outputId": "849101f2-c462-4e57-dc81-9281da91cd27"
      },
      "source": [
        "from tensorflow.keras.models import Sequential\n",
        "from tensorflow.keras.layers import LSTM, Embedding, Dense\n",
        "\n",
        "\n",
        "model = Sequential()\n",
        "model.add(Embedding(max_features, 32))\n",
        "model.add(LSTM(32))\n",
        "model.add(Dense(1, activation='sigmoid'))\n",
        "\n",
        "model.compile(optimizer='rmsprop',\n",
        "              loss='binary_crossentropy',\n",
        "              metrics=['acc'])\n",
        "history = model.fit(input_train, y_train,\n",
        "                    epochs=10,\n",
        "                    batch_size=128,\n",
        "                    validation_split=0.2)"
      ],
      "execution_count": null,
      "outputs": [
        {
          "output_type": "stream",
          "text": [
            "Epoch 1/10\n",
            "157/157 [==============================] - 10s 31ms/step - loss: 0.5028 - acc: 0.7634 - val_loss: 0.3637 - val_acc: 0.8594\n",
            "Epoch 2/10\n",
            "157/157 [==============================] - 4s 27ms/step - loss: 0.2855 - acc: 0.8901 - val_loss: 0.3280 - val_acc: 0.8638\n",
            "Epoch 3/10\n",
            "157/157 [==============================] - 4s 27ms/step - loss: 0.2330 - acc: 0.9124 - val_loss: 0.3101 - val_acc: 0.8708\n",
            "Epoch 4/10\n",
            "157/157 [==============================] - 4s 27ms/step - loss: 0.2020 - acc: 0.9251 - val_loss: 0.4619 - val_acc: 0.8256\n",
            "Epoch 5/10\n",
            "157/157 [==============================] - 4s 27ms/step - loss: 0.1739 - acc: 0.9354 - val_loss: 0.2983 - val_acc: 0.8802\n",
            "Epoch 6/10\n",
            "157/157 [==============================] - 4s 27ms/step - loss: 0.1551 - acc: 0.9452 - val_loss: 0.3048 - val_acc: 0.8672\n",
            "Epoch 7/10\n",
            "157/157 [==============================] - 4s 27ms/step - loss: 0.1420 - acc: 0.9493 - val_loss: 0.3135 - val_acc: 0.8838\n",
            "Epoch 8/10\n",
            "157/157 [==============================] - 4s 28ms/step - loss: 0.1291 - acc: 0.9551 - val_loss: 0.3120 - val_acc: 0.8810\n",
            "Epoch 9/10\n",
            "157/157 [==============================] - 4s 27ms/step - loss: 0.1190 - acc: 0.9585 - val_loss: 0.3689 - val_acc: 0.8832\n",
            "Epoch 10/10\n",
            "157/157 [==============================] - 4s 28ms/step - loss: 0.1092 - acc: 0.9614 - val_loss: 0.3944 - val_acc: 0.8724\n"
          ],
          "name": "stdout"
        }
      ]
    },
    {
      "cell_type": "markdown",
      "metadata": {
        "id": "ykly7gj5klyl"
      },
      "source": [
        "We can see our LSTM model get the best `val_acc` ~ 89% at epoch 9.\n",
        "\n",
        "Let's try a GRU model as well."
      ]
    },
    {
      "cell_type": "code",
      "metadata": {
        "colab": {
          "base_uri": "https://localhost:8080/"
        },
        "id": "FAWdG-imjJwL",
        "outputId": "b7a82de6-065e-4fa5-dfa5-4315c9099b31"
      },
      "source": [
        "from tensorflow.keras.layers import GRU\n",
        "\n",
        "\n",
        "model = Sequential()\n",
        "model.add(Embedding(max_features, 32))\n",
        "model.add(LSTM(32))\n",
        "model.add(Dense(1, activation='sigmoid'))\n",
        "\n",
        "model.compile(optimizer='rmsprop',\n",
        "              loss='binary_crossentropy',\n",
        "              metrics=['acc'])\n",
        "history = model.fit(input_train, y_train,\n",
        "                    epochs=10,\n",
        "                    batch_size=128,\n",
        "                    validation_split=0.2)"
      ],
      "execution_count": null,
      "outputs": [
        {
          "output_type": "stream",
          "text": [
            "Epoch 1/10\n",
            "157/157 [==============================] - 6s 30ms/step - loss: 0.5199 - acc: 0.7543 - val_loss: 0.3710 - val_acc: 0.8384\n",
            "Epoch 2/10\n",
            "157/157 [==============================] - 4s 27ms/step - loss: 0.3002 - acc: 0.8808 - val_loss: 0.4140 - val_acc: 0.8504\n",
            "Epoch 3/10\n",
            "157/157 [==============================] - 4s 28ms/step - loss: 0.2400 - acc: 0.9103 - val_loss: 0.3191 - val_acc: 0.8660\n",
            "Epoch 4/10\n",
            "157/157 [==============================] - 4s 28ms/step - loss: 0.2039 - acc: 0.9252 - val_loss: 0.3087 - val_acc: 0.8868\n",
            "Epoch 5/10\n",
            "157/157 [==============================] - 4s 27ms/step - loss: 0.1803 - acc: 0.9338 - val_loss: 0.3191 - val_acc: 0.8662\n",
            "Epoch 6/10\n",
            "157/157 [==============================] - 4s 28ms/step - loss: 0.1631 - acc: 0.9409 - val_loss: 0.4246 - val_acc: 0.8720\n",
            "Epoch 7/10\n",
            "157/157 [==============================] - 4s 28ms/step - loss: 0.1469 - acc: 0.9484 - val_loss: 0.3644 - val_acc: 0.8742\n",
            "Epoch 8/10\n",
            "157/157 [==============================] - 4s 28ms/step - loss: 0.1350 - acc: 0.9531 - val_loss: 0.3238 - val_acc: 0.8764\n",
            "Epoch 9/10\n",
            "157/157 [==============================] - 4s 28ms/step - loss: 0.1229 - acc: 0.9578 - val_loss: 0.3340 - val_acc: 0.8780\n",
            "Epoch 10/10\n",
            "157/157 [==============================] - 4s 28ms/step - loss: 0.1179 - acc: 0.9578 - val_loss: 0.3634 - val_acc: 0.8736\n"
          ],
          "name": "stdout"
        }
      ]
    },
    {
      "cell_type": "markdown",
      "metadata": {
        "id": "j4PUkvfUk-RA"
      },
      "source": [
        "We can see the results are almost identical."
      ]
    },
    {
      "cell_type": "markdown",
      "metadata": {
        "id": "_kaVDrEDlJXH"
      },
      "source": [
        "## Advanced Use of RNN Layers\n",
        "\n",
        "- From above results, we can observe a few things:\n",
        "  - Even though the `GRU` and the `LSTM` models are far more expensive, the performance improvements are not as impressive as expected\n",
        "  - Both the `GRU` and the `LSTM` models __overfit__ easily\n",
        "- In practice, we use following techniques to fight these issues:\n",
        "  - We **stack** `LSTM` or `GRU` layers up for better representation of the data\n",
        "  - We use **Bi-directional** `LSTM` or `GRU` layers since the dependency may be in both directions\n",
        "  - And we use `recurrent_dropout` to fight the overfitting problem\n",
        "- We discuss these techniques below, with a regression problem\n",
        "  - This is a weather forecasting problem\n",
        "  - Using features, such as  atmospheric pressure, humidity, wind direction to forecast air temperature in the next 24 hours"
      ]
    },
    {
      "cell_type": "code",
      "metadata": {
        "colab": {
          "base_uri": "https://localhost:8080/"
        },
        "id": "LKiXy0ovkyNJ",
        "outputId": "444f0d5e-6ff5-4d26-8db0-cfe354234050"
      },
      "source": [
        "#### getting the data\n",
        "!wget https://s3.amazonaws.com/keras-datasets/jena_climate_2009_2016.csv.zip\n",
        "!unzip jena_climate_2009_2016.csv.zip"
      ],
      "execution_count": null,
      "outputs": [
        {
          "output_type": "stream",
          "text": [
            "--2021-06-20 20:20:47--  https://s3.amazonaws.com/keras-datasets/jena_climate_2009_2016.csv.zip\n",
            "Resolving s3.amazonaws.com (s3.amazonaws.com)... 52.217.9.166\n",
            "Connecting to s3.amazonaws.com (s3.amazonaws.com)|52.217.9.166|:443... connected.\n",
            "HTTP request sent, awaiting response... 200 OK\n",
            "Length: 13565642 (13M) [application/zip]\n",
            "Saving to: ‘jena_climate_2009_2016.csv.zip’\n",
            "\n",
            "jena_climate_2009_2 100%[===================>]  12.94M  84.9MB/s    in 0.2s    \n",
            "\n",
            "2021-06-20 20:20:47 (84.9 MB/s) - ‘jena_climate_2009_2016.csv.zip’ saved [13565642/13565642]\n",
            "\n",
            "Archive:  jena_climate_2009_2016.csv.zip\n",
            "  inflating: jena_climate_2009_2016.csv  \n",
            "  inflating: __MACOSX/._jena_climate_2009_2016.csv  \n"
          ],
          "name": "stdout"
        }
      ]
    },
    {
      "cell_type": "code",
      "metadata": {
        "colab": {
          "base_uri": "https://localhost:8080/",
          "height": 337
        },
        "id": "qK1fTxwinOGe",
        "outputId": "57f061a7-a846-4039-b8cd-89e9e910e84f"
      },
      "source": [
        "#### read in the data\n",
        "fname = 'jena_climate_2009_2016.csv'\n",
        "\n",
        "import pandas as pd\n",
        "\n",
        "weather_df = pd.read_csv(fname, index_col=0)\n",
        "weather_df.head()"
      ],
      "execution_count": null,
      "outputs": [
        {
          "output_type": "execute_result",
          "data": {
            "text/html": [
              "<div>\n",
              "<style scoped>\n",
              "    .dataframe tbody tr th:only-of-type {\n",
              "        vertical-align: middle;\n",
              "    }\n",
              "\n",
              "    .dataframe tbody tr th {\n",
              "        vertical-align: top;\n",
              "    }\n",
              "\n",
              "    .dataframe thead th {\n",
              "        text-align: right;\n",
              "    }\n",
              "</style>\n",
              "<table border=\"1\" class=\"dataframe\">\n",
              "  <thead>\n",
              "    <tr style=\"text-align: right;\">\n",
              "      <th></th>\n",
              "      <th>p (mbar)</th>\n",
              "      <th>T (degC)</th>\n",
              "      <th>Tpot (K)</th>\n",
              "      <th>Tdew (degC)</th>\n",
              "      <th>rh (%)</th>\n",
              "      <th>VPmax (mbar)</th>\n",
              "      <th>VPact (mbar)</th>\n",
              "      <th>VPdef (mbar)</th>\n",
              "      <th>sh (g/kg)</th>\n",
              "      <th>H2OC (mmol/mol)</th>\n",
              "      <th>rho (g/m**3)</th>\n",
              "      <th>wv (m/s)</th>\n",
              "      <th>max. wv (m/s)</th>\n",
              "      <th>wd (deg)</th>\n",
              "    </tr>\n",
              "    <tr>\n",
              "      <th>Date Time</th>\n",
              "      <th></th>\n",
              "      <th></th>\n",
              "      <th></th>\n",
              "      <th></th>\n",
              "      <th></th>\n",
              "      <th></th>\n",
              "      <th></th>\n",
              "      <th></th>\n",
              "      <th></th>\n",
              "      <th></th>\n",
              "      <th></th>\n",
              "      <th></th>\n",
              "      <th></th>\n",
              "      <th></th>\n",
              "    </tr>\n",
              "  </thead>\n",
              "  <tbody>\n",
              "    <tr>\n",
              "      <th>01.01.2009 00:10:00</th>\n",
              "      <td>996.52</td>\n",
              "      <td>-8.02</td>\n",
              "      <td>265.40</td>\n",
              "      <td>-8.90</td>\n",
              "      <td>93.3</td>\n",
              "      <td>3.33</td>\n",
              "      <td>3.11</td>\n",
              "      <td>0.22</td>\n",
              "      <td>1.94</td>\n",
              "      <td>3.12</td>\n",
              "      <td>1307.75</td>\n",
              "      <td>1.03</td>\n",
              "      <td>1.75</td>\n",
              "      <td>152.3</td>\n",
              "    </tr>\n",
              "    <tr>\n",
              "      <th>01.01.2009 00:20:00</th>\n",
              "      <td>996.57</td>\n",
              "      <td>-8.41</td>\n",
              "      <td>265.01</td>\n",
              "      <td>-9.28</td>\n",
              "      <td>93.4</td>\n",
              "      <td>3.23</td>\n",
              "      <td>3.02</td>\n",
              "      <td>0.21</td>\n",
              "      <td>1.89</td>\n",
              "      <td>3.03</td>\n",
              "      <td>1309.80</td>\n",
              "      <td>0.72</td>\n",
              "      <td>1.50</td>\n",
              "      <td>136.1</td>\n",
              "    </tr>\n",
              "    <tr>\n",
              "      <th>01.01.2009 00:30:00</th>\n",
              "      <td>996.53</td>\n",
              "      <td>-8.51</td>\n",
              "      <td>264.91</td>\n",
              "      <td>-9.31</td>\n",
              "      <td>93.9</td>\n",
              "      <td>3.21</td>\n",
              "      <td>3.01</td>\n",
              "      <td>0.20</td>\n",
              "      <td>1.88</td>\n",
              "      <td>3.02</td>\n",
              "      <td>1310.24</td>\n",
              "      <td>0.19</td>\n",
              "      <td>0.63</td>\n",
              "      <td>171.6</td>\n",
              "    </tr>\n",
              "    <tr>\n",
              "      <th>01.01.2009 00:40:00</th>\n",
              "      <td>996.51</td>\n",
              "      <td>-8.31</td>\n",
              "      <td>265.12</td>\n",
              "      <td>-9.07</td>\n",
              "      <td>94.2</td>\n",
              "      <td>3.26</td>\n",
              "      <td>3.07</td>\n",
              "      <td>0.19</td>\n",
              "      <td>1.92</td>\n",
              "      <td>3.08</td>\n",
              "      <td>1309.19</td>\n",
              "      <td>0.34</td>\n",
              "      <td>0.50</td>\n",
              "      <td>198.0</td>\n",
              "    </tr>\n",
              "    <tr>\n",
              "      <th>01.01.2009 00:50:00</th>\n",
              "      <td>996.51</td>\n",
              "      <td>-8.27</td>\n",
              "      <td>265.15</td>\n",
              "      <td>-9.04</td>\n",
              "      <td>94.1</td>\n",
              "      <td>3.27</td>\n",
              "      <td>3.08</td>\n",
              "      <td>0.19</td>\n",
              "      <td>1.92</td>\n",
              "      <td>3.09</td>\n",
              "      <td>1309.00</td>\n",
              "      <td>0.32</td>\n",
              "      <td>0.63</td>\n",
              "      <td>214.3</td>\n",
              "    </tr>\n",
              "  </tbody>\n",
              "</table>\n",
              "</div>"
            ],
            "text/plain": [
              "                     p (mbar)  T (degC)  ...  max. wv (m/s)  wd (deg)\n",
              "Date Time                                ...                         \n",
              "01.01.2009 00:10:00    996.52     -8.02  ...           1.75     152.3\n",
              "01.01.2009 00:20:00    996.57     -8.41  ...           1.50     136.1\n",
              "01.01.2009 00:30:00    996.53     -8.51  ...           0.63     171.6\n",
              "01.01.2009 00:40:00    996.51     -8.31  ...           0.50     198.0\n",
              "01.01.2009 00:50:00    996.51     -8.27  ...           0.63     214.3\n",
              "\n",
              "[5 rows x 14 columns]"
            ]
          },
          "metadata": {
            "tags": []
          },
          "execution_count": 27
        }
      ]
    },
    {
      "cell_type": "code",
      "metadata": {
        "colab": {
          "base_uri": "https://localhost:8080/"
        },
        "id": "q8jKqUeOnfx5",
        "outputId": "ec987686-11f7-4c98-ebe8-7d21343c33a0"
      },
      "source": [
        "#### look at the information of `weather_df`\n",
        "weather_df.info()"
      ],
      "execution_count": null,
      "outputs": [
        {
          "output_type": "stream",
          "text": [
            "<class 'pandas.core.frame.DataFrame'>\n",
            "Index: 420451 entries, 01.01.2009 00:10:00 to 01.01.2017 00:00:00\n",
            "Data columns (total 14 columns):\n",
            " #   Column           Non-Null Count   Dtype  \n",
            "---  ------           --------------   -----  \n",
            " 0   p (mbar)         420451 non-null  float64\n",
            " 1   T (degC)         420451 non-null  float64\n",
            " 2   Tpot (K)         420451 non-null  float64\n",
            " 3   Tdew (degC)      420451 non-null  float64\n",
            " 4   rh (%)           420451 non-null  float64\n",
            " 5   VPmax (mbar)     420451 non-null  float64\n",
            " 6   VPact (mbar)     420451 non-null  float64\n",
            " 7   VPdef (mbar)     420451 non-null  float64\n",
            " 8   sh (g/kg)        420451 non-null  float64\n",
            " 9   H2OC (mmol/mol)  420451 non-null  float64\n",
            " 10  rho (g/m**3)     420451 non-null  float64\n",
            " 11  wv (m/s)         420451 non-null  float64\n",
            " 12  max. wv (m/s)    420451 non-null  float64\n",
            " 13  wd (deg)         420451 non-null  float64\n",
            "dtypes: float64(14)\n",
            "memory usage: 48.1+ MB\n"
          ],
          "name": "stdout"
        }
      ]
    },
    {
      "cell_type": "code",
      "metadata": {
        "colab": {
          "base_uri": "https://localhost:8080/"
        },
        "id": "ozS6ghPioHne",
        "outputId": "19ac1f1d-bdc2-45be-b492-39b6aa9d84d2"
      },
      "source": [
        "#### get the values from pandas into a NumPy array\n",
        "#### note taht we do not need the index\n",
        "data = weather_df.values\n",
        "data.shape"
      ],
      "execution_count": null,
      "outputs": [
        {
          "output_type": "execute_result",
          "data": {
            "text/plain": [
              "(420451, 14)"
            ]
          },
          "metadata": {
            "tags": []
          },
          "execution_count": 29
        }
      ]
    },
    {
      "cell_type": "markdown",
      "metadata": {
        "id": "WaDe8WKbovHE"
      },
      "source": [
        "Of course for any forecasting problem we need to look at the general trends using visualizations. For instance the celsius temperature:"
      ]
    },
    {
      "cell_type": "code",
      "metadata": {
        "colab": {
          "base_uri": "https://localhost:8080/",
          "height": 245
        },
        "id": "SaMd1L7wokt6",
        "outputId": "4f8dd3ed-2346-40b9-cf9c-5ed347ddbeb3"
      },
      "source": [
        "weather_df['T (degC)'].plot(figsize=(20,3))"
      ],
      "execution_count": null,
      "outputs": [
        {
          "output_type": "execute_result",
          "data": {
            "text/plain": [
              "<matplotlib.axes._subplots.AxesSubplot at 0x7f024d7d0890>"
            ]
          },
          "metadata": {
            "tags": []
          },
          "execution_count": 30
        },
        {
          "output_type": "display_data",
          "data": {
            "image/png": "[encoded data removed]",
            "text/plain": [
              "<Figure size 1440x216 with 1 Axes>"
            ]
          },
          "metadata": {
            "tags": [],
            "needs_background": "light"
          }
        }
      ]
    },
    {
      "cell_type": "markdown",
      "metadata": {
        "id": "3fkhzVTPpdGU"
      },
      "source": [
        "Clearly we observe a seasonal trend.\n",
        "\n",
        "\n",
        "\n"
      ]
    },
    {
      "cell_type": "markdown",
      "metadata": {
        "id": "rIebDuZrvuUe"
      },
      "source": [
        "### The Analytical Problem\n",
        "\n",
        "The true analytical questions is:\n",
        "\n",
        "\n",
        "> Given the weathre data from the past $N$ timesteps (with each timestep as `10` minutes, as shown in the index of the DF), can you predict the temperature in the future $M$ timesteps?\n",
        "\n",
        "To Analyze this question, we need to define a few things:\n",
        "- $N$, aka. `lookback`, how many observations we would go back\n",
        "  - Let's say `10` days, which means `240` hours or `14400` minutes, so `lookback = 1440` (steps)\n",
        "- $M$, aka. `delay`, how many observations we need to predict forward\n",
        "  - We need to predict `24` hours or `1440` minutes, so `delay = 144`.\n",
        "- We also need to define the frequency of our sampling, aka. `steps`\n",
        "  - Let's say we sample the data hourly, or every `60` minutes, so `steps = 6`"
      ]
    },
    {
      "cell_type": "code",
      "metadata": {
        "id": "1ee2Us4mpIuO"
      },
      "source": [
        "lookback = 1440\n",
        "steps = 6\n",
        "delay = 144\n",
        "#### we can also define batch_size here\n",
        "batch_size = 128\n"
      ],
      "execution_count": null,
      "outputs": []
    },
    {
      "cell_type": "markdown",
      "metadata": {
        "id": "CsfCX152v2z0"
      },
      "source": [
        "### Preprocessing the Data\n",
        "\n",
        "- Since the data is numerical, we do not need vectorization\n",
        "- But we do need to standardize our data, such as a `z-score` transformation:\n",
        "$$ z = \\frac{x-\\bar{x}}{\\mu}$$\n",
        "  - We should only use $\\bar{x}$ and $\\mu$ from the training data (say first `200000` observations)\n",
        "  - This step is very important because it avoids the __leak into the future__ problem\n",
        "- We also need to pass the data in a generator so that\n",
        "  - sample batches of data within the range determined by `lookback`"
      ]
    },
    {
      "cell_type": "code",
      "metadata": {
        "id": "Nv0iQF0kv16u"
      },
      "source": [
        "#### z-score transformatin\n",
        "#### we can always use standardscaler from sklean\n",
        "#### but it is so simple we can do it in numpy\n",
        "mean = data[:200000].mean(axis=0)\n",
        "data -= mean\n",
        "std = data[:200000].std(axis=0)\n",
        "data /= std"
      ],
      "execution_count": null,
      "outputs": []
    },
    {
      "cell_type": "code",
      "metadata": {
        "id": "VC9gbSRExTA4"
      },
      "source": [
        "#### generator function\n",
        "import numpy as np\n",
        "\n",
        "def generator(data, lookback, delay, min_index, max_index,\n",
        "              shuffle=False, batch_size=128, step=6):\n",
        "    '''\n",
        "    Generates batches of data with defined sampling.\n",
        "    INPUT:\n",
        "    ---\n",
        "    - data (NumPy array): The original array of floating-point datanormalized.\n",
        "    - lookback (int): How many timesteps back the input data should go.\n",
        "    - delay (int): How many timesteps in the future the target should be.\n",
        "    - min_index and max_index (int): Segment data into train, validation and testing\n",
        "    - shuffle (bool): Whether to shuffle the samples or draw them in chronological order.\n",
        "    - batch_size (int): The number of samples per batch.\n",
        "    - step (int): The period, in timesteps, at which you sample data.\n",
        "    OUTPUT:\n",
        "    ---\n",
        "    samples (NumPy array): train, validation, test samples containing features\n",
        "    targets (NumPy array): train, validation, test targets.\n",
        "    '''\n",
        "    #### if we do not want to reserve data for validation\n",
        "    #### only use `delay` data for testing\n",
        "    if max_index is None:\n",
        "        max_index = len(data) - delay - 1\n",
        "    #### starting point: if `min_index` = 0 then we start at `lookback`\n",
        "    #### since we want to make sure the every sample, including the first one\n",
        "    #### contains `lookback` number of steps\n",
        "    i = min_index + lookback\n",
        "    while 1:\n",
        "        #### random sampling\n",
        "        if shuffle:\n",
        "            rows = np.random.randint(i, max_index, size=batch_size)\n",
        "        #### ordered sampleing\n",
        "        else:\n",
        "            if i + batch_size >= max_index:\n",
        "                i = min_index + lookback\n",
        "            rows = np.arange(i, min(i + batch_size, max_index))\n",
        "            i += len(rows)\n",
        "\n",
        "        samples = np.zeros((len(rows),\n",
        "                           lookback // step,\n",
        "                           data.shape[-1]))\n",
        "        targets = np.zeros((len(rows),))\n",
        "        for j, row in enumerate(rows):\n",
        "            indices = range(rows[j] - lookback, rows[j], step)\n",
        "            samples[j] = data[indices]\n",
        "            targets[j] = data[rows[j] + delay][1]\n",
        "        yield samples, targets"
      ],
      "execution_count": null,
      "outputs": []
    },
    {
      "cell_type": "code",
      "metadata": {
        "id": "pxMeUW_vzuj9"
      },
      "source": [
        "#### geerating samples and targets\n",
        "train_gen = generator(data,\n",
        "                      lookback=lookback,\n",
        "                      delay=delay,\n",
        "                      min_index=0,\n",
        "                      max_index=200000,\n",
        "                      shuffle=True,\n",
        "                      step=steps,\n",
        "                      batch_size=batch_size)\n",
        "val_gen = generator(data,\n",
        "                    lookback=lookback,\n",
        "                    delay=delay,\n",
        "                    min_index=200001,\n",
        "                    max_index=220000,\n",
        "                    step=steps,\n",
        "                    batch_size=batch_size)\n",
        "test_gen = generator(data,\n",
        "                     lookback=lookback,\n",
        "                     delay=delay,\n",
        "                     min_index=220001,\n",
        "                     max_index=None,\n",
        "                     step=steps,\n",
        "                     batch_size=batch_size)\n",
        "#### How many steps to draw to see the validation set\n",
        "# val_steps = (220000 - 200001 - lookback)\n",
        "val_steps = 500\n",
        "#### How many steps to draw to see the test set\n",
        "# test_steps = (len(data) - 220001 - lookback)\n",
        "test_steps = 500"
      ],
      "execution_count": null,
      "outputs": []
    },
    {
      "cell_type": "markdown",
      "metadata": {
        "id": "EfWO7s6T0tku"
      },
      "source": [
        "Let's first create a MLP baseline. Since this is a regression problem we use `mae` as the loss function."
      ]
    },
    {
      "cell_type": "code",
      "metadata": {
        "id": "SyCUu1H50dix",
        "colab": {
          "base_uri": "https://localhost:8080/"
        },
        "outputId": "0f1ca2c0-6a1c-4272-8176-49a2a0b101d8"
      },
      "source": [
        "from keras.models import Sequential\n",
        "from keras import layers\n",
        "from tensorflow.keras.optimizers import RMSprop\n",
        "\n",
        "model = Sequential()\n",
        "model.add(layers.Flatten(input_shape=(lookback // steps, data.shape[-1])))\n",
        "model.add(layers.Dense(32, activation='relu'))\n",
        "model.add(layers.Dense(1))\n",
        "model.compile(optimizer=RMSprop(), loss='mae')\n",
        "history = model.fit(train_gen,\n",
        "                              steps_per_epoch=500,\n",
        "                              epochs=20,\n",
        "                              validation_data=val_gen,\n",
        "                              validation_steps=val_steps)"
      ],
      "execution_count": null,
      "outputs": [
        {
          "output_type": "stream",
          "text": [
            "Epoch 1/20\n",
            "500/500 [==============================] - 11s 20ms/step - loss: 2.2140 - val_loss: 0.7767\n",
            "Epoch 2/20\n",
            "500/500 [==============================] - 10s 19ms/step - loss: 0.7497 - val_loss: 0.3436\n",
            "Epoch 3/20\n",
            "500/500 [==============================] - 10s 19ms/step - loss: 0.3664 - val_loss: 0.3321\n",
            "Epoch 4/20\n",
            "500/500 [==============================] - 10s 19ms/step - loss: 0.2842 - val_loss: 0.3082\n",
            "Epoch 5/20\n",
            "500/500 [==============================] - 9s 19ms/step - loss: 0.2605 - val_loss: 0.3703\n",
            "Epoch 6/20\n",
            "500/500 [==============================] - 10s 19ms/step - loss: 0.2508 - val_loss: 0.3295\n",
            "Epoch 7/20\n",
            "500/500 [==============================] - 10s 19ms/step - loss: 0.2429 - val_loss: 0.3277\n",
            "Epoch 8/20\n",
            "500/500 [==============================] - 10s 19ms/step - loss: 0.2366 - val_loss: 0.3538\n",
            "Epoch 9/20\n",
            "500/500 [==============================] - 10s 19ms/step - loss: 0.2313 - val_loss: 0.3219\n",
            "Epoch 10/20\n",
            "500/500 [==============================] - 10s 19ms/step - loss: 0.2272 - val_loss: 0.3579\n",
            "Epoch 11/20\n",
            "500/500 [==============================] - 9s 19ms/step - loss: 0.2248 - val_loss: 0.3311\n",
            "Epoch 12/20\n",
            "500/500 [==============================] - 10s 19ms/step - loss: 0.2202 - val_loss: 0.3286\n",
            "Epoch 13/20\n",
            "500/500 [==============================] - 9s 19ms/step - loss: 0.2178 - val_loss: 0.3225\n",
            "Epoch 14/20\n",
            "500/500 [==============================] - 10s 19ms/step - loss: 0.2148 - val_loss: 0.3426\n",
            "Epoch 15/20\n",
            "500/500 [==============================] - 10s 19ms/step - loss: 0.2126 - val_loss: 0.3642\n",
            "Epoch 16/20\n",
            "500/500 [==============================] - 9s 19ms/step - loss: 0.2115 - val_loss: 0.3509\n",
            "Epoch 17/20\n",
            "500/500 [==============================] - 10s 19ms/step - loss: 0.2067 - val_loss: 0.3383\n",
            "Epoch 18/20\n",
            "500/500 [==============================] - 10s 19ms/step - loss: 0.2072 - val_loss: 0.3419\n",
            "Epoch 19/20\n",
            "500/500 [==============================] - 10s 20ms/step - loss: 0.2020 - val_loss: 0.3535\n",
            "Epoch 20/20\n",
            "500/500 [==============================] - 10s 20ms/step - loss: 0.2007 - val_loss: 0.3401\n"
          ],
          "name": "stdout"
        }
      ]
    },
    {
      "cell_type": "markdown",
      "metadata": {
        "id": "MByxBkB45BUi"
      },
      "source": [
        "You can see the model reach the best `val_loss` (`mae`) of `0.3263` at epoch `5`.\n",
        "\n",
        "Since the model overfitted easily (with is common in time series analysis or regression models), we consider using a `EarlyStopping` below (See L4 for more details)."
      ]
    },
    {
      "cell_type": "code",
      "metadata": {
        "id": "sGnKRfdF08_F"
      },
      "source": [
        "from keras.callbacks import EarlyStopping\n",
        "es = EarlyStopping(monitor='val_loss', mode='min', verbose=1, patience=5)"
      ],
      "execution_count": null,
      "outputs": []
    },
    {
      "cell_type": "markdown",
      "metadata": {
        "id": "-hwiaFV5-s_Y"
      },
      "source": [
        "So we can build out first recurrent baseline, with a `GRU` layer."
      ]
    },
    {
      "cell_type": "code",
      "metadata": {
        "id": "KtzHmJgr-yYB",
        "colab": {
          "base_uri": "https://localhost:8080/"
        },
        "outputId": "65d55e3e-d165-4f1a-f1cd-70da86659147"
      },
      "source": [
        "from keras.models import Sequential\n",
        "from keras import layers\n",
        "from tensorflow.keras.optimizers import RMSprop\n",
        "\n",
        "model = Sequential()\n",
        "model.add(layers.GRU(32, input_shape=(None, data.shape[-1])))\n",
        "model.add(layers.Dense(1))\n",
        "\n",
        "model.compile(optimizer=RMSprop(), loss='mae')\n",
        "history = model.fit(train_gen,\n",
        "                              steps_per_epoch=500,\n",
        "                              epochs=20,\n",
        "                              validation_data=val_gen,\n",
        "                              validation_steps=val_steps,\n",
        "                              callbacks=[es]\n",
        "                    )"
      ],
      "execution_count": null,
      "outputs": [
        {
          "output_type": "stream",
          "text": [
            "Epoch 1/20\n",
            "500/500 [==============================] - 18s 26ms/step - loss: 0.3184 - val_loss: 0.2453\n",
            "Epoch 2/20\n",
            "500/500 [==============================] - 13s 26ms/step - loss: 0.2853 - val_loss: 0.2464\n",
            "Epoch 3/20\n",
            "500/500 [==============================] - 13s 26ms/step - loss: 0.2762 - val_loss: 0.2443\n",
            "Epoch 4/20\n",
            "500/500 [==============================] - 13s 26ms/step - loss: 0.2746 - val_loss: 0.2406\n",
            "Epoch 5/20\n",
            "500/500 [==============================] - 14s 27ms/step - loss: 0.2671 - val_loss: 0.2531\n",
            "Epoch 6/20\n",
            "500/500 [==============================] - 14s 27ms/step - loss: 0.2629 - val_loss: 0.2504\n",
            "Epoch 7/20\n",
            "500/500 [==============================] - 13s 27ms/step - loss: 0.2578 - val_loss: 0.2406\n",
            "Epoch 8/20\n",
            "500/500 [==============================] - 13s 27ms/step - loss: 0.2545 - val_loss: 0.2462\n",
            "Epoch 9/20\n",
            "500/500 [==============================] - 13s 27ms/step - loss: 0.2502 - val_loss: 0.2566\n",
            "Epoch 00009: early stopping\n"
          ],
          "name": "stdout"
        }
      ]
    },
    {
      "cell_type": "markdown",
      "metadata": {
        "id": "rRJYz5Lkczgu"
      },
      "source": [
        "Albeit the better results, we can see we still have serious __overfitting__ problem.\n",
        "\n",
        "From L4 we know another way to fight the overfitting problem is to use `Dropout`. In RNN models, we can use recurrent dropout within the RNN layer, rather than using a separate `Dropout` layer.\n",
        "\n",
        "See example below."
      ]
    },
    {
      "cell_type": "code",
      "metadata": {
        "id": "OcV3YZiHBaNf",
        "colab": {
          "base_uri": "https://localhost:8080/",
          "height": 664
        },
        "outputId": "7be2c720-ba17-4381-a3a9-943792c6e74c"
      },
      "source": [
        "#### takes time to run !!!\n",
        "from keras.models import Sequential\n",
        "from keras import layers\n",
        "from tensorflow.keras.optimizers import RMSprop\n",
        "\n",
        "model = Sequential()\n",
        "model.add(layers.GRU(32,\n",
        "                     dropout=0.2, # general dropouts\n",
        "                     recurrent_dropout=0.2, # dropouts applied to every step\n",
        "                     input_shape=(None, data.shape[-1])))\n",
        "model.add(layers.Dense(1))\n",
        "\n",
        "model.compile(optimizer=RMSprop(), loss='mae')\n",
        "history = model.fit(train_gen,\n",
        "                              steps_per_epoch=500,\n",
        "                              epochs=40,\n",
        "                              validation_data=val_gen,\n",
        "                              validation_steps=val_steps,\n",
        "                              callbacks=[es])"
      ],
      "execution_count": null,
      "outputs": [
        {
          "output_type": "stream",
          "text": [
            "WARNING:tensorflow:Layer gru_1 will not use cuDNN kernels since it doesn't meet the criteria. It will use a generic GPU kernel as fallback when running on GPU.\n",
            "Epoch 1/40\n",
            "500/500 [==============================] - 359s 703ms/step - loss: 0.3504 - val_loss: 0.2627\n",
            "Epoch 2/40\n",
            "500/500 [==============================] - 348s 696ms/step - loss: 0.3052 - val_loss: 0.2596\n",
            "Epoch 3/40\n",
            "500/500 [==============================] - 347s 694ms/step - loss: 0.3009 - val_loss: 0.2593\n",
            "Epoch 4/40\n",
            "500/500 [==============================] - 348s 697ms/step - loss: 0.2959 - val_loss: 0.2482\n",
            "Epoch 5/40\n",
            "500/500 [==============================] - 345s 691ms/step - loss: 0.2928 - val_loss: 0.2578\n",
            "Epoch 6/40\n",
            "500/500 [==============================] - 346s 693ms/step - loss: 0.2864 - val_loss: 0.2612\n",
            "Epoch 7/40\n",
            "500/500 [==============================] - 347s 695ms/step - loss: 0.2818 - val_loss: 0.2584\n",
            "Epoch 8/40\n",
            "500/500 [==============================] - 347s 694ms/step - loss: 0.2784 - val_loss: 0.2496\n",
            "Epoch 9/40\n",
            "362/500 [====================>.........] - ETA: 1:28 - loss: 0.2757"
          ],
          "name": "stdout"
        },
        {
          "output_type": "error",
          "ename": "KeyboardInterrupt",
          "evalue": "ignored",
          "traceback": [
            "\u001b[0;31m---------------------------------------------------------------------------\u001b[0m",
            "\u001b[0;31mKeyboardInterrupt\u001b[0m                         Traceback (most recent call last)",
            "\u001b[0;32m<ipython-input-38-f8b692dad945>\u001b[0m in \u001b[0;36m<module>\u001b[0;34m()\u001b[0m\n\u001b[1;32m     17\u001b[0m                               \u001b[0mvalidation_data\u001b[0m\u001b[0;34m=\u001b[0m\u001b[0mval_gen\u001b[0m\u001b[0;34m,\u001b[0m\u001b[0;34m\u001b[0m\u001b[0;34m\u001b[0m\u001b[0m\n\u001b[1;32m     18\u001b[0m                               \u001b[0mvalidation_steps\u001b[0m\u001b[0;34m=\u001b[0m\u001b[0mval_steps\u001b[0m\u001b[0;34m,\u001b[0m\u001b[0;34m\u001b[0m\u001b[0;34m\u001b[0m\u001b[0m\n\u001b[0;32m---> 19\u001b[0;31m                               callbacks=[es])\n\u001b[0m",
            "\u001b[0;32m/usr/local/lib/python3.7/dist-packages/keras/engine/training.py\u001b[0m in \u001b[0;36mfit\u001b[0;34m(self, x, y, batch_size, epochs, verbose, callbacks, validation_split, validation_data, shuffle, class_weight, sample_weight, initial_epoch, steps_per_epoch, validation_steps, validation_batch_size, validation_freq, max_queue_size, workers, use_multiprocessing)\u001b[0m\n\u001b[1;32m   1156\u001b[0m                 _r=1):\n\u001b[1;32m   1157\u001b[0m               \u001b[0mcallbacks\u001b[0m\u001b[0;34m.\u001b[0m\u001b[0mon_train_batch_begin\u001b[0m\u001b[0;34m(\u001b[0m\u001b[0mstep\u001b[0m\u001b[0;34m)\u001b[0m\u001b[0;34m\u001b[0m\u001b[0;34m\u001b[0m\u001b[0m\n\u001b[0;32m-> 1158\u001b[0;31m               \u001b[0mtmp_logs\u001b[0m \u001b[0;34m=\u001b[0m \u001b[0mself\u001b[0m\u001b[0;34m.\u001b[0m\u001b[0mtrain_function\u001b[0m\u001b[0;34m(\u001b[0m\u001b[0miterator\u001b[0m\u001b[0;34m)\u001b[0m\u001b[0;34m\u001b[0m\u001b[0;34m\u001b[0m\u001b[0m\n\u001b[0m\u001b[1;32m   1159\u001b[0m               \u001b[0;32mif\u001b[0m \u001b[0mdata_handler\u001b[0m\u001b[0;34m.\u001b[0m\u001b[0mshould_sync\u001b[0m\u001b[0;34m:\u001b[0m\u001b[0;34m\u001b[0m\u001b[0;34m\u001b[0m\u001b[0m\n\u001b[1;32m   1160\u001b[0m                 \u001b[0mcontext\u001b[0m\u001b[0;34m.\u001b[0m\u001b[0masync_wait\u001b[0m\u001b[0;34m(\u001b[0m\u001b[0;34m)\u001b[0m\u001b[0;34m\u001b[0m\u001b[0;34m\u001b[0m\u001b[0m\n",
            "\u001b[0;32m/usr/local/lib/python3.7/dist-packages/tensorflow/python/eager/def_function.py\u001b[0m in \u001b[0;36m__call__\u001b[0;34m(self, *args, **kwds)\u001b[0m\n\u001b[1;32m    887\u001b[0m \u001b[0;34m\u001b[0m\u001b[0m\n\u001b[1;32m    888\u001b[0m       \u001b[0;32mwith\u001b[0m \u001b[0mOptionalXlaContext\u001b[0m\u001b[0;34m(\u001b[0m\u001b[0mself\u001b[0m\u001b[0;34m.\u001b[0m\u001b[0m_jit_compile\u001b[0m\u001b[0;34m)\u001b[0m\u001b[0;34m:\u001b[0m\u001b[0;34m\u001b[0m\u001b[0;34m\u001b[0m\u001b[0m\n\u001b[0;32m--> 889\u001b[0;31m         \u001b[0mresult\u001b[0m \u001b[0;34m=\u001b[0m \u001b[0mself\u001b[0m\u001b[0;34m.\u001b[0m\u001b[0m_call\u001b[0m\u001b[0;34m(\u001b[0m\u001b[0;34m*\u001b[0m\u001b[0margs\u001b[0m\u001b[0;34m,\u001b[0m \u001b[0;34m**\u001b[0m\u001b[0mkwds\u001b[0m\u001b[0;34m)\u001b[0m\u001b[0;34m\u001b[0m\u001b[0;34m\u001b[0m\u001b[0m\n\u001b[0m\u001b[1;32m    890\u001b[0m \u001b[0;34m\u001b[0m\u001b[0m\n\u001b[1;32m    891\u001b[0m       \u001b[0mnew_tracing_count\u001b[0m \u001b[0;34m=\u001b[0m \u001b[0mself\u001b[0m\u001b[0;34m.\u001b[0m\u001b[0mexperimental_get_tracing_count\u001b[0m\u001b[0;34m(\u001b[0m\u001b[0;34m)\u001b[0m\u001b[0;34m\u001b[0m\u001b[0;34m\u001b[0m\u001b[0m\n",
            "\u001b[0;32m/usr/local/lib/python3.7/dist-packages/tensorflow/python/eager/def_function.py\u001b[0m in \u001b[0;36m_call\u001b[0;34m(self, *args, **kwds)\u001b[0m\n\u001b[1;32m    915\u001b[0m       \u001b[0;31m# In this case we have created variables on the first call, so we run the\u001b[0m\u001b[0;34m\u001b[0m\u001b[0;34m\u001b[0m\u001b[0;34m\u001b[0m\u001b[0m\n\u001b[1;32m    916\u001b[0m       \u001b[0;31m# defunned version which is guaranteed to never create variables.\u001b[0m\u001b[0;34m\u001b[0m\u001b[0;34m\u001b[0m\u001b[0;34m\u001b[0m\u001b[0m\n\u001b[0;32m--> 917\u001b[0;31m       \u001b[0;32mreturn\u001b[0m \u001b[0mself\u001b[0m\u001b[0;34m.\u001b[0m\u001b[0m_stateless_fn\u001b[0m\u001b[0;34m(\u001b[0m\u001b[0;34m*\u001b[0m\u001b[0margs\u001b[0m\u001b[0;34m,\u001b[0m \u001b[0;34m**\u001b[0m\u001b[0mkwds\u001b[0m\u001b[0;34m)\u001b[0m  \u001b[0;31m# pylint: disable=not-callable\u001b[0m\u001b[0;34m\u001b[0m\u001b[0;34m\u001b[0m\u001b[0m\n\u001b[0m\u001b[1;32m    918\u001b[0m     \u001b[0;32melif\u001b[0m \u001b[0mself\u001b[0m\u001b[0;34m.\u001b[0m\u001b[0m_stateful_fn\u001b[0m \u001b[0;32mis\u001b[0m \u001b[0;32mnot\u001b[0m \u001b[0;32mNone\u001b[0m\u001b[0;34m:\u001b[0m\u001b[0;34m\u001b[0m\u001b[0;34m\u001b[0m\u001b[0m\n\u001b[1;32m    919\u001b[0m       \u001b[0;31m# Release the lock early so that multiple threads can perform the call\u001b[0m\u001b[0;34m\u001b[0m\u001b[0;34m\u001b[0m\u001b[0;34m\u001b[0m\u001b[0m\n",
            "\u001b[0;32m/usr/local/lib/python3.7/dist-packages/tensorflow/python/eager/function.py\u001b[0m in \u001b[0;36m__call__\u001b[0;34m(self, *args, **kwargs)\u001b[0m\n\u001b[1;32m   3022\u001b[0m        filtered_flat_args) = self._maybe_define_function(args, kwargs)\n\u001b[1;32m   3023\u001b[0m     return graph_function._call_flat(\n\u001b[0;32m-> 3024\u001b[0;31m         filtered_flat_args, captured_inputs=graph_function.captured_inputs)  # pylint: disable=protected-access\n\u001b[0m\u001b[1;32m   3025\u001b[0m \u001b[0;34m\u001b[0m\u001b[0m\n\u001b[1;32m   3026\u001b[0m   \u001b[0;34m@\u001b[0m\u001b[0mproperty\u001b[0m\u001b[0;34m\u001b[0m\u001b[0;34m\u001b[0m\u001b[0m\n",
            "\u001b[0;32m/usr/local/lib/python3.7/dist-packages/tensorflow/python/eager/function.py\u001b[0m in \u001b[0;36m_call_flat\u001b[0;34m(self, args, captured_inputs, cancellation_manager)\u001b[0m\n\u001b[1;32m   1959\u001b[0m       \u001b[0;31m# No tape is watching; skip to running the function.\u001b[0m\u001b[0;34m\u001b[0m\u001b[0;34m\u001b[0m\u001b[0;34m\u001b[0m\u001b[0m\n\u001b[1;32m   1960\u001b[0m       return self._build_call_outputs(self._inference_function.call(\n\u001b[0;32m-> 1961\u001b[0;31m           ctx, args, cancellation_manager=cancellation_manager))\n\u001b[0m\u001b[1;32m   1962\u001b[0m     forward_backward = self._select_forward_and_backward_functions(\n\u001b[1;32m   1963\u001b[0m         \u001b[0margs\u001b[0m\u001b[0;34m,\u001b[0m\u001b[0;34m\u001b[0m\u001b[0;34m\u001b[0m\u001b[0m\n",
            "\u001b[0;32m/usr/local/lib/python3.7/dist-packages/tensorflow/python/eager/function.py\u001b[0m in \u001b[0;36mcall\u001b[0;34m(self, ctx, args, cancellation_manager)\u001b[0m\n\u001b[1;32m    594\u001b[0m               \u001b[0minputs\u001b[0m\u001b[0;34m=\u001b[0m\u001b[0margs\u001b[0m\u001b[0;34m,\u001b[0m\u001b[0;34m\u001b[0m\u001b[0;34m\u001b[0m\u001b[0m\n\u001b[1;32m    595\u001b[0m               \u001b[0mattrs\u001b[0m\u001b[0;34m=\u001b[0m\u001b[0mattrs\u001b[0m\u001b[0;34m,\u001b[0m\u001b[0;34m\u001b[0m\u001b[0;34m\u001b[0m\u001b[0m\n\u001b[0;32m--> 596\u001b[0;31m               ctx=ctx)\n\u001b[0m\u001b[1;32m    597\u001b[0m         \u001b[0;32melse\u001b[0m\u001b[0;34m:\u001b[0m\u001b[0;34m\u001b[0m\u001b[0;34m\u001b[0m\u001b[0m\n\u001b[1;32m    598\u001b[0m           outputs = execute.execute_with_cancellation(\n",
            "\u001b[0;32m/usr/local/lib/python3.7/dist-packages/tensorflow/python/eager/execute.py\u001b[0m in \u001b[0;36mquick_execute\u001b[0;34m(op_name, num_outputs, inputs, attrs, ctx, name)\u001b[0m\n\u001b[1;32m     58\u001b[0m     \u001b[0mctx\u001b[0m\u001b[0;34m.\u001b[0m\u001b[0mensure_initialized\u001b[0m\u001b[0;34m(\u001b[0m\u001b[0;34m)\u001b[0m\u001b[0;34m\u001b[0m\u001b[0;34m\u001b[0m\u001b[0m\n\u001b[1;32m     59\u001b[0m     tensors = pywrap_tfe.TFE_Py_Execute(ctx._handle, device_name, op_name,\n\u001b[0;32m---> 60\u001b[0;31m                                         inputs, attrs, num_outputs)\n\u001b[0m\u001b[1;32m     61\u001b[0m   \u001b[0;32mexcept\u001b[0m \u001b[0mcore\u001b[0m\u001b[0;34m.\u001b[0m\u001b[0m_NotOkStatusException\u001b[0m \u001b[0;32mas\u001b[0m \u001b[0me\u001b[0m\u001b[0;34m:\u001b[0m\u001b[0;34m\u001b[0m\u001b[0;34m\u001b[0m\u001b[0m\n\u001b[1;32m     62\u001b[0m     \u001b[0;32mif\u001b[0m \u001b[0mname\u001b[0m \u001b[0;32mis\u001b[0m \u001b[0;32mnot\u001b[0m \u001b[0;32mNone\u001b[0m\u001b[0;34m:\u001b[0m\u001b[0;34m\u001b[0m\u001b[0;34m\u001b[0m\u001b[0m\n",
            "\u001b[0;31mKeyboardInterrupt\u001b[0m: "
          ]
        }
      ]
    },
    {
      "cell_type": "markdown",
      "metadata": {
        "id": "9DtMR23reyjj"
      },
      "source": [
        "You see the warning above? That's because the version of Nvidia's cuDNN does not support `recurrent_dropout`. You can always install a newer version, hopefull that would solve the problem - to increase the training time."
      ]
    },
    {
      "cell_type": "markdown",
      "metadata": {
        "id": "9CXVppKxspBV"
      },
      "source": [
        "### Stacked Recurrent Layers\n",
        "\n",
        "- With using `Dropout` to handle the overfitting issue, we can actually make our model(s) more complex, in search for __better performance__\n",
        "- Increasing the model complexity (e.g., number of layers or number of neurons in each layer), aka. capacity, can let the model capture more complex patterns, or deeper\n",
        "\n",
        "__PRO TIP__: however, increasing model capacity cannot guarantee better performance.\n",
        "\n",
        "- Usually the powerful RNN models using multiple RNN layers\n",
        "  - This is very straigtforward, you just stack these layers one after another\n",
        "  - One key features is you have to use `return_sequences` to connect the _output_ from the previous RNN layer to the _input_ of the subsequent layer\n",
        "- See below illustrative example to understand how `return_sequences` works."
      ]
    },
    {
      "cell_type": "code",
      "metadata": {
        "id": "K8upHgLVdP5-",
        "colab": {
          "base_uri": "https://localhost:8080/"
        },
        "outputId": "9210e398-bd2a-4e1b-ee59-08d0d4126525"
      },
      "source": [
        "from tensorflow.keras.models import Model\n",
        "from tensorflow.keras.layers import Input\n",
        "from tensorflow.keras.layers import LSTM\n",
        "import numpy as np\n",
        "#### Note that we use the Functional API here `Model`\n",
        "#### define model\n",
        "inputs1 = Input(shape=(3, 1))\n",
        "lstm1 = LSTM(1)(inputs1)\n",
        "model = Model(inputs=inputs1, outputs=lstm1)\n",
        "#### define input data\n",
        "data = np.array([0.1, 0.2, 0.3]).reshape((1,3,1))\n",
        "#### make and show prediction\n",
        "model.predict(data)"
      ],
      "execution_count": null,
      "outputs": [
        {
          "output_type": "execute_result",
          "data": {
            "text/plain": [
              "array([[0.03304904]], dtype=float32)"
            ]
          },
          "metadata": {
            "tags": []
          },
          "execution_count": 39
        }
      ]
    },
    {
      "cell_type": "markdown",
      "metadata": {
        "id": "g0zLOHWMkSBR"
      },
      "source": [
        "You can see the output of the LSTM layer, without `return_sequences`, is an $n$-d vector, where the shape of the input data is ($n , m$). In other words, LSTM \"squeezes\" the input data.\n",
        "\n",
        "However, to stack RNN (e.g., LSTM) layers together, we need to make sure the output of the previous layer is the same of the input data (i.e., ($n , m$)). That's why we use `return_sequences`."
      ]
    },
    {
      "cell_type": "code",
      "metadata": {
        "id": "CFGEfPuEkNpn",
        "colab": {
          "base_uri": "https://localhost:8080/"
        },
        "outputId": "bb2988f8-fb76-4a80-ff7d-8f0065565ab7"
      },
      "source": [
        "#### define model\n",
        "inputs1 = Input(shape=(3, 1))\n",
        "lstm1 = LSTM(1, return_sequences=True)(inputs1)\n",
        "model = Model(inputs=inputs1, outputs=lstm1)\n",
        "#### define input data\n",
        "data = np.array([0.1, 0.2, 0.3]).reshape((1,3,1))\n",
        "#### make and show prediction\n",
        "model.predict(data)"
      ],
      "execution_count": null,
      "outputs": [
        {
          "output_type": "execute_result",
          "data": {
            "text/plain": [
              "array([[[-0.0141936 ],\n",
              "        [-0.03891549],\n",
              "        [-0.07043877]]], dtype=float32)"
            ]
          },
          "metadata": {
            "tags": []
          },
          "execution_count": 40
        }
      ]
    },
    {
      "cell_type": "markdown",
      "metadata": {
        "id": "Pn3b3aD2lJiB"
      },
      "source": [
        "See the shape of the output is `(1, 3)`, as the same as the input data?"
      ]
    },
    {
      "cell_type": "markdown",
      "metadata": {
        "id": "CGTAen1vlT3_"
      },
      "source": [
        "Now Let's use stacked `GRU` layers on our temperature forecasting problem.\n",
        "\n",
        "Below code shows how it's done\"\n",
        "\n",
        "```python\n",
        "model = Sequential()\n",
        "model.add(GRU(32,\n",
        "                     dropout=0.1,\n",
        "                     recurrent_dropout=0.5,\n",
        "                     return_sequences=True,\n",
        "                     input_shape=(None, data.shape[-1])))\n",
        "#### stacked GRU here\n",
        "model.add(GRU(64, activation='relu',\n",
        "                     dropout=0.1,\n",
        "                     recurrent_dropout=0.5))\n",
        "model.add(Dense(1))\n",
        "\n",
        "model.compile(optimizer=RMSprop(), loss='mae')\n",
        "history = model.fit(train_gen,\n",
        "                    steps_per_epoch=500,\n",
        "                    epochs=40,\n",
        "                    validation_data=val_gen,\n",
        "                    validation_steps=val_steps,\n",
        "                    callbacks = [es])\n",
        "```\n",
        "\n",
        "Refer to Figure 6.23 in your textbook for the results."
      ]
    },
    {
      "cell_type": "markdown",
      "metadata": {
        "id": "cqf6-afbw6MD"
      },
      "source": [
        "We can see that the more complex model (stacked RNN) yield slightly better results. Actually, you should understand a lot of the pre-trained models, like the `VGG-16` model we saw, or the [transformer models](https://www.analyticsvidhya.com/blog/2019/06/understanding-transformers-nlp-state-of-the-art-models/) we used in NLP, have multiple stacked layers for better performance."
      ]
    },
    {
      "cell_type": "markdown",
      "metadata": {
        "id": "Ncx2cB5Mw_4y"
      },
      "source": [
        "### Bidirectional RNNs\n",
        "\n",
        "- To further improve the performance of the RNNs, we use a special technique called __bidirectional RNN__\n",
        "  - Which captures the sequence from both directions (e.g., from both left-right and right-left)\n",
        "  - This is because of the dependency are usually bidirectional, say the words before and after determine the word in between\n",
        "- Traditional RNNs are __order dependent__\n",
        "  - They process the sequence in order, you cannot shift, reverse, or shuffle the order: since the sequence becomes are different data\n",
        "  - The order is meaningful - means order is part of the __pattern__\n",
        "- In a lot of the cases, such as the weather forecasting problem, the reversed order does not make a lot of sense (refer to Figure 6.24 for the results)\n",
        "  - But in other scenarios, such as NLP, we use bidirectional RNNs a lot (refer to listing 6.42 for an example)\n",
        "\n",
        "__PRO TIP:__ You should consider using bidirectional RNN when you are analyzing text data. Additionally, if you can find a representation of the data, you should always use it.\n",
        "\n",
        "- Let's see whether a Bidirectional GRU model can help us forecasting the temperature\n",
        "  - Refer to the textbook for a NLP example on the IMDB data"
      ]
    },
    {
      "cell_type": "code",
      "metadata": {
        "id": "ERSwssPDlfEK",
        "colab": {
          "base_uri": "https://localhost:8080/"
        },
        "outputId": "d112a6aa-1d20-480a-92fd-061a59d38b9f"
      },
      "source": [
        "from tensorflow.keras.layers import Bidirectional\n",
        "\n",
        "model = Sequential()\n",
        "#### Bidirectional is a wrapper that can be applied to any RNN layer\n",
        "model.add(layers.Bidirectional(\n",
        "    layers.GRU(32), input_shape=(None, data.shape[-1])))\n",
        "model.add(layers.Dense(1))\n",
        "\n",
        "model.compile(optimizer=RMSprop(), loss='mae')\n",
        "history = model.fit(train_gen,\n",
        "                              steps_per_epoch=500,\n",
        "                              epochs=40,\n",
        "                              validation_data=val_gen,\n",
        "                              validation_steps=val_steps)"
      ],
      "execution_count": null,
      "outputs": [
        {
          "output_type": "stream",
          "text": [
            "Epoch 1/40\n",
            "500/500 [==============================] - 21s 35ms/step - loss: 0.2915 - val_loss: 0.2550\n",
            "Epoch 2/40\n",
            "500/500 [==============================] - 17s 35ms/step - loss: 0.2729 - val_loss: 0.2403\n",
            "Epoch 3/40\n",
            "500/500 [==============================] - 17s 35ms/step - loss: 0.2662 - val_loss: 0.2406\n",
            "Epoch 4/40\n",
            "500/500 [==============================] - 17s 35ms/step - loss: 0.2614 - val_loss: 0.2395\n",
            "Epoch 5/40\n",
            "500/500 [==============================] - 17s 34ms/step - loss: 0.2557 - val_loss: 0.2346\n",
            "Epoch 6/40\n",
            "500/500 [==============================] - 17s 35ms/step - loss: 0.2509 - val_loss: 0.2637\n",
            "Epoch 7/40\n",
            "500/500 [==============================] - 17s 35ms/step - loss: 0.2427 - val_loss: 0.2550\n",
            "Epoch 8/40\n",
            "500/500 [==============================] - 18s 35ms/step - loss: 0.2392 - val_loss: 0.2628\n",
            "Epoch 9/40\n",
            "500/500 [==============================] - 18s 35ms/step - loss: 0.2300 - val_loss: 0.2695\n",
            "Epoch 10/40\n",
            "500/500 [==============================] - 18s 35ms/step - loss: 0.2248 - val_loss: 0.2862\n",
            "Epoch 11/40\n",
            "500/500 [==============================] - 17s 35ms/step - loss: 0.2183 - val_loss: 0.2839\n",
            "Epoch 12/40\n",
            "500/500 [==============================] - 18s 35ms/step - loss: 0.2125 - val_loss: 0.3041\n",
            "Epoch 13/40\n",
            "500/500 [==============================] - 17s 35ms/step - loss: 0.2098 - val_loss: 0.2993\n",
            "Epoch 14/40\n",
            "500/500 [==============================] - 17s 35ms/step - loss: 0.2040 - val_loss: 0.3037\n",
            "Epoch 15/40\n",
            "500/500 [==============================] - 17s 35ms/step - loss: 0.1976 - val_loss: 0.3022\n",
            "Epoch 16/40\n",
            "500/500 [==============================] - 18s 35ms/step - loss: 0.1948 - val_loss: 0.3143\n",
            "Epoch 17/40\n",
            "500/500 [==============================] - 17s 35ms/step - loss: 0.1897 - val_loss: 0.3068\n",
            "Epoch 18/40\n",
            "500/500 [==============================] - 17s 35ms/step - loss: 0.1870 - val_loss: 0.3065\n",
            "Epoch 19/40\n",
            "500/500 [==============================] - 18s 35ms/step - loss: 0.1818 - val_loss: 0.3070\n",
            "Epoch 20/40\n",
            "500/500 [==============================] - 18s 35ms/step - loss: 0.1783 - val_loss: 0.3183\n",
            "Epoch 21/40\n",
            "500/500 [==============================] - 18s 35ms/step - loss: 0.1740 - val_loss: 0.3012\n",
            "Epoch 22/40\n",
            "500/500 [==============================] - 18s 35ms/step - loss: 0.1718 - val_loss: 0.3243\n",
            "Epoch 23/40\n",
            "500/500 [==============================] - 18s 36ms/step - loss: 0.1685 - val_loss: 0.3153\n",
            "Epoch 24/40\n",
            "500/500 [==============================] - 18s 35ms/step - loss: 0.1645 - val_loss: 0.3248\n",
            "Epoch 25/40\n",
            "500/500 [==============================] - 18s 35ms/step - loss: 0.1619 - val_loss: 0.3193\n",
            "Epoch 26/40\n",
            "500/500 [==============================] - 18s 35ms/step - loss: 0.1604 - val_loss: 0.3134\n",
            "Epoch 27/40\n",
            "500/500 [==============================] - 17s 35ms/step - loss: 0.1571 - val_loss: 0.3238\n",
            "Epoch 28/40\n",
            "500/500 [==============================] - 17s 35ms/step - loss: 0.1561 - val_loss: 0.3255\n",
            "Epoch 29/40\n",
            "500/500 [==============================] - 18s 35ms/step - loss: 0.1527 - val_loss: 0.3282\n",
            "Epoch 30/40\n",
            "500/500 [==============================] - 18s 35ms/step - loss: 0.1505 - val_loss: 0.3136\n",
            "Epoch 31/40\n",
            "500/500 [==============================] - 18s 36ms/step - loss: 0.1486 - val_loss: 0.3292\n",
            "Epoch 32/40\n",
            "500/500 [==============================] - 18s 35ms/step - loss: 0.1471 - val_loss: 0.3240\n",
            "Epoch 33/40\n",
            "500/500 [==============================] - 18s 36ms/step - loss: 0.1459 - val_loss: 0.3421\n",
            "Epoch 34/40\n",
            "500/500 [==============================] - 18s 35ms/step - loss: 0.1441 - val_loss: 0.3303\n",
            "Epoch 35/40\n",
            "500/500 [==============================] - 18s 35ms/step - loss: 0.1420 - val_loss: 0.3529\n",
            "Epoch 36/40\n",
            "500/500 [==============================] - 18s 35ms/step - loss: 0.1403 - val_loss: 0.3343\n",
            "Epoch 37/40\n",
            "500/500 [==============================] - 18s 35ms/step - loss: 0.1394 - val_loss: 0.3430\n",
            "Epoch 38/40\n",
            "500/500 [==============================] - 18s 36ms/step - loss: 0.1378 - val_loss: 0.3427\n",
            "Epoch 39/40\n",
            "500/500 [==============================] - 18s 35ms/step - loss: 0.1363 - val_loss: 0.3515\n",
            "Epoch 40/40\n",
            "500/500 [==============================] - 17s 35ms/step - loss: 0.1352 - val_loss: 0.3630\n"
          ],
          "name": "stdout"
        }
      ]
    },
    {
      "cell_type": "markdown",
      "metadata": {
        "id": "njfyUN8u0NlF"
      },
      "source": [
        "We confirm that the bidirectional GRU does not improve the performance a lot."
      ]
    },
    {
      "cell_type": "markdown",
      "metadata": {
        "id": "ok2Av54v0UeH"
      },
      "source": [
        "### YOUR TURN HERE\n",
        "\n",
        "Build your model on the IMDB dataset, with considerations of the following points:\n",
        "- Adjust the number of units in each recurrent layer in the stacked setup. The current choices are largely arbitrary and thus probably suboptimal.\n",
        "- Adjust the learning rate used by the `RMSprop` optimizer.\n",
        "- Try using `LSTM` layers instead of `GRU` layers.\n",
        "- Try using a bigger densely connected regressor on top of the recurrent layers: that is, a bigger `Dense` layer or even a stack of `Dense` layers.\n",
        "- Don’t forget to eventually run the best-performing models (in terms of `val_loss`) on the test set!"
      ]
    },
    {
      "cell_type": "code",
      "metadata": {
        "id": "tLn2QyQ-0S3W"
      },
      "source": [
        "#### Write your code here\n"
      ],
      "execution_count": null,
      "outputs": []
    },
    {
      "cell_type": "markdown",
      "metadata": {
        "id": "IYbiiY_u1ATG"
      },
      "source": [
        "## Use 1D CNN on Sequence Data\n",
        "\n",
        "- In L5, we saw how to use 2D CNN to extract 2D patches of images (as representations of them) for classification purposes\n",
        "- Similarly, we can use 1D CNN to create 1D patches of sequence data\n",
        "  - these 1D patches are __subsequences__\n",
        "  - the subsequences can capture the local dependencies (patterns) in the sequence data\n",
        "- For instance, if we create 1D patches with size of 5 on text data at the __character level__:\n",
        "  - these patches are words or words fragments of length 5 or less\n",
        "  - so we can learn word morphs using this network\n",
        "- See the illustration below:\n",
        "\n",
        "![1DCNN](https://drek4537l1klr.cloudfront.net/chollet/Figures/06fig26.jpg)"
      ]
    },
    {
      "cell_type": "markdown",
      "metadata": {
        "id": "IUjd_8gN8FHk"
      },
      "source": [
        "### `Conv1D` Layers\n",
        "\n",
        "- `Conv1D` layers are similar to the `Conv2D` layers\n",
        "  - they take inputs in the shape of `(samples, time, features)`\n",
        "  - Key difference compared to the `Conv2D` layers:\n",
        "    - `samples` are number of sequences in the training set\n",
        "    - `time` means steps in the sequences, such as number of words/characters\n",
        "    - `features` refer to the embedding of words/characters\n",
        "- Similar to `Conv2D` layers, every `Conv1D` layer needs to be paired up with a `MaxPooling1D` layer\n",
        "  - we say we use $ 3\\times 3$ or $5 \\times 5$ filters in `Conv2D` layers, but we use `7` or `9` filters for `Conv1D` layers\n",
        "  - Just note after the __last__ `Conv1D` layer we need to use the `GlobalMaxPooling1D` layer so the data is flatten\n",
        "- Let's use a `Conv1D` model on the IMDB dataset here."
      ]
    },
    {
      "cell_type": "code",
      "metadata": {
        "id": "4RyQQn0N76Fs",
        "colab": {
          "base_uri": "https://localhost:8080/"
        },
        "outputId": "6c367edc-79e9-4d33-ec60-04dd0b02262a"
      },
      "source": [
        "#### load and prepare the data\n",
        "from tensorflow.keras.datasets import imdb\n",
        "from tensorflow.keras.preprocessing.sequence import pad_sequences\n",
        "\n",
        "max_features = 10000\n",
        "max_len = 500\n",
        "\n",
        "print('Loading data...')\n",
        "(x_train, y_train), (x_test, y_test) = imdb.load_data(num_words=max_features)\n",
        "print(len(x_train), 'train sequences')\n",
        "print(len(x_test), 'test sequences')\n",
        "\n",
        "print('Pad sequences (samples x time)')\n",
        "x_train = pad_sequences(x_train, maxlen=max_len)\n",
        "x_test = pad_sequences(x_test, maxlen=max_len)\n",
        "print('x_train shape:', x_train.shape)\n",
        "print('x_test shape:', x_test.shape)"
      ],
      "execution_count": null,
      "outputs": [
        {
          "output_type": "stream",
          "text": [
            "Loading data...\n"
          ],
          "name": "stdout"
        },
        {
          "output_type": "stream",
          "text": [
            "<string>:6: VisibleDeprecationWarning: Creating an ndarray from ragged nested sequences (which is a list-or-tuple of lists-or-tuples-or ndarrays with different lengths or shapes) is deprecated. If you meant to do this, you must specify 'dtype=object' when creating the ndarray\n",
            "/usr/local/lib/python3.7/dist-packages/tensorflow/python/keras/datasets/imdb.py:155: VisibleDeprecationWarning: Creating an ndarray from ragged nested sequences (which is a list-or-tuple of lists-or-tuples-or ndarrays with different lengths or shapes) is deprecated. If you meant to do this, you must specify 'dtype=object' when creating the ndarray\n",
            "  x_train, y_train = np.array(xs[:idx]), np.array(labels[:idx])\n",
            "/usr/local/lib/python3.7/dist-packages/tensorflow/python/keras/datasets/imdb.py:156: VisibleDeprecationWarning: Creating an ndarray from ragged nested sequences (which is a list-or-tuple of lists-or-tuples-or ndarrays with different lengths or shapes) is deprecated. If you meant to do this, you must specify 'dtype=object' when creating the ndarray\n",
            "  x_test, y_test = np.array(xs[idx:]), np.array(labels[idx:])\n"
          ],
          "name": "stderr"
        },
        {
          "output_type": "stream",
          "text": [
            "25000 train sequences\n",
            "25000 test sequences\n",
            "Pad sequences (samples x time)\n",
            "x_train shape: (25000, 500)\n",
            "x_test shape: (25000, 500)\n"
          ],
          "name": "stdout"
        }
      ]
    },
    {
      "cell_type": "code",
      "metadata": {
        "id": "WXQ2Wxr_9qGX",
        "colab": {
          "base_uri": "https://localhost:8080/"
        },
        "outputId": "5509f39c-936e-4d18-eac2-3d0af21febc8"
      },
      "source": [
        "#### Build the model\n",
        "from tensorflow.keras.models import Sequential\n",
        "from tensorflow.keras.layers import Embedding, Conv1D, MaxPooling1D, GlobalMaxPooling1D, Dense\n",
        "\n",
        "model = Sequential()\n",
        "model.add(Embedding(max_features, 128, input_length=max_len))\n",
        "model.add(Conv1D(32, 7, activation='relu'))\n",
        "model.add(MaxPooling1D(5))\n",
        "model.add(Conv1D(32, 7, activation='relu'))\n",
        "model.add(GlobalMaxPooling1D())\n",
        "model.add(Dense(1))\n",
        "\n",
        "model.summary()"
      ],
      "execution_count": null,
      "outputs": [
        {
          "output_type": "stream",
          "text": [
            "Model: \"sequential_7\"\n",
            "_________________________________________________________________\n",
            "Layer (type)                 Output Shape              Param #   \n",
            "=================================================================\n",
            "embedding_4 (Embedding)      (None, 500, 128)          1280000   \n",
            "_________________________________________________________________\n",
            "conv1d (Conv1D)              (None, 494, 32)           28704     \n",
            "_________________________________________________________________\n",
            "max_pooling1d (MaxPooling1D) (None, 98, 32)            0         \n",
            "_________________________________________________________________\n",
            "conv1d_1 (Conv1D)            (None, 92, 32)            7200      \n",
            "_________________________________________________________________\n",
            "global_max_pooling1d (Global (None, 32)                0         \n",
            "_________________________________________________________________\n",
            "dense_6 (Dense)              (None, 1)                 33        \n",
            "=================================================================\n",
            "Total params: 1,315,937\n",
            "Trainable params: 1,315,937\n",
            "Non-trainable params: 0\n",
            "_________________________________________________________________\n"
          ],
          "name": "stdout"
        }
      ]
    },
    {
      "cell_type": "code",
      "metadata": {
        "id": "v9v8SyPC996z",
        "colab": {
          "base_uri": "https://localhost:8080/"
        },
        "outputId": "115969ef-4504-4e99-d1c8-ed03dbdc3b8b"
      },
      "source": [
        "#### compile and train\n",
        "from tensorflow.keras.optimizers import RMSprop\n",
        "\n",
        "model.compile(optimizer=RMSprop(lr=1e-4),\n",
        "              loss='binary_crossentropy',\n",
        "              metrics=['acc'])\n",
        "history = model.fit(x_train, y_train,\n",
        "                    epochs=10,\n",
        "                    batch_size=128,\n",
        "                    validation_split=0.2)"
      ],
      "execution_count": null,
      "outputs": [
        {
          "output_type": "stream",
          "text": [
            "/usr/local/lib/python3.7/dist-packages/tensorflow/python/keras/optimizer_v2/optimizer_v2.py:375: UserWarning: The `lr` argument is deprecated, use `learning_rate` instead.\n",
            "  \"The `lr` argument is deprecated, use `learning_rate` instead.\")\n"
          ],
          "name": "stderr"
        },
        {
          "output_type": "stream",
          "text": [
            "Epoch 1/10\n",
            "157/157 [==============================] - 33s 38ms/step - loss: 0.7686 - acc: 0.5170 - val_loss: 0.6856 - val_acc: 0.5576\n",
            "Epoch 2/10\n",
            "157/157 [==============================] - 6s 35ms/step - loss: 0.6676 - acc: 0.6596 - val_loss: 0.6687 - val_acc: 0.6474\n",
            "Epoch 3/10\n",
            "157/157 [==============================] - 6s 35ms/step - loss: 0.6310 - acc: 0.7539 - val_loss: 0.6350 - val_acc: 0.6534\n",
            "Epoch 4/10\n",
            "157/157 [==============================] - 6s 36ms/step - loss: 0.5568 - acc: 0.8022 - val_loss: 0.5253 - val_acc: 0.7848\n",
            "Epoch 5/10\n",
            "157/157 [==============================] - 6s 36ms/step - loss: 0.4313 - acc: 0.8397 - val_loss: 0.4351 - val_acc: 0.8324\n",
            "Epoch 6/10\n",
            "157/157 [==============================] - 6s 36ms/step - loss: 0.3509 - acc: 0.8716 - val_loss: 0.4158 - val_acc: 0.8512\n",
            "Epoch 7/10\n",
            "157/157 [==============================] - 6s 35ms/step - loss: 0.3062 - acc: 0.8913 - val_loss: 0.4104 - val_acc: 0.8580\n",
            "Epoch 8/10\n",
            "157/157 [==============================] - 6s 35ms/step - loss: 0.2729 - acc: 0.9046 - val_loss: 0.4204 - val_acc: 0.8600\n",
            "Epoch 9/10\n",
            "157/157 [==============================] - 5s 35ms/step - loss: 0.2435 - acc: 0.9155 - val_loss: 0.4158 - val_acc: 0.8632\n",
            "Epoch 10/10\n",
            "157/157 [==============================] - 6s 35ms/step - loss: 0.2227 - acc: 0.9249 - val_loss: 0.4360 - val_acc: 0.8696\n"
          ],
          "name": "stdout"
        }
      ]
    },
    {
      "cell_type": "markdown",
      "metadata": {
        "id": "Oy6n-_ZqHg59"
      },
      "source": [
        "### Combining `CNN` with `LSTM` Layers\n",
        "\n",
        "- Since `1DCNN` captures the __patterns__ within the subsequences\n",
        "  - they do not capture the dependencies between the subsequences\n",
        "- One solution is to stack a lot of `CNN` layers together\n",
        "  - but that would subject your model(s) to overfitting\n",
        "  - and the model can only capture the __weak__ dependencies between the subsequences\n",
        "- Refer to Listing 6.47 and Figure 6.29 on the textbook for an example of using `1DCNN` on the weather forecasting data\n",
        "  - The results are fairly inferior since the model cannot capture the temporal relationships in the data\n",
        "  - In the IMDB sentiment classification problem, since the sentiment signals are at the word level, the problem is not as severe\n",
        "- The solution is to combine the `1DCNN` with `RNN` layers, see below:\n",
        "\n",
        "![CNNLSTM](https://drek4537l1klr.cloudfront.net/chollet/Figures/06fig30.jpg)"
      ]
    },
    {
      "cell_type": "markdown",
      "metadata": {
        "id": "TMBgY3aYVWdM"
      },
      "source": [
        "Even though this architecture is not as popular as pure CNN or LSTM, it is gaining more attractions recently.\n",
        "\n",
        "Let's illustrate it using the weather forecasting problem. One key difference is that since the CNN-LSTM model allows us to investigate longer dependencies in our data, we can either have more `lookback` data, or predict with a finer-grained data (aiming for more precision).\n",
        "\n",
        "For the purpose of illustration, we try to predict 10-days with 30 minutes intervals (rather than 1 hour used above). We need to re-design our data generators."
      ]
    },
    {
      "cell_type": "code",
      "metadata": {
        "id": "7vtNANTLI2wC"
      },
      "source": [
        "#### data generators - very similar compared to before\n",
        "step = 3\n",
        "lookback = 720\n",
        "delay = 144\n",
        "\n",
        "train_gen = generator(data,\n",
        "                      lookback=lookback,\n",
        "                      delay=delay,\n",
        "                      min_index=0,\n",
        "                      max_index=200000,\n",
        "                      shuffle=True,\n",
        "                      step=step)\n",
        "val_gen = generator(data,\n",
        "                    lookback=lookback,\n",
        "                    delay=delay,\n",
        "                    min_index=200001,\n",
        "                    max_index=220000,\n",
        "                    step=step)\n",
        "test_gen = generator(data,\n",
        "                     lookback=lookback,\n",
        "                     delay=delay,\n",
        "                     min_index=220001,\n",
        "                     max_index=None,\n",
        "                     step=step)\n",
        "#### we let the model process 128 steps at a time\n",
        "#### speed up the process, while the loss in performance\n",
        "#### can be compensated with the advanced model\n",
        "val_steps = (220000 - 200001 - lookback) // 128\n",
        "test_steps = (len(data) - 220001 - lookback) // 128"
      ],
      "execution_count": null,
      "outputs": []
    },
    {
      "cell_type": "code",
      "metadata": {
        "id": "HmGpS--6WUs3",
        "colab": {
          "base_uri": "https://localhost:8080/"
        },
        "outputId": "dad1f28c-3372-4797-d9a9-a86b7a136067"
      },
      "source": [
        "from tensorflow.keras.models import Sequential\n",
        "from tensorflow.keras.layers import Conv1D, MaxPooling1D, GRU, Dense\n",
        "from tensorflow.keras.optimizers import RMSprop\n",
        "\n",
        "model = Sequential()\n",
        "model.add(Conv1D(32, 5, activation='relu',\n",
        "                        input_shape=(None, data.shape[-1])))\n",
        "model.add(MaxPooling1D(3))\n",
        "model.add(Conv1D(32, 5, activation='relu'))\n",
        "#### note that we do not need `MaxPooling` here\n",
        "model.add(GRU(32))\n",
        "model.add(Dense(1))\n",
        "\n",
        "model.summary()"
      ],
      "execution_count": null,
      "outputs": [
        {
          "output_type": "stream",
          "text": [
            "Model: \"sequential_8\"\n",
            "_________________________________________________________________\n",
            "Layer (type)                 Output Shape              Param #   \n",
            "=================================================================\n",
            "conv1d_2 (Conv1D)            (None, None, 32)          192       \n",
            "_________________________________________________________________\n",
            "max_pooling1d_1 (MaxPooling1 (None, None, 32)          0         \n",
            "_________________________________________________________________\n",
            "conv1d_3 (Conv1D)            (None, None, 32)          5152      \n",
            "_________________________________________________________________\n",
            "gru_4 (GRU)                  (None, 32)                6336      \n",
            "_________________________________________________________________\n",
            "dense_7 (Dense)              (None, 1)                 33        \n",
            "=================================================================\n",
            "Total params: 11,713\n",
            "Trainable params: 11,713\n",
            "Non-trainable params: 0\n",
            "_________________________________________________________________\n"
          ],
          "name": "stdout"
        }
      ]
    },
    {
      "cell_type": "markdown",
      "metadata": {
        "id": "aMX_7WKFXghq"
      },
      "source": [
        "Below is how you train and validate the model:\n",
        "\n",
        "```python\n",
        "model.compile(optimizer=RMSprop(), loss='mae')\n",
        "history = model.fit(train_gen,\n",
        "                    steps_per_epoch=500,\n",
        "                    epochs=20,\n",
        "                    validation_data=val_gen,\n",
        "                    validation_steps=val_steps,\n",
        "                    callbacks=[es])\n",
        "```\n",
        "\n",
        "Judging from the validation loss, this setup isn’t as good as the regularized GRU alone, but it’s significantly faster. It looks at twice as much data, which in this case doesn’t appear to be hugely helpful but may be important for other datasets."
      ]
    },
    {
      "cell_type": "markdown",
      "metadata": {
        "id": "VyfDkfntX_b1"
      },
      "source": [
        "# Deep Learning & Artificial Intelligence\n",
        "## Recurrent Neural Networks and Natrural Language Processing\n",
        "### Dr. Jie Tao, Fairfield University"
      ]
    },
    {
      "cell_type": "code",
      "metadata": {
        "id": "hGiX2fS-XMBi"
      },
      "source": [],
      "execution_count": null,
      "outputs": []
    }
  ]
}