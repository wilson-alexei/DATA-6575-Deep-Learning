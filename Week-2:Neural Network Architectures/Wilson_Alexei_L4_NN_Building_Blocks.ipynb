{
  "nbformat": 4,
  "nbformat_minor": 0,
  "metadata": {
    "colab": {
      "provenance": []
    },
    "kernelspec": {
      "name": "python3",
      "display_name": "Python 3"
    }
  },
  "cells": [
    {
      "cell_type": "markdown",
      "metadata": {
        "id": "kUx6tTPULT_z"
      },
      "source": [
        "# Deep Learning & Artificial Intelligence\n",
        "## Neural Networks Building Blocks - Loss Functions, Optimizers, and Activations\n",
        "### Dr. Jie Tao, Fairfield University"
      ]
    },
    {
      "cell_type": "markdown",
      "metadata": {
        "id": "fpA9ht7iMOiM"
      },
      "source": [
        "Before you proceed with this lecture, you should read Chapter 4 on the textbook, which reviews the fundamentals of ML.\n",
        "\n",
        "In this lecture, we cover the following topics:\n",
        "- Loss Functions\n",
        "- Optimizers\n",
        "- Activations\n",
        "- Regularizations"
      ]
    },
    {
      "cell_type": "markdown",
      "metadata": {
        "id": "7oe1uMvhSQ11"
      },
      "source": [
        "## Loss Functions\n",
        "\n",
        "- As said before, the selection of loss functions largely dependes on the analytical problem\n",
        "  - Loss function calculates the __error__, which is the difference between the predicted value $\\hat{y}$ and actual value $y$;\n",
        "  - In other words, loss values are used to calculate __gradients__, which we can used to update the weights in the NN;\n",
        "- Below animation illustrated how a loss function works\n",
        "\n",
        "![loss function](https://machinelearningknowledge.ai/wp-content/uploads/2020/10/Loss_Function.gif)"
      ]
    },
    {
      "cell_type": "markdown",
      "metadata": {
        "id": "h9rtuRV2T7pK"
      },
      "source": [
        "### `keras` Loss Functions for Binary Classification\n",
        "\n",
        "- As said before, in binary classification problems, the most popular loss functions is `binary_crossentropy`\n",
        "- Keep in mind that in NN, the predicted $\\hat{y} \\in [0,1]$ - which is a real decimal number between 0 and 1, where as $y$ is either 0 or 1\n",
        "- In essence, `binary_crossentropy` is built on __Negative Log-Likelihood__ (NLL), which is defined by:\n",
        "\n",
        "$$ J(\\hat{y}, y) = -\\frac{1}{n}\\sum_{i=0}^n{[y_i \\log(\\hat{y_i}) + (1- y_i) \\log(1-\\hat{y_i})]} $$\n",
        "\n",
        "- Where:\n",
        "  - $n$ is the number of test samples;\n",
        "  - $\\hat{y_i}$ is the predicted probability of a sample being in class `1`;\n",
        "    - If $\\hat{y_i} >= 0.5 $ then the $i^{th}$ sample is predicted to be class `1` otherwise class `0`\n",
        "  - $y_i$ is the class label of the $i^{th}$ sample, either `1` or `0`\n",
        "  - $ \\log() $ is the natural ($e$ based) algorithm\n",
        "- Refer to [this article](https://towardsdatascience.com/understanding-negative-log-loss-8c3e77fafb79) if you need more help with NLL."
      ]
    },
    {
      "cell_type": "markdown",
      "metadata": {
        "id": "RPpiaY5HXzlL"
      },
      "source": [
        "#### How to Use Binary Cross Entropy\n",
        "\n",
        "- The more $\\hat{y} $ and $y$ are similar, the loss is closer to 0, otherwise it is closer to $ +\\infty $\n",
        "  - If $ y = 1 $, when $\\hat{y} \\rightarrow 1 $, the $ loss \\rightarrow 0 $; when $\\hat{y} \\rightarrow 0 $, the $ loss \\rightarrow + \\infty $\n",
        "  - If $ y = 0 $, when $\\hat{y} \\rightarrow 0 $, the $ loss \\rightarrow 0 $; when $\\hat{y} \\rightarrow 1 $, the $ loss \\rightarrow + \\infty $\n",
        "- Below animation illstrates the Binary Cross Entropy.\n",
        "\n",
        "![BCE](https://machinelearningknowledge.ai/wp-content/uploads/2020/10/4.Binary_Cross_Entropy.gif)"
      ]
    },
    {
      "cell_type": "markdown",
      "metadata": {
        "id": "HYWIV4eLYpbk"
      },
      "source": [
        "#### Binary Cross Entropy Example\n",
        "\n",
        "- Let's use a simple example to show BCE. Say the test set contains 2 samples:\n",
        "  - $ y_0 = 1, y_1 = 0 $\n",
        "  - after OHE, $ y_0 = [0, 1], y_1 = [1, 0] $\n",
        "- Our first model `model1` returns two predicted values:\n",
        "  - $ \\hat{y}_0^1 = [0.6, 0.4], \\hat{y}_1^1 = [0.4, 0.6] $\n",
        "  - so the predictions are `class 0` and `class 1`\n",
        "- Our second model `model2` returns two predicted values:\n",
        "  - $ \\hat{y}_0^2 = [0.4, 0.6], \\hat{y}_1^2 = [0.6, 0.4] $\n",
        "  - so the predictions are `class 1` and `class 0`\n",
        "- Our third model `model3` returns two predicted values:\n",
        "  - $ \\hat{y}_0^3 = [0.1, 0.9], \\hat{y}_1^1 = [0.9, 0.1] $\n",
        "  - so the predictions are `class 1` and `class 0`\n",
        "- Intuitively, we know `model1` is way off, `model2` and `model3` got the classifications correct but `model3` is with __more confidence__\n",
        "- Let's use these BCE to verify our intuition"
      ]
    },
    {
      "cell_type": "code",
      "metadata": {
        "colab": {
          "base_uri": "https://localhost:8080/"
        },
        "id": "8xnAJANbLfxy",
        "outputId": "3fa314df-a220-4b0f-fb50-ea4948a96afd"
      },
      "source": [
        "from tensorflow.keras.losses import BinaryCrossentropy\n",
        "\n",
        "y_test = [[0., 1.], [1., 0.]]\n",
        "y_pred1 = [[0.6, 0.4], [0.4, 0.6]]\n",
        "y_pred2 = [[0.4, 0.6], [0.6, 0.4]]\n",
        "y_pred3 = [[0.1, 0.9], [0.9, 0.1]]\n",
        "\n",
        "# Using 'auto'/'sum_over_batch_size' reduction type.\n",
        "bce = BinaryCrossentropy()\n",
        "\n",
        "print('model1 loss:', bce(y_test, y_pred1).numpy())\n",
        "print('model2 loss:', bce(y_test, y_pred2).numpy())\n",
        "print('model3 loss:', bce(y_test, y_pred3).numpy())"
      ],
      "execution_count": null,
      "outputs": [
        {
          "output_type": "stream",
          "text": [
            "model1 loss: 0.9162905\n",
            "model2 loss: 0.5108254\n",
            "model3 loss: 0.10536041\n"
          ],
          "name": "stdout"
        }
      ]
    },
    {
      "cell_type": "markdown",
      "metadata": {
        "id": "BZgK6zjabkz-"
      },
      "source": [
        "You can observe BCE successfully tested our both intuitions - `model2` is __more accurate__ in `model1`, and `model3` has a lower loss value.\n",
        "\n",
        "Typically, for Binary Classification, we use the `softmax` activation in the output layer to avoid this problem, which will be discussed below."
      ]
    },
    {
      "cell_type": "markdown",
      "metadata": {
        "id": "rc45wAzvcGUA"
      },
      "source": [
        "### `keras` Loss Function for Multi-Class Classification\n",
        "\n",
        "- Multi-class classification means we can classify the sampels into __more than 2__ classes\n",
        "- So we can use Categorical Class Entropy (CCE) as the main loss function\n",
        "  - You can think of binary classification as a special case of multi-class classification (# of classes == 2)\n",
        "  - one key difference is that when you use BCE, you can have __one__ neuron in the output layer, whereas when using CCE, you need to have $N$ neurons in the output layer, where $N$ is the number of classes\n",
        "- CCE is often used with the `softmax` activation in the output layer as well\n",
        "- A special type of CCE is called Sparse Categorical Class Entropy (SCCE)\n",
        "  - where you do not have to perform OHE on your target values"
      ]
    },
    {
      "cell_type": "markdown",
      "metadata": {
        "id": "U2InGYHZgiph"
      },
      "source": [
        "#### CCE Example\n",
        "\n",
        "- Let's use another simple example to illustrate CCE. Say the test set contains 2 samples for a 3-class classification\n",
        "- $ y_0 = 1, y_1 = 2 $\n",
        "  - after OHE, $ y_0 = [0, 1, 0], y_1 = [0, 0, 1] $\n",
        "- Our first model `model1` returns two predicted values:\n",
        "  - $ \\hat{y}_0^1 = [0.4, 0.6, 0.], \\hat{y}_1^1 = [0.2, 0.6, 0.2] $\n",
        "  - so the predictions are `class 1` and `class 1`\n",
        "- Our second model `model2` returns two predicted values:\n",
        "  - $ \\hat{y}_0^1 = [0.4, 0.6, 0.], \\hat{y}_1^1 = [0.2, 0.2, 0.6] $\n",
        "  - so the predictions are `class 1` and `class 2`\n",
        "- Our third model `model3` returns two predicted values:\n",
        "  - $ \\hat{y}_0^2 = [0.05, 0.95, 0.], \\hat{y}_1^2 = [0.1, 0.1, 0.8] $\n",
        "  - so the predictions are `class 1` and `class 2`\n",
        "- Intuitively, we know `model1` is way off, `model2` and `model3` got the classifications correct but `model3` is with __more confidence__\n",
        "- Let's use these CCE to verify our intuition"
      ]
    },
    {
      "cell_type": "code",
      "metadata": {
        "colab": {
          "base_uri": "https://localhost:8080/"
        },
        "id": "4ik-pUWRa5xX",
        "outputId": "75e5fd20-6102-4981-9993-6b0b30f3eaee"
      },
      "source": [
        "from tensorflow.keras.losses import CategoricalCrossentropy\n",
        "\n",
        "y_test = [[0., 1., 0.], [0., 0., 1.]]\n",
        "y_pred1 = [[0.6, 0.4, 0.], [0.2, 0.6, 0.2]]\n",
        "y_pred2 = [[0.6, 0.4, 0.], [0.2, 0.2, 0.6]]\n",
        "y_pred3 = [[0.05,0.95,0.], [0.1,0.1,0.8]]\n",
        "\n",
        "# Using 'auto'/'sum_over_batch_size' reduction type.\n",
        "cce = CategoricalCrossentropy()\n",
        "\n",
        "print('model1 loss:', cce(y_test, y_pred1).numpy())\n",
        "print('model2 loss:', cce(y_test, y_pred2).numpy())\n",
        "print('model3 loss:', cce(y_test, y_pred3).numpy())"
      ],
      "execution_count": null,
      "outputs": [
        {
          "output_type": "stream",
          "text": [
            "model1 loss: 1.2628644\n",
            "model2 loss: 0.71355814\n",
            "model3 loss: 0.13721842\n"
          ],
          "name": "stdout"
        }
      ]
    },
    {
      "cell_type": "markdown",
      "metadata": {
        "id": "swykh5ZZh-uz"
      },
      "source": [
        "We can observe that CCE successfully captured all of our intuitions.\n",
        "\n",
        "__PRO TIP__: this is the reason a lot of chances people use CCE over BCE even in binary classifications."
      ]
    },
    {
      "cell_type": "markdown",
      "metadata": {
        "id": "ZidxnfXoqSDC"
      },
      "source": [
        "### `keras` Loss Function for Regression\n",
        "\n",
        "- Compared to classification models, the loss in regression models are more straightformward, but it is the same logic:\n",
        "  - Regression loss are the error (aka. residual) of the actual values ($y$) and the predicted values ($\\hat{y}$).\n",
        "- Below animation illustrates how regression losses are calculated.\n",
        "\n",
        "![Regression Loss](https://machinelearningknowledge.ai/wp-content/uploads/2020/10/Regression_Loss.gif)"
      ]
    },
    {
      "cell_type": "markdown",
      "metadata": {
        "id": "btXPoKM3rPsO"
      },
      "source": [
        "#### Mean Square Error (MSE) Loss\n",
        "\n",
        "- MSE (or MAE) are the most popular loss function(s) used in `keras`\n",
        "- Use the example below to observe how `mse` in `keras` works"
      ]
    },
    {
      "cell_type": "code",
      "metadata": {
        "colab": {
          "base_uri": "https://localhost:8080/"
        },
        "id": "PELyg2Evh7Bk",
        "outputId": "ac5f38e9-2a3c-49c5-8ecc-25a84f28549b"
      },
      "source": [
        "from tensorflow.keras.losses import MeanSquaredError\n",
        "\n",
        "y_true = [[0., 1.], [0., 0.]]\n",
        "y_pred = [[1., 1.], [1., 0.]]\n",
        "# Using 'auto'/'sum_over_batch_size' reduction type.\n",
        "mse = MeanSquaredError()\n",
        "mse(y_true, y_pred).numpy()"
      ],
      "execution_count": null,
      "outputs": [
        {
          "output_type": "execute_result",
          "data": {
            "text/plain": [
              "0.5"
            ]
          },
          "metadata": {
            "tags": []
          },
          "execution_count": 9
        }
      ]
    },
    {
      "cell_type": "code",
      "metadata": {
        "colab": {
          "base_uri": "https://localhost:8080/"
        },
        "id": "w9zW1rAjsAEP",
        "outputId": "413f8cb7-d5f7-4d01-80f3-192156d6f86d"
      },
      "source": [
        "#### Similarly for MAE\n",
        "\n",
        "from tensorflow.keras.losses import MeanAbsoluteError\n",
        "\n",
        "mae = MeanAbsoluteError()\n",
        "mae(y_true, y_pred).numpy()"
      ],
      "execution_count": null,
      "outputs": [
        {
          "output_type": "execute_result",
          "data": {
            "text/plain": [
              "0.5"
            ]
          },
          "metadata": {
            "tags": []
          },
          "execution_count": 10
        }
      ]
    },
    {
      "cell_type": "markdown",
      "metadata": {
        "id": "e1TaBnImsUsl"
      },
      "source": [
        "### Custom Loss Functions in `keras`\n",
        "\n",
        "- Depending on your specific analytical question, the predefined loss functions may not serve the purpose\n",
        "- Luckily `keras` allows us to build our own loss fucntions, see example below:\n",
        "\n",
        "```python\n",
        "def custom_loss_function(y_true, y_pred):\n",
        "   squared_difference = tf.square(y_true - y_pred)\n",
        "   return tf.reduce_mean(squared_difference, axis=-1)\n",
        "\n",
        "model.compile(optimizer='adam', loss=custom_loss_function)\n",
        "```\n",
        "- One potential scenario is that sometimes you need to deal with classfications where different classes contains different meanings, or importances\n",
        "  - in that way, you need to penalize the __less__ important or meaningful classes\n",
        "  - Refer to page 9 - 10 of  [this article](https://github.com/DrJieTao/DeepLearning_docs/blob/main/Maymin%20NBA%20Journal%20of%20Business%20Analytics.pdf) - courtersy of Dr. Philip Maymin - for a real-life example.\n"
      ]
    },
    {
      "cell_type": "markdown",
      "metadata": {
        "id": "IATzs8AEs32H"
      },
      "source": [
        "### Additional Resources for `keras` Loss Functions.\n",
        "\n",
        "Refer to [this post](https://towardsdatascience.com/understanding-different-loss-functions-for-neural-networks-dd1ed0274718) or [this tutorial](https://machinelearningknowledge.ai/types-of-keras-loss-functions-explained-for-beginners/) for more information of `keras` loss functions."
      ]
    },
    {
      "cell_type": "markdown",
      "metadata": {
        "id": "cGkaVkDUtPd2"
      },
      "source": [
        "## Optimizers\n",
        "\n",
        "- From the previous lectures we already know the optimizers are used to minimize the loss (based on the loss function) during the trianing process\n",
        "- Also, most of the mainstream optimizers are variants of SGD\n",
        "- In essence, we try to find the __global minimum__ in the space defined by the loss function:\n",
        "\n",
        "![minimal](https://machinelearningknowledge.ai/wp-content/uploads/2020/12/Keras-Optimizers-Examples.jpeg)"
      ]
    },
    {
      "cell_type": "markdown",
      "metadata": {
        "id": "N04sR0TUuMrj"
      },
      "source": [
        "### How to Use Optimizers in `keras`\n",
        "\n",
        "To use optimizers in `keras`, we can use one of the two following ways:\n",
        "1. You can specify arguments (mostly `learning_rate`) by doing the following:\n",
        "\n",
        "```python\n",
        "opt = keras.optimizers.Adam(learning_rate=0.01)\n",
        "model.compile(loss='categorical_crossentropy', optimizer=opt)\n",
        "```\n",
        "\n",
        "2. Just use them with the default arguments:\n",
        "\n",
        "```python\n",
        "# pass optimizer by name: default parameters will be used\n",
        "model.compile(loss='categorical_crossentropy', optimizer='adam')\n",
        "```"
      ]
    },
    {
      "cell_type": "markdown",
      "metadata": {
        "id": "bJpcYdd9x-lW"
      },
      "source": [
        "### Types of `keras` Optimizers\n",
        "\n",
        "- Stochastic Gradient Descent (SGD)\n",
        "- Adaptive Momentum Estimation (Adam)\n",
        "- Root Mean Square Propagation (RMSProp)\n",
        "\n"
      ]
    },
    {
      "cell_type": "markdown",
      "metadata": {
        "id": "eTI79cILNEB-"
      },
      "source": [
        "### SGD\n",
        "\n",
        "- SGD is built on the idea of __back-propgation__ (BP).\n",
        "- In every BP pass (in this case only __one__ training sample and __one__ training label), the parameters in a NN are updated via:\n",
        "\n",
        "$$ \\theta = \\theta - \\eta \\times \\nabla_{\\theta}J(\\theta; X, y)$$\n",
        "\n",
        "- In which:\n",
        "  - $ \\theta $ is one of the **parameters** in NN (weights, biases, activations)\n",
        "  - $ \\eta $ is the __learning rate__ (sometimes we use $\\alpha$ or $\\gamma$\n",
        "  - $ \\nabla$ is the __gradient__ of $J$ againsst $\\theta$\n",
        "  - $J$ is the __Loss Function__, $X$ and $y$ are the training sample and the label, respectively.\n",
        "  - $ J(\\theta; X, y)$ means for every pair of $ (X, y) $, we update $\\theta $ so it decreases.\n"
      ]
    },
    {
      "cell_type": "markdown",
      "metadata": {
        "id": "fGRYJt68PMDO"
      },
      "source": [
        "#### Example: If we only have 1 parameter...\n",
        "\n",
        "![one weight example](https://mlfromscratch.com/content/images/2019/12/gradient-descent-optimized--1-.gif)"
      ]
    },
    {
      "cell_type": "markdown",
      "metadata": {
        "id": "kqcbe8WOPZJs"
      },
      "source": [
        "#### Pros and Cons of SGD\n",
        "\n",
        "- Pros\n",
        "  - Relatively **fast** compared to the older gradient descent approaches\n",
        "  - SGD is comparatively **easy** to learn for beginners\n",
        "\n",
        "- Cons\n",
        "  - Converges **slower** than newer algorithms (e.g., Adam, RMSProp)\n",
        "  - Has more problems with being stuck in a *local* minimum\n",
        "  - Newer approaches **outperform** SGD in terms of optimizing the cost function\n"
      ]
    },
    {
      "cell_type": "code",
      "metadata": {
        "id": "4IK26Gx8sK4C",
        "colab": {
          "base_uri": "https://localhost:8080/"
        },
        "outputId": "d8668c8f-7021-4f60-ccf7-fcc70aafdc56"
      },
      "source": [
        "import numpy as np\n",
        "import tensorflow as tf\n",
        "\n",
        "opt = tf.keras.optimizers.SGD(learning_rate=0.1)\n",
        "var = tf.Variable(10.0)\n",
        "loss = lambda: (var ** 2)/2.0         # d(loss)/d(var1) = var1\n",
        "for i in range(5):\n",
        "  step_count = opt.minimize(loss, [var]).numpy()\n",
        "  # Step is `- learning_rate * grad`\n",
        "  print('the i-th step loss is:',var.numpy()) # first step: 9.0, then 8.0, then 7.0, ..."
      ],
      "execution_count": null,
      "outputs": [
        {
          "output_type": "stream",
          "text": [
            "the i-th step loss is: 9.0\n",
            "the i-th step loss is: 8.1\n",
            "the i-th step loss is: 7.2900004\n",
            "the i-th step loss is: 6.5610003\n",
            "the i-th step loss is: 5.9049\n"
          ],
          "name": "stdout"
        }
      ]
    },
    {
      "cell_type": "markdown",
      "metadata": {
        "id": "JqEZPqyoQG3y"
      },
      "source": [
        "### Adam\n",
        "\n",
        "- Performs **best** on average\n",
        "- Adam uses **Momentum** and **Adaptive Learning Rates** to converge faster\n",
        "\n",
        "![compare of optimizers](https://mlfromscratch.com/content/images/2019/12/saddle.gif)\n",
        "\n"
      ]
    },
    {
      "cell_type": "markdown",
      "metadata": {
        "id": "qlMafuVTRFnY"
      },
      "source": [
        "#### Momentum\n",
        "\n",
        "- __Momentum__ controls how fast we update any parameter $ \\theta $\n",
        "- At a certain time step $t$, the parameter $\\theta_{t}$ is updated via:\n",
        "\n",
        "$$ \\theta_{t} = \\theta_{t} - \\eta\\nabla J(\\theta_{t}) + \\gamma v_{t} $$\n",
        "- We know most in above equation already, the new things are:\n",
        "  - time step $t$, which means any time step (e.g., per second?) in the training process\n",
        "  - momentun term $\\gamma v_{t}$, which we will explain below\n",
        "- Essentially, we added a temporal element to the BP update process, meaning we update $\\theta$ __faster__ later in the training process"
      ]
    },
    {
      "cell_type": "markdown",
      "metadata": {
        "id": "gasTx0BdTMnm"
      },
      "source": [
        "#### Momentum Term\n",
        "\n",
        "- The momentum term $\\gamma v_{t}$ contains two parts:\n",
        "  - A constant $\\gamma$ - you can think of this as the _gravitational acceleration_: if an object is in free fall (i.e., in vacuum), there is a steady gain ($ 9.84 m/s^2 $）to the falling speed\n",
        "  - An updating speed $ v_t $: which is the sum of current update $ \\eta\\nabla J(\\theta_{t-1}) $ and the previous update $ v_{t-1} $, and $ v_{t-1} $ also includes $ v_{t-2} $ (this is called a **recursion** BTW)\n",
        "- So we are rewrite the update of $\\theta_{t}$ as:\n",
        "\n",
        "$$ \\theta_{t} = \\theta_{t} - \\eta\\nabla J(\\theta_{t}) + \\gamma \\sum_{\\tau = 1}^t{\\eta\\nabla J(\\theta_{\\tau})}$$\n",
        "\n",
        "- in which $\\tau$ refers to all the time steps, from $1$ to $t$."
      ]
    },
    {
      "cell_type": "markdown",
      "metadata": {
        "id": "4gqIL2tTVdmq"
      },
      "source": [
        "#### Illustration of Momentum\n",
        "\n",
        "![no momentum](https://mlfromscratch.com/content/images/2019/12/no-momentum.gif)\n",
        "\n",
        "![with momentum](https://mlfromscratch.com/content/images/2019/12/momentum.gif)\n",
        "\n"
      ]
    },
    {
      "cell_type": "markdown",
      "metadata": {
        "id": "KDZLMPaRVvep"
      },
      "source": [
        "#### Adaptive Learning Rates\n",
        "\n",
        "- An adaptive learning rate can be observed not only in Adam, but also in AdaGrad, AdaDelta, and RMSprop\n",
        "- The adaptive learning rate property is also known as **Learning Rate Schedules**\n",
        "- The idea is we start with _big_ steps, and finish with _small_ steps\n",
        "  - this counters the effects from momentum, just in case the steps are to big so we skip over the __global momentum__\n",
        "- The parameters are updated via:\n",
        "\n",
        "$$ \\theta_{t+1} = \\theta_{t} - \\frac{\\eta \\times \\hat{m}_{t}}{\\sqrt{\\hat{v}_{t}}+ \\epsilon} $$\n",
        "\n",
        "- in which:\n",
        "  - $ \\epsilon $ is a small number to avoid division by zero, usually $ 10^{-8}$\n",
        "  - $ \\hat{m}_t$: bias-corrected momentum, adjusted based on the loss value:\n",
        "  $$ \\hat{m}_t = \\frac{m_{t}}{1-\\beta_1}, m_{t} = (1-\\beta_1)g_t + \\beta_1m_{t-1} $$\n",
        "  - $ \\hat{v}_t$: bias-corrected momentum, adjusted based on the loss value:\n",
        "  $$ \\hat{v}_t = \\frac{v_{t}}{1-\\beta_2}, v_{t} = (1-\\beta_2)g_t^2 + \\beta_2v_{t-1} $$\n",
        "\n",
        "- Instead of using a single $\\gamma$ in momentum, we use two terms $\\beta_1$ and $\\beta_2$ to control how the learning rate is adpated. Typically, we set:\n",
        "  - $ \\beta_1 = 0.9, \\beta_2 = 0.999 $\n",
        "  - at the fifth step, $\\beta_1^{t=5} = 0.9^5 = 0.59049 $"
      ]
    },
    {
      "cell_type": "markdown",
      "metadata": {
        "id": "e8lw6LQnY3Lk"
      },
      "source": [
        "#### Pros of Adam\n",
        "\n",
        "- It is efficient to use and consumes very little memory.\n",
        "- It is appropriate in cases where huge amount of data and parameters are available for usage."
      ]
    },
    {
      "cell_type": "code",
      "metadata": {
        "colab": {
          "base_uri": "https://localhost:8080/"
        },
        "id": "KORhO7gbQAMD",
        "outputId": "42969bec-11f6-4b03-b147-a4aaed01cb40"
      },
      "source": [
        "opt = tf.keras.optimizers.Adam(learning_rate=0.1)\n",
        "var1 = tf.Variable(10.0)\n",
        "\n",
        "for i in range(20):\n",
        "  loss = lambda: (var1 ** 2)/2.0       # d(loss)/d(var1) == var1\n",
        "  step_count = opt.minimize(loss, [var1]).numpy()\n",
        "  # The first step is `-learning_rate*sign(grad)`\n",
        "  print('the i-th step loss is:', var1.numpy())"
      ],
      "execution_count": null,
      "outputs": [
        {
          "output_type": "stream",
          "text": [
            "the i-th step loss is: 9.9\n",
            "the i-th step loss is: 9.800028\n",
            "the i-th step loss is: 9.700101\n",
            "the i-th step loss is: 9.60024\n",
            "the i-th step loss is: 9.500463\n",
            "the i-th step loss is: 9.400787\n",
            "the i-th step loss is: 9.301234\n",
            "the i-th step loss is: 9.201822\n",
            "the i-th step loss is: 9.102571\n",
            "the i-th step loss is: 9.003497\n",
            "the i-th step loss is: 8.904622\n",
            "the i-th step loss is: 8.8059635\n",
            "the i-th step loss is: 8.7075405\n",
            "the i-th step loss is: 8.609371\n",
            "the i-th step loss is: 8.511473\n",
            "the i-th step loss is: 8.413864\n",
            "the i-th step loss is: 8.316562\n",
            "the i-th step loss is: 8.2195835\n",
            "the i-th step loss is: 8.122946\n",
            "the i-th step loss is: 8.026666\n"
          ],
          "name": "stdout"
        }
      ]
    },
    {
      "cell_type": "markdown",
      "metadata": {
        "id": "ofl0eXU5Z25v"
      },
      "source": [
        "### RMSProp\n",
        "\n",
        "- Root Mean Squared Propagation (RMSprop) provides an *exponentially decaying average*\n",
        "- RMSProp contains the __momentum__, and a similar term in which we do __not__ consider the learning rate\n",
        "- In other optimizers, the learning rate decreases throughout the training process, where in Adam RMSProp, learning rate can go up and down\n",
        "\n",
        "![rmsprop](https://mlfromscratch.com/content/images/2019/12/rmsprop.gif)"
      ]
    },
    {
      "cell_type": "code",
      "metadata": {
        "colab": {
          "base_uri": "https://localhost:8080/"
        },
        "id": "Dmxurf7KY9k1",
        "outputId": "f5793836-cc5f-466d-cd38-ac5a49adf776"
      },
      "source": [
        "opt = tf.keras.optimizers.RMSprop(learning_rate=0.1)\n",
        "var2 = tf.Variable(10.0)\n",
        "\n",
        "for i in range(20):\n",
        "  loss = lambda: (var2 ** 2)/2.0       # d(loss)/d(var1) == var1\n",
        "  step_count = opt.minimize(loss, [var2]).numpy()\n",
        "  # The first step is `-learning_rate*sign(grad)`\n",
        "  print('the i-th step loss is:', var2.numpy())"
      ],
      "execution_count": null,
      "outputs": [
        {
          "output_type": "stream",
          "text": [
            "the i-th step loss is: 9.683772\n",
            "the i-th step loss is: 9.45788\n",
            "the i-th step loss is: 9.270531\n",
            "the i-th step loss is: 9.105434\n",
            "the i-th step loss is: 8.955067\n",
            "the i-th step loss is: 8.815248\n",
            "the i-th step loss is: 8.683382\n",
            "the i-th step loss is: 8.5577345\n",
            "the i-th step loss is: 8.437081\n",
            "the i-th step loss is: 8.320523\n",
            "the i-th step loss is: 8.207378\n",
            "the i-th step loss is: 8.097118\n",
            "the i-th step loss is: 7.9893227\n",
            "the i-th step loss is: 7.883653\n",
            "the i-th step loss is: 7.7798333\n",
            "the i-th step loss is: 7.6776342\n",
            "the i-th step loss is: 7.5768642\n",
            "the i-th step loss is: 7.477362\n",
            "the i-th step loss is: 7.3789907\n",
            "the i-th step loss is: 7.2816324\n"
          ],
          "name": "stdout"
        }
      ]
    },
    {
      "cell_type": "markdown",
      "metadata": {
        "id": "qiwp969eexFs"
      },
      "source": [
        "### Additional Resouces for `keras` Optimizers\n",
        "\n",
        "You can refer to [this tutorial](https://machinelearningknowledge.ai/keras-optimizers-explained-with-examples-for-beginners/) or [this article](https://towardsdatascience.com/a-quick-guide-to-neural-network-optimizers-with-applications-in-keras-e4635dd1cca4) or [this article](https://mlfromscratch.com/optimizers-explained/#/) for more information."
      ]
    },
    {
      "cell_type": "markdown",
      "metadata": {
        "id": "nVSEK93wfH12"
      },
      "source": [
        "## `keras` Activations\n",
        "\n",
        "- Activations, or activation functions, serve two goals in any NN:\n",
        "  - It serves as a gate function to control if a neuron is \"fired\" (ouputs a value of `1`) or not (ouputs a value of `0`)\n",
        "  - It serves as a transformation function to convert input data into the output data in a _different_ space\n",
        "\n",
        "- We can use both __linear__ and __non-linear__ activations in NN\n",
        "  - but we use much __more__ non-linear activations\n",
        "- Below is the comparison of activation between a brain neuron and a neuron in a NN:\n",
        "\n",
        "![activation process](https://machinelearningknowledge.ai/wp-content/uploads/2020/11/Activation_Function.png)"
      ]
    },
    {
      "cell_type": "markdown",
      "metadata": {
        "id": "XV4nBrz-kx1C"
      },
      "source": [
        "### Linear Activations\n",
        "\n",
        "- We have two types of linear activations:\n",
        "  - Step function: if the input is greater than a pre-defined threshold, the neuron is fired; otherwise it is not;\n",
        "  - Linear function: multiply the input data by a pre-defined constant ($ y = c \\times x $) - allows multiple outputs rather than just `0/1`.\n",
        "\n",
        "- We do not use linear activation anymore because:\n",
        "  - All hidden layers are collapsed into one --> so deep learning becomes shallow learning\n",
        "  - Not possible for backpropgation\n",
        "  - NN becomes interwined linear (regression) models"
      ]
    },
    {
      "cell_type": "markdown",
      "metadata": {
        "id": "dm_Wpu_imKRd"
      },
      "source": [
        "### Non-linear Activations in `keras`\n",
        "\n",
        "- Mainly we use the following types of __non-linear__ activations in NNs:\n",
        "  - Sigmoid/Logistic\n",
        "  - Tanh/Hyperbolic Tangent\n",
        "  - ReLU/Rectified Linear Unit\n",
        "  - Softmax"
      ]
    },
    {
      "cell_type": "markdown",
      "metadata": {
        "id": "V8jDJXjALUzY"
      },
      "source": [
        "### Sigmoid Activation\n",
        "\n",
        "- The `sigmoid` activation is widely used in __binary classification__ problems, usually used with the `binary-crossentropy` loss function when used in the __output__ layer\n",
        "- Mathematically, the `sigmoid` functions is defined by:\n",
        "\n",
        "$$ sigmoid(z) = \\frac{e^z}{e^z + 1} = \\frac{1}{1+e^{-z}}$$\n",
        "\n",
        "- And the `sigmoid` activation is illustrated by:\n",
        "\n",
        "![sigmoid](https://deeplizard.com/images/sigmoid%20function%20graph%20curve.svg)\n",
        "\n",
        "- `sigmoid` activation outputs between `0` and `1` and it is non-linear\n",
        "  - so it is good to output probabilities (normalized)\n",
        "  - and convert the input data into a non-linear space\n",
        "\n"
      ]
    },
    {
      "cell_type": "markdown",
      "metadata": {
        "id": "EUufRiQQQLot"
      },
      "source": [
        "#### Pros and Cons of `sigmoid`\n",
        "\n",
        "- Pros:\n",
        "  - Avoid \"jumps\" in outputs, and yield _smooth_ gradients\n",
        "  - if the input value is big, then the prediction is clear\n",
        "- Cons:\n",
        "  - __Vanishing gradients!!!__ for very high/low input values, the backpropgation returns __very low__ updates to the parameters because the gradients are low.\n",
        "  - Outputs are not zero-centered, and it is computationally expensive.\n",
        "\n",
        "![vanishing gradient](https://miro.medium.com/max/1260/1*iOAQr-iRgHoVpFNSWYV8Iw.png)\n",
        "\n",
        "- So recently the `tanh` activation becomes more popular."
      ]
    },
    {
      "cell_type": "markdown",
      "metadata": {
        "id": "l5R7dYV8Q-n8"
      },
      "source": [
        "### TanH Activation\n",
        "\n",
        "- The `tanh` activation is also __non-linear__ and __differentiable__.\n",
        "  - Shape is similar to `sigmoid`\n",
        "![tanh](https://miro.medium.com/max/925/1*TLcyVwbgfrNm3XCWW4rFzg.png)\n",
        "- The output is in the (-1, 1) range\n",
        "  - Not great for the output layers since the output is not in the (0,1) range as the `sigmoid` activation, but good for the __hidden__ layers\n",
        "  - The max derivative is `1` so it is good for backpropgation\n",
        "    - we can fully transform the errors to previous layers"
      ]
    },
    {
      "cell_type": "markdown",
      "metadata": {
        "id": "Cja9VbeVSNbr"
      },
      "source": [
        "#### Pros and Cons of `tanh`\n",
        "\n",
        "- Pros\n",
        "  - Zero-centered: if the sign (`+/-`) in the input data have strong meanings, `tanh` is very sensitive\n",
        "- Cons\n",
        "  - Less susceptible to the vanishing gradient, otherwise like `sigmoid`"
      ]
    },
    {
      "cell_type": "markdown",
      "metadata": {
        "id": "Z6y8g97cSy5U"
      },
      "source": [
        "### ReLU Activation\n",
        "\n",
        "- Both `sigmoid` and `tanh` are computationally expensive, for most of the classification problem, we can use the `relu` activation in the __hidden__ layers\n",
        "  - We do not use it in the __output__ layers\n",
        "  - The `relu` activation is given by:\n",
        "  $$ relu(x) = max(0, x) $$\n",
        "  - The `relu` activation looks like below:\n",
        "\n",
        "![relu](https://miro.medium.com/max/922/1*yDTcsgBV3pcUvXFVwE8kZQ.png)\n",
        "\n",
        "- The output of `relu` ranges in $ (0, +\\infty) $, but it is not differentiable at $0$.\n",
        "- The grsdient is always $1$, so we can pass the maximal amount of the error throughout the NN via back-propagation."
      ]
    },
    {
      "cell_type": "markdown",
      "metadata": {
        "id": "zguj0cL_UAm6"
      },
      "source": [
        "#### Pros and Cons of `relu`\n",
        "\n",
        "- Pros\n",
        "  - `relu` is computationally efficient - quick converge of the network\n",
        "  - `relu` is a non-linear function although it does not appear that way\n",
        "- Cons\n",
        "  - If the input data contains a lot of **zeros** and **negatives**, the network cannot back-propagate since gradient of `relu` is zero (**dying relu**)\n",
        "\n",
        "- That's why we use something like `leaky-relu`."
      ]
    },
    {
      "cell_type": "markdown",
      "metadata": {
        "id": "HlGYXUmKVBt2"
      },
      "source": [
        "### Leaky ReLU Activation\n",
        "\n",
        "- The only reason we use `leaky_relu` is to deal with the __dying relu__ problem\n",
        "  - `leaky_relu` has a positive slope (gradient) in the negative-zero area, so it is differentiable - BP enabled!!\n",
        "  - `leaky_relu` is given by below:\n",
        "  $$ leakyReLU(x) = max(0.1 \\times x, x) $$\n",
        "  - `leaky_relu` looks like below:\n",
        "\n",
        "![leakyrelu](https://www.researchgate.net/profile/Stefano-Romanazzi/publication/325226633/figure/fig9/AS:627667623768071@1526659031098/Plot-of-the-LeakyReLU-function.png)\n"
      ]
    },
    {
      "cell_type": "markdown",
      "metadata": {
        "id": "-HVjRYCCWPiq"
      },
      "source": [
        "### Softmax Activation\n",
        "\n",
        "- `softmax` is a vector extension to `sigmoid`\n",
        "- `softmax` takes a vector of real values and convert each of them into corresponding probabilities.\n",
        "- in a $C$-class classification, where $ k \\in [1, 2, ..., C] $, the probability of each class $k$ is given by:\n",
        "\n",
        "$$ p(y=k|x) = \\frac{e^{z(x)_k}}{\\sum_{j=1}^C{e^{z(x)_j}}}$$\n",
        "\n",
        "- if $C=2$, `softmax` is the same as `sigmoid`\n",
        "  - so we can use `softmax` for __multi-class classification__ problems, in conjunction with CCE.\n",
        "\n",
        "__PRO TIP__: we can use `softmax` for __binary classification__ problems, and we should use `binary-crossentropy` loss function with it."
      ]
    },
    {
      "cell_type": "markdown",
      "metadata": {
        "id": "gBFIzo-bYu6X"
      },
      "source": [
        "### Additional Resources for `keras` Activations\n",
        "\n",
        "Refer to [this article](https://towardsdatascience.com/exploring-activation-functions-for-neural-networks-73498da59b02) or [this post](https://missinglink.ai/guides/neural-network-concepts/7-types-neural-network-activation-functions-right/) or [this article](http://web.stanford.edu/~nanbhas//blog/sigmoid-softmax.html) for more details."
      ]
    },
    {
      "cell_type": "markdown",
      "metadata": {
        "id": "9hGIIoAdZCp5"
      },
      "source": [
        "## Regularization\n",
        "\n",
        "- Generally in ML, we use regularizations to avoid the __overfitting__ problem.\n",
        "- Typically we use three types of regularizations in `keras`, namely:\n",
        "  - DropOut\n",
        "  - Early Stopping\n",
        "  - L1/L2 Regularization, aka. weight decay\n",
        "  \n",
        "__PRO TIP1__: You should always consider using `dropout` in your NNs.\n",
        "\n",
        "__PRO TIP2__: Early Stopping allows you to select a large number of epoch without worrying about overfitting.\n",
        "\n",
        "- And if there is no other way to improve the results, you can consider using weight decay"
      ]
    },
    {
      "cell_type": "markdown",
      "metadata": {
        "id": "nPjqEHRTaS4D"
      },
      "source": [
        "#### Dropout Examples\n",
        "\n",
        "- For instance, we use the following `mnist` example to show the value of `dropout`"
      ]
    },
    {
      "cell_type": "code",
      "metadata": {
        "colab": {
          "base_uri": "https://localhost:8080/",
          "height": 265
        },
        "id": "22vMjp3HeUL5",
        "outputId": "1a7833c4-22b7-454b-fb6b-6aacd56ef152"
      },
      "source": [
        "from tensorflow.keras.datasets import mnist\n",
        "from matplotlib import pyplot as plt\n",
        "plt.style.use('dark_background')\n",
        "from tensorflow.keras.models import Sequential\n",
        "from tensorflow.keras.layers import Dense, Flatten, Activation, Dropout\n",
        "from tensorflow.keras.utils import normalize, to_categorical\n",
        "\n",
        "#### load the data\n",
        "(X_train, y_train), (X_test, y_test) = mnist.load_data()\n",
        "plt.imshow(X_train[0], cmap = plt.cm.binary)\n",
        "plt.show()"
      ],
      "execution_count": null,
      "outputs": [
        {
          "output_type": "display_data",
          "data": {
            "image/png": "[encoded data removed]",
            "text/plain": [
              "<Figure size 432x288 with 1 Axes>"
            ]
          },
          "metadata": {
            "tags": []
          }
        }
      ]
    },
    {
      "cell_type": "code",
      "metadata": {
        "id": "NBwtOuGPat_-"
      },
      "source": [
        "#### Preprocessing - normalization and OHE\n",
        "\n",
        "X_train = normalize(X_train, axis=1)\n",
        "X_test = normalize(X_test, axis=1)\n",
        "y_train = to_categorical(y_train)\n",
        "y_test = to_categorical(y_test)"
      ],
      "execution_count": null,
      "outputs": []
    },
    {
      "cell_type": "code",
      "metadata": {
        "colab": {
          "base_uri": "https://localhost:8080/"
        },
        "id": "CFRuu-Ada4bB",
        "outputId": "4ef4cf3f-e00e-4e88-805a-f08a3368c015"
      },
      "source": [
        "model = Sequential()\n",
        "model.add(Flatten(input_shape=(28, 28)))\n",
        "model.add(Dense(128))\n",
        "model.add(Activation('relu'))\n",
        "model.add(Dense(128))\n",
        "model.add(Activation('relu'))\n",
        "model.add(Dense(10))\n",
        "model.add(Activation('softmax'))\n",
        "model.summary()"
      ],
      "execution_count": null,
      "outputs": [
        {
          "output_type": "stream",
          "text": [
            "Model: \"sequential\"\n",
            "_________________________________________________________________\n",
            "Layer (type)                 Output Shape              Param #   \n",
            "=================================================================\n",
            "flatten (Flatten)            (None, 784)               0         \n",
            "_________________________________________________________________\n",
            "dense (Dense)                (None, 128)               100480    \n",
            "_________________________________________________________________\n",
            "activation (Activation)      (None, 128)               0         \n",
            "_________________________________________________________________\n",
            "dense_1 (Dense)              (None, 128)               16512     \n",
            "_________________________________________________________________\n",
            "activation_1 (Activation)    (None, 128)               0         \n",
            "_________________________________________________________________\n",
            "dense_2 (Dense)              (None, 10)                1290      \n",
            "_________________________________________________________________\n",
            "activation_2 (Activation)    (None, 10)                0         \n",
            "=================================================================\n",
            "Total params: 118,282\n",
            "Trainable params: 118,282\n",
            "Non-trainable params: 0\n",
            "_________________________________________________________________\n"
          ],
          "name": "stdout"
        }
      ]
    },
    {
      "cell_type": "code",
      "metadata": {
        "id": "D3X7peXya6RZ"
      },
      "source": [
        "model.compile(\n",
        "    loss='categorical_crossentropy',\n",
        "    optimizer='adam',\n",
        "    metrics=['accuracy']\n",
        ")\n"
      ],
      "execution_count": null,
      "outputs": []
    },
    {
      "cell_type": "code",
      "metadata": {
        "colab": {
          "base_uri": "https://localhost:8080/"
        },
        "id": "OyWmr_r4a8ph",
        "outputId": "e50f2385-963c-4f30-8c3f-9110b6a41c0d"
      },
      "source": [
        "history = model.fit(\n",
        "    X_train,\n",
        "    y_train,\n",
        "    epochs=10,\n",
        "    batch_size=128,\n",
        "    validation_split=0.1,\n",
        "    verbose = 1,\n",
        "    shuffle=True\n",
        ")"
      ],
      "execution_count": null,
      "outputs": [
        {
          "output_type": "stream",
          "text": [
            "Epoch 1/10\n",
            "422/422 [==============================] - 2s 4ms/step - loss: 0.7325 - accuracy: 0.7985 - val_loss: 0.1663 - val_accuracy: 0.9523\n",
            "Epoch 2/10\n",
            "422/422 [==============================] - 2s 4ms/step - loss: 0.1718 - accuracy: 0.9503 - val_loss: 0.1318 - val_accuracy: 0.9615\n",
            "Epoch 3/10\n",
            "422/422 [==============================] - 1s 4ms/step - loss: 0.1179 - accuracy: 0.9652 - val_loss: 0.1035 - val_accuracy: 0.9720\n",
            "Epoch 4/10\n",
            "422/422 [==============================] - 2s 4ms/step - loss: 0.0862 - accuracy: 0.9733 - val_loss: 0.0907 - val_accuracy: 0.9732\n",
            "Epoch 5/10\n",
            "422/422 [==============================] - 1s 4ms/step - loss: 0.0653 - accuracy: 0.9803 - val_loss: 0.0879 - val_accuracy: 0.9757\n",
            "Epoch 6/10\n",
            "422/422 [==============================] - 2s 4ms/step - loss: 0.0510 - accuracy: 0.9849 - val_loss: 0.0802 - val_accuracy: 0.9773\n",
            "Epoch 7/10\n",
            "422/422 [==============================] - 2s 4ms/step - loss: 0.0421 - accuracy: 0.9880 - val_loss: 0.0822 - val_accuracy: 0.9780\n",
            "Epoch 8/10\n",
            "422/422 [==============================] - 2s 4ms/step - loss: 0.0306 - accuracy: 0.9916 - val_loss: 0.0774 - val_accuracy: 0.9773\n",
            "Epoch 9/10\n",
            "422/422 [==============================] - 1s 3ms/step - loss: 0.0269 - accuracy: 0.9921 - val_loss: 0.0843 - val_accuracy: 0.9778\n",
            "Epoch 10/10\n",
            "422/422 [==============================] - 1s 4ms/step - loss: 0.0216 - accuracy: 0.9939 - val_loss: 0.0894 - val_accuracy: 0.9755\n"
          ],
          "name": "stdout"
        }
      ]
    },
    {
      "cell_type": "code",
      "metadata": {
        "colab": {
          "base_uri": "https://localhost:8080/",
          "height": 295
        },
        "id": "40aGWVcEa_Mx",
        "outputId": "b1e1e26e-0e58-4c8e-e851-37aebf9d8bea"
      },
      "source": [
        "loss = history.history['loss']\n",
        "val_loss = history.history['val_loss']\n",
        "epochs = range(1, len(loss) + 1)\n",
        "plt.plot(epochs, loss, 'y', label='Training loss')\n",
        "plt.plot(epochs, val_loss, 'r', label='Validation loss')\n",
        "plt.title('Training and validation loss')\n",
        "plt.xlabel('Epochs')\n",
        "plt.ylabel('Loss')\n",
        "plt.legend()\n",
        "plt.show()"
      ],
      "execution_count": null,
      "outputs": [
        {
          "output_type": "display_data",
          "data": {
            "image/png": "[encoded data removed]",
            "text/plain": [
              "<Figure size 432x288 with 1 Axes>"
            ]
          },
          "metadata": {
            "tags": []
          }
        }
      ]
    },
    {
      "cell_type": "markdown",
      "metadata": {
        "id": "4sTeL9yXbGGL"
      },
      "source": [
        "As you can see above, without `dropout`, the validation loss stops decreasing around epoch `3` - which means after that the model starts __overfitting__.\n",
        "\n",
        "Now we can start adding the `Dropout` layers into the model."
      ]
    },
    {
      "cell_type": "code",
      "metadata": {
        "colab": {
          "base_uri": "https://localhost:8080/"
        },
        "id": "_xGNHKZdbExy",
        "outputId": "c58937c4-cdf2-4115-8fdc-c25b1faee955"
      },
      "source": [
        "model_dropout = Sequential()\n",
        "model_dropout.add(Flatten(input_shape=(28, 28)))\n",
        "model_dropout.add(Dense(128))\n",
        "#### 0.5 means we random throw out 50% of the weights learnt\n",
        "#### so that the model training is more difficult\n",
        "#### hence it is harder to overfit the model\n",
        "model_dropout.add(Dropout(0.5))\n",
        "model_dropout.add(Activation('relu'))\n",
        "model_dropout.add(Dense(128))\n",
        "model_dropout.add(Dropout(0.5))\n",
        "model_dropout.add(Activation('relu'))\n",
        "model_dropout.add(Dense(10))\n",
        "model_dropout.add(Activation('softmax'))\n",
        "model_dropout.summary()"
      ],
      "execution_count": null,
      "outputs": [
        {
          "output_type": "stream",
          "text": [
            "Model: \"sequential_1\"\n",
            "_________________________________________________________________\n",
            "Layer (type)                 Output Shape              Param #   \n",
            "=================================================================\n",
            "flatten_1 (Flatten)          (None, 784)               0         \n",
            "_________________________________________________________________\n",
            "dense_3 (Dense)              (None, 128)               100480    \n",
            "_________________________________________________________________\n",
            "dropout (Dropout)            (None, 128)               0         \n",
            "_________________________________________________________________\n",
            "activation_3 (Activation)    (None, 128)               0         \n",
            "_________________________________________________________________\n",
            "dense_4 (Dense)              (None, 128)               16512     \n",
            "_________________________________________________________________\n",
            "dropout_1 (Dropout)          (None, 128)               0         \n",
            "_________________________________________________________________\n",
            "activation_4 (Activation)    (None, 128)               0         \n",
            "_________________________________________________________________\n",
            "dense_5 (Dense)              (None, 10)                1290      \n",
            "_________________________________________________________________\n",
            "activation_5 (Activation)    (None, 10)                0         \n",
            "=================================================================\n",
            "Total params: 118,282\n",
            "Trainable params: 118,282\n",
            "Non-trainable params: 0\n",
            "_________________________________________________________________\n"
          ],
          "name": "stdout"
        }
      ]
    },
    {
      "cell_type": "code",
      "metadata": {
        "id": "D9b6n5AGbsYH"
      },
      "source": [
        "model_dropout.compile(\n",
        "    loss='categorical_crossentropy',\n",
        "    optimizer='adam',\n",
        "    metrics=['accuracy']\n",
        ")"
      ],
      "execution_count": null,
      "outputs": []
    },
    {
      "cell_type": "code",
      "metadata": {
        "colab": {
          "base_uri": "https://localhost:8080/"
        },
        "id": "2stLqa44b8kI",
        "outputId": "a568a95d-2009-49f0-8245-207377b5b094"
      },
      "source": [
        "history_dropout = model_dropout.fit(\n",
        "    X_train,\n",
        "    y_train,\n",
        "    epochs=10,\n",
        "    batch_size=128,\n",
        "    validation_split=0.1,\n",
        "    verbose = 1,\n",
        "    shuffle=True\n",
        ")\n"
      ],
      "execution_count": null,
      "outputs": [
        {
          "output_type": "stream",
          "text": [
            "Epoch 1/10\n",
            "422/422 [==============================] - 2s 4ms/step - loss: 0.2217 - accuracy: 0.9371 - val_loss: 0.1097 - val_accuracy: 0.9680\n",
            "Epoch 2/10\n",
            "422/422 [==============================] - 2s 4ms/step - loss: 0.2017 - accuracy: 0.9417 - val_loss: 0.1032 - val_accuracy: 0.9712\n",
            "Epoch 3/10\n",
            "422/422 [==============================] - 2s 4ms/step - loss: 0.1905 - accuracy: 0.9448 - val_loss: 0.0984 - val_accuracy: 0.9695\n",
            "Epoch 4/10\n",
            "422/422 [==============================] - 2s 4ms/step - loss: 0.1803 - accuracy: 0.9477 - val_loss: 0.0941 - val_accuracy: 0.9727\n",
            "Epoch 5/10\n",
            "422/422 [==============================] - 2s 4ms/step - loss: 0.1722 - accuracy: 0.9492 - val_loss: 0.0921 - val_accuracy: 0.9732\n",
            "Epoch 6/10\n",
            "422/422 [==============================] - 2s 4ms/step - loss: 0.1616 - accuracy: 0.9518 - val_loss: 0.0883 - val_accuracy: 0.9747\n",
            "Epoch 7/10\n",
            "422/422 [==============================] - 2s 4ms/step - loss: 0.1551 - accuracy: 0.9547 - val_loss: 0.0868 - val_accuracy: 0.9753\n",
            "Epoch 8/10\n",
            "422/422 [==============================] - 2s 4ms/step - loss: 0.1477 - accuracy: 0.9559 - val_loss: 0.0858 - val_accuracy: 0.9747\n",
            "Epoch 9/10\n",
            "422/422 [==============================] - 2s 4ms/step - loss: 0.1409 - accuracy: 0.9572 - val_loss: 0.0898 - val_accuracy: 0.9740\n",
            "Epoch 10/10\n",
            "422/422 [==============================] - 2s 4ms/step - loss: 0.1415 - accuracy: 0.9585 - val_loss: 0.0812 - val_accuracy: 0.9760\n"
          ],
          "name": "stdout"
        }
      ]
    },
    {
      "cell_type": "code",
      "metadata": {
        "colab": {
          "base_uri": "https://localhost:8080/",
          "height": 295
        },
        "id": "m-LnKznMb-Mh",
        "outputId": "287b21ff-d34b-4f8d-e9f6-fa295fb1b078"
      },
      "source": [
        "#### plot the training history again\n",
        "loss = history_dropout.history['loss']\n",
        "val_loss = history_dropout.history['val_loss']\n",
        "epochs = range(1, len(loss) + 1)\n",
        "plt.plot(epochs, loss, 'y', label='Training loss')\n",
        "plt.plot(epochs, val_loss, 'r', label='Validation loss')\n",
        "plt.title('Training and validation loss')\n",
        "plt.xlabel('Epochs')\n",
        "plt.ylabel('Loss')\n",
        "plt.legend()\n",
        "plt.show()"
      ],
      "execution_count": null,
      "outputs": [
        {
          "output_type": "display_data",
          "data": {
            "image/png": "[encoded data removed]",
            "text/plain": [
              "<Figure size 432x288 with 1 Axes>"
            ]
          },
          "metadata": {
            "tags": []
          }
        }
      ]
    },
    {
      "cell_type": "markdown",
      "metadata": {
        "id": "cdPQSA9acRtN"
      },
      "source": [
        "We can observe that with the help of the `Dropout` layers, the validation loss keeps decreasing even at epoch 10. Thus, we successfully fought the overfitting problem.\n",
        "\n"
      ]
    },
    {
      "cell_type": "markdown",
      "metadata": {
        "id": "lDu8p2W1g7iC"
      },
      "source": [
        "### Early Stopping\n",
        "\n",
        "- But we may think of: how about we select a large number of epochs, so that we can reach the __best__ performance of our model? Sure we can.  \n",
        "- But in the meanwhile, if we increase the number of epochs too much, we may run into the overfitting problem again, even with the `Dropout` layers.\n",
        "- So we can use __early stopping__.\n",
        "\n",
        "- The idea behind __early stopping__ is straightforward.\n",
        "  - We have `keras` monitor the selected metric(s) (e.g., validation loss),\n",
        "  - if it stop change in the desired direction (e.g., decreasing), we stop the training process.\n",
        "  - Sicne the training process does not complete, it is an __early__ stop."
      ]
    },
    {
      "cell_type": "code",
      "metadata": {
        "colab": {
          "base_uri": "https://localhost:8080/"
        },
        "id": "pkS6Lu6EcK4S",
        "outputId": "bbcdcbeb-bd4d-4e46-8162-4ac72fa23240"
      },
      "source": [
        "model_es = Sequential()\n",
        "model_es.add(Flatten(input_shape=(28, 28)))\n",
        "model_es.add(Dense(128))\n",
        "model_es.add(Dropout(0.5))\n",
        "model_es.add(Activation('relu'))\n",
        "model_es.add(Dense(128))\n",
        "model_es.add(Dropout(0.5))\n",
        "model_es.add(Activation('relu'))\n",
        "model_es.add(Dense(10))\n",
        "model_es.add(Activation('softmax'))\n",
        "model_es.summary()"
      ],
      "execution_count": null,
      "outputs": [
        {
          "output_type": "stream",
          "text": [
            "Model: \"sequential_3\"\n",
            "_________________________________________________________________\n",
            "Layer (type)                 Output Shape              Param #   \n",
            "=================================================================\n",
            "flatten_3 (Flatten)          (None, 784)               0         \n",
            "_________________________________________________________________\n",
            "dense_9 (Dense)              (None, 128)               100480    \n",
            "_________________________________________________________________\n",
            "dropout_4 (Dropout)          (None, 128)               0         \n",
            "_________________________________________________________________\n",
            "activation_9 (Activation)    (None, 128)               0         \n",
            "_________________________________________________________________\n",
            "dense_10 (Dense)             (None, 128)               16512     \n",
            "_________________________________________________________________\n",
            "dropout_5 (Dropout)          (None, 128)               0         \n",
            "_________________________________________________________________\n",
            "activation_10 (Activation)   (None, 128)               0         \n",
            "_________________________________________________________________\n",
            "dense_11 (Dense)             (None, 10)                1290      \n",
            "_________________________________________________________________\n",
            "activation_11 (Activation)   (None, 10)                0         \n",
            "=================================================================\n",
            "Total params: 118,282\n",
            "Trainable params: 118,282\n",
            "Non-trainable params: 0\n",
            "_________________________________________________________________\n"
          ],
          "name": "stdout"
        }
      ]
    },
    {
      "cell_type": "code",
      "metadata": {
        "id": "dWNphHJmfJWp"
      },
      "source": [
        "model_es.compile(\n",
        "    loss='categorical_crossentropy',\n",
        "    optimizer='adam',\n",
        "    metrics=['accuracy']\n",
        ")"
      ],
      "execution_count": null,
      "outputs": []
    },
    {
      "cell_type": "code",
      "metadata": {
        "id": "cxlw2I4UeXvs"
      },
      "source": [
        "#### simple early stopping\n",
        "from keras.callbacks import EarlyStopping\n",
        "#### we specify to monitor validation loss\n",
        "#### `min` means if `val_loss` stops decreasing\n",
        "#### and `patience` means number of epochs after `val_loss` stops decreasing\n",
        "#### we use `patience` to avoid stopping training at local minima\n",
        "#### particularly when use in combination with `Dropout`\n",
        "#### you shoud definitely use `patience`\n",
        "es = EarlyStopping(monitor='val_loss', mode='min', verbose=1, patience=5)"
      ],
      "execution_count": null,
      "outputs": []
    },
    {
      "cell_type": "code",
      "metadata": {
        "colab": {
          "base_uri": "https://localhost:8080/"
        },
        "id": "pTERgaoofUXD",
        "outputId": "a6f357a8-7cbf-4cb1-9f76-e0efdb37690f"
      },
      "source": [
        "#### now we can try 100 epochs\n",
        "\n",
        "history_es = model_es.fit(\n",
        "    X_train,\n",
        "    y_train,\n",
        "    epochs=100,\n",
        "    batch_size=128,\n",
        "    validation_split=0.1,\n",
        "    verbose = 1,\n",
        "    shuffle=True,\n",
        "    callbacks=[es]\n",
        ")\n"
      ],
      "execution_count": null,
      "outputs": [
        {
          "output_type": "stream",
          "text": [
            "Epoch 1/100\n",
            "422/422 [==============================] - 2s 4ms/step - loss: 0.2656 - accuracy: 0.9236 - val_loss: 0.1221 - val_accuracy: 0.9647\n",
            "Epoch 2/100\n",
            "422/422 [==============================] - 2s 4ms/step - loss: 0.2332 - accuracy: 0.9330 - val_loss: 0.1111 - val_accuracy: 0.9677\n",
            "Epoch 3/100\n",
            "422/422 [==============================] - 2s 4ms/step - loss: 0.2128 - accuracy: 0.9391 - val_loss: 0.1033 - val_accuracy: 0.9698\n",
            "Epoch 4/100\n",
            "422/422 [==============================] - 2s 4ms/step - loss: 0.1964 - accuracy: 0.9428 - val_loss: 0.0941 - val_accuracy: 0.9720\n",
            "Epoch 5/100\n",
            "422/422 [==============================] - 2s 4ms/step - loss: 0.1846 - accuracy: 0.9454 - val_loss: 0.0918 - val_accuracy: 0.9725\n",
            "Epoch 6/100\n",
            "422/422 [==============================] - 2s 4ms/step - loss: 0.1715 - accuracy: 0.9488 - val_loss: 0.0881 - val_accuracy: 0.9752\n",
            "Epoch 7/100\n",
            "422/422 [==============================] - 2s 4ms/step - loss: 0.1616 - accuracy: 0.9526 - val_loss: 0.0873 - val_accuracy: 0.9745\n",
            "Epoch 8/100\n",
            "422/422 [==============================] - 2s 4ms/step - loss: 0.1551 - accuracy: 0.9534 - val_loss: 0.0877 - val_accuracy: 0.9755\n",
            "Epoch 9/100\n",
            "422/422 [==============================] - 2s 5ms/step - loss: 0.1488 - accuracy: 0.9551 - val_loss: 0.0819 - val_accuracy: 0.9773\n",
            "Epoch 10/100\n",
            "422/422 [==============================] - 2s 4ms/step - loss: 0.1392 - accuracy: 0.9584 - val_loss: 0.0837 - val_accuracy: 0.9767\n",
            "Epoch 11/100\n",
            "422/422 [==============================] - 2s 4ms/step - loss: 0.1361 - accuracy: 0.9593 - val_loss: 0.0812 - val_accuracy: 0.9773\n",
            "Epoch 12/100\n",
            "422/422 [==============================] - 2s 4ms/step - loss: 0.1345 - accuracy: 0.9589 - val_loss: 0.0852 - val_accuracy: 0.9750\n",
            "Epoch 13/100\n",
            "422/422 [==============================] - 2s 4ms/step - loss: 0.1274 - accuracy: 0.9618 - val_loss: 0.0759 - val_accuracy: 0.9793\n",
            "Epoch 14/100\n",
            "422/422 [==============================] - 2s 4ms/step - loss: 0.1228 - accuracy: 0.9622 - val_loss: 0.0766 - val_accuracy: 0.9785\n",
            "Epoch 15/100\n",
            "422/422 [==============================] - 2s 4ms/step - loss: 0.1168 - accuracy: 0.9636 - val_loss: 0.0768 - val_accuracy: 0.9793\n",
            "Epoch 16/100\n",
            "422/422 [==============================] - 2s 4ms/step - loss: 0.1158 - accuracy: 0.9656 - val_loss: 0.0766 - val_accuracy: 0.9783\n",
            "Epoch 17/100\n",
            "422/422 [==============================] - 2s 4ms/step - loss: 0.1162 - accuracy: 0.9648 - val_loss: 0.0751 - val_accuracy: 0.9788\n",
            "Epoch 18/100\n",
            "422/422 [==============================] - 2s 4ms/step - loss: 0.1144 - accuracy: 0.9656 - val_loss: 0.0725 - val_accuracy: 0.9800\n",
            "Epoch 19/100\n",
            "422/422 [==============================] - 2s 4ms/step - loss: 0.1114 - accuracy: 0.9661 - val_loss: 0.0779 - val_accuracy: 0.9777\n",
            "Epoch 20/100\n",
            "422/422 [==============================] - 2s 4ms/step - loss: 0.1109 - accuracy: 0.9660 - val_loss: 0.0764 - val_accuracy: 0.9790\n",
            "Epoch 21/100\n",
            "422/422 [==============================] - 2s 4ms/step - loss: 0.1077 - accuracy: 0.9666 - val_loss: 0.0771 - val_accuracy: 0.9780\n",
            "Epoch 22/100\n",
            "422/422 [==============================] - 2s 4ms/step - loss: 0.1042 - accuracy: 0.9674 - val_loss: 0.0723 - val_accuracy: 0.9795\n",
            "Epoch 23/100\n",
            "422/422 [==============================] - 2s 4ms/step - loss: 0.1044 - accuracy: 0.9681 - val_loss: 0.0729 - val_accuracy: 0.9810\n",
            "Epoch 24/100\n",
            "422/422 [==============================] - 2s 4ms/step - loss: 0.1000 - accuracy: 0.9692 - val_loss: 0.0729 - val_accuracy: 0.9805\n",
            "Epoch 25/100\n",
            "422/422 [==============================] - 2s 4ms/step - loss: 0.1007 - accuracy: 0.9688 - val_loss: 0.0740 - val_accuracy: 0.9803\n",
            "Epoch 26/100\n",
            "422/422 [==============================] - 2s 4ms/step - loss: 0.1002 - accuracy: 0.9683 - val_loss: 0.0760 - val_accuracy: 0.9790\n",
            "Epoch 27/100\n",
            "422/422 [==============================] - 2s 4ms/step - loss: 0.0955 - accuracy: 0.9700 - val_loss: 0.0754 - val_accuracy: 0.9785\n",
            "Epoch 00027: early stopping\n"
          ],
          "name": "stdout"
        }
      ]
    },
    {
      "cell_type": "markdown",
      "metadata": {
        "id": "OsUkuDYRf4S5"
      },
      "source": [
        "Notice `val_loss` start increasing after epoch 22? `keras` continued to train `model_es` for 5 epochs (epoch 27), but the best model state at epoch 22 is saved."
      ]
    },
    {
      "cell_type": "code",
      "metadata": {
        "colab": {
          "base_uri": "https://localhost:8080/",
          "height": 295
        },
        "id": "XrILZ42QfdOs",
        "outputId": "cbe9d1ea-faa1-4256-b5b6-502ab50931bf"
      },
      "source": [
        "#### plot the training history again\n",
        "loss = history_es.history['loss']\n",
        "val_loss = history_es.history['val_loss']\n",
        "epochs = range(1, len(loss) + 1)\n",
        "plt.plot(epochs, loss, 'y', label='Training loss')\n",
        "plt.plot(epochs, val_loss, 'r', label='Validation loss')\n",
        "plt.title('Training and validation loss')\n",
        "plt.xlabel('Epochs')\n",
        "plt.ylabel('Loss')\n",
        "plt.legend()\n",
        "plt.show()"
      ],
      "execution_count": null,
      "outputs": [
        {
          "output_type": "display_data",
          "data": {
            "image/png": "[encoded data removed]",
            "text/plain": [
              "<Figure size 432x288 with 1 Axes>"
            ]
          },
          "metadata": {
            "tags": []
          }
        }
      ]
    },
    {
      "cell_type": "markdown",
      "metadata": {
        "id": "d7ghHL0Qgbbb"
      },
      "source": [
        "### Weight Decay\n",
        "\n",
        "- Additionally, we can use weight decay to restrain the model from overfitting.\n",
        "- There are three types of weight decay in `keras`:\n",
        "  - l1: Activity is calculated as the sum of absolute values.\n",
        "  - l2: Activity is calculated as the sum of the squared values.\n",
        "  - l1_l2: Activity is calculated as the sum of absolute and sum of the squared values.\n"
      ]
    },
    {
      "cell_type": "code",
      "metadata": {
        "colab": {
          "base_uri": "https://localhost:8080/"
        },
        "id": "KHdbzCp3gQbC",
        "outputId": "04a4d820-5ea5-4817-81ba-5b8a10621521"
      },
      "source": [
        "# import regularizer\n",
        "from keras.regularizers import l1, l2, l1_l2\n",
        "\n",
        "model_l1 = Sequential()\n",
        "model_l1.add(Flatten(input_shape=(28, 28)))\n",
        "model_l1.add(Dense(128, activation='relu', activity_regularizer=l1(0.001)))\n",
        "model_l1.add(Dropout(0.5))\n",
        "model_l1.add(Dense(128, activation='relu', activity_regularizer=l1(0.001)))\n",
        "model_l1.add(Dropout(0.5))\n",
        "model_l1.add(Dense(10))\n",
        "model_l1.add(Activation('softmax'))\n",
        "model_l1.summary()"
      ],
      "execution_count": null,
      "outputs": [
        {
          "output_type": "stream",
          "text": [
            "Model: \"sequential_4\"\n",
            "_________________________________________________________________\n",
            "Layer (type)                 Output Shape              Param #   \n",
            "=================================================================\n",
            "flatten_4 (Flatten)          (None, 784)               0         \n",
            "_________________________________________________________________\n",
            "dense_12 (Dense)             (None, 128)               100480    \n",
            "_________________________________________________________________\n",
            "dropout_6 (Dropout)          (None, 128)               0         \n",
            "_________________________________________________________________\n",
            "dense_13 (Dense)             (None, 128)               16512     \n",
            "_________________________________________________________________\n",
            "dropout_7 (Dropout)          (None, 128)               0         \n",
            "_________________________________________________________________\n",
            "dense_14 (Dense)             (None, 10)                1290      \n",
            "_________________________________________________________________\n",
            "activation_12 (Activation)   (None, 10)                0         \n",
            "=================================================================\n",
            "Total params: 118,282\n",
            "Trainable params: 118,282\n",
            "Non-trainable params: 0\n",
            "_________________________________________________________________\n"
          ],
          "name": "stdout"
        }
      ]
    },
    {
      "cell_type": "code",
      "metadata": {
        "id": "k2Wrt1EVhlv0"
      },
      "source": [
        "model_l1.compile(\n",
        "    loss='categorical_crossentropy',\n",
        "    optimizer='adam',\n",
        "    metrics=['accuracy']\n",
        ")"
      ],
      "execution_count": null,
      "outputs": []
    },
    {
      "cell_type": "code",
      "metadata": {
        "colab": {
          "base_uri": "https://localhost:8080/"
        },
        "id": "1vUmpDKphpnV",
        "outputId": "c6f1b4c1-447f-477b-eabb-36e8279d1ca8"
      },
      "source": [
        "history_l1 = model_l1.fit(\n",
        "    X_train,\n",
        "    y_train,\n",
        "    epochs=100,\n",
        "    batch_size=128,\n",
        "    validation_split=0.1,\n",
        "    verbose = 1,\n",
        "    shuffle=True,\n",
        "    callbacks=[es]\n",
        ")"
      ],
      "execution_count": null,
      "outputs": [
        {
          "output_type": "stream",
          "text": [
            "Epoch 1/100\n",
            "422/422 [==============================] - 3s 5ms/step - loss: 1.1784 - accuracy: 0.6380 - val_loss: 0.2662 - val_accuracy: 0.9405\n",
            "Epoch 2/100\n",
            "422/422 [==============================] - 2s 4ms/step - loss: 0.4138 - accuracy: 0.8993 - val_loss: 0.2033 - val_accuracy: 0.9585\n",
            "Epoch 3/100\n",
            "422/422 [==============================] - 2s 4ms/step - loss: 0.3328 - accuracy: 0.9215 - val_loss: 0.1770 - val_accuracy: 0.9643\n",
            "Epoch 4/100\n",
            "422/422 [==============================] - 2s 4ms/step - loss: 0.2950 - accuracy: 0.9305 - val_loss: 0.1625 - val_accuracy: 0.9690\n",
            "Epoch 5/100\n",
            "422/422 [==============================] - 2s 4ms/step - loss: 0.2620 - accuracy: 0.9387 - val_loss: 0.1473 - val_accuracy: 0.9705\n",
            "Epoch 6/100\n",
            "422/422 [==============================] - 2s 4ms/step - loss: 0.2431 - accuracy: 0.9437 - val_loss: 0.1417 - val_accuracy: 0.9728\n",
            "Epoch 7/100\n",
            "422/422 [==============================] - 2s 4ms/step - loss: 0.2242 - accuracy: 0.9471 - val_loss: 0.1369 - val_accuracy: 0.9740\n",
            "Epoch 8/100\n",
            "422/422 [==============================] - 2s 4ms/step - loss: 0.2126 - accuracy: 0.9513 - val_loss: 0.1293 - val_accuracy: 0.9747\n",
            "Epoch 9/100\n",
            "422/422 [==============================] - 2s 4ms/step - loss: 0.2020 - accuracy: 0.9521 - val_loss: 0.1276 - val_accuracy: 0.9738\n",
            "Epoch 10/100\n",
            "422/422 [==============================] - 2s 4ms/step - loss: 0.1956 - accuracy: 0.9537 - val_loss: 0.1220 - val_accuracy: 0.9763\n",
            "Epoch 11/100\n",
            "422/422 [==============================] - 2s 4ms/step - loss: 0.1871 - accuracy: 0.9580 - val_loss: 0.1225 - val_accuracy: 0.9752\n",
            "Epoch 12/100\n",
            "422/422 [==============================] - 2s 4ms/step - loss: 0.1791 - accuracy: 0.9575 - val_loss: 0.1181 - val_accuracy: 0.9750\n",
            "Epoch 13/100\n",
            "422/422 [==============================] - 2s 5ms/step - loss: 0.1722 - accuracy: 0.9607 - val_loss: 0.1178 - val_accuracy: 0.9753\n",
            "Epoch 14/100\n",
            "422/422 [==============================] - 2s 5ms/step - loss: 0.1655 - accuracy: 0.9617 - val_loss: 0.1111 - val_accuracy: 0.9772\n",
            "Epoch 15/100\n",
            "422/422 [==============================] - 2s 4ms/step - loss: 0.1649 - accuracy: 0.9625 - val_loss: 0.1126 - val_accuracy: 0.9770\n",
            "Epoch 16/100\n",
            "422/422 [==============================] - 2s 4ms/step - loss: 0.1625 - accuracy: 0.9625 - val_loss: 0.1106 - val_accuracy: 0.9765\n",
            "Epoch 17/100\n",
            "422/422 [==============================] - 2s 5ms/step - loss: 0.1577 - accuracy: 0.9641 - val_loss: 0.1065 - val_accuracy: 0.9782\n",
            "Epoch 18/100\n",
            "422/422 [==============================] - 2s 4ms/step - loss: 0.1595 - accuracy: 0.9632 - val_loss: 0.1143 - val_accuracy: 0.9748\n",
            "Epoch 19/100\n",
            "422/422 [==============================] - 2s 5ms/step - loss: 0.1552 - accuracy: 0.9658 - val_loss: 0.1067 - val_accuracy: 0.9775\n",
            "Epoch 20/100\n",
            "422/422 [==============================] - 2s 5ms/step - loss: 0.1515 - accuracy: 0.9653 - val_loss: 0.1068 - val_accuracy: 0.9785\n",
            "Epoch 21/100\n",
            "422/422 [==============================] - 2s 5ms/step - loss: 0.1423 - accuracy: 0.9668 - val_loss: 0.1055 - val_accuracy: 0.9802\n",
            "Epoch 22/100\n",
            "422/422 [==============================] - 2s 5ms/step - loss: 0.1472 - accuracy: 0.9662 - val_loss: 0.1062 - val_accuracy: 0.9783\n",
            "Epoch 23/100\n",
            "422/422 [==============================] - 2s 5ms/step - loss: 0.1450 - accuracy: 0.9661 - val_loss: 0.1051 - val_accuracy: 0.9797\n",
            "Epoch 24/100\n",
            "422/422 [==============================] - 2s 5ms/step - loss: 0.1400 - accuracy: 0.9680 - val_loss: 0.1033 - val_accuracy: 0.9788\n",
            "Epoch 25/100\n",
            "422/422 [==============================] - 2s 5ms/step - loss: 0.1388 - accuracy: 0.9681 - val_loss: 0.1030 - val_accuracy: 0.9792\n",
            "Epoch 26/100\n",
            "422/422 [==============================] - 2s 5ms/step - loss: 0.1334 - accuracy: 0.9701 - val_loss: 0.1043 - val_accuracy: 0.9783\n",
            "Epoch 27/100\n",
            "422/422 [==============================] - 2s 5ms/step - loss: 0.1366 - accuracy: 0.9704 - val_loss: 0.1033 - val_accuracy: 0.9783\n",
            "Epoch 28/100\n",
            "422/422 [==============================] - 2s 5ms/step - loss: 0.1356 - accuracy: 0.9693 - val_loss: 0.1060 - val_accuracy: 0.9777\n",
            "Epoch 29/100\n",
            "422/422 [==============================] - 2s 5ms/step - loss: 0.1334 - accuracy: 0.9694 - val_loss: 0.1059 - val_accuracy: 0.9788\n",
            "Epoch 30/100\n",
            "422/422 [==============================] - 2s 4ms/step - loss: 0.1301 - accuracy: 0.9711 - val_loss: 0.1031 - val_accuracy: 0.9783\n",
            "Epoch 00030: early stopping\n"
          ],
          "name": "stdout"
        }
      ]
    },
    {
      "cell_type": "markdown",
      "metadata": {
        "id": "Ede2uZf4h9bQ"
      },
      "source": [
        "We can observe that `model_l1` is trained for 30 epochs, although the model performance did not improve. So regularizations do not guarantee better performance, but we do get a better shot at __global optimum__."
      ]
    },
    {
      "cell_type": "code",
      "metadata": {
        "colab": {
          "base_uri": "https://localhost:8080/",
          "height": 295
        },
        "id": "nIA8iWKJht4N",
        "outputId": "afa69e04-0cd1-4878-a66a-f88044dd6938"
      },
      "source": [
        "#### plot the training history again\n",
        "loss = history_l1.history['loss']\n",
        "val_loss = history_l1.history['val_loss']\n",
        "epochs = range(1, len(loss) + 1)\n",
        "plt.plot(epochs, loss, 'y', label='Training loss')\n",
        "plt.plot(epochs, val_loss, 'r', label='Validation loss')\n",
        "plt.title('Training and validation loss')\n",
        "plt.xlabel('Epochs')\n",
        "plt.ylabel('Loss')\n",
        "plt.legend()\n",
        "plt.show()"
      ],
      "execution_count": null,
      "outputs": [
        {
          "output_type": "display_data",
          "data": {
            "image/png": "[encoded data removed]",
            "text/plain": [
              "<Figure size 432x288 with 1 Axes>"
            ]
          },
          "metadata": {
            "tags": []
          }
        }
      ]
    },
    {
      "cell_type": "markdown",
      "metadata": {
        "id": "ytH8M0dciS1p"
      },
      "source": [
        "Judging by the figure above, we can see that the L1-regualrization makes the training curve __smoother__, which is desired.\n",
        "\n",
        "If you want to learn to how use other types of regularizations, or use regularizations in other types of NNs, refer to [this article](https://machinelearningmastery.com/how-to-reduce-generalization-error-in-deep-neural-networks-with-activity-regularization-in-keras/)."
      ]
    },
    {
      "cell_type": "markdown",
      "metadata": {
        "id": "hSHhY4u9irJV"
      },
      "source": [
        "# Deep Learning & Artificial Intelligence\n",
        "## Neural Networks Building Blocks - Loss Functions, Optimizers, and Activations\n",
        "### Dr. Jie Tao, Fairfield University"
      ]
    },
    {
      "cell_type": "code",
      "metadata": {
        "id": "6_5YZiibiQ3r"
      },
      "source": [],
      "execution_count": null,
      "outputs": []
    }
  ]
}