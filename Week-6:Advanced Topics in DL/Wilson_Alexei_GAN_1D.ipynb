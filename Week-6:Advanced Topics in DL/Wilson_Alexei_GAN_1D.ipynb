{
  "nbformat": 4,
  "nbformat_minor": 0,
  "metadata": {
    "colab": {
      "provenance": []
    },
    "kernelspec": {
      "name": "python3",
      "display_name": "Python 3"
    },
    "accelerator": "GPU"
  },
  "cells": [
    {
      "cell_type": "markdown",
      "metadata": {
        "id": "jf7lqz8sGCEH"
      },
      "source": [
        "# How to Develop a 1D Generative Adversarial Network From Scratch in Keras\n",
        "\n",
        "Original post from [Machine Learning Mastery](https://machinelearningmastery.com/how-to-develop-a-generative-adversarial-network-for-a-1-dimensional-function-from-scratch-in-keras/)"
      ]
    },
    {
      "cell_type": "markdown",
      "metadata": {
        "id": "BZe9wUy9G0a8"
      },
      "source": [
        "## What is a Generative Model\n",
        "\n",
        "A __generator model__ is capable of generating _new artificial_ samples that plausibly could have come from an existing __distribution__ of samples.\n",
        "\n",
        "GANs are comprised of both __generator__ and __discriminator__ models.\n",
        "- The generator is responsible for __generating__ new samples from the domain, and the discriminator is responsible for __classifying__ whether samples are __real__ or __fake__ (generated).\n",
        "- Importantly, the performance of the discriminator model is used to update _both_ the model weights of the discriminator itself and the generator model.\n",
        "  - This means that the generator never actually sees examples from the domain and is adapted based on how well the discriminator performs."
      ]
    },
    {
      "cell_type": "markdown",
      "metadata": {
        "id": "7eCdURsWHbYB"
      },
      "source": [
        "## 1-Dimensional Generative Model\n",
        "\n",
        "A simple task that provides a good context for developing a simple GAN from scratch is a one-dimensional function. This is because both real and generated samples can be plotted and visually inspected to get an idea of what has been learned. A simple function also does not require sophisticated neural network models, meaning the specific generator and discriminator models used on the architecture can be easily understood."
      ]
    },
    {
      "cell_type": "markdown",
      "metadata": {
        "id": "1bm6Fy4eITl9"
      },
      "source": [
        "## Select an One-dimensional Function\n",
        "\n",
        "The first step is to select a one-dimensional function to model.\n",
        "\n",
        "Something like the _sigmoid_ function:\n",
        "\n",
        "$$ y = \\frac{1}{1 + e^{-x}} $$\n"
      ]
    },
    {
      "cell_type": "code",
      "metadata": {
        "id": "Abo8x5UrF71F"
      },
      "source": [
        "import numpy as np\n",
        "\n",
        "\n",
        "# simple function\n",
        "def my_sigmoid(x):\n",
        "\treturn 1/(1+np.exp(-x))\n"
      ],
      "execution_count": null,
      "outputs": []
    },
    {
      "cell_type": "code",
      "metadata": {
        "id": "PAgogPSbInzX",
        "colab": {
          "base_uri": "https://localhost:8080/",
          "height": 265
        },
        "outputId": "56f19932-034a-4c24-e7e6-9ecebbbccbfc"
      },
      "source": [
        "import matplotlib.pyplot as plt\n",
        "\n",
        "# define inputs\n",
        "inputs = [-5, -4, -3, -2, -1, 0, 1, 2, 3, 4, 5]\n",
        "# calculate outputs\n",
        "outputs = [my_sigmoid(x) for x in inputs]\n",
        "# plot the result\n",
        "plt.plot(inputs, outputs)\n",
        "plt.show()"
      ],
      "execution_count": null,
      "outputs": [
        {
          "output_type": "display_data",
          "data": {
            "text/plain": [
              "<Figure size 432x288 with 1 Axes>"
            ],
            "image/png": "[encoded data removed]"
          },
          "metadata": {
            "needs_background": "light"
          }
        }
      ]
    },
    {
      "cell_type": "markdown",
      "metadata": {
        "id": "nrDYlihsKDOS"
      },
      "source": [
        "We can generate random samples (or points) from the function.\n",
        "\n",
        "This can be achieved by generating random values between -5 and 5 and calculating the associated output value. Repeating this many times will give a sample of points from the function, e.g. __real samples__.\n",
        "\n",
        "Plotting these samples using a scatter plot will show the same plot, although comprised of the individual random samples."
      ]
    },
    {
      "cell_type": "code",
      "metadata": {
        "id": "iXmkSk6XI3S_"
      },
      "source": [
        "# generate randoms sample from the sigmoid function\n",
        "def generate_samples(n=100):\n",
        "\t# generate random inputs in [-5, 5]\n",
        "\tx = np.random.uniform(-5, 5, n)\n",
        "\t# generate outputs X^2 (quadratic)\n",
        "\ty = 1/(1+np.exp(-x))\n",
        "\t# stack arrays\n",
        "\tx = x.reshape(n, 1)\n",
        "\ty = y.reshape(n, 1)\n",
        "\treturn np.hstack((x, y))"
      ],
      "execution_count": null,
      "outputs": []
    },
    {
      "cell_type": "code",
      "metadata": {
        "id": "Hh_03b3hKfI7",
        "colab": {
          "base_uri": "https://localhost:8080/",
          "height": 265
        },
        "outputId": "3a5d5a63-398c-4039-c63d-8aeae455f51b"
      },
      "source": [
        "# generate samples\n",
        "data = generate_samples()\n",
        "# plot samples\n",
        "plt.scatter(data[:, 0], data[:, 1])\n",
        "plt.show();"
      ],
      "execution_count": null,
      "outputs": [
        {
          "output_type": "display_data",
          "data": {
            "text/plain": [
              "<Figure size 432x288 with 1 Axes>"
            ],
            "image/png": "[encoded data removed]"
          },
          "metadata": {
            "needs_background": "light"
          }
        }
      ]
    },
    {
      "cell_type": "markdown",
      "metadata": {
        "id": "p7fkjCW9L0w1"
      },
      "source": [
        "We can use this function (`generate_samples()`) as a starting point for generating **real** samples for our discriminator function. Specifically, a sample is comprised of a vector with two elements, one for the *input* and one for the *output* of our one-dimensional function.\n",
        "\n",
        "We can also imagine how a generator model could generate new samples that we can plot and compare to the expected shape of the __sigmoid__ function. Specifically, a generator would output a vector with two elements: one for the input and one for the output of our __sigmoid__ function."
      ]
    },
    {
      "cell_type": "markdown",
      "metadata": {
        "id": "W1btPuq7MhqP"
      },
      "source": [
        "## Define a Discriminator Model\n",
        "The next step is to define the discriminator model.\n",
        "\n",
        "The model must take a sample from our problem, such as a vector with two elements, and output a classification prediction as to whether the sample is *real* or *fake*.\n",
        "\n",
        "This is a *binary classification* problem.\n",
        "\n",
        "- **Inputs**: Sample with two real values.\n",
        "- **Outputs**: Binary classification, likelihood the sample is *real* (or *fake*).\n",
        "\n",
        "The problem is very simple, meaning that we don’t need a complex neural network to model it.\n",
        "\n",
        "The discriminator model will have *one* hidden layer with `25` nodes and we will use the `LeakyReLU` activation function and an appropriate weight initialization method called `He` weight initialization.\n",
        "\n",
        "The output layer will have *one* node for the binary classification using the `sigmoid` activation function.\n",
        "\n",
        "The model will minimize the *binary cross entropy* loss function, and the **Adam** version of stochastic gradient descent will be used because it is very effective.\n",
        "\n",
        "The `define_discriminator()` function below defines and returns the discriminator model. The function parameterizes the number of inputs to expect, which defaults to two."
      ]
    },
    {
      "cell_type": "code",
      "metadata": {
        "id": "kHKc-IlwNHcg"
      },
      "source": [
        "\n",
        "# define the discriminator model\n",
        "from tensorflow.keras.models import Sequential\n",
        "from tensorflow.keras.layers import Dense, LeakyReLU\n",
        "from tensorflow.keras.utils import plot_model\n"
      ],
      "execution_count": null,
      "outputs": []
    },
    {
      "cell_type": "code",
      "metadata": {
        "id": "FKfwkphKKk1E"
      },
      "source": [
        "# define the standalone discriminator model\n",
        "def define_discriminator(n_inputs=2):\n",
        "  model = Sequential()\n",
        "  model.add(Dense(25, kernel_initializer='he_uniform', input_dim=n_inputs))\n",
        "  model.add(LeakyReLU(0.1))\n",
        "  model.add(Dense(1, activation='sigmoid'))\n",
        "  # compile model\n",
        "  model.compile(loss='binary_crossentropy', optimizer='adam', metrics=['accuracy'])\n",
        "  return model"
      ],
      "execution_count": null,
      "outputs": []
    },
    {
      "cell_type": "code",
      "metadata": {
        "id": "6_RriXYiNEJe",
        "colab": {
          "base_uri": "https://localhost:8080/",
          "height": 690
        },
        "outputId": "b1229449-93af-41f8-b8d6-bfa8a17cabad"
      },
      "source": [
        "# define the discriminator model\n",
        "model = define_discriminator()\n",
        "# summarize the model\n",
        "model.summary()\n",
        "# plot the model\n",
        "plot_model(model, to_file='discriminator_plot.png', show_shapes=True, show_layer_names=True)"
      ],
      "execution_count": null,
      "outputs": [
        {
          "output_type": "stream",
          "name": "stdout",
          "text": [
            "Model: \"sequential\"\n",
            "_________________________________________________________________\n",
            " Layer (type)                Output Shape              Param #   \n",
            "=================================================================\n",
            " dense (Dense)               (None, 25)                75        \n",
            "                                                                 \n",
            " leaky_re_lu (LeakyReLU)     (None, 25)                0         \n",
            "                                                                 \n",
            " dense_1 (Dense)             (None, 1)                 26        \n",
            "                                                                 \n",
            "=================================================================\n",
            "Total params: 101\n",
            "Trainable params: 101\n",
            "Non-trainable params: 0\n",
            "_________________________________________________________________\n"
          ]
        },
        {
          "output_type": "execute_result",
          "data": {
            "text/plain": [
              "<IPython.core.display.Image object>"
            ],
            "image/png": "[encoded data removed]"
          },
          "metadata": {},
          "execution_count": 7
        }
      ]
    },
    {
      "cell_type": "markdown",
      "metadata": {
        "id": "V2TByjS5O8dJ"
      },
      "source": [
        "We could start training this model now with real examples with a class label of `1` and randomly generated samples with a class label of `0`.\n",
        "\n",
        "There is no need to do this, but the elements we will develop will be useful later, and it helps to see that the discriminator is just a normal neural network model.\n",
        "\n",
        "First, we can update our `generate_samples()` function from the prediction section and call it `generate_real_samples()` and have it also return the output class labels for the real samples, specifically, an array of `1` values, where `class=1` means real."
      ]
    },
    {
      "cell_type": "code",
      "metadata": {
        "id": "2QdU4ScuNVE5"
      },
      "source": [
        "# generate n real samples with class labels\n",
        "def generate_real_samples(n):\n",
        "\t# generate random inputs in [-5, 5]\n",
        "\tx1 = np.random.uniform(-5, 5, n)\n",
        "\t# generate outputs X^2 (quadratic)\n",
        "\tx2 = 1/(1+np.exp(-x1))\n",
        "\t# stack arrays\n",
        "\tx1 = x1.reshape(n, 1)\n",
        "\tx2 = x2.reshape(n, 1)\n",
        "\tX = np.hstack((x1, x2))\n",
        "\t# generate class labels\n",
        "\ty = np.ones((n, 1))\n",
        "\treturn X, y"
      ],
      "execution_count": null,
      "outputs": []
    },
    {
      "cell_type": "markdown",
      "metadata": {
        "id": "_Q0LFT-oQAvk"
      },
      "source": [
        "Next, we can create a copy of this function for creating fake examples.\n",
        "\n",
        "In this case, we will generate random values in the range -10 and 10 for both elements of a sample. The output class label for all of these examples is 0.\n",
        "\n",
        "This function (`generate_fake_samples()`) will generate fake data for our model."
      ]
    },
    {
      "cell_type": "code",
      "metadata": {
        "id": "iaV07T9RPmZR"
      },
      "source": [
        "def generate_fake_samples(n):\n",
        "\t# generate random inputs in [-5, 5]\n",
        "\tx1 = np.random.uniform(-10, 10, n)\n",
        "\t# generate outputs X^2 (quadratic)\n",
        "\tx2 = np.random.uniform(-5, 5, n)\n",
        "\t# stack arrays\n",
        "\tx1 = x1.reshape(n, 1)\n",
        "\tx2 = x2.reshape(n, 1)\n",
        "\tX = np.hstack((x1, x2))\n",
        "\t# generate class labels\n",
        "\ty = np.zeros((n, 1))\n",
        "\treturn X, y"
      ],
      "execution_count": null,
      "outputs": []
    },
    {
      "cell_type": "markdown",
      "metadata": {
        "id": "p6knTiPyQ_9i"
      },
      "source": [
        "Next, we need a function to train and evaluate the discriminator model.\n",
        "\n",
        "This can be achieved by manually enumerating the training epochs and for each epoch generating a *half* batch of *real* examples and a *half* batch of *fake* examples, and updating the model on each, e.g. one whole batch of examples. The `train_discriminator()` function could be used, but in this case, we will use the `train_on_batch()` function provided by keras directly.\n",
        "\n",
        "The model can then be evaluated on the generated examples and we can report the classification accuracy on both the *real* and *fake* samples.\n",
        "\n",
        "The `train_discriminator()` function below implements this, training the model for `1,000` batches and using `128` samples per batch (`64` fake and `64` real)."
      ]
    },
    {
      "cell_type": "code",
      "metadata": {
        "id": "_Xms44bRQ7vj"
      },
      "source": [
        "def train_discriminator(model, n_epochs=1000, n_batch=128):\n",
        "  half_batch = int(n_batch / 2)\n",
        "  ids, real_accs, fake_accs = list(), list(), list()\n",
        "\t# run epochs manually\n",
        "  for i in range(n_epochs):\n",
        "\t\t# generate real examples\n",
        "    X_real, y_real = generate_real_samples(half_batch)\n",
        "\t\t# update model\n",
        "    model.train_on_batch(X_real, y_real)\n",
        "\t\t# generate fake examples\n",
        "    X_fake, y_fake = generate_fake_samples(half_batch)\n",
        "\t\t# update model\n",
        "    model.train_on_batch(X_fake, y_fake)\n",
        "\t\t# evaluate the model\n",
        "    _, acc_real = model.evaluate(X_real, y_real, verbose=0)\n",
        "    _, acc_fake = model.evaluate(X_fake, y_fake, verbose=0)\n",
        "    ids.append(i)\n",
        "    real_accs.append(acc_real)\n",
        "    fake_accs.append(acc_fake)\n",
        "\n",
        "    #print(i, acc_real, acc_fake)\n",
        "  ids = np.array(ids).reshape(i+1,1)\n",
        "  real_accs = np.array(real_accs).reshape(i+1,1)\n",
        "  fake_accs = np.array(fake_accs).reshape(i+1,1)\n",
        "  return np.hstack((ids, real_accs, fake_accs))"
      ],
      "execution_count": null,
      "outputs": []
    },
    {
      "cell_type": "code",
      "metadata": {
        "id": "sKX04NjDSEEa"
      },
      "source": [
        "# define the discriminator model\n",
        "model = define_discriminator()\n",
        "# fit the model\n",
        "hist = train_discriminator(model)"
      ],
      "execution_count": null,
      "outputs": []
    },
    {
      "cell_type": "markdown",
      "metadata": {
        "id": "JorJ-IpnYFQ7"
      },
      "source": [
        "Let's examine the performance of the last `10` epochs."
      ]
    },
    {
      "cell_type": "code",
      "metadata": {
        "id": "JZ7VMIoASHfJ",
        "colab": {
          "base_uri": "https://localhost:8080/"
        },
        "outputId": "5a7d1843-a832-4463-b24f-c8482b11090b"
      },
      "source": [
        "print(hist[-10:])"
      ],
      "execution_count": null,
      "outputs": [
        {
          "output_type": "stream",
          "name": "stdout",
          "text": [
            "[[9.90000e+02 1.00000e+00 8.43750e-01]\n",
            " [9.91000e+02 1.00000e+00 9.21875e-01]\n",
            " [9.92000e+02 1.00000e+00 8.90625e-01]\n",
            " [9.93000e+02 1.00000e+00 8.59375e-01]\n",
            " [9.94000e+02 1.00000e+00 9.06250e-01]\n",
            " [9.95000e+02 1.00000e+00 9.68750e-01]\n",
            " [9.96000e+02 1.00000e+00 9.37500e-01]\n",
            " [9.97000e+02 1.00000e+00 9.53125e-01]\n",
            " [9.98000e+02 1.00000e+00 8.28125e-01]\n",
            " [9.99000e+02 1.00000e+00 9.06250e-01]]\n"
          ]
        }
      ]
    },
    {
      "cell_type": "markdown",
      "metadata": {
        "id": "UMLaXJwRYEBK"
      },
      "source": [
        "Running the example generates real and fake examples and updates the model, then evaluates the model on the same examples and prints the classification accuracy.\n",
        "\n",
        "Your specific results may vary but the model rapidly learns to correctly identify the real examples with perfect accuracy and is very good at identifying the fake examples with `80%` to 90% accuracy.\n",
        "\n",
        "Training the discriminator model is straightforward. The goal is to train a generator model, not a discriminator model, and that is where the complexity of GANs truly lies."
      ]
    },
    {
      "cell_type": "markdown",
      "metadata": {
        "id": "2e67jCToYYsa"
      },
      "source": [
        "## Define a Generator Model\n",
        "The next step is to define the generator model.\n",
        "\n",
        "The generator model takes as input a point from the latent space and generates a new sample, e.g. a vector with both the input and output elements of our function, e.g. `x` and `sigmoid(x)`.\n",
        "\n",
        "A latent variable is a hidden or unobserved variable, and a latent space is a multi-dimensional vector space of these variables. We can define the size of the latent space for our problem and the shape or distribution of variables in the latent space.\n",
        "\n",
        "This is because the latent space has no meaning until the generator model starts assigning meaning to points in the space as it learns. After training, points in the latent space will correspond to points in the output space, e.g. in the space of generated samples.\n",
        "\n",
        "We will define a small latent space of `5` dimensions and use the standard approach in the GAN literature of using a *Gaussian distribution* for each variable in the latent space. We will generate new inputs by drawing `random numbers` from a standard Gaussian distribution, i.e. mean of zero and a standard deviation of one.\n",
        "\n",
        "- **Inputs**: Point in latent space, e.g. a five-element vector of Gaussian random numbers.\n",
        "- **Outputs**: Two-element vector representing a generated sample for our function (`x` and `sigmoid(x)`).\n",
        "\n",
        "The generator model will be small like the discriminator model.\n",
        "\n",
        "It will have a single hidden layer with `15` nodes and will use the `LeakyReLU` activation function and the `He` weight initialization. The output layer will have `2` nodes for the 2 elements in a generated vector and will use a `linear` activation function.\n",
        "\n",
        "A linear activation function is used because we know we want the generator to output a vector of real values and the scale will be `[-5, 5]` for the first element and about `[0.0, 1.0]` for the second element.\n",
        "\n",
        "The model is not compiled. The reason for this is that the generator model is not fit directly.\n",
        "\n",
        "The define_generator() function below defines and returns the generator model.\n",
        "\n",
        "The size of the latent dimension is parameterized in case we want to play with it later, and the output shape of the model is also parameterized, matching the function for defining the discriminator model."
      ]
    },
    {
      "cell_type": "code",
      "metadata": {
        "id": "aiI4p28UVZ6x"
      },
      "source": [
        "# define the standalone generator model\n",
        "def define_generator(latent_dim, n_outputs=2):\n",
        "  model = Sequential()\n",
        "  model.add(Dense(15, kernel_initializer='he_uniform', input_dim=latent_dim))\n",
        "  model.add(LeakyReLU(0.1))\n",
        "  model.add(Dense(n_outputs, activation='linear'))\n",
        "  return model\n",
        "\n"
      ],
      "execution_count": null,
      "outputs": []
    },
    {
      "cell_type": "code",
      "metadata": {
        "id": "JpaAH1zVZhby",
        "colab": {
          "base_uri": "https://localhost:8080/",
          "height": 690
        },
        "outputId": "f5f0f856-c3af-4cc8-e041-0f4cef356362"
      },
      "source": [
        "# define the discriminator model\n",
        "model = define_generator(5)\n",
        "# summarize the model\n",
        "model.summary()\n",
        "# plot the model\n",
        "plot_model(model, show_shapes=True, show_layer_names=True)"
      ],
      "execution_count": null,
      "outputs": [
        {
          "output_type": "stream",
          "name": "stdout",
          "text": [
            "Model: \"sequential_2\"\n",
            "_________________________________________________________________\n",
            " Layer (type)                Output Shape              Param #   \n",
            "=================================================================\n",
            " dense_4 (Dense)             (None, 15)                90        \n",
            "                                                                 \n",
            " leaky_re_lu_2 (LeakyReLU)   (None, 15)                0         \n",
            "                                                                 \n",
            " dense_5 (Dense)             (None, 2)                 32        \n",
            "                                                                 \n",
            "=================================================================\n",
            "Total params: 122\n",
            "Trainable params: 122\n",
            "Non-trainable params: 0\n",
            "_________________________________________________________________\n"
          ]
        },
        {
          "output_type": "execute_result",
          "data": {
            "text/plain": [
              "<IPython.core.display.Image object>"
            ],
            "image/png": "[encoded data removed]"
          },
          "metadata": {},
          "execution_count": 14
        }
      ]
    },
    {
      "cell_type": "markdown",
      "metadata": {
        "id": "f_gsIAXkaENb"
      },
      "source": [
        "We can see that the model takes as input a random five-element vector from the latent space and outputs a two-element vector for our one-dimensional function.\n",
        "\n",
        "This model cannot do much at the moment. Nevertheless, we can demonstrate how to use it to generate samples. This is not needed, but again, some of these elements may be useful later.\n",
        "\n",
        "The first step is to generate new points in the latent space. We can achieve this by calling the `uniform()` NumPy function for generating arrays of random numbers drawn from a standard Gaussian.\n",
        "\n",
        "The array of random numbers can then be reshaped into samples: that is n rows with five elements per row. The `generate_latent_points()` function below implements this and generates the desired number of points in the latent space that can be used as input to the generator model.\n"
      ]
    },
    {
      "cell_type": "code",
      "metadata": {
        "id": "LDhgHkFwZpWb"
      },
      "source": [
        "# generate points in latent space as input for the generator\n",
        "def generate_latent_points(latent_dim, n):\n",
        "\t# generate points in the latent space\n",
        "\tx_input = np.random.uniform(-10, 10, n*latent_dim)\n",
        "\t# reshape into a batch of inputs for the network\n",
        "\tx_input = x_input.reshape(n, latent_dim)\n",
        "\treturn x_input"
      ],
      "execution_count": null,
      "outputs": []
    },
    {
      "cell_type": "markdown",
      "metadata": {
        "id": "JhpI5NAwaeoO"
      },
      "source": [
        "Next, we can use the generated points as input the generator model to generate new samples, then plot the samples.\n",
        "\n",
        "The `generate_fake_samples()` function below implements this, where the defined generator and size of the latent space are passed as arguments, along with the number of points for the model to generate."
      ]
    },
    {
      "cell_type": "code",
      "metadata": {
        "id": "-P-sUzDDacnp"
      },
      "source": [
        "# use the generator to generate n fake examples and plot the results\n",
        "def generate_fake_samples(generator, latent_dim, n):\n",
        "\t# generate points in latent space\n",
        "\tx_input = generate_latent_points(latent_dim, n)\n",
        "\t# predict outputs\n",
        "\tX = generator.predict(x_input)\n",
        "\t# plot the results\n",
        "\tplt.scatter(X[:, 0], X[:, 1])\n",
        "\tplt.show()"
      ],
      "execution_count": null,
      "outputs": []
    },
    {
      "cell_type": "markdown",
      "metadata": {
        "id": "4USTOr7Dap3X"
      },
      "source": [
        "Now we can see how the generator model performs."
      ]
    },
    {
      "cell_type": "code",
      "metadata": {
        "id": "E3JWqZ0ramg6",
        "colab": {
          "base_uri": "https://localhost:8080/",
          "height": 265
        },
        "outputId": "562fde86-80cf-47d0-d50a-a612aa815468"
      },
      "source": [
        "# size of the latent space\n",
        "latent_dim = 5\n",
        "# define the discriminator model\n",
        "model = define_generator(latent_dim, 100)\n",
        "# generate and plot generated samples\n",
        "generate_fake_samples(model, latent_dim, 100)"
      ],
      "execution_count": null,
      "outputs": [
        {
          "output_type": "display_data",
          "data": {
            "text/plain": [
              "<Figure size 432x288 with 1 Axes>"
            ],
            "image/png": "[encoded data removed]"
          },
          "metadata": {
            "needs_background": "light"
          }
        }
      ]
    },
    {
      "cell_type": "markdown",
      "metadata": {
        "id": "VFGeaCLUcFFg"
      },
      "source": [
        "Running the example generates `100` random points from the latent space, uses this as input to the generator and generates `100` fake samples from our one-dimensional function domain.\n",
        "\n",
        "As the generator has not been trained, the generated points are complete rubbish, as we expect, but we can imagine that as the model is trained, these points will slowly begin to resemble the target function and its S-shape.\n",
        "\n",
        "We have now seen how to define and use the generator model. We will need to use the generator model in this way to create samples for the discriminator to classify.\n",
        "\n",
        "We have not seen how the generator model is trained; that is next."
      ]
    },
    {
      "cell_type": "markdown",
      "metadata": {
        "id": "m04Sghg-cOPC"
      },
      "source": [
        "## Training the Generator Model\n",
        "The weights in the **generator** model are updated based on the performance of the **discriminator** model.\n",
        "\n",
        "When the discriminator is good at detecting fake samples, the generator is updated **more**, and when the discriminator model is relatively poor or confused when detecting fake samples, the generator model is updated **less**.\n",
        "\n",
        "This defines the *zero-sum or adversarial* relationship between these two models.\n",
        "\n",
        "There may be many ways to implement this using the Keras API, but perhaps the simplest approach is to create a new model that subsumes or encapsulates the generator and discriminator models.\n",
        "\n",
        "Specifically, a new GAN model can be defined that *stacks* the generator and discriminator such that:\n",
        "- the generator receives as input random points in the latent space,\n",
        "- generates samples that are fed into the discriminator model directly,\n",
        "- the discriminator classifies the generated samples,\n",
        "- and the output of this larger model can be used to update the model weights of the generator.\n",
        "\n",
        "To be clear, we are not talking about a new third model, just a logical third model that uses the already-defined layers and weights from the standalone generator and discriminator models.\n",
        "\n",
        "**Only** the discriminator is concerned with distinguishing between real and fake examples; therefore, the discriminator model can be trained in a standalone manner on examples of each.\n",
        "\n",
        "The generator model is only concerned with the discriminator’s performance on fake examples. Therefore, we will mark all of the layers in the discriminator as not trainable when it is part of the GAN model so that they can not be updated and overtrained on fake examples.\n",
        "\n",
        "When training the generator via this subsumed GAN model, there is one more important change. We want the discriminator to think that the samples output by the generator are real, not fake. Therefore, when the generator is trained as part of the GAN model, we will mark the generated samples as real (class 1).\n",
        "\n",
        "We can imagine that the discriminator will then classify the generated samples as not real (class `0`) or a low probability of being real (`0.3` or `0.5`). The backpropagation process used to update the model weights will see this as a large error and will update the model weights (i.e. only the weights in the generator) to correct for this error, in turn making the generator better at generating plausible fake samples.\n",
        "\n",
        "Let’s make this concrete.\n",
        "\n",
        "- **Inputs**: Point in latent space, e.g. a five-element vector of Gaussian random numbers.\n",
        "- **Outputs**: Binary classification, likelihood the sample is real (or fake).\n",
        "\n",
        "The `define_gan()` function below takes as arguments the already-defined generator and discriminator models and creates the new logical third model subsuming these two models. The weights in the discriminator are marked as not trainable, which only affects the weights as seen by the GAN model and not the standalone discriminator model.\n",
        "\n",
        "The GAN model then uses the same binary cross entropy loss function as the discriminator and the efficient Adam version of stochastic gradient descent."
      ]
    },
    {
      "cell_type": "code",
      "metadata": {
        "id": "9mMsD5D-au2z"
      },
      "source": [
        "# define the combined generator and discriminator model, for updating the generator\n",
        "def define_gan(generator, discriminator):\n",
        "\t# make weights in the discriminator not trainable\n",
        "\tdiscriminator.trainable = False\n",
        "\t# connect them\n",
        "\tmodel = Sequential()\n",
        "\t# add generator\n",
        "\tmodel.add(generator)\n",
        "\t# add the discriminator\n",
        "\tmodel.add(discriminator)\n",
        "\t# compile model\n",
        "\tmodel.compile(loss='binary_crossentropy', optimizer='adam')\n",
        "\treturn model"
      ],
      "execution_count": null,
      "outputs": []
    },
    {
      "cell_type": "markdown",
      "metadata": {
        "id": "Mz0pGkAtdBTM"
      },
      "source": [
        "Now we can put the GAN model together."
      ]
    },
    {
      "cell_type": "code",
      "metadata": {
        "id": "-bP9mcMXc71N",
        "colab": {
          "base_uri": "https://localhost:8080/",
          "height": 544
        },
        "outputId": "941fe193-80fe-4e22-d8ce-a9804f28db66"
      },
      "source": [
        "# create the discriminator\n",
        "discriminator = define_discriminator()\n",
        "\n",
        "# create the generator\n",
        "generator = define_generator(latent_dim)\n",
        "\n",
        "# stacking the generator with the discriminator\n",
        "gan_model = define_gan(generator, discriminator)\n",
        "# summarize gan model\n",
        "gan_model.summary()\n",
        "# plot gan model\n",
        "plot_model(gan_model, show_shapes=True, show_layer_names=True)"
      ],
      "execution_count": null,
      "outputs": [
        {
          "output_type": "stream",
          "name": "stdout",
          "text": [
            "Model: \"sequential_6\"\n",
            "_________________________________________________________________\n",
            " Layer (type)                Output Shape              Param #   \n",
            "=================================================================\n",
            " sequential_5 (Sequential)   (None, 2)                 122       \n",
            "                                                                 \n",
            " sequential_4 (Sequential)   (None, 1)                 101       \n",
            "                                                                 \n",
            "=================================================================\n",
            "Total params: 223\n",
            "Trainable params: 122\n",
            "Non-trainable params: 101\n",
            "_________________________________________________________________\n"
          ]
        },
        {
          "output_type": "execute_result",
          "data": {
            "text/plain": [
              "<IPython.core.display.Image object>"
            ],
            "image/png": "[encoded data removed]"
          },
          "metadata": {},
          "execution_count": 19
        }
      ]
    },
    {
      "cell_type": "markdown",
      "metadata": {
        "id": "WzNbwlb_dVLr"
      },
      "source": [
        "Training the composite model involves generating a batch-worth of points in the latent space via the `generate_latent_points()` function in the previous section, and class=1 labels and calling the `train_on_batch()` function.\n",
        "\n",
        "The `train_gan()` function below demonstrates this, although it is pretty uninteresting as only the generator will be updated each epoch, leaving the discriminator with default model weights."
      ]
    },
    {
      "cell_type": "markdown",
      "metadata": {
        "id": "kXz0xwBDdffB"
      },
      "source": [
        "Instead, what is required is that we first update the discriminator model with real and fake samples, then update the generator via the composite model.\n",
        "\n",
        "This requires combining elements from the `train_discriminator()` function defined in the discriminator section and the `train_gan()` function defined above. It also requires that the `generate_fake_samples()` function use the generator model to generate fake samples instead of generating random numbers.\n",
        "\n"
      ]
    },
    {
      "cell_type": "markdown",
      "metadata": {
        "id": "JF7Ls76tDpJ7"
      },
      "source": [
        "We need a new function to generate, instead of visualize the fake samples."
      ]
    },
    {
      "cell_type": "code",
      "metadata": {
        "id": "ptBp3fYgDyOY"
      },
      "source": [
        "# use the generator to generate n fake examples, with class labels\n",
        "def generate_fake_samples(generator, latent_dim, n):\n",
        "\t# generate points in latent space\n",
        "\tx_input = generate_latent_points(latent_dim, n)\n",
        "\t# predict outputs\n",
        "\tX = generator.predict(x_input)\n",
        "\t# create class labels\n",
        "\ty = np.zeros((n, 1))\n",
        "\treturn X, y\n"
      ],
      "execution_count": null,
      "outputs": []
    },
    {
      "cell_type": "code",
      "metadata": {
        "id": "U08xxNCldJq-"
      },
      "source": [
        "# train the composite model\n",
        "def train_gan(gan_model, latent_dim, n_epochs=10000, n_batch=128):\n",
        "\t# manually enumerate epochs\n",
        "\tfor i in range(n_epochs):\n",
        "\t\t# prepare points in latent space as input for the generator\n",
        "\t\tx_gan = generate_latent_points(latent_dim, n_batch)\n",
        "\t\t# create inverted labels for the fake samples\n",
        "\t\ty_gan = np.ones((n_batch, 1))\n",
        "\t\t# update the generator via the discriminator's error\n",
        "\t\tgan_model.train_on_batch(x_gan, y_gan)"
      ],
      "execution_count": null,
      "outputs": []
    },
    {
      "cell_type": "markdown",
      "metadata": {
        "id": "NzS3hymHdxlF"
      },
      "source": [
        "We almost have everything we need to develop a GAN for our one-dimensional function.\n",
        "\n",
        "One remaining aspect is the evaluation of the model."
      ]
    },
    {
      "cell_type": "markdown",
      "metadata": {
        "id": "O7OB4SxtdyVk"
      },
      "source": [
        "## Evaluating the Performance of the GAN\n",
        "Generally, there are no objective ways to evaluate the performance of a GAN model.\n",
        "\n",
        "In this specific case, we can devise an objective measure for the generated samples as we know the true underlying input domain and target function and can calculate an objective error measure.\n",
        "\n",
        "Nevertheless, we will not calculate this objective error score in this tutorial. Instead, we will use the subjective approach used in most GAN applications. Specifically, we will use the generator to generate new samples and inspect them relative to real samples from the domain.\n",
        "\n",
        "Having both samples plotted on the same graph allows them to be directly compared to see if the same input and output domain are covered and whether the expected shape of the target function has been appropriately captured, at least subjectively.\n",
        "\n",
        "The summarize_performance() function below can be called any time during training to create a scatter plot of real and generated points to get an idea of the current capability of the generator model.\n",
        "\n",
        "Specifically, we are interested to know how well the discriminator model can correctly identify real and fake samples. A good generator model should make the discriminator model confused, resulting in a classification accuracy closer to 50% on real and fake examples."
      ]
    },
    {
      "cell_type": "code",
      "metadata": {
        "id": "FgyvkcZTdpRJ"
      },
      "source": [
        "# evaluate the discriminator and plot real and fake points\n",
        "def summarize_performance(epoch, generator, discriminator, latent_dim, n=100):\n",
        "\t# prepare real samples\n",
        "\tx_real, y_real = generate_real_samples(n)\n",
        "\t# evaluate discriminator on real examples\n",
        "\t_, acc_real = discriminator.evaluate(x_real, y_real, verbose=0)\n",
        "\t# prepare fake examples\n",
        "\tx_fake, y_fake = generate_fake_samples(generator, latent_dim, n)\n",
        "\t# evaluate discriminator on fake examples\n",
        "\t_, acc_fake = discriminator.evaluate(x_fake, y_fake, verbose=0)\n",
        "\t# summarize discriminator performance\n",
        "\tprint(epoch, acc_real, acc_fake)\n",
        "\t# scatter plot real and fake data points\n",
        "\tplt.scatter(x_real[:, 0], x_real[:, 1], color='green')\n",
        "\tplt.scatter(x_fake[:, 0], x_fake[:, 1], color='red')\n",
        "\tplt.show()"
      ],
      "execution_count": null,
      "outputs": []
    },
    {
      "cell_type": "markdown",
      "metadata": {
        "id": "9xJr1lyfepjv"
      },
      "source": [
        "The complete train function for updating the discriminator model and the generator (via the composite model) is listed below.\n",
        "\n",
        "For example, if we choose to train the models for `10,000` iterations, it may be interesting to check-in on the performance of the model every `2,000` iterations.\n",
        "\n",
        "We can achieve this by parameterizing the frequency of the check-in via n_eval argument, and calling the `summarize_performance()` function from the `train()` function after the appropriate number of iterations."
      ]
    },
    {
      "cell_type": "code",
      "metadata": {
        "id": "6LrNlGk-d6-0"
      },
      "source": [
        "# train the generator and discriminator\n",
        "def train(g_model, d_model, gan_model, latent_dim, n_epochs=10000, n_batch=128, n_eval=2000):\n",
        "\t# determine half the size of one batch, for updating the discriminator\n",
        "\thalf_batch = int(n_batch / 2)\n",
        "\t# manually enumerate epochs\n",
        "\tfor i in range(n_epochs):\n",
        "\t\t# prepare real samples\n",
        "\t\tx_real, y_real = generate_real_samples(half_batch)\n",
        "\t\t# prepare fake examples\n",
        "\t\tx_fake, y_fake = generate_fake_samples(g_model, latent_dim, half_batch)\n",
        "\t\t# update discriminator\n",
        "\t\td_model.train_on_batch(x_real, y_real)\n",
        "\t\td_model.train_on_batch(x_fake, y_fake)\n",
        "\t\t# prepare points in latent space as input for the generator\n",
        "\t\tx_gan = generate_latent_points(latent_dim, n_batch)\n",
        "\t\t# create inverted labels for the fake samples\n",
        "\t\ty_gan = np.ones((n_batch, 1))\n",
        "\t\t# update the generator via the discriminator's error\n",
        "\t\tgan_model.train_on_batch(x_gan, y_gan)\n",
        "\t\t# evaluate the model every n_eval epochs\n",
        "\t\tif (i+1) % n_eval == 0:\n",
        "\t\t\tsummarize_performance(i, g_model, d_model, latent_dim)"
      ],
      "execution_count": null,
      "outputs": []
    },
    {
      "cell_type": "markdown",
      "metadata": {
        "id": "Xn_hdVT5ezMe"
      },
      "source": [
        "Running the example reports model performance every 5,000 training iterations (batches) and creates a plot.\n",
        "\n",
        "Your specific results may vary given the stochastic nature of the training algorithm, and the generative model itself.\n",
        "\n",
        "We can see that the training process is relatively unstable. The first column reports the iteration number, the second the classification accuracy of the discriminator for real examples, and the third column the classification accuracy of the discriminator for generated (fake) examples.\n",
        "\n",
        "In this case, we can see that the discriminator remains relatively confused about real examples, and performance on identifying fake examples varies."
      ]
    },
    {
      "cell_type": "code",
      "metadata": {
        "id": "fjOM5p-xeuIR",
        "colab": {
          "base_uri": "https://localhost:8080/",
          "height": 1000
        },
        "outputId": "f7555dc3-fd3b-4c3e-fb06-f944fb733b25"
      },
      "source": [
        "# size of the latent space\n",
        "latent_dim = 5\n",
        "# create the discriminator\n",
        "discriminator = define_discriminator()\n",
        "# create the generator\n",
        "generator = define_generator(latent_dim)\n",
        "# create the gan\n",
        "gan_model = define_gan(generator, discriminator)\n",
        "# train model\n",
        "train(generator, discriminator, gan_model, latent_dim, 30000, 128, 5000)"
      ],
      "execution_count": null,
      "outputs": [
        {
          "output_type": "stream",
          "name": "stdout",
          "text": [
            "4999 0.9399999976158142 0.009999999776482582\n"
          ]
        },
        {
          "output_type": "display_data",
          "data": {
            "text/plain": [
              "<Figure size 432x288 with 1 Axes>"
            ],
            "image/png": "[encoded data removed]"
          },
          "metadata": {
            "needs_background": "light"
          }
        },
        {
          "output_type": "stream",
          "name": "stdout",
          "text": [
            "9999 0.8399999737739563 0.1599999964237213\n"
          ]
        },
        {
          "output_type": "display_data",
          "data": {
            "text/plain": [
              "<Figure size 432x288 with 1 Axes>"
            ],
            "image/png": "[encoded data removed]"
          },
          "metadata": {
            "needs_background": "light"
          }
        },
        {
          "output_type": "stream",
          "name": "stdout",
          "text": [
            "14999 0.10999999940395355 0.800000011920929\n"
          ]
        },
        {
          "output_type": "display_data",
          "data": {
            "text/plain": [
              "<Figure size 432x288 with 1 Axes>"
            ],
            "image/png": "[encoded data removed]"
          },
          "metadata": {
            "needs_background": "light"
          }
        },
        {
          "output_type": "stream",
          "name": "stdout",
          "text": [
            "19999 0.5199999809265137 0.49000000953674316\n"
          ]
        },
        {
          "output_type": "display_data",
          "data": {
            "text/plain": [
              "<Figure size 432x288 with 1 Axes>"
            ],
            "image/png": "[encoded data removed]"
          },
          "metadata": {
            "needs_background": "light"
          }
        },
        {
          "output_type": "stream",
          "name": "stdout",
          "text": [
            "24999 0.18000000715255737 0.6800000071525574\n"
          ]
        },
        {
          "output_type": "display_data",
          "data": {
            "text/plain": [
              "<Figure size 432x288 with 1 Axes>"
            ],
            "image/png": "[encoded data removed]"
          },
          "metadata": {
            "needs_background": "light"
          }
        },
        {
          "output_type": "stream",
          "name": "stdout",
          "text": [
            "29999 0.07999999821186066 0.8799999952316284\n"
          ]
        },
        {
          "output_type": "display_data",
          "data": {
            "text/plain": [
              "<Figure size 432x288 with 1 Axes>"
            ],
            "image/png": "[encoded data removed]"
          },
          "metadata": {
            "needs_background": "light"
          }
        }
      ]
    },
    {
      "cell_type": "code",
      "metadata": {
        "id": "P3JfV0Xje0Ih"
      },
      "source": [],
      "execution_count": null,
      "outputs": []
    }
  ]
}